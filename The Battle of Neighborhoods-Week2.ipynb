{
 "cells": [
  {
   "cell_type": "markdown",
   "metadata": {},
   "source": [
    "# Battle of Neighborhoods \n",
    "#### For finding a best location to start an Asian restaurant in London. "
   ]
  },
  {
   "cell_type": "markdown",
   "metadata": {},
   "source": [
    "### Import necessary modules and libraries"
   ]
  },
  {
   "cell_type": "code",
   "execution_count": 1,
   "metadata": {},
   "outputs": [],
   "source": [
    "import pandas as pd \n",
    "import numpy as np"
   ]
  },
  {
   "cell_type": "code",
   "execution_count": 2,
   "metadata": {},
   "outputs": [],
   "source": [
    "# The code was removed by Watson Studio for sharing."
   ]
  },
  {
   "cell_type": "markdown",
   "metadata": {},
   "source": [
    "### 1) Read the \"Population by ethinicty\" data into a Pandas DataFrame.\n",
    "Note: I have collected the Ethnic population of only 5 Asian Countries (India, Pakistan, China, Bangladesh and Srilanka) who are living in 33 Boroughs of London"
   ]
  },
  {
   "cell_type": "code",
   "execution_count": 3,
   "metadata": {},
   "outputs": [],
   "source": [
    "df_popu = pd.read_excel(streaming_body_1)"
   ]
  },
  {
   "cell_type": "code",
   "execution_count": 4,
   "metadata": {},
   "outputs": [
    {
     "data": {
      "text/plain": [
       "(33, 8)"
      ]
     },
     "execution_count": 4,
     "metadata": {},
     "output_type": "execute_result"
    }
   ],
   "source": [
    "df_popu.shape"
   ]
  },
  {
   "cell_type": "code",
   "execution_count": 5,
   "metadata": {},
   "outputs": [
    {
     "data": {
      "text/html": [
       "<div>\n",
       "<style scoped>\n",
       "    .dataframe tbody tr th:only-of-type {\n",
       "        vertical-align: middle;\n",
       "    }\n",
       "\n",
       "    .dataframe tbody tr th {\n",
       "        vertical-align: top;\n",
       "    }\n",
       "\n",
       "    .dataframe thead th {\n",
       "        text-align: right;\n",
       "    }\n",
       "</style>\n",
       "<table border=\"1\" class=\"dataframe\">\n",
       "  <thead>\n",
       "    <tr style=\"text-align: right;\">\n",
       "      <th></th>\n",
       "      <th>Area Code</th>\n",
       "      <th>Borough</th>\n",
       "      <th>Year-2012</th>\n",
       "      <th>Year-2013</th>\n",
       "      <th>Year-2014</th>\n",
       "      <th>Year-2015</th>\n",
       "      <th>Year-2016</th>\n",
       "      <th>Year-2017</th>\n",
       "    </tr>\n",
       "  </thead>\n",
       "  <tbody>\n",
       "    <tr>\n",
       "      <th>0</th>\n",
       "      <td>E09000001</td>\n",
       "      <td>City of London</td>\n",
       "      <td>NaN</td>\n",
       "      <td>NaN</td>\n",
       "      <td>NaN</td>\n",
       "      <td>NaN</td>\n",
       "      <td>NaN</td>\n",
       "      <td>NaN</td>\n",
       "    </tr>\n",
       "    <tr>\n",
       "      <th>1</th>\n",
       "      <td>E09000002</td>\n",
       "      <td>Barking and Dagenham</td>\n",
       "      <td>27000.0</td>\n",
       "      <td>32000.0</td>\n",
       "      <td>33000.0</td>\n",
       "      <td>40000.0</td>\n",
       "      <td>40000.0</td>\n",
       "      <td>48000.0</td>\n",
       "    </tr>\n",
       "    <tr>\n",
       "      <th>2</th>\n",
       "      <td>E09000003</td>\n",
       "      <td>Barnet</td>\n",
       "      <td>66000.0</td>\n",
       "      <td>43000.0</td>\n",
       "      <td>53000.0</td>\n",
       "      <td>54000.0</td>\n",
       "      <td>68000.0</td>\n",
       "      <td>58000.0</td>\n",
       "    </tr>\n",
       "    <tr>\n",
       "      <th>3</th>\n",
       "      <td>E09000004</td>\n",
       "      <td>Bexley</td>\n",
       "      <td>8000.0</td>\n",
       "      <td>7000.0</td>\n",
       "      <td>10000.0</td>\n",
       "      <td>14000.0</td>\n",
       "      <td>18000.0</td>\n",
       "      <td>16000.0</td>\n",
       "    </tr>\n",
       "    <tr>\n",
       "      <th>4</th>\n",
       "      <td>E09000005</td>\n",
       "      <td>Brent</td>\n",
       "      <td>109000.0</td>\n",
       "      <td>111000.0</td>\n",
       "      <td>100000.0</td>\n",
       "      <td>109000.0</td>\n",
       "      <td>106000.0</td>\n",
       "      <td>103000.0</td>\n",
       "    </tr>\n",
       "  </tbody>\n",
       "</table>\n",
       "</div>"
      ],
      "text/plain": [
       "   Area Code               Borough  Year-2012  Year-2013  Year-2014  \\\n",
       "0  E09000001        City of London        NaN        NaN        NaN   \n",
       "1  E09000002  Barking and Dagenham    27000.0    32000.0    33000.0   \n",
       "2  E09000003                Barnet    66000.0    43000.0    53000.0   \n",
       "3  E09000004                Bexley     8000.0     7000.0    10000.0   \n",
       "4  E09000005                 Brent   109000.0   111000.0   100000.0   \n",
       "\n",
       "   Year-2015  Year-2016  Year-2017  \n",
       "0        NaN        NaN        NaN  \n",
       "1    40000.0    40000.0    48000.0  \n",
       "2    54000.0    68000.0    58000.0  \n",
       "3    14000.0    18000.0    16000.0  \n",
       "4   109000.0   106000.0   103000.0  "
      ]
     },
     "execution_count": 5,
     "metadata": {},
     "output_type": "execute_result"
    }
   ],
   "source": [
    "df_popu.head()"
   ]
  },
  {
   "cell_type": "markdown",
   "metadata": {},
   "source": [
    "#### Note: The data for the borough City of London is NOT AVAILABLE, so I will drop that row from my dataframe"
   ]
  },
  {
   "cell_type": "code",
   "execution_count": 6,
   "metadata": {},
   "outputs": [],
   "source": [
    "df_popu = df_popu.dropna(how='any')"
   ]
  },
  {
   "cell_type": "code",
   "execution_count": 7,
   "metadata": {},
   "outputs": [
    {
     "data": {
      "text/html": [
       "<div>\n",
       "<style scoped>\n",
       "    .dataframe tbody tr th:only-of-type {\n",
       "        vertical-align: middle;\n",
       "    }\n",
       "\n",
       "    .dataframe tbody tr th {\n",
       "        vertical-align: top;\n",
       "    }\n",
       "\n",
       "    .dataframe thead th {\n",
       "        text-align: right;\n",
       "    }\n",
       "</style>\n",
       "<table border=\"1\" class=\"dataframe\">\n",
       "  <thead>\n",
       "    <tr style=\"text-align: right;\">\n",
       "      <th></th>\n",
       "      <th>Area Code</th>\n",
       "      <th>Borough</th>\n",
       "      <th>Year-2012</th>\n",
       "      <th>Year-2013</th>\n",
       "      <th>Year-2014</th>\n",
       "      <th>Year-2015</th>\n",
       "      <th>Year-2016</th>\n",
       "      <th>Year-2017</th>\n",
       "    </tr>\n",
       "  </thead>\n",
       "  <tbody>\n",
       "    <tr>\n",
       "      <th>1</th>\n",
       "      <td>E09000002</td>\n",
       "      <td>Barking and Dagenham</td>\n",
       "      <td>27000.0</td>\n",
       "      <td>32000.0</td>\n",
       "      <td>33000.0</td>\n",
       "      <td>40000.0</td>\n",
       "      <td>40000.0</td>\n",
       "      <td>48000.0</td>\n",
       "    </tr>\n",
       "    <tr>\n",
       "      <th>2</th>\n",
       "      <td>E09000003</td>\n",
       "      <td>Barnet</td>\n",
       "      <td>66000.0</td>\n",
       "      <td>43000.0</td>\n",
       "      <td>53000.0</td>\n",
       "      <td>54000.0</td>\n",
       "      <td>68000.0</td>\n",
       "      <td>58000.0</td>\n",
       "    </tr>\n",
       "    <tr>\n",
       "      <th>3</th>\n",
       "      <td>E09000004</td>\n",
       "      <td>Bexley</td>\n",
       "      <td>8000.0</td>\n",
       "      <td>7000.0</td>\n",
       "      <td>10000.0</td>\n",
       "      <td>14000.0</td>\n",
       "      <td>18000.0</td>\n",
       "      <td>16000.0</td>\n",
       "    </tr>\n",
       "    <tr>\n",
       "      <th>4</th>\n",
       "      <td>E09000005</td>\n",
       "      <td>Brent</td>\n",
       "      <td>109000.0</td>\n",
       "      <td>111000.0</td>\n",
       "      <td>100000.0</td>\n",
       "      <td>109000.0</td>\n",
       "      <td>106000.0</td>\n",
       "      <td>103000.0</td>\n",
       "    </tr>\n",
       "    <tr>\n",
       "      <th>5</th>\n",
       "      <td>E09000006</td>\n",
       "      <td>Bromley</td>\n",
       "      <td>19000.0</td>\n",
       "      <td>20000.0</td>\n",
       "      <td>20000.0</td>\n",
       "      <td>16000.0</td>\n",
       "      <td>17000.0</td>\n",
       "      <td>26000.0</td>\n",
       "    </tr>\n",
       "  </tbody>\n",
       "</table>\n",
       "</div>"
      ],
      "text/plain": [
       "   Area Code               Borough  Year-2012  Year-2013  Year-2014  \\\n",
       "1  E09000002  Barking and Dagenham    27000.0    32000.0    33000.0   \n",
       "2  E09000003                Barnet    66000.0    43000.0    53000.0   \n",
       "3  E09000004                Bexley     8000.0     7000.0    10000.0   \n",
       "4  E09000005                 Brent   109000.0   111000.0   100000.0   \n",
       "5  E09000006               Bromley    19000.0    20000.0    20000.0   \n",
       "\n",
       "   Year-2015  Year-2016  Year-2017  \n",
       "1    40000.0    40000.0    48000.0  \n",
       "2    54000.0    68000.0    58000.0  \n",
       "3    14000.0    18000.0    16000.0  \n",
       "4   109000.0   106000.0   103000.0  \n",
       "5    16000.0    17000.0    26000.0  "
      ]
     },
     "execution_count": 7,
     "metadata": {},
     "output_type": "execute_result"
    }
   ],
   "source": [
    "df_popu.head()"
   ]
  },
  {
   "cell_type": "markdown",
   "metadata": {},
   "source": [
    "#### Setting the Area Code as Index."
   ]
  },
  {
   "cell_type": "code",
   "execution_count": 8,
   "metadata": {},
   "outputs": [
    {
     "data": {
      "text/html": [
       "<div>\n",
       "<style scoped>\n",
       "    .dataframe tbody tr th:only-of-type {\n",
       "        vertical-align: middle;\n",
       "    }\n",
       "\n",
       "    .dataframe tbody tr th {\n",
       "        vertical-align: top;\n",
       "    }\n",
       "\n",
       "    .dataframe thead th {\n",
       "        text-align: right;\n",
       "    }\n",
       "</style>\n",
       "<table border=\"1\" class=\"dataframe\">\n",
       "  <thead>\n",
       "    <tr style=\"text-align: right;\">\n",
       "      <th></th>\n",
       "      <th>Borough</th>\n",
       "      <th>Year-2012</th>\n",
       "      <th>Year-2013</th>\n",
       "      <th>Year-2014</th>\n",
       "      <th>Year-2015</th>\n",
       "      <th>Year-2016</th>\n",
       "      <th>Year-2017</th>\n",
       "    </tr>\n",
       "    <tr>\n",
       "      <th>Area Code</th>\n",
       "      <th></th>\n",
       "      <th></th>\n",
       "      <th></th>\n",
       "      <th></th>\n",
       "      <th></th>\n",
       "      <th></th>\n",
       "      <th></th>\n",
       "    </tr>\n",
       "  </thead>\n",
       "  <tbody>\n",
       "    <tr>\n",
       "      <th>E09000002</th>\n",
       "      <td>Barking and Dagenham</td>\n",
       "      <td>27000.0</td>\n",
       "      <td>32000.0</td>\n",
       "      <td>33000.0</td>\n",
       "      <td>40000.0</td>\n",
       "      <td>40000.0</td>\n",
       "      <td>48000.0</td>\n",
       "    </tr>\n",
       "    <tr>\n",
       "      <th>E09000003</th>\n",
       "      <td>Barnet</td>\n",
       "      <td>66000.0</td>\n",
       "      <td>43000.0</td>\n",
       "      <td>53000.0</td>\n",
       "      <td>54000.0</td>\n",
       "      <td>68000.0</td>\n",
       "      <td>58000.0</td>\n",
       "    </tr>\n",
       "    <tr>\n",
       "      <th>E09000004</th>\n",
       "      <td>Bexley</td>\n",
       "      <td>8000.0</td>\n",
       "      <td>7000.0</td>\n",
       "      <td>10000.0</td>\n",
       "      <td>14000.0</td>\n",
       "      <td>18000.0</td>\n",
       "      <td>16000.0</td>\n",
       "    </tr>\n",
       "    <tr>\n",
       "      <th>E09000005</th>\n",
       "      <td>Brent</td>\n",
       "      <td>109000.0</td>\n",
       "      <td>111000.0</td>\n",
       "      <td>100000.0</td>\n",
       "      <td>109000.0</td>\n",
       "      <td>106000.0</td>\n",
       "      <td>103000.0</td>\n",
       "    </tr>\n",
       "    <tr>\n",
       "      <th>E09000006</th>\n",
       "      <td>Bromley</td>\n",
       "      <td>19000.0</td>\n",
       "      <td>20000.0</td>\n",
       "      <td>20000.0</td>\n",
       "      <td>16000.0</td>\n",
       "      <td>17000.0</td>\n",
       "      <td>26000.0</td>\n",
       "    </tr>\n",
       "  </tbody>\n",
       "</table>\n",
       "</div>"
      ],
      "text/plain": [
       "                        Borough  Year-2012  Year-2013  Year-2014  Year-2015  \\\n",
       "Area Code                                                                     \n",
       "E09000002  Barking and Dagenham    27000.0    32000.0    33000.0    40000.0   \n",
       "E09000003                Barnet    66000.0    43000.0    53000.0    54000.0   \n",
       "E09000004                Bexley     8000.0     7000.0    10000.0    14000.0   \n",
       "E09000005                 Brent   109000.0   111000.0   100000.0   109000.0   \n",
       "E09000006               Bromley    19000.0    20000.0    20000.0    16000.0   \n",
       "\n",
       "           Year-2016  Year-2017  \n",
       "Area Code                        \n",
       "E09000002    40000.0    48000.0  \n",
       "E09000003    68000.0    58000.0  \n",
       "E09000004    18000.0    16000.0  \n",
       "E09000005   106000.0   103000.0  \n",
       "E09000006    17000.0    26000.0  "
      ]
     },
     "execution_count": 8,
     "metadata": {},
     "output_type": "execute_result"
    }
   ],
   "source": [
    "df_popu = df_popu.set_index(['Area Code'])\n",
    "df_popu.head()"
   ]
  },
  {
   "cell_type": "markdown",
   "metadata": {},
   "source": [
    "#### I have the population data of 6 years from 2012 to 2017, So to get the Current population of the Asians living in London , I will take the average of the existing population."
   ]
  },
  {
   "cell_type": "code",
   "execution_count": 9,
   "metadata": {},
   "outputs": [],
   "source": [
    "df_popu['Population'] = df_popu.mean(numeric_only=True, axis=1)"
   ]
  },
  {
   "cell_type": "code",
   "execution_count": 10,
   "metadata": {},
   "outputs": [
    {
     "data": {
      "text/html": [
       "<div>\n",
       "<style scoped>\n",
       "    .dataframe tbody tr th:only-of-type {\n",
       "        vertical-align: middle;\n",
       "    }\n",
       "\n",
       "    .dataframe tbody tr th {\n",
       "        vertical-align: top;\n",
       "    }\n",
       "\n",
       "    .dataframe thead th {\n",
       "        text-align: right;\n",
       "    }\n",
       "</style>\n",
       "<table border=\"1\" class=\"dataframe\">\n",
       "  <thead>\n",
       "    <tr style=\"text-align: right;\">\n",
       "      <th></th>\n",
       "      <th>Borough</th>\n",
       "      <th>Year-2012</th>\n",
       "      <th>Year-2013</th>\n",
       "      <th>Year-2014</th>\n",
       "      <th>Year-2015</th>\n",
       "      <th>Year-2016</th>\n",
       "      <th>Year-2017</th>\n",
       "      <th>Population</th>\n",
       "    </tr>\n",
       "    <tr>\n",
       "      <th>Area Code</th>\n",
       "      <th></th>\n",
       "      <th></th>\n",
       "      <th></th>\n",
       "      <th></th>\n",
       "      <th></th>\n",
       "      <th></th>\n",
       "      <th></th>\n",
       "      <th></th>\n",
       "    </tr>\n",
       "  </thead>\n",
       "  <tbody>\n",
       "    <tr>\n",
       "      <th>E09000002</th>\n",
       "      <td>Barking and Dagenham</td>\n",
       "      <td>27000.0</td>\n",
       "      <td>32000.0</td>\n",
       "      <td>33000.0</td>\n",
       "      <td>40000.0</td>\n",
       "      <td>40000.0</td>\n",
       "      <td>48000.0</td>\n",
       "      <td>36666.666667</td>\n",
       "    </tr>\n",
       "    <tr>\n",
       "      <th>E09000003</th>\n",
       "      <td>Barnet</td>\n",
       "      <td>66000.0</td>\n",
       "      <td>43000.0</td>\n",
       "      <td>53000.0</td>\n",
       "      <td>54000.0</td>\n",
       "      <td>68000.0</td>\n",
       "      <td>58000.0</td>\n",
       "      <td>57000.000000</td>\n",
       "    </tr>\n",
       "    <tr>\n",
       "      <th>E09000004</th>\n",
       "      <td>Bexley</td>\n",
       "      <td>8000.0</td>\n",
       "      <td>7000.0</td>\n",
       "      <td>10000.0</td>\n",
       "      <td>14000.0</td>\n",
       "      <td>18000.0</td>\n",
       "      <td>16000.0</td>\n",
       "      <td>12166.666667</td>\n",
       "    </tr>\n",
       "    <tr>\n",
       "      <th>E09000005</th>\n",
       "      <td>Brent</td>\n",
       "      <td>109000.0</td>\n",
       "      <td>111000.0</td>\n",
       "      <td>100000.0</td>\n",
       "      <td>109000.0</td>\n",
       "      <td>106000.0</td>\n",
       "      <td>103000.0</td>\n",
       "      <td>106333.333333</td>\n",
       "    </tr>\n",
       "    <tr>\n",
       "      <th>E09000006</th>\n",
       "      <td>Bromley</td>\n",
       "      <td>19000.0</td>\n",
       "      <td>20000.0</td>\n",
       "      <td>20000.0</td>\n",
       "      <td>16000.0</td>\n",
       "      <td>17000.0</td>\n",
       "      <td>26000.0</td>\n",
       "      <td>19666.666667</td>\n",
       "    </tr>\n",
       "  </tbody>\n",
       "</table>\n",
       "</div>"
      ],
      "text/plain": [
       "                        Borough  Year-2012  Year-2013  Year-2014  Year-2015  \\\n",
       "Area Code                                                                     \n",
       "E09000002  Barking and Dagenham    27000.0    32000.0    33000.0    40000.0   \n",
       "E09000003                Barnet    66000.0    43000.0    53000.0    54000.0   \n",
       "E09000004                Bexley     8000.0     7000.0    10000.0    14000.0   \n",
       "E09000005                 Brent   109000.0   111000.0   100000.0   109000.0   \n",
       "E09000006               Bromley    19000.0    20000.0    20000.0    16000.0   \n",
       "\n",
       "           Year-2016  Year-2017     Population  \n",
       "Area Code                                       \n",
       "E09000002    40000.0    48000.0   36666.666667  \n",
       "E09000003    68000.0    58000.0   57000.000000  \n",
       "E09000004    18000.0    16000.0   12166.666667  \n",
       "E09000005   106000.0   103000.0  106333.333333  \n",
       "E09000006    17000.0    26000.0   19666.666667  "
      ]
     },
     "execution_count": 10,
     "metadata": {},
     "output_type": "execute_result"
    }
   ],
   "source": [
    "df_popu.head()"
   ]
  },
  {
   "cell_type": "markdown",
   "metadata": {},
   "source": [
    "#### Rounding off the values in Population column."
   ]
  },
  {
   "cell_type": "code",
   "execution_count": 11,
   "metadata": {},
   "outputs": [],
   "source": [
    "df_popu.Population = df_popu.Population.round()"
   ]
  },
  {
   "cell_type": "code",
   "execution_count": 12,
   "metadata": {},
   "outputs": [
    {
     "data": {
      "text/html": [
       "<div>\n",
       "<style scoped>\n",
       "    .dataframe tbody tr th:only-of-type {\n",
       "        vertical-align: middle;\n",
       "    }\n",
       "\n",
       "    .dataframe tbody tr th {\n",
       "        vertical-align: top;\n",
       "    }\n",
       "\n",
       "    .dataframe thead th {\n",
       "        text-align: right;\n",
       "    }\n",
       "</style>\n",
       "<table border=\"1\" class=\"dataframe\">\n",
       "  <thead>\n",
       "    <tr style=\"text-align: right;\">\n",
       "      <th></th>\n",
       "      <th>Borough</th>\n",
       "      <th>Year-2012</th>\n",
       "      <th>Year-2013</th>\n",
       "      <th>Year-2014</th>\n",
       "      <th>Year-2015</th>\n",
       "      <th>Year-2016</th>\n",
       "      <th>Year-2017</th>\n",
       "      <th>Population</th>\n",
       "    </tr>\n",
       "    <tr>\n",
       "      <th>Area Code</th>\n",
       "      <th></th>\n",
       "      <th></th>\n",
       "      <th></th>\n",
       "      <th></th>\n",
       "      <th></th>\n",
       "      <th></th>\n",
       "      <th></th>\n",
       "      <th></th>\n",
       "    </tr>\n",
       "  </thead>\n",
       "  <tbody>\n",
       "    <tr>\n",
       "      <th>E09000002</th>\n",
       "      <td>Barking and Dagenham</td>\n",
       "      <td>27000.0</td>\n",
       "      <td>32000.0</td>\n",
       "      <td>33000.0</td>\n",
       "      <td>40000.0</td>\n",
       "      <td>40000.0</td>\n",
       "      <td>48000.0</td>\n",
       "      <td>36667.0</td>\n",
       "    </tr>\n",
       "    <tr>\n",
       "      <th>E09000003</th>\n",
       "      <td>Barnet</td>\n",
       "      <td>66000.0</td>\n",
       "      <td>43000.0</td>\n",
       "      <td>53000.0</td>\n",
       "      <td>54000.0</td>\n",
       "      <td>68000.0</td>\n",
       "      <td>58000.0</td>\n",
       "      <td>57000.0</td>\n",
       "    </tr>\n",
       "    <tr>\n",
       "      <th>E09000004</th>\n",
       "      <td>Bexley</td>\n",
       "      <td>8000.0</td>\n",
       "      <td>7000.0</td>\n",
       "      <td>10000.0</td>\n",
       "      <td>14000.0</td>\n",
       "      <td>18000.0</td>\n",
       "      <td>16000.0</td>\n",
       "      <td>12167.0</td>\n",
       "    </tr>\n",
       "    <tr>\n",
       "      <th>E09000005</th>\n",
       "      <td>Brent</td>\n",
       "      <td>109000.0</td>\n",
       "      <td>111000.0</td>\n",
       "      <td>100000.0</td>\n",
       "      <td>109000.0</td>\n",
       "      <td>106000.0</td>\n",
       "      <td>103000.0</td>\n",
       "      <td>106333.0</td>\n",
       "    </tr>\n",
       "    <tr>\n",
       "      <th>E09000006</th>\n",
       "      <td>Bromley</td>\n",
       "      <td>19000.0</td>\n",
       "      <td>20000.0</td>\n",
       "      <td>20000.0</td>\n",
       "      <td>16000.0</td>\n",
       "      <td>17000.0</td>\n",
       "      <td>26000.0</td>\n",
       "      <td>19667.0</td>\n",
       "    </tr>\n",
       "  </tbody>\n",
       "</table>\n",
       "</div>"
      ],
      "text/plain": [
       "                        Borough  Year-2012  Year-2013  Year-2014  Year-2015  \\\n",
       "Area Code                                                                     \n",
       "E09000002  Barking and Dagenham    27000.0    32000.0    33000.0    40000.0   \n",
       "E09000003                Barnet    66000.0    43000.0    53000.0    54000.0   \n",
       "E09000004                Bexley     8000.0     7000.0    10000.0    14000.0   \n",
       "E09000005                 Brent   109000.0   111000.0   100000.0   109000.0   \n",
       "E09000006               Bromley    19000.0    20000.0    20000.0    16000.0   \n",
       "\n",
       "           Year-2016  Year-2017  Population  \n",
       "Area Code                                    \n",
       "E09000002    40000.0    48000.0     36667.0  \n",
       "E09000003    68000.0    58000.0     57000.0  \n",
       "E09000004    18000.0    16000.0     12167.0  \n",
       "E09000005   106000.0   103000.0    106333.0  \n",
       "E09000006    17000.0    26000.0     19667.0  "
      ]
     },
     "execution_count": 12,
     "metadata": {},
     "output_type": "execute_result"
    }
   ],
   "source": [
    "df_popu.head()"
   ]
  },
  {
   "cell_type": "markdown",
   "metadata": {},
   "source": [
    "#### Finding the Borough, that has highest population "
   ]
  },
  {
   "cell_type": "code",
   "execution_count": 13,
   "metadata": {},
   "outputs": [
    {
     "data": {
      "text/plain": [
       "Borough       Newham\n",
       "Year-2012     143000\n",
       "Year-2013     146000\n",
       "Year-2014     143000\n",
       "Year-2015     125000\n",
       "Year-2016     142000\n",
       "Year-2017     143000\n",
       "Population    140333\n",
       "Name: E09000025, dtype: object"
      ]
     },
     "execution_count": 13,
     "metadata": {},
     "output_type": "execute_result"
    }
   ],
   "source": [
    "df_popu.loc[df_popu['Population'].idxmax()]"
   ]
  },
  {
   "cell_type": "markdown",
   "metadata": {},
   "source": [
    "### As the Newham borough is having highest asian population, we will consider this borough as our preferred location for our asian restuarant."
   ]
  },
  {
   "cell_type": "markdown",
   "metadata": {},
   "source": [
    "#### Read the data of Newham borough as a separate DataFrame"
   ]
  },
  {
   "cell_type": "code",
   "execution_count": 14,
   "metadata": {},
   "outputs": [],
   "source": [
    "df_Newham_asians = df_popu.loc[df_popu['Borough'] == 'Newham']"
   ]
  },
  {
   "cell_type": "code",
   "execution_count": 15,
   "metadata": {},
   "outputs": [
    {
     "data": {
      "text/html": [
       "<div>\n",
       "<style scoped>\n",
       "    .dataframe tbody tr th:only-of-type {\n",
       "        vertical-align: middle;\n",
       "    }\n",
       "\n",
       "    .dataframe tbody tr th {\n",
       "        vertical-align: top;\n",
       "    }\n",
       "\n",
       "    .dataframe thead th {\n",
       "        text-align: right;\n",
       "    }\n",
       "</style>\n",
       "<table border=\"1\" class=\"dataframe\">\n",
       "  <thead>\n",
       "    <tr style=\"text-align: right;\">\n",
       "      <th></th>\n",
       "      <th>Borough</th>\n",
       "      <th>Year-2012</th>\n",
       "      <th>Year-2013</th>\n",
       "      <th>Year-2014</th>\n",
       "      <th>Year-2015</th>\n",
       "      <th>Year-2016</th>\n",
       "      <th>Year-2017</th>\n",
       "      <th>Population</th>\n",
       "    </tr>\n",
       "    <tr>\n",
       "      <th>Area Code</th>\n",
       "      <th></th>\n",
       "      <th></th>\n",
       "      <th></th>\n",
       "      <th></th>\n",
       "      <th></th>\n",
       "      <th></th>\n",
       "      <th></th>\n",
       "      <th></th>\n",
       "    </tr>\n",
       "  </thead>\n",
       "  <tbody>\n",
       "    <tr>\n",
       "      <th>E09000025</th>\n",
       "      <td>Newham</td>\n",
       "      <td>143000.0</td>\n",
       "      <td>146000.0</td>\n",
       "      <td>143000.0</td>\n",
       "      <td>125000.0</td>\n",
       "      <td>142000.0</td>\n",
       "      <td>143000.0</td>\n",
       "      <td>140333.0</td>\n",
       "    </tr>\n",
       "  </tbody>\n",
       "</table>\n",
       "</div>"
      ],
      "text/plain": [
       "          Borough  Year-2012  Year-2013  Year-2014  Year-2015  Year-2016  \\\n",
       "Area Code                                                                  \n",
       "E09000025  Newham   143000.0   146000.0   143000.0   125000.0   142000.0   \n",
       "\n",
       "           Year-2017  Population  \n",
       "Area Code                         \n",
       "E09000025   143000.0    140333.0  "
      ]
     },
     "execution_count": 15,
     "metadata": {},
     "output_type": "execute_result"
    }
   ],
   "source": [
    "df_Newham_asians"
   ]
  },
  {
   "cell_type": "markdown",
   "metadata": {},
   "source": [
    "### 2) Read the \"Weekly Earnings data of the asian Ethnicity in each borough\" into a DataFrame "
   ]
  },
  {
   "cell_type": "code",
   "execution_count": 16,
   "metadata": {},
   "outputs": [],
   "source": [
    "# Your data file was loaded into a botocore.response.StreamingBody object.\n",
    "# Please read the documentation of ibm_boto3 and pandas to learn more about your possibilities to load the data.\n",
    "# ibm_boto3 documentation: https://ibm.github.io/ibm-cos-sdk-python/\n",
    "# pandas documentation: http://pandas.pydata.org/\n",
    "streaming_body_3 = client_b7d20049bd8143c2944110c6dbbf6031.get_object(Bucket='battleofneighborhoods-donotdelete-pr-iawjsijjjrsgkl', Key='Z03-Earnings-by-borough.xls')['Body']\n",
    "# add missing __iter__ method so pandas accepts body as file-like object\n",
    "if not hasattr(streaming_body_3, \"__iter__\"): streaming_body_3.__iter__ = types.MethodType( __iter__, streaming_body_3 ) \n",
    "\n"
   ]
  },
  {
   "cell_type": "code",
   "execution_count": 17,
   "metadata": {},
   "outputs": [],
   "source": [
    "df_earnings = pd.read_excel(streaming_body_3)"
   ]
  },
  {
   "cell_type": "code",
   "execution_count": 18,
   "metadata": {},
   "outputs": [
    {
     "data": {
      "text/plain": [
       "(33, 13)"
      ]
     },
     "execution_count": 18,
     "metadata": {},
     "output_type": "execute_result"
    }
   ],
   "source": [
    "df_earnings.shape"
   ]
  },
  {
   "cell_type": "code",
   "execution_count": 19,
   "metadata": {},
   "outputs": [
    {
     "data": {
      "text/html": [
       "<div>\n",
       "<style scoped>\n",
       "    .dataframe tbody tr th:only-of-type {\n",
       "        vertical-align: middle;\n",
       "    }\n",
       "\n",
       "    .dataframe tbody tr th {\n",
       "        vertical-align: top;\n",
       "    }\n",
       "\n",
       "    .dataframe thead th {\n",
       "        text-align: right;\n",
       "    }\n",
       "</style>\n",
       "<table border=\"1\" class=\"dataframe\">\n",
       "  <thead>\n",
       "    <tr style=\"text-align: right;\">\n",
       "      <th></th>\n",
       "      <th>Area Code</th>\n",
       "      <th>Borough</th>\n",
       "      <th>Year_2008</th>\n",
       "      <th>Year_2009</th>\n",
       "      <th>Year_2010</th>\n",
       "      <th>Year_2011</th>\n",
       "      <th>Year_2012</th>\n",
       "      <th>Year_2013</th>\n",
       "      <th>Year_2014</th>\n",
       "      <th>Year_2015</th>\n",
       "      <th>Year_2016</th>\n",
       "      <th>Year_2017</th>\n",
       "      <th>Year_2018</th>\n",
       "    </tr>\n",
       "  </thead>\n",
       "  <tbody>\n",
       "    <tr>\n",
       "      <th>0</th>\n",
       "      <td>E09000001</td>\n",
       "      <td>City of London</td>\n",
       "      <td>NaN</td>\n",
       "      <td>762.4</td>\n",
       "      <td>NaN</td>\n",
       "      <td>NaN</td>\n",
       "      <td>NaN</td>\n",
       "      <td>NaN</td>\n",
       "      <td>NaN</td>\n",
       "      <td>NaN</td>\n",
       "      <td>NaN</td>\n",
       "      <td>NaN</td>\n",
       "      <td>901.6</td>\n",
       "    </tr>\n",
       "    <tr>\n",
       "      <th>1</th>\n",
       "      <td>E09000002</td>\n",
       "      <td>Barking and Dagenham</td>\n",
       "      <td>449.9</td>\n",
       "      <td>448.8</td>\n",
       "      <td>429.3</td>\n",
       "      <td>452.1</td>\n",
       "      <td>450.0</td>\n",
       "      <td>441.2</td>\n",
       "      <td>422.5</td>\n",
       "      <td>436.6</td>\n",
       "      <td>462.2</td>\n",
       "      <td>461.0</td>\n",
       "      <td>479.1</td>\n",
       "    </tr>\n",
       "    <tr>\n",
       "      <th>2</th>\n",
       "      <td>E09000003</td>\n",
       "      <td>Barnet</td>\n",
       "      <td>502.2</td>\n",
       "      <td>528.1</td>\n",
       "      <td>501.6</td>\n",
       "      <td>498.3</td>\n",
       "      <td>503.1</td>\n",
       "      <td>517.5</td>\n",
       "      <td>479.1</td>\n",
       "      <td>491.0</td>\n",
       "      <td>485.6</td>\n",
       "      <td>522.6</td>\n",
       "      <td>536.6</td>\n",
       "    </tr>\n",
       "    <tr>\n",
       "      <th>3</th>\n",
       "      <td>E09000004</td>\n",
       "      <td>Bexley</td>\n",
       "      <td>483.9</td>\n",
       "      <td>486.3</td>\n",
       "      <td>518.1</td>\n",
       "      <td>505.1</td>\n",
       "      <td>509.1</td>\n",
       "      <td>497.9</td>\n",
       "      <td>512.6</td>\n",
       "      <td>491.1</td>\n",
       "      <td>487.0</td>\n",
       "      <td>513.0</td>\n",
       "      <td>513.8</td>\n",
       "    </tr>\n",
       "    <tr>\n",
       "      <th>4</th>\n",
       "      <td>E09000005</td>\n",
       "      <td>Brent</td>\n",
       "      <td>437.0</td>\n",
       "      <td>439.1</td>\n",
       "      <td>423.1</td>\n",
       "      <td>414.9</td>\n",
       "      <td>442.0</td>\n",
       "      <td>441.8</td>\n",
       "      <td>441.8</td>\n",
       "      <td>457.6</td>\n",
       "      <td>467.0</td>\n",
       "      <td>471.0</td>\n",
       "      <td>480.0</td>\n",
       "    </tr>\n",
       "  </tbody>\n",
       "</table>\n",
       "</div>"
      ],
      "text/plain": [
       "   Area Code               Borough  Year_2008  Year_2009  Year_2010  \\\n",
       "0  E09000001        City of London        NaN      762.4        NaN   \n",
       "1  E09000002  Barking and Dagenham      449.9      448.8      429.3   \n",
       "2  E09000003                Barnet      502.2      528.1      501.6   \n",
       "3  E09000004                Bexley      483.9      486.3      518.1   \n",
       "4  E09000005                 Brent      437.0      439.1      423.1   \n",
       "\n",
       "   Year_2011  Year_2012  Year_2013  Year_2014  Year_2015  Year_2016  \\\n",
       "0        NaN        NaN        NaN        NaN        NaN        NaN   \n",
       "1      452.1      450.0      441.2      422.5      436.6      462.2   \n",
       "2      498.3      503.1      517.5      479.1      491.0      485.6   \n",
       "3      505.1      509.1      497.9      512.6      491.1      487.0   \n",
       "4      414.9      442.0      441.8      441.8      457.6      467.0   \n",
       "\n",
       "   Year_2017  Year_2018  \n",
       "0        NaN      901.6  \n",
       "1      461.0      479.1  \n",
       "2      522.6      536.6  \n",
       "3      513.0      513.8  \n",
       "4      471.0      480.0  "
      ]
     },
     "execution_count": 19,
     "metadata": {},
     "output_type": "execute_result"
    }
   ],
   "source": [
    "df_earnings.head()"
   ]
  },
  {
   "cell_type": "markdown",
   "metadata": {},
   "source": [
    "#### Drop the row for Borough City of London, as there is no data for most of the years"
   ]
  },
  {
   "cell_type": "code",
   "execution_count": 20,
   "metadata": {},
   "outputs": [],
   "source": [
    "df_earnings = df_earnings.dropna(how='any')"
   ]
  },
  {
   "cell_type": "code",
   "execution_count": 21,
   "metadata": {},
   "outputs": [
    {
     "data": {
      "text/plain": [
       "(32, 13)"
      ]
     },
     "execution_count": 21,
     "metadata": {},
     "output_type": "execute_result"
    }
   ],
   "source": [
    "df_earnings.shape"
   ]
  },
  {
   "cell_type": "code",
   "execution_count": 22,
   "metadata": {},
   "outputs": [
    {
     "data": {
      "text/html": [
       "<div>\n",
       "<style scoped>\n",
       "    .dataframe tbody tr th:only-of-type {\n",
       "        vertical-align: middle;\n",
       "    }\n",
       "\n",
       "    .dataframe tbody tr th {\n",
       "        vertical-align: top;\n",
       "    }\n",
       "\n",
       "    .dataframe thead th {\n",
       "        text-align: right;\n",
       "    }\n",
       "</style>\n",
       "<table border=\"1\" class=\"dataframe\">\n",
       "  <thead>\n",
       "    <tr style=\"text-align: right;\">\n",
       "      <th></th>\n",
       "      <th>Area Code</th>\n",
       "      <th>Borough</th>\n",
       "      <th>Year_2008</th>\n",
       "      <th>Year_2009</th>\n",
       "      <th>Year_2010</th>\n",
       "      <th>Year_2011</th>\n",
       "      <th>Year_2012</th>\n",
       "      <th>Year_2013</th>\n",
       "      <th>Year_2014</th>\n",
       "      <th>Year_2015</th>\n",
       "      <th>Year_2016</th>\n",
       "      <th>Year_2017</th>\n",
       "      <th>Year_2018</th>\n",
       "    </tr>\n",
       "  </thead>\n",
       "  <tbody>\n",
       "    <tr>\n",
       "      <th>1</th>\n",
       "      <td>E09000002</td>\n",
       "      <td>Barking and Dagenham</td>\n",
       "      <td>449.9</td>\n",
       "      <td>448.8</td>\n",
       "      <td>429.3</td>\n",
       "      <td>452.1</td>\n",
       "      <td>450.0</td>\n",
       "      <td>441.2</td>\n",
       "      <td>422.5</td>\n",
       "      <td>436.6</td>\n",
       "      <td>462.2</td>\n",
       "      <td>461.0</td>\n",
       "      <td>479.1</td>\n",
       "    </tr>\n",
       "    <tr>\n",
       "      <th>2</th>\n",
       "      <td>E09000003</td>\n",
       "      <td>Barnet</td>\n",
       "      <td>502.2</td>\n",
       "      <td>528.1</td>\n",
       "      <td>501.6</td>\n",
       "      <td>498.3</td>\n",
       "      <td>503.1</td>\n",
       "      <td>517.5</td>\n",
       "      <td>479.1</td>\n",
       "      <td>491.0</td>\n",
       "      <td>485.6</td>\n",
       "      <td>522.6</td>\n",
       "      <td>536.6</td>\n",
       "    </tr>\n",
       "    <tr>\n",
       "      <th>3</th>\n",
       "      <td>E09000004</td>\n",
       "      <td>Bexley</td>\n",
       "      <td>483.9</td>\n",
       "      <td>486.3</td>\n",
       "      <td>518.1</td>\n",
       "      <td>505.1</td>\n",
       "      <td>509.1</td>\n",
       "      <td>497.9</td>\n",
       "      <td>512.6</td>\n",
       "      <td>491.1</td>\n",
       "      <td>487.0</td>\n",
       "      <td>513.0</td>\n",
       "      <td>513.8</td>\n",
       "    </tr>\n",
       "    <tr>\n",
       "      <th>4</th>\n",
       "      <td>E09000005</td>\n",
       "      <td>Brent</td>\n",
       "      <td>437.0</td>\n",
       "      <td>439.1</td>\n",
       "      <td>423.1</td>\n",
       "      <td>414.9</td>\n",
       "      <td>442.0</td>\n",
       "      <td>441.8</td>\n",
       "      <td>441.8</td>\n",
       "      <td>457.6</td>\n",
       "      <td>467.0</td>\n",
       "      <td>471.0</td>\n",
       "      <td>480.0</td>\n",
       "    </tr>\n",
       "    <tr>\n",
       "      <th>5</th>\n",
       "      <td>E09000006</td>\n",
       "      <td>Bromley</td>\n",
       "      <td>546.0</td>\n",
       "      <td>545.6</td>\n",
       "      <td>527.2</td>\n",
       "      <td>551.7</td>\n",
       "      <td>566.6</td>\n",
       "      <td>581.1</td>\n",
       "      <td>578.5</td>\n",
       "      <td>583.8</td>\n",
       "      <td>584.3</td>\n",
       "      <td>608.0</td>\n",
       "      <td>632.5</td>\n",
       "    </tr>\n",
       "  </tbody>\n",
       "</table>\n",
       "</div>"
      ],
      "text/plain": [
       "   Area Code               Borough  Year_2008  Year_2009  Year_2010  \\\n",
       "1  E09000002  Barking and Dagenham      449.9      448.8      429.3   \n",
       "2  E09000003                Barnet      502.2      528.1      501.6   \n",
       "3  E09000004                Bexley      483.9      486.3      518.1   \n",
       "4  E09000005                 Brent      437.0      439.1      423.1   \n",
       "5  E09000006               Bromley      546.0      545.6      527.2   \n",
       "\n",
       "   Year_2011  Year_2012  Year_2013  Year_2014  Year_2015  Year_2016  \\\n",
       "1      452.1      450.0      441.2      422.5      436.6      462.2   \n",
       "2      498.3      503.1      517.5      479.1      491.0      485.6   \n",
       "3      505.1      509.1      497.9      512.6      491.1      487.0   \n",
       "4      414.9      442.0      441.8      441.8      457.6      467.0   \n",
       "5      551.7      566.6      581.1      578.5      583.8      584.3   \n",
       "\n",
       "   Year_2017  Year_2018  \n",
       "1      461.0      479.1  \n",
       "2      522.6      536.6  \n",
       "3      513.0      513.8  \n",
       "4      471.0      480.0  \n",
       "5      608.0      632.5  "
      ]
     },
     "execution_count": 22,
     "metadata": {},
     "output_type": "execute_result"
    }
   ],
   "source": [
    "df_earnings.head()"
   ]
  },
  {
   "cell_type": "markdown",
   "metadata": {},
   "source": [
    "#### Setting the Area Code as Index "
   ]
  },
  {
   "cell_type": "code",
   "execution_count": 23,
   "metadata": {},
   "outputs": [],
   "source": [
    "df_earnings = df_earnings.set_index(['Area Code'])"
   ]
  },
  {
   "cell_type": "code",
   "execution_count": 24,
   "metadata": {
    "scrolled": true
   },
   "outputs": [
    {
     "data": {
      "text/html": [
       "<div>\n",
       "<style scoped>\n",
       "    .dataframe tbody tr th:only-of-type {\n",
       "        vertical-align: middle;\n",
       "    }\n",
       "\n",
       "    .dataframe tbody tr th {\n",
       "        vertical-align: top;\n",
       "    }\n",
       "\n",
       "    .dataframe thead th {\n",
       "        text-align: right;\n",
       "    }\n",
       "</style>\n",
       "<table border=\"1\" class=\"dataframe\">\n",
       "  <thead>\n",
       "    <tr style=\"text-align: right;\">\n",
       "      <th></th>\n",
       "      <th>Borough</th>\n",
       "      <th>Year_2008</th>\n",
       "      <th>Year_2009</th>\n",
       "      <th>Year_2010</th>\n",
       "      <th>Year_2011</th>\n",
       "      <th>Year_2012</th>\n",
       "      <th>Year_2013</th>\n",
       "      <th>Year_2014</th>\n",
       "      <th>Year_2015</th>\n",
       "      <th>Year_2016</th>\n",
       "      <th>Year_2017</th>\n",
       "      <th>Year_2018</th>\n",
       "    </tr>\n",
       "    <tr>\n",
       "      <th>Area Code</th>\n",
       "      <th></th>\n",
       "      <th></th>\n",
       "      <th></th>\n",
       "      <th></th>\n",
       "      <th></th>\n",
       "      <th></th>\n",
       "      <th></th>\n",
       "      <th></th>\n",
       "      <th></th>\n",
       "      <th></th>\n",
       "      <th></th>\n",
       "      <th></th>\n",
       "    </tr>\n",
       "  </thead>\n",
       "  <tbody>\n",
       "    <tr>\n",
       "      <th>E09000002</th>\n",
       "      <td>Barking and Dagenham</td>\n",
       "      <td>449.9</td>\n",
       "      <td>448.8</td>\n",
       "      <td>429.3</td>\n",
       "      <td>452.1</td>\n",
       "      <td>450.0</td>\n",
       "      <td>441.2</td>\n",
       "      <td>422.5</td>\n",
       "      <td>436.6</td>\n",
       "      <td>462.2</td>\n",
       "      <td>461.0</td>\n",
       "      <td>479.1</td>\n",
       "    </tr>\n",
       "    <tr>\n",
       "      <th>E09000003</th>\n",
       "      <td>Barnet</td>\n",
       "      <td>502.2</td>\n",
       "      <td>528.1</td>\n",
       "      <td>501.6</td>\n",
       "      <td>498.3</td>\n",
       "      <td>503.1</td>\n",
       "      <td>517.5</td>\n",
       "      <td>479.1</td>\n",
       "      <td>491.0</td>\n",
       "      <td>485.6</td>\n",
       "      <td>522.6</td>\n",
       "      <td>536.6</td>\n",
       "    </tr>\n",
       "    <tr>\n",
       "      <th>E09000004</th>\n",
       "      <td>Bexley</td>\n",
       "      <td>483.9</td>\n",
       "      <td>486.3</td>\n",
       "      <td>518.1</td>\n",
       "      <td>505.1</td>\n",
       "      <td>509.1</td>\n",
       "      <td>497.9</td>\n",
       "      <td>512.6</td>\n",
       "      <td>491.1</td>\n",
       "      <td>487.0</td>\n",
       "      <td>513.0</td>\n",
       "      <td>513.8</td>\n",
       "    </tr>\n",
       "    <tr>\n",
       "      <th>E09000005</th>\n",
       "      <td>Brent</td>\n",
       "      <td>437.0</td>\n",
       "      <td>439.1</td>\n",
       "      <td>423.1</td>\n",
       "      <td>414.9</td>\n",
       "      <td>442.0</td>\n",
       "      <td>441.8</td>\n",
       "      <td>441.8</td>\n",
       "      <td>457.6</td>\n",
       "      <td>467.0</td>\n",
       "      <td>471.0</td>\n",
       "      <td>480.0</td>\n",
       "    </tr>\n",
       "    <tr>\n",
       "      <th>E09000006</th>\n",
       "      <td>Bromley</td>\n",
       "      <td>546.0</td>\n",
       "      <td>545.6</td>\n",
       "      <td>527.2</td>\n",
       "      <td>551.7</td>\n",
       "      <td>566.6</td>\n",
       "      <td>581.1</td>\n",
       "      <td>578.5</td>\n",
       "      <td>583.8</td>\n",
       "      <td>584.3</td>\n",
       "      <td>608.0</td>\n",
       "      <td>632.5</td>\n",
       "    </tr>\n",
       "  </tbody>\n",
       "</table>\n",
       "</div>"
      ],
      "text/plain": [
       "                        Borough  Year_2008  Year_2009  Year_2010  Year_2011  \\\n",
       "Area Code                                                                     \n",
       "E09000002  Barking and Dagenham      449.9      448.8      429.3      452.1   \n",
       "E09000003                Barnet      502.2      528.1      501.6      498.3   \n",
       "E09000004                Bexley      483.9      486.3      518.1      505.1   \n",
       "E09000005                 Brent      437.0      439.1      423.1      414.9   \n",
       "E09000006               Bromley      546.0      545.6      527.2      551.7   \n",
       "\n",
       "           Year_2012  Year_2013  Year_2014  Year_2015  Year_2016  Year_2017  \\\n",
       "Area Code                                                                     \n",
       "E09000002      450.0      441.2      422.5      436.6      462.2      461.0   \n",
       "E09000003      503.1      517.5      479.1      491.0      485.6      522.6   \n",
       "E09000004      509.1      497.9      512.6      491.1      487.0      513.0   \n",
       "E09000005      442.0      441.8      441.8      457.6      467.0      471.0   \n",
       "E09000006      566.6      581.1      578.5      583.8      584.3      608.0   \n",
       "\n",
       "           Year_2018  \n",
       "Area Code             \n",
       "E09000002      479.1  \n",
       "E09000003      536.6  \n",
       "E09000004      513.8  \n",
       "E09000005      480.0  \n",
       "E09000006      632.5  "
      ]
     },
     "execution_count": 24,
     "metadata": {},
     "output_type": "execute_result"
    }
   ],
   "source": [
    "df_earnings.head()"
   ]
  },
  {
   "cell_type": "markdown",
   "metadata": {},
   "source": [
    "### As the Newham borough has highest asian population, we will consider the earnings data of only this borough."
   ]
  },
  {
   "cell_type": "markdown",
   "metadata": {},
   "source": [
    "#### Read the Earnings data for Newham borough"
   ]
  },
  {
   "cell_type": "code",
   "execution_count": 25,
   "metadata": {},
   "outputs": [],
   "source": [
    "df_Newham_earnings = df_earnings.loc[df_earnings['Borough'] == 'Newham']"
   ]
  },
  {
   "cell_type": "code",
   "execution_count": 26,
   "metadata": {},
   "outputs": [
    {
     "data": {
      "text/html": [
       "<div>\n",
       "<style scoped>\n",
       "    .dataframe tbody tr th:only-of-type {\n",
       "        vertical-align: middle;\n",
       "    }\n",
       "\n",
       "    .dataframe tbody tr th {\n",
       "        vertical-align: top;\n",
       "    }\n",
       "\n",
       "    .dataframe thead th {\n",
       "        text-align: right;\n",
       "    }\n",
       "</style>\n",
       "<table border=\"1\" class=\"dataframe\">\n",
       "  <thead>\n",
       "    <tr style=\"text-align: right;\">\n",
       "      <th></th>\n",
       "      <th>Borough</th>\n",
       "      <th>Year_2008</th>\n",
       "      <th>Year_2009</th>\n",
       "      <th>Year_2010</th>\n",
       "      <th>Year_2011</th>\n",
       "      <th>Year_2012</th>\n",
       "      <th>Year_2013</th>\n",
       "      <th>Year_2014</th>\n",
       "      <th>Year_2015</th>\n",
       "      <th>Year_2016</th>\n",
       "      <th>Year_2017</th>\n",
       "      <th>Year_2018</th>\n",
       "    </tr>\n",
       "    <tr>\n",
       "      <th>Area Code</th>\n",
       "      <th></th>\n",
       "      <th></th>\n",
       "      <th></th>\n",
       "      <th></th>\n",
       "      <th></th>\n",
       "      <th></th>\n",
       "      <th></th>\n",
       "      <th></th>\n",
       "      <th></th>\n",
       "      <th></th>\n",
       "      <th></th>\n",
       "      <th></th>\n",
       "    </tr>\n",
       "  </thead>\n",
       "  <tbody>\n",
       "    <tr>\n",
       "      <th>E09000025</th>\n",
       "      <td>Newham</td>\n",
       "      <td>403.0</td>\n",
       "      <td>421.6</td>\n",
       "      <td>422.4</td>\n",
       "      <td>382.5</td>\n",
       "      <td>369.8</td>\n",
       "      <td>387.6</td>\n",
       "      <td>393.7</td>\n",
       "      <td>421.6</td>\n",
       "      <td>436.7</td>\n",
       "      <td>471.3</td>\n",
       "      <td>479.1</td>\n",
       "    </tr>\n",
       "  </tbody>\n",
       "</table>\n",
       "</div>"
      ],
      "text/plain": [
       "          Borough  Year_2008  Year_2009  Year_2010  Year_2011  Year_2012  \\\n",
       "Area Code                                                                  \n",
       "E09000025  Newham      403.0      421.6      422.4      382.5      369.8   \n",
       "\n",
       "           Year_2013  Year_2014  Year_2015  Year_2016  Year_2017  Year_2018  \n",
       "Area Code                                                                    \n",
       "E09000025      387.6      393.7      421.6      436.7      471.3      479.1  "
      ]
     },
     "execution_count": 26,
     "metadata": {},
     "output_type": "execute_result"
    }
   ],
   "source": [
    "df_Newham_earnings"
   ]
  },
  {
   "cell_type": "markdown",
   "metadata": {},
   "source": [
    "### 3) Read the existing \"Licensed Restuarants in each borough\" data into a DataFrame"
   ]
  },
  {
   "cell_type": "code",
   "execution_count": 27,
   "metadata": {},
   "outputs": [],
   "source": [
    "# Your data file was loaded into a botocore.response.StreamingBody object.\n",
    "# Please read the documentation of ibm_boto3 and pandas to learn more about your possibilities to load the data.\n",
    "# ibm_boto3 documentation: https://ibm.github.io/ibm-cos-sdk-python/\n",
    "# pandas documentation: http://pandas.pydata.org/\n",
    "streaming_body_4 = client_b7d20049bd8143c2944110c6dbbf6031.get_object(Bucket='battleofneighborhoods-donotdelete-pr-iawjsijjjrsgkl', Key='Z04-Licensed-restaurants-by-borough.xls')['Body']\n",
    "# add missing __iter__ method so pandas accepts body as file-like object\n",
    "if not hasattr(streaming_body_4, \"__iter__\"): streaming_body_4.__iter__ = types.MethodType( __iter__, streaming_body_4 )"
   ]
  },
  {
   "cell_type": "code",
   "execution_count": 28,
   "metadata": {},
   "outputs": [],
   "source": [
    "df_lres = pd.read_excel(streaming_body_4)"
   ]
  },
  {
   "cell_type": "markdown",
   "metadata": {},
   "source": [
    "#### Take only years 2008 to 2018 "
   ]
  },
  {
   "cell_type": "code",
   "execution_count": 29,
   "metadata": {},
   "outputs": [],
   "source": [
    "df_lres = df_lres.filter(['Area Code', 'Borough', 'Year_2008',\n",
    "       'Year_2009', 'Year_2010', 'Year_2011', 'Year_2012', 'Year_2013',\n",
    "       'Year_2014', 'Year_2015', 'Year_2016', 'Year_2017', 'Year_2018'], axis=1)"
   ]
  },
  {
   "cell_type": "code",
   "execution_count": 30,
   "metadata": {},
   "outputs": [
    {
     "data": {
      "text/plain": [
       "Index(['Area Code', 'Borough', 'Year_2008', 'Year_2009', 'Year_2010',\n",
       "       'Year_2011', 'Year_2012', 'Year_2013', 'Year_2014', 'Year_2015',\n",
       "       'Year_2016', 'Year_2017', 'Year_2018'],\n",
       "      dtype='object')"
      ]
     },
     "execution_count": 30,
     "metadata": {},
     "output_type": "execute_result"
    }
   ],
   "source": [
    "df_lres.columns"
   ]
  },
  {
   "cell_type": "markdown",
   "metadata": {},
   "source": [
    "#### Setting the Area Code as Index"
   ]
  },
  {
   "cell_type": "code",
   "execution_count": 31,
   "metadata": {},
   "outputs": [],
   "source": [
    "df_lres = df_lres.set_index(['Area Code'])"
   ]
  },
  {
   "cell_type": "code",
   "execution_count": 32,
   "metadata": {},
   "outputs": [
    {
     "data": {
      "text/html": [
       "<div>\n",
       "<style scoped>\n",
       "    .dataframe tbody tr th:only-of-type {\n",
       "        vertical-align: middle;\n",
       "    }\n",
       "\n",
       "    .dataframe tbody tr th {\n",
       "        vertical-align: top;\n",
       "    }\n",
       "\n",
       "    .dataframe thead th {\n",
       "        text-align: right;\n",
       "    }\n",
       "</style>\n",
       "<table border=\"1\" class=\"dataframe\">\n",
       "  <thead>\n",
       "    <tr style=\"text-align: right;\">\n",
       "      <th></th>\n",
       "      <th>Borough</th>\n",
       "      <th>Year_2008</th>\n",
       "      <th>Year_2009</th>\n",
       "      <th>Year_2010</th>\n",
       "      <th>Year_2011</th>\n",
       "      <th>Year_2012</th>\n",
       "      <th>Year_2013</th>\n",
       "      <th>Year_2014</th>\n",
       "      <th>Year_2015</th>\n",
       "      <th>Year_2016</th>\n",
       "      <th>Year_2017</th>\n",
       "      <th>Year_2018</th>\n",
       "    </tr>\n",
       "    <tr>\n",
       "      <th>Area Code</th>\n",
       "      <th></th>\n",
       "      <th></th>\n",
       "      <th></th>\n",
       "      <th></th>\n",
       "      <th></th>\n",
       "      <th></th>\n",
       "      <th></th>\n",
       "      <th></th>\n",
       "      <th></th>\n",
       "      <th></th>\n",
       "      <th></th>\n",
       "      <th></th>\n",
       "    </tr>\n",
       "  </thead>\n",
       "  <tbody>\n",
       "    <tr>\n",
       "      <th>E09000001</th>\n",
       "      <td>City of London</td>\n",
       "      <td>185</td>\n",
       "      <td>180</td>\n",
       "      <td>195</td>\n",
       "      <td>190</td>\n",
       "      <td>205</td>\n",
       "      <td>230</td>\n",
       "      <td>255</td>\n",
       "      <td>270</td>\n",
       "      <td>270</td>\n",
       "      <td>295</td>\n",
       "      <td>310</td>\n",
       "    </tr>\n",
       "    <tr>\n",
       "      <th>E09000002</th>\n",
       "      <td>Barking and Dagenham</td>\n",
       "      <td>35</td>\n",
       "      <td>30</td>\n",
       "      <td>30</td>\n",
       "      <td>30</td>\n",
       "      <td>40</td>\n",
       "      <td>40</td>\n",
       "      <td>35</td>\n",
       "      <td>45</td>\n",
       "      <td>40</td>\n",
       "      <td>35</td>\n",
       "      <td>40</td>\n",
       "    </tr>\n",
       "    <tr>\n",
       "      <th>E09000003</th>\n",
       "      <td>Barnet</td>\n",
       "      <td>195</td>\n",
       "      <td>210</td>\n",
       "      <td>215</td>\n",
       "      <td>205</td>\n",
       "      <td>235</td>\n",
       "      <td>250</td>\n",
       "      <td>240</td>\n",
       "      <td>255</td>\n",
       "      <td>245</td>\n",
       "      <td>270</td>\n",
       "      <td>279</td>\n",
       "    </tr>\n",
       "    <tr>\n",
       "      <th>E09000004</th>\n",
       "      <td>Bexley</td>\n",
       "      <td>95</td>\n",
       "      <td>90</td>\n",
       "      <td>95</td>\n",
       "      <td>95</td>\n",
       "      <td>105</td>\n",
       "      <td>105</td>\n",
       "      <td>105</td>\n",
       "      <td>100</td>\n",
       "      <td>110</td>\n",
       "      <td>110</td>\n",
       "      <td>117</td>\n",
       "    </tr>\n",
       "    <tr>\n",
       "      <th>E09000005</th>\n",
       "      <td>Brent</td>\n",
       "      <td>140</td>\n",
       "      <td>145</td>\n",
       "      <td>150</td>\n",
       "      <td>155</td>\n",
       "      <td>165</td>\n",
       "      <td>170</td>\n",
       "      <td>165</td>\n",
       "      <td>185</td>\n",
       "      <td>200</td>\n",
       "      <td>190</td>\n",
       "      <td>198</td>\n",
       "    </tr>\n",
       "  </tbody>\n",
       "</table>\n",
       "</div>"
      ],
      "text/plain": [
       "                        Borough  Year_2008  Year_2009  Year_2010  Year_2011  \\\n",
       "Area Code                                                                     \n",
       "E09000001        City of London        185        180        195        190   \n",
       "E09000002  Barking and Dagenham         35         30         30         30   \n",
       "E09000003                Barnet        195        210        215        205   \n",
       "E09000004                Bexley         95         90         95         95   \n",
       "E09000005                 Brent        140        145        150        155   \n",
       "\n",
       "           Year_2012  Year_2013  Year_2014  Year_2015  Year_2016  Year_2017  \\\n",
       "Area Code                                                                     \n",
       "E09000001        205        230        255        270        270        295   \n",
       "E09000002         40         40         35         45         40         35   \n",
       "E09000003        235        250        240        255        245        270   \n",
       "E09000004        105        105        105        100        110        110   \n",
       "E09000005        165        170        165        185        200        190   \n",
       "\n",
       "           Year_2018  \n",
       "Area Code             \n",
       "E09000001        310  \n",
       "E09000002         40  \n",
       "E09000003        279  \n",
       "E09000004        117  \n",
       "E09000005        198  "
      ]
     },
     "execution_count": 32,
     "metadata": {},
     "output_type": "execute_result"
    }
   ],
   "source": [
    "df_lres.head()"
   ]
  },
  {
   "cell_type": "markdown",
   "metadata": {},
   "source": [
    "#### Drop the row for City of London, as there is no data of other datasets for this borough "
   ]
  },
  {
   "cell_type": "code",
   "execution_count": 33,
   "metadata": {},
   "outputs": [],
   "source": [
    "df_lres = df_lres.drop(['E09000001'])"
   ]
  },
  {
   "cell_type": "code",
   "execution_count": 34,
   "metadata": {},
   "outputs": [
    {
     "data": {
      "text/html": [
       "<div>\n",
       "<style scoped>\n",
       "    .dataframe tbody tr th:only-of-type {\n",
       "        vertical-align: middle;\n",
       "    }\n",
       "\n",
       "    .dataframe tbody tr th {\n",
       "        vertical-align: top;\n",
       "    }\n",
       "\n",
       "    .dataframe thead th {\n",
       "        text-align: right;\n",
       "    }\n",
       "</style>\n",
       "<table border=\"1\" class=\"dataframe\">\n",
       "  <thead>\n",
       "    <tr style=\"text-align: right;\">\n",
       "      <th></th>\n",
       "      <th>Borough</th>\n",
       "      <th>Year_2008</th>\n",
       "      <th>Year_2009</th>\n",
       "      <th>Year_2010</th>\n",
       "      <th>Year_2011</th>\n",
       "      <th>Year_2012</th>\n",
       "      <th>Year_2013</th>\n",
       "      <th>Year_2014</th>\n",
       "      <th>Year_2015</th>\n",
       "      <th>Year_2016</th>\n",
       "      <th>Year_2017</th>\n",
       "      <th>Year_2018</th>\n",
       "    </tr>\n",
       "    <tr>\n",
       "      <th>Area Code</th>\n",
       "      <th></th>\n",
       "      <th></th>\n",
       "      <th></th>\n",
       "      <th></th>\n",
       "      <th></th>\n",
       "      <th></th>\n",
       "      <th></th>\n",
       "      <th></th>\n",
       "      <th></th>\n",
       "      <th></th>\n",
       "      <th></th>\n",
       "      <th></th>\n",
       "    </tr>\n",
       "  </thead>\n",
       "  <tbody>\n",
       "    <tr>\n",
       "      <th>E09000002</th>\n",
       "      <td>Barking and Dagenham</td>\n",
       "      <td>35</td>\n",
       "      <td>30</td>\n",
       "      <td>30</td>\n",
       "      <td>30</td>\n",
       "      <td>40</td>\n",
       "      <td>40</td>\n",
       "      <td>35</td>\n",
       "      <td>45</td>\n",
       "      <td>40</td>\n",
       "      <td>35</td>\n",
       "      <td>40</td>\n",
       "    </tr>\n",
       "    <tr>\n",
       "      <th>E09000003</th>\n",
       "      <td>Barnet</td>\n",
       "      <td>195</td>\n",
       "      <td>210</td>\n",
       "      <td>215</td>\n",
       "      <td>205</td>\n",
       "      <td>235</td>\n",
       "      <td>250</td>\n",
       "      <td>240</td>\n",
       "      <td>255</td>\n",
       "      <td>245</td>\n",
       "      <td>270</td>\n",
       "      <td>279</td>\n",
       "    </tr>\n",
       "    <tr>\n",
       "      <th>E09000004</th>\n",
       "      <td>Bexley</td>\n",
       "      <td>95</td>\n",
       "      <td>90</td>\n",
       "      <td>95</td>\n",
       "      <td>95</td>\n",
       "      <td>105</td>\n",
       "      <td>105</td>\n",
       "      <td>105</td>\n",
       "      <td>100</td>\n",
       "      <td>110</td>\n",
       "      <td>110</td>\n",
       "      <td>117</td>\n",
       "    </tr>\n",
       "    <tr>\n",
       "      <th>E09000005</th>\n",
       "      <td>Brent</td>\n",
       "      <td>140</td>\n",
       "      <td>145</td>\n",
       "      <td>150</td>\n",
       "      <td>155</td>\n",
       "      <td>165</td>\n",
       "      <td>170</td>\n",
       "      <td>165</td>\n",
       "      <td>185</td>\n",
       "      <td>200</td>\n",
       "      <td>190</td>\n",
       "      <td>198</td>\n",
       "    </tr>\n",
       "    <tr>\n",
       "      <th>E09000006</th>\n",
       "      <td>Bromley</td>\n",
       "      <td>165</td>\n",
       "      <td>170</td>\n",
       "      <td>175</td>\n",
       "      <td>160</td>\n",
       "      <td>180</td>\n",
       "      <td>185</td>\n",
       "      <td>180</td>\n",
       "      <td>180</td>\n",
       "      <td>190</td>\n",
       "      <td>200</td>\n",
       "      <td>208</td>\n",
       "    </tr>\n",
       "  </tbody>\n",
       "</table>\n",
       "</div>"
      ],
      "text/plain": [
       "                        Borough  Year_2008  Year_2009  Year_2010  Year_2011  \\\n",
       "Area Code                                                                     \n",
       "E09000002  Barking and Dagenham         35         30         30         30   \n",
       "E09000003                Barnet        195        210        215        205   \n",
       "E09000004                Bexley         95         90         95         95   \n",
       "E09000005                 Brent        140        145        150        155   \n",
       "E09000006               Bromley        165        170        175        160   \n",
       "\n",
       "           Year_2012  Year_2013  Year_2014  Year_2015  Year_2016  Year_2017  \\\n",
       "Area Code                                                                     \n",
       "E09000002         40         40         35         45         40         35   \n",
       "E09000003        235        250        240        255        245        270   \n",
       "E09000004        105        105        105        100        110        110   \n",
       "E09000005        165        170        165        185        200        190   \n",
       "E09000006        180        185        180        180        190        200   \n",
       "\n",
       "           Year_2018  \n",
       "Area Code             \n",
       "E09000002         40  \n",
       "E09000003        279  \n",
       "E09000004        117  \n",
       "E09000005        198  \n",
       "E09000006        208  "
      ]
     },
     "execution_count": 34,
     "metadata": {},
     "output_type": "execute_result"
    }
   ],
   "source": [
    "df_lres.head()"
   ]
  },
  {
   "cell_type": "markdown",
   "metadata": {},
   "source": [
    "### As the we have considered Newham borough as our preferred location for our restuarant, we will take the licensed restuarants data of Newham borough only."
   ]
  },
  {
   "cell_type": "markdown",
   "metadata": {},
   "source": [
    "#### Read the Newham borough restaurant data."
   ]
  },
  {
   "cell_type": "code",
   "execution_count": 35,
   "metadata": {},
   "outputs": [],
   "source": [
    "df_Newham_res = df_lres.loc[df_lres['Borough'] == 'Newham']"
   ]
  },
  {
   "cell_type": "code",
   "execution_count": 36,
   "metadata": {},
   "outputs": [
    {
     "data": {
      "text/html": [
       "<div>\n",
       "<style scoped>\n",
       "    .dataframe tbody tr th:only-of-type {\n",
       "        vertical-align: middle;\n",
       "    }\n",
       "\n",
       "    .dataframe tbody tr th {\n",
       "        vertical-align: top;\n",
       "    }\n",
       "\n",
       "    .dataframe thead th {\n",
       "        text-align: right;\n",
       "    }\n",
       "</style>\n",
       "<table border=\"1\" class=\"dataframe\">\n",
       "  <thead>\n",
       "    <tr style=\"text-align: right;\">\n",
       "      <th></th>\n",
       "      <th>Borough</th>\n",
       "      <th>Year_2008</th>\n",
       "      <th>Year_2009</th>\n",
       "      <th>Year_2010</th>\n",
       "      <th>Year_2011</th>\n",
       "      <th>Year_2012</th>\n",
       "      <th>Year_2013</th>\n",
       "      <th>Year_2014</th>\n",
       "      <th>Year_2015</th>\n",
       "      <th>Year_2016</th>\n",
       "      <th>Year_2017</th>\n",
       "      <th>Year_2018</th>\n",
       "    </tr>\n",
       "    <tr>\n",
       "      <th>Area Code</th>\n",
       "      <th></th>\n",
       "      <th></th>\n",
       "      <th></th>\n",
       "      <th></th>\n",
       "      <th></th>\n",
       "      <th></th>\n",
       "      <th></th>\n",
       "      <th></th>\n",
       "      <th></th>\n",
       "      <th></th>\n",
       "      <th></th>\n",
       "      <th></th>\n",
       "    </tr>\n",
       "  </thead>\n",
       "  <tbody>\n",
       "    <tr>\n",
       "      <th>E09000025</th>\n",
       "      <td>Newham</td>\n",
       "      <td>80</td>\n",
       "      <td>75</td>\n",
       "      <td>80</td>\n",
       "      <td>85</td>\n",
       "      <td>95</td>\n",
       "      <td>110</td>\n",
       "      <td>115</td>\n",
       "      <td>120</td>\n",
       "      <td>128</td>\n",
       "      <td>135</td>\n",
       "      <td>146</td>\n",
       "    </tr>\n",
       "  </tbody>\n",
       "</table>\n",
       "</div>"
      ],
      "text/plain": [
       "          Borough  Year_2008  Year_2009  Year_2010  Year_2011  Year_2012  \\\n",
       "Area Code                                                                  \n",
       "E09000025  Newham         80         75         80         85         95   \n",
       "\n",
       "           Year_2013  Year_2014  Year_2015  Year_2016  Year_2017  Year_2018  \n",
       "Area Code                                                                    \n",
       "E09000025        110        115        120        128        135        146  "
      ]
     },
     "execution_count": 36,
     "metadata": {},
     "output_type": "execute_result"
    }
   ],
   "source": [
    "df_Newham_res"
   ]
  },
  {
   "cell_type": "markdown",
   "metadata": {},
   "source": [
    "### 4) Read the \"Rated Value per Sqm of the retail space in each borough of London\" data into a DataFrame"
   ]
  },
  {
   "cell_type": "code",
   "execution_count": 37,
   "metadata": {},
   "outputs": [],
   "source": [
    "# Your data file was loaded into a botocore.response.StreamingBody object.\n",
    "# Please read the documentation of ibm_boto3 and pandas to learn more about your possibilities to load the data.\n",
    "# ibm_boto3 documentation: https://ibm.github.io/ibm-cos-sdk-python/\n",
    "# pandas documentation: http://pandas.pydata.org/\n",
    "streaming_body_5 = client_b7d20049bd8143c2944110c6dbbf6031.get_object(Bucket='battleofneighborhoods-donotdelete-pr-iawjsijjjrsgkl', Key='Z05-Rated-Value-by-borough.xls')['Body']\n",
    "# add missing __iter__ method so pandas accepts body as file-like object\n",
    "if not hasattr(streaming_body_5, \"__iter__\"): streaming_body_5.__iter__ = types.MethodType( __iter__, streaming_body_5 ) \n"
   ]
  },
  {
   "cell_type": "code",
   "execution_count": 38,
   "metadata": {},
   "outputs": [],
   "source": [
    "df_rate = pd.read_excel(streaming_body_5)"
   ]
  },
  {
   "cell_type": "code",
   "execution_count": 39,
   "metadata": {},
   "outputs": [
    {
     "data": {
      "text/html": [
       "<div>\n",
       "<style scoped>\n",
       "    .dataframe tbody tr th:only-of-type {\n",
       "        vertical-align: middle;\n",
       "    }\n",
       "\n",
       "    .dataframe tbody tr th {\n",
       "        vertical-align: top;\n",
       "    }\n",
       "\n",
       "    .dataframe thead th {\n",
       "        text-align: right;\n",
       "    }\n",
       "</style>\n",
       "<table border=\"1\" class=\"dataframe\">\n",
       "  <thead>\n",
       "    <tr style=\"text-align: right;\">\n",
       "      <th></th>\n",
       "      <th>Area Code</th>\n",
       "      <th>Borough</th>\n",
       "      <th>Year_2008</th>\n",
       "      <th>Year_2009</th>\n",
       "      <th>Year_2010</th>\n",
       "      <th>Year_2011</th>\n",
       "      <th>Year_2012</th>\n",
       "      <th>Year_2013</th>\n",
       "      <th>Year_2014</th>\n",
       "      <th>Year_2015</th>\n",
       "      <th>Year_2016</th>\n",
       "      <th>Year_2017</th>\n",
       "      <th>Year_2018</th>\n",
       "    </tr>\n",
       "  </thead>\n",
       "  <tbody>\n",
       "    <tr>\n",
       "      <th>0</th>\n",
       "      <td>E09000001</td>\n",
       "      <td>City of London</td>\n",
       "      <td>340</td>\n",
       "      <td>331</td>\n",
       "      <td>320</td>\n",
       "      <td>460</td>\n",
       "      <td>463</td>\n",
       "      <td>447</td>\n",
       "      <td>420</td>\n",
       "      <td>417</td>\n",
       "      <td>509</td>\n",
       "      <td>509</td>\n",
       "      <td>NaN</td>\n",
       "    </tr>\n",
       "    <tr>\n",
       "      <th>1</th>\n",
       "      <td>E09000002</td>\n",
       "      <td>Barking and Dagenham</td>\n",
       "      <td>84</td>\n",
       "      <td>85</td>\n",
       "      <td>85</td>\n",
       "      <td>103</td>\n",
       "      <td>103</td>\n",
       "      <td>105</td>\n",
       "      <td>103</td>\n",
       "      <td>103</td>\n",
       "      <td>137</td>\n",
       "      <td>139</td>\n",
       "      <td>NaN</td>\n",
       "    </tr>\n",
       "    <tr>\n",
       "      <th>2</th>\n",
       "      <td>E09000003</td>\n",
       "      <td>Barnet</td>\n",
       "      <td>149</td>\n",
       "      <td>149</td>\n",
       "      <td>148</td>\n",
       "      <td>181</td>\n",
       "      <td>182</td>\n",
       "      <td>184</td>\n",
       "      <td>184</td>\n",
       "      <td>183</td>\n",
       "      <td>239</td>\n",
       "      <td>240</td>\n",
       "      <td>NaN</td>\n",
       "    </tr>\n",
       "    <tr>\n",
       "      <th>3</th>\n",
       "      <td>E09000004</td>\n",
       "      <td>Bexley</td>\n",
       "      <td>98</td>\n",
       "      <td>96</td>\n",
       "      <td>96</td>\n",
       "      <td>118</td>\n",
       "      <td>117</td>\n",
       "      <td>116</td>\n",
       "      <td>116</td>\n",
       "      <td>116</td>\n",
       "      <td>137</td>\n",
       "      <td>139</td>\n",
       "      <td>NaN</td>\n",
       "    </tr>\n",
       "    <tr>\n",
       "      <th>4</th>\n",
       "      <td>E09000005</td>\n",
       "      <td>Brent</td>\n",
       "      <td>97</td>\n",
       "      <td>96</td>\n",
       "      <td>95</td>\n",
       "      <td>122</td>\n",
       "      <td>124</td>\n",
       "      <td>127</td>\n",
       "      <td>127</td>\n",
       "      <td>128</td>\n",
       "      <td>162</td>\n",
       "      <td>161</td>\n",
       "      <td>NaN</td>\n",
       "    </tr>\n",
       "  </tbody>\n",
       "</table>\n",
       "</div>"
      ],
      "text/plain": [
       "   Area Code               Borough  Year_2008  Year_2009  Year_2010  \\\n",
       "0  E09000001        City of London        340        331        320   \n",
       "1  E09000002  Barking and Dagenham         84         85         85   \n",
       "2  E09000003                Barnet        149        149        148   \n",
       "3  E09000004                Bexley         98         96         96   \n",
       "4  E09000005                 Brent         97         96         95   \n",
       "\n",
       "   Year_2011  Year_2012  Year_2013  Year_2014  Year_2015  Year_2016  \\\n",
       "0        460        463        447        420        417        509   \n",
       "1        103        103        105        103        103        137   \n",
       "2        181        182        184        184        183        239   \n",
       "3        118        117        116        116        116        137   \n",
       "4        122        124        127        127        128        162   \n",
       "\n",
       "   Year_2017  Year_2018  \n",
       "0        509        NaN  \n",
       "1        139        NaN  \n",
       "2        240        NaN  \n",
       "3        139        NaN  \n",
       "4        161        NaN  "
      ]
     },
     "execution_count": 39,
     "metadata": {},
     "output_type": "execute_result"
    }
   ],
   "source": [
    "df_rate.head()"
   ]
  },
  {
   "cell_type": "markdown",
   "metadata": {},
   "source": [
    "#### Note: These prices are Pounds per Square Metre in each borough, for the retail land space. As I had the Data Set for Retail, Industrial and Other land spaces, I have considered Restuarant Business as a Retail and hence took the Retail data from the dataset."
   ]
  },
  {
   "cell_type": "markdown",
   "metadata": {},
   "source": [
    "#### Setting the Area Code as Index "
   ]
  },
  {
   "cell_type": "code",
   "execution_count": 40,
   "metadata": {},
   "outputs": [],
   "source": [
    "df_rate = df_rate.set_index(['Area Code'])"
   ]
  },
  {
   "cell_type": "code",
   "execution_count": 41,
   "metadata": {},
   "outputs": [
    {
     "data": {
      "text/html": [
       "<div>\n",
       "<style scoped>\n",
       "    .dataframe tbody tr th:only-of-type {\n",
       "        vertical-align: middle;\n",
       "    }\n",
       "\n",
       "    .dataframe tbody tr th {\n",
       "        vertical-align: top;\n",
       "    }\n",
       "\n",
       "    .dataframe thead th {\n",
       "        text-align: right;\n",
       "    }\n",
       "</style>\n",
       "<table border=\"1\" class=\"dataframe\">\n",
       "  <thead>\n",
       "    <tr style=\"text-align: right;\">\n",
       "      <th></th>\n",
       "      <th>Borough</th>\n",
       "      <th>Year_2008</th>\n",
       "      <th>Year_2009</th>\n",
       "      <th>Year_2010</th>\n",
       "      <th>Year_2011</th>\n",
       "      <th>Year_2012</th>\n",
       "      <th>Year_2013</th>\n",
       "      <th>Year_2014</th>\n",
       "      <th>Year_2015</th>\n",
       "      <th>Year_2016</th>\n",
       "      <th>Year_2017</th>\n",
       "      <th>Year_2018</th>\n",
       "    </tr>\n",
       "    <tr>\n",
       "      <th>Area Code</th>\n",
       "      <th></th>\n",
       "      <th></th>\n",
       "      <th></th>\n",
       "      <th></th>\n",
       "      <th></th>\n",
       "      <th></th>\n",
       "      <th></th>\n",
       "      <th></th>\n",
       "      <th></th>\n",
       "      <th></th>\n",
       "      <th></th>\n",
       "      <th></th>\n",
       "    </tr>\n",
       "  </thead>\n",
       "  <tbody>\n",
       "    <tr>\n",
       "      <th>E09000001</th>\n",
       "      <td>City of London</td>\n",
       "      <td>340</td>\n",
       "      <td>331</td>\n",
       "      <td>320</td>\n",
       "      <td>460</td>\n",
       "      <td>463</td>\n",
       "      <td>447</td>\n",
       "      <td>420</td>\n",
       "      <td>417</td>\n",
       "      <td>509</td>\n",
       "      <td>509</td>\n",
       "      <td>NaN</td>\n",
       "    </tr>\n",
       "    <tr>\n",
       "      <th>E09000002</th>\n",
       "      <td>Barking and Dagenham</td>\n",
       "      <td>84</td>\n",
       "      <td>85</td>\n",
       "      <td>85</td>\n",
       "      <td>103</td>\n",
       "      <td>103</td>\n",
       "      <td>105</td>\n",
       "      <td>103</td>\n",
       "      <td>103</td>\n",
       "      <td>137</td>\n",
       "      <td>139</td>\n",
       "      <td>NaN</td>\n",
       "    </tr>\n",
       "    <tr>\n",
       "      <th>E09000003</th>\n",
       "      <td>Barnet</td>\n",
       "      <td>149</td>\n",
       "      <td>149</td>\n",
       "      <td>148</td>\n",
       "      <td>181</td>\n",
       "      <td>182</td>\n",
       "      <td>184</td>\n",
       "      <td>184</td>\n",
       "      <td>183</td>\n",
       "      <td>239</td>\n",
       "      <td>240</td>\n",
       "      <td>NaN</td>\n",
       "    </tr>\n",
       "    <tr>\n",
       "      <th>E09000004</th>\n",
       "      <td>Bexley</td>\n",
       "      <td>98</td>\n",
       "      <td>96</td>\n",
       "      <td>96</td>\n",
       "      <td>118</td>\n",
       "      <td>117</td>\n",
       "      <td>116</td>\n",
       "      <td>116</td>\n",
       "      <td>116</td>\n",
       "      <td>137</td>\n",
       "      <td>139</td>\n",
       "      <td>NaN</td>\n",
       "    </tr>\n",
       "    <tr>\n",
       "      <th>E09000005</th>\n",
       "      <td>Brent</td>\n",
       "      <td>97</td>\n",
       "      <td>96</td>\n",
       "      <td>95</td>\n",
       "      <td>122</td>\n",
       "      <td>124</td>\n",
       "      <td>127</td>\n",
       "      <td>127</td>\n",
       "      <td>128</td>\n",
       "      <td>162</td>\n",
       "      <td>161</td>\n",
       "      <td>NaN</td>\n",
       "    </tr>\n",
       "  </tbody>\n",
       "</table>\n",
       "</div>"
      ],
      "text/plain": [
       "                        Borough  Year_2008  Year_2009  Year_2010  Year_2011  \\\n",
       "Area Code                                                                     \n",
       "E09000001        City of London        340        331        320        460   \n",
       "E09000002  Barking and Dagenham         84         85         85        103   \n",
       "E09000003                Barnet        149        149        148        181   \n",
       "E09000004                Bexley         98         96         96        118   \n",
       "E09000005                 Brent         97         96         95        122   \n",
       "\n",
       "           Year_2012  Year_2013  Year_2014  Year_2015  Year_2016  Year_2017  \\\n",
       "Area Code                                                                     \n",
       "E09000001        463        447        420        417        509        509   \n",
       "E09000002        103        105        103        103        137        139   \n",
       "E09000003        182        184        184        183        239        240   \n",
       "E09000004        117        116        116        116        137        139   \n",
       "E09000005        124        127        127        128        162        161   \n",
       "\n",
       "           Year_2018  \n",
       "Area Code             \n",
       "E09000001        NaN  \n",
       "E09000002        NaN  \n",
       "E09000003        NaN  \n",
       "E09000004        NaN  \n",
       "E09000005        NaN  "
      ]
     },
     "execution_count": 41,
     "metadata": {},
     "output_type": "execute_result"
    }
   ],
   "source": [
    "df_rate.head()"
   ]
  },
  {
   "cell_type": "markdown",
   "metadata": {},
   "source": [
    "#### Note: For Earnings and Restuarants dataframe, I have taken the data of Newham borough, hence for Rated Value also, I will take the data of the same borough."
   ]
  },
  {
   "cell_type": "code",
   "execution_count": 42,
   "metadata": {},
   "outputs": [],
   "source": [
    "df_Newham_rv = df_rate.loc[df_rate['Borough'] == 'Newham']"
   ]
  },
  {
   "cell_type": "code",
   "execution_count": 43,
   "metadata": {},
   "outputs": [
    {
     "data": {
      "text/html": [
       "<div>\n",
       "<style scoped>\n",
       "    .dataframe tbody tr th:only-of-type {\n",
       "        vertical-align: middle;\n",
       "    }\n",
       "\n",
       "    .dataframe tbody tr th {\n",
       "        vertical-align: top;\n",
       "    }\n",
       "\n",
       "    .dataframe thead th {\n",
       "        text-align: right;\n",
       "    }\n",
       "</style>\n",
       "<table border=\"1\" class=\"dataframe\">\n",
       "  <thead>\n",
       "    <tr style=\"text-align: right;\">\n",
       "      <th></th>\n",
       "      <th>Borough</th>\n",
       "      <th>Year_2008</th>\n",
       "      <th>Year_2009</th>\n",
       "      <th>Year_2010</th>\n",
       "      <th>Year_2011</th>\n",
       "      <th>Year_2012</th>\n",
       "      <th>Year_2013</th>\n",
       "      <th>Year_2014</th>\n",
       "      <th>Year_2015</th>\n",
       "      <th>Year_2016</th>\n",
       "      <th>Year_2017</th>\n",
       "      <th>Year_2018</th>\n",
       "    </tr>\n",
       "    <tr>\n",
       "      <th>Area Code</th>\n",
       "      <th></th>\n",
       "      <th></th>\n",
       "      <th></th>\n",
       "      <th></th>\n",
       "      <th></th>\n",
       "      <th></th>\n",
       "      <th></th>\n",
       "      <th></th>\n",
       "      <th></th>\n",
       "      <th></th>\n",
       "      <th></th>\n",
       "      <th></th>\n",
       "    </tr>\n",
       "  </thead>\n",
       "  <tbody>\n",
       "    <tr>\n",
       "      <th>E09000025</th>\n",
       "      <td>Newham</td>\n",
       "      <td>100</td>\n",
       "      <td>95</td>\n",
       "      <td>100</td>\n",
       "      <td>126</td>\n",
       "      <td>125</td>\n",
       "      <td>122</td>\n",
       "      <td>121</td>\n",
       "      <td>122</td>\n",
       "      <td>162</td>\n",
       "      <td>161</td>\n",
       "      <td>NaN</td>\n",
       "    </tr>\n",
       "  </tbody>\n",
       "</table>\n",
       "</div>"
      ],
      "text/plain": [
       "          Borough  Year_2008  Year_2009  Year_2010  Year_2011  Year_2012  \\\n",
       "Area Code                                                                  \n",
       "E09000025  Newham        100         95        100        126        125   \n",
       "\n",
       "           Year_2013  Year_2014  Year_2015  Year_2016  Year_2017  Year_2018  \n",
       "Area Code                                                                    \n",
       "E09000025        122        121        122        162        161        NaN  "
      ]
     },
     "execution_count": 43,
     "metadata": {},
     "output_type": "execute_result"
    }
   ],
   "source": [
    "df_Newham_rv"
   ]
  },
  {
   "cell_type": "markdown",
   "metadata": {},
   "source": [
    "### As I have the Rated Value data from 2008 to 2017, I have to predict what will be the rated value in 2018. I will use Linear Regression Machine Learning algorithm to predict the 2018 rated value.\n",
    "### I am taking the Earnings data and Licensed Restaurants data of \"Newham\" borough as the Independant Variables (X - variables) and will predict the Rated Value of the same borough and this predicted rated value becomes our Depedant Variable(Y-Variable)"
   ]
  },
  {
   "cell_type": "markdown",
   "metadata": {},
   "source": [
    "# Machine Learning >>>> start"
   ]
  },
  {
   "cell_type": "code",
   "execution_count": 44,
   "metadata": {},
   "outputs": [],
   "source": [
    "import matplotlib.pyplot as plt\n",
    "import pandas as pd\n",
    "import pylab as pl\n",
    "import numpy as np\n",
    "%matplotlib inline"
   ]
  },
  {
   "cell_type": "markdown",
   "metadata": {},
   "source": [
    "#### Transpose all the 3 DataFrames - Earnings, Licensed Restaurants and Rated Value"
   ]
  },
  {
   "cell_type": "markdown",
   "metadata": {},
   "source": [
    "### Earnings DataFrame - Data Cleaning and Preparation"
   ]
  },
  {
   "cell_type": "code",
   "execution_count": 45,
   "metadata": {},
   "outputs": [
    {
     "data": {
      "text/html": [
       "<div>\n",
       "<style scoped>\n",
       "    .dataframe tbody tr th:only-of-type {\n",
       "        vertical-align: middle;\n",
       "    }\n",
       "\n",
       "    .dataframe tbody tr th {\n",
       "        vertical-align: top;\n",
       "    }\n",
       "\n",
       "    .dataframe thead th {\n",
       "        text-align: right;\n",
       "    }\n",
       "</style>\n",
       "<table border=\"1\" class=\"dataframe\">\n",
       "  <thead>\n",
       "    <tr style=\"text-align: right;\">\n",
       "      <th></th>\n",
       "      <th>Borough</th>\n",
       "      <th>Year_2008</th>\n",
       "      <th>Year_2009</th>\n",
       "      <th>Year_2010</th>\n",
       "      <th>Year_2011</th>\n",
       "      <th>Year_2012</th>\n",
       "      <th>Year_2013</th>\n",
       "      <th>Year_2014</th>\n",
       "      <th>Year_2015</th>\n",
       "      <th>Year_2016</th>\n",
       "      <th>Year_2017</th>\n",
       "      <th>Year_2018</th>\n",
       "    </tr>\n",
       "    <tr>\n",
       "      <th>Area Code</th>\n",
       "      <th></th>\n",
       "      <th></th>\n",
       "      <th></th>\n",
       "      <th></th>\n",
       "      <th></th>\n",
       "      <th></th>\n",
       "      <th></th>\n",
       "      <th></th>\n",
       "      <th></th>\n",
       "      <th></th>\n",
       "      <th></th>\n",
       "      <th></th>\n",
       "    </tr>\n",
       "  </thead>\n",
       "  <tbody>\n",
       "    <tr>\n",
       "      <th>E09000025</th>\n",
       "      <td>Newham</td>\n",
       "      <td>403.0</td>\n",
       "      <td>421.6</td>\n",
       "      <td>422.4</td>\n",
       "      <td>382.5</td>\n",
       "      <td>369.8</td>\n",
       "      <td>387.6</td>\n",
       "      <td>393.7</td>\n",
       "      <td>421.6</td>\n",
       "      <td>436.7</td>\n",
       "      <td>471.3</td>\n",
       "      <td>479.1</td>\n",
       "    </tr>\n",
       "  </tbody>\n",
       "</table>\n",
       "</div>"
      ],
      "text/plain": [
       "          Borough  Year_2008  Year_2009  Year_2010  Year_2011  Year_2012  \\\n",
       "Area Code                                                                  \n",
       "E09000025  Newham      403.0      421.6      422.4      382.5      369.8   \n",
       "\n",
       "           Year_2013  Year_2014  Year_2015  Year_2016  Year_2017  Year_2018  \n",
       "Area Code                                                                    \n",
       "E09000025      387.6      393.7      421.6      436.7      471.3      479.1  "
      ]
     },
     "execution_count": 45,
     "metadata": {},
     "output_type": "execute_result"
    }
   ],
   "source": [
    "df_Newham_earnings"
   ]
  },
  {
   "cell_type": "markdown",
   "metadata": {},
   "source": [
    "#### Round off the data in df_max_earnings dataframe"
   ]
  },
  {
   "cell_type": "code",
   "execution_count": 46,
   "metadata": {},
   "outputs": [],
   "source": [
    "df_Newham_earnings = df_Newham_earnings.round()"
   ]
  },
  {
   "cell_type": "code",
   "execution_count": 47,
   "metadata": {},
   "outputs": [
    {
     "data": {
      "text/html": [
       "<div>\n",
       "<style scoped>\n",
       "    .dataframe tbody tr th:only-of-type {\n",
       "        vertical-align: middle;\n",
       "    }\n",
       "\n",
       "    .dataframe tbody tr th {\n",
       "        vertical-align: top;\n",
       "    }\n",
       "\n",
       "    .dataframe thead th {\n",
       "        text-align: right;\n",
       "    }\n",
       "</style>\n",
       "<table border=\"1\" class=\"dataframe\">\n",
       "  <thead>\n",
       "    <tr style=\"text-align: right;\">\n",
       "      <th></th>\n",
       "      <th>Borough</th>\n",
       "      <th>Year_2008</th>\n",
       "      <th>Year_2009</th>\n",
       "      <th>Year_2010</th>\n",
       "      <th>Year_2011</th>\n",
       "      <th>Year_2012</th>\n",
       "      <th>Year_2013</th>\n",
       "      <th>Year_2014</th>\n",
       "      <th>Year_2015</th>\n",
       "      <th>Year_2016</th>\n",
       "      <th>Year_2017</th>\n",
       "      <th>Year_2018</th>\n",
       "    </tr>\n",
       "    <tr>\n",
       "      <th>Area Code</th>\n",
       "      <th></th>\n",
       "      <th></th>\n",
       "      <th></th>\n",
       "      <th></th>\n",
       "      <th></th>\n",
       "      <th></th>\n",
       "      <th></th>\n",
       "      <th></th>\n",
       "      <th></th>\n",
       "      <th></th>\n",
       "      <th></th>\n",
       "      <th></th>\n",
       "    </tr>\n",
       "  </thead>\n",
       "  <tbody>\n",
       "    <tr>\n",
       "      <th>E09000025</th>\n",
       "      <td>Newham</td>\n",
       "      <td>403.0</td>\n",
       "      <td>422.0</td>\n",
       "      <td>422.0</td>\n",
       "      <td>382.0</td>\n",
       "      <td>370.0</td>\n",
       "      <td>388.0</td>\n",
       "      <td>394.0</td>\n",
       "      <td>422.0</td>\n",
       "      <td>437.0</td>\n",
       "      <td>471.0</td>\n",
       "      <td>479.0</td>\n",
       "    </tr>\n",
       "  </tbody>\n",
       "</table>\n",
       "</div>"
      ],
      "text/plain": [
       "          Borough  Year_2008  Year_2009  Year_2010  Year_2011  Year_2012  \\\n",
       "Area Code                                                                  \n",
       "E09000025  Newham      403.0      422.0      422.0      382.0      370.0   \n",
       "\n",
       "           Year_2013  Year_2014  Year_2015  Year_2016  Year_2017  Year_2018  \n",
       "Area Code                                                                    \n",
       "E09000025      388.0      394.0      422.0      437.0      471.0      479.0  "
      ]
     },
     "execution_count": 47,
     "metadata": {},
     "output_type": "execute_result"
    }
   ],
   "source": [
    "df_Newham_earnings"
   ]
  },
  {
   "cell_type": "markdown",
   "metadata": {},
   "source": [
    "#### Transpose the dataframe"
   ]
  },
  {
   "cell_type": "code",
   "execution_count": 48,
   "metadata": {},
   "outputs": [],
   "source": [
    "df_inp1 = df_Newham_earnings.T.reset_index()"
   ]
  },
  {
   "cell_type": "code",
   "execution_count": 49,
   "metadata": {},
   "outputs": [
    {
     "data": {
      "text/plain": [
       "(12, 2)"
      ]
     },
     "execution_count": 49,
     "metadata": {},
     "output_type": "execute_result"
    }
   ],
   "source": [
    "df_inp1.shape"
   ]
  },
  {
   "cell_type": "code",
   "execution_count": 50,
   "metadata": {},
   "outputs": [
    {
     "data": {
      "text/html": [
       "<div>\n",
       "<style scoped>\n",
       "    .dataframe tbody tr th:only-of-type {\n",
       "        vertical-align: middle;\n",
       "    }\n",
       "\n",
       "    .dataframe tbody tr th {\n",
       "        vertical-align: top;\n",
       "    }\n",
       "\n",
       "    .dataframe thead th {\n",
       "        text-align: right;\n",
       "    }\n",
       "</style>\n",
       "<table border=\"1\" class=\"dataframe\">\n",
       "  <thead>\n",
       "    <tr style=\"text-align: right;\">\n",
       "      <th>Area Code</th>\n",
       "      <th>index</th>\n",
       "      <th>E09000025</th>\n",
       "    </tr>\n",
       "  </thead>\n",
       "  <tbody>\n",
       "    <tr>\n",
       "      <th>0</th>\n",
       "      <td>Borough</td>\n",
       "      <td>Newham</td>\n",
       "    </tr>\n",
       "    <tr>\n",
       "      <th>1</th>\n",
       "      <td>Year_2008</td>\n",
       "      <td>403</td>\n",
       "    </tr>\n",
       "    <tr>\n",
       "      <th>2</th>\n",
       "      <td>Year_2009</td>\n",
       "      <td>422</td>\n",
       "    </tr>\n",
       "    <tr>\n",
       "      <th>3</th>\n",
       "      <td>Year_2010</td>\n",
       "      <td>422</td>\n",
       "    </tr>\n",
       "    <tr>\n",
       "      <th>4</th>\n",
       "      <td>Year_2011</td>\n",
       "      <td>382</td>\n",
       "    </tr>\n",
       "  </tbody>\n",
       "</table>\n",
       "</div>"
      ],
      "text/plain": [
       "Area Code      index E09000025\n",
       "0            Borough    Newham\n",
       "1          Year_2008       403\n",
       "2          Year_2009       422\n",
       "3          Year_2010       422\n",
       "4          Year_2011       382"
      ]
     },
     "execution_count": 50,
     "metadata": {},
     "output_type": "execute_result"
    }
   ],
   "source": [
    "df_inp1.head()"
   ]
  },
  {
   "cell_type": "markdown",
   "metadata": {},
   "source": [
    "#### Rename the column names to Year and Earnings"
   ]
  },
  {
   "cell_type": "code",
   "execution_count": 51,
   "metadata": {},
   "outputs": [],
   "source": [
    "df_inp1.rename(columns={'index':'Year', 'E09000025':'Earnings'},inplace=True)"
   ]
  },
  {
   "cell_type": "code",
   "execution_count": 52,
   "metadata": {},
   "outputs": [
    {
     "data": {
      "text/html": [
       "<div>\n",
       "<style scoped>\n",
       "    .dataframe tbody tr th:only-of-type {\n",
       "        vertical-align: middle;\n",
       "    }\n",
       "\n",
       "    .dataframe tbody tr th {\n",
       "        vertical-align: top;\n",
       "    }\n",
       "\n",
       "    .dataframe thead th {\n",
       "        text-align: right;\n",
       "    }\n",
       "</style>\n",
       "<table border=\"1\" class=\"dataframe\">\n",
       "  <thead>\n",
       "    <tr style=\"text-align: right;\">\n",
       "      <th>Area Code</th>\n",
       "      <th>Year</th>\n",
       "      <th>Earnings</th>\n",
       "    </tr>\n",
       "  </thead>\n",
       "  <tbody>\n",
       "    <tr>\n",
       "      <th>0</th>\n",
       "      <td>Borough</td>\n",
       "      <td>Newham</td>\n",
       "    </tr>\n",
       "    <tr>\n",
       "      <th>1</th>\n",
       "      <td>Year_2008</td>\n",
       "      <td>403</td>\n",
       "    </tr>\n",
       "    <tr>\n",
       "      <th>2</th>\n",
       "      <td>Year_2009</td>\n",
       "      <td>422</td>\n",
       "    </tr>\n",
       "    <tr>\n",
       "      <th>3</th>\n",
       "      <td>Year_2010</td>\n",
       "      <td>422</td>\n",
       "    </tr>\n",
       "    <tr>\n",
       "      <th>4</th>\n",
       "      <td>Year_2011</td>\n",
       "      <td>382</td>\n",
       "    </tr>\n",
       "  </tbody>\n",
       "</table>\n",
       "</div>"
      ],
      "text/plain": [
       "Area Code       Year Earnings\n",
       "0            Borough   Newham\n",
       "1          Year_2008      403\n",
       "2          Year_2009      422\n",
       "3          Year_2010      422\n",
       "4          Year_2011      382"
      ]
     },
     "execution_count": 52,
     "metadata": {},
     "output_type": "execute_result"
    }
   ],
   "source": [
    "df_inp1.head()"
   ]
  },
  {
   "cell_type": "markdown",
   "metadata": {},
   "source": [
    "#### Remove the first row and reset the index"
   ]
  },
  {
   "cell_type": "code",
   "execution_count": 53,
   "metadata": {},
   "outputs": [],
   "source": [
    "df_inp1 = df_inp1.drop([0]).reset_index(drop=True)"
   ]
  },
  {
   "cell_type": "code",
   "execution_count": 54,
   "metadata": {},
   "outputs": [
    {
     "data": {
      "text/plain": [
       "(11, 2)"
      ]
     },
     "execution_count": 54,
     "metadata": {},
     "output_type": "execute_result"
    }
   ],
   "source": [
    "df_inp1.shape"
   ]
  },
  {
   "cell_type": "code",
   "execution_count": 55,
   "metadata": {},
   "outputs": [
    {
     "data": {
      "text/html": [
       "<div>\n",
       "<style scoped>\n",
       "    .dataframe tbody tr th:only-of-type {\n",
       "        vertical-align: middle;\n",
       "    }\n",
       "\n",
       "    .dataframe tbody tr th {\n",
       "        vertical-align: top;\n",
       "    }\n",
       "\n",
       "    .dataframe thead th {\n",
       "        text-align: right;\n",
       "    }\n",
       "</style>\n",
       "<table border=\"1\" class=\"dataframe\">\n",
       "  <thead>\n",
       "    <tr style=\"text-align: right;\">\n",
       "      <th>Area Code</th>\n",
       "      <th>Year</th>\n",
       "      <th>Earnings</th>\n",
       "    </tr>\n",
       "  </thead>\n",
       "  <tbody>\n",
       "    <tr>\n",
       "      <th>0</th>\n",
       "      <td>Year_2008</td>\n",
       "      <td>403</td>\n",
       "    </tr>\n",
       "    <tr>\n",
       "      <th>1</th>\n",
       "      <td>Year_2009</td>\n",
       "      <td>422</td>\n",
       "    </tr>\n",
       "    <tr>\n",
       "      <th>2</th>\n",
       "      <td>Year_2010</td>\n",
       "      <td>422</td>\n",
       "    </tr>\n",
       "    <tr>\n",
       "      <th>3</th>\n",
       "      <td>Year_2011</td>\n",
       "      <td>382</td>\n",
       "    </tr>\n",
       "    <tr>\n",
       "      <th>4</th>\n",
       "      <td>Year_2012</td>\n",
       "      <td>370</td>\n",
       "    </tr>\n",
       "  </tbody>\n",
       "</table>\n",
       "</div>"
      ],
      "text/plain": [
       "Area Code       Year Earnings\n",
       "0          Year_2008      403\n",
       "1          Year_2009      422\n",
       "2          Year_2010      422\n",
       "3          Year_2011      382\n",
       "4          Year_2012      370"
      ]
     },
     "execution_count": 55,
     "metadata": {},
     "output_type": "execute_result"
    }
   ],
   "source": [
    "df_inp1.head()"
   ]
  },
  {
   "cell_type": "markdown",
   "metadata": {},
   "source": [
    "### Licensed Restaurants DataFrame - Data Cleaning and Preparation"
   ]
  },
  {
   "cell_type": "code",
   "execution_count": 56,
   "metadata": {},
   "outputs": [
    {
     "data": {
      "text/html": [
       "<div>\n",
       "<style scoped>\n",
       "    .dataframe tbody tr th:only-of-type {\n",
       "        vertical-align: middle;\n",
       "    }\n",
       "\n",
       "    .dataframe tbody tr th {\n",
       "        vertical-align: top;\n",
       "    }\n",
       "\n",
       "    .dataframe thead th {\n",
       "        text-align: right;\n",
       "    }\n",
       "</style>\n",
       "<table border=\"1\" class=\"dataframe\">\n",
       "  <thead>\n",
       "    <tr style=\"text-align: right;\">\n",
       "      <th></th>\n",
       "      <th>Borough</th>\n",
       "      <th>Year_2008</th>\n",
       "      <th>Year_2009</th>\n",
       "      <th>Year_2010</th>\n",
       "      <th>Year_2011</th>\n",
       "      <th>Year_2012</th>\n",
       "      <th>Year_2013</th>\n",
       "      <th>Year_2014</th>\n",
       "      <th>Year_2015</th>\n",
       "      <th>Year_2016</th>\n",
       "      <th>Year_2017</th>\n",
       "      <th>Year_2018</th>\n",
       "    </tr>\n",
       "    <tr>\n",
       "      <th>Area Code</th>\n",
       "      <th></th>\n",
       "      <th></th>\n",
       "      <th></th>\n",
       "      <th></th>\n",
       "      <th></th>\n",
       "      <th></th>\n",
       "      <th></th>\n",
       "      <th></th>\n",
       "      <th></th>\n",
       "      <th></th>\n",
       "      <th></th>\n",
       "      <th></th>\n",
       "    </tr>\n",
       "  </thead>\n",
       "  <tbody>\n",
       "    <tr>\n",
       "      <th>E09000025</th>\n",
       "      <td>Newham</td>\n",
       "      <td>80</td>\n",
       "      <td>75</td>\n",
       "      <td>80</td>\n",
       "      <td>85</td>\n",
       "      <td>95</td>\n",
       "      <td>110</td>\n",
       "      <td>115</td>\n",
       "      <td>120</td>\n",
       "      <td>128</td>\n",
       "      <td>135</td>\n",
       "      <td>146</td>\n",
       "    </tr>\n",
       "  </tbody>\n",
       "</table>\n",
       "</div>"
      ],
      "text/plain": [
       "          Borough  Year_2008  Year_2009  Year_2010  Year_2011  Year_2012  \\\n",
       "Area Code                                                                  \n",
       "E09000025  Newham         80         75         80         85         95   \n",
       "\n",
       "           Year_2013  Year_2014  Year_2015  Year_2016  Year_2017  Year_2018  \n",
       "Area Code                                                                    \n",
       "E09000025        110        115        120        128        135        146  "
      ]
     },
     "execution_count": 56,
     "metadata": {},
     "output_type": "execute_result"
    }
   ],
   "source": [
    "df_Newham_res"
   ]
  },
  {
   "cell_type": "markdown",
   "metadata": {},
   "source": [
    "#### Transpose the dataframe"
   ]
  },
  {
   "cell_type": "code",
   "execution_count": 57,
   "metadata": {},
   "outputs": [],
   "source": [
    "df_inp2 = df_Newham_res.T.reset_index()"
   ]
  },
  {
   "cell_type": "code",
   "execution_count": 58,
   "metadata": {},
   "outputs": [
    {
     "data": {
      "text/plain": [
       "(12, 2)"
      ]
     },
     "execution_count": 58,
     "metadata": {},
     "output_type": "execute_result"
    }
   ],
   "source": [
    "df_inp2.shape"
   ]
  },
  {
   "cell_type": "code",
   "execution_count": 59,
   "metadata": {},
   "outputs": [
    {
     "data": {
      "text/html": [
       "<div>\n",
       "<style scoped>\n",
       "    .dataframe tbody tr th:only-of-type {\n",
       "        vertical-align: middle;\n",
       "    }\n",
       "\n",
       "    .dataframe tbody tr th {\n",
       "        vertical-align: top;\n",
       "    }\n",
       "\n",
       "    .dataframe thead th {\n",
       "        text-align: right;\n",
       "    }\n",
       "</style>\n",
       "<table border=\"1\" class=\"dataframe\">\n",
       "  <thead>\n",
       "    <tr style=\"text-align: right;\">\n",
       "      <th>Area Code</th>\n",
       "      <th>index</th>\n",
       "      <th>E09000025</th>\n",
       "    </tr>\n",
       "  </thead>\n",
       "  <tbody>\n",
       "    <tr>\n",
       "      <th>0</th>\n",
       "      <td>Borough</td>\n",
       "      <td>Newham</td>\n",
       "    </tr>\n",
       "    <tr>\n",
       "      <th>1</th>\n",
       "      <td>Year_2008</td>\n",
       "      <td>80</td>\n",
       "    </tr>\n",
       "    <tr>\n",
       "      <th>2</th>\n",
       "      <td>Year_2009</td>\n",
       "      <td>75</td>\n",
       "    </tr>\n",
       "    <tr>\n",
       "      <th>3</th>\n",
       "      <td>Year_2010</td>\n",
       "      <td>80</td>\n",
       "    </tr>\n",
       "    <tr>\n",
       "      <th>4</th>\n",
       "      <td>Year_2011</td>\n",
       "      <td>85</td>\n",
       "    </tr>\n",
       "  </tbody>\n",
       "</table>\n",
       "</div>"
      ],
      "text/plain": [
       "Area Code      index E09000025\n",
       "0            Borough    Newham\n",
       "1          Year_2008        80\n",
       "2          Year_2009        75\n",
       "3          Year_2010        80\n",
       "4          Year_2011        85"
      ]
     },
     "execution_count": 59,
     "metadata": {},
     "output_type": "execute_result"
    }
   ],
   "source": [
    "df_inp2.head()"
   ]
  },
  {
   "cell_type": "markdown",
   "metadata": {},
   "source": [
    "#### Rename the Column Names to Year and No_of_Restuarants"
   ]
  },
  {
   "cell_type": "code",
   "execution_count": 60,
   "metadata": {},
   "outputs": [],
   "source": [
    "df_inp2.rename(columns={'index':'Year', 'E09000025':'No_of_Restaurants'},inplace=True)"
   ]
  },
  {
   "cell_type": "code",
   "execution_count": 61,
   "metadata": {},
   "outputs": [
    {
     "data": {
      "text/html": [
       "<div>\n",
       "<style scoped>\n",
       "    .dataframe tbody tr th:only-of-type {\n",
       "        vertical-align: middle;\n",
       "    }\n",
       "\n",
       "    .dataframe tbody tr th {\n",
       "        vertical-align: top;\n",
       "    }\n",
       "\n",
       "    .dataframe thead th {\n",
       "        text-align: right;\n",
       "    }\n",
       "</style>\n",
       "<table border=\"1\" class=\"dataframe\">\n",
       "  <thead>\n",
       "    <tr style=\"text-align: right;\">\n",
       "      <th>Area Code</th>\n",
       "      <th>Year</th>\n",
       "      <th>No_of_Restaurants</th>\n",
       "    </tr>\n",
       "  </thead>\n",
       "  <tbody>\n",
       "    <tr>\n",
       "      <th>0</th>\n",
       "      <td>Borough</td>\n",
       "      <td>Newham</td>\n",
       "    </tr>\n",
       "    <tr>\n",
       "      <th>1</th>\n",
       "      <td>Year_2008</td>\n",
       "      <td>80</td>\n",
       "    </tr>\n",
       "    <tr>\n",
       "      <th>2</th>\n",
       "      <td>Year_2009</td>\n",
       "      <td>75</td>\n",
       "    </tr>\n",
       "    <tr>\n",
       "      <th>3</th>\n",
       "      <td>Year_2010</td>\n",
       "      <td>80</td>\n",
       "    </tr>\n",
       "    <tr>\n",
       "      <th>4</th>\n",
       "      <td>Year_2011</td>\n",
       "      <td>85</td>\n",
       "    </tr>\n",
       "  </tbody>\n",
       "</table>\n",
       "</div>"
      ],
      "text/plain": [
       "Area Code       Year No_of_Restaurants\n",
       "0            Borough            Newham\n",
       "1          Year_2008                80\n",
       "2          Year_2009                75\n",
       "3          Year_2010                80\n",
       "4          Year_2011                85"
      ]
     },
     "execution_count": 61,
     "metadata": {},
     "output_type": "execute_result"
    }
   ],
   "source": [
    "df_inp2.head()"
   ]
  },
  {
   "cell_type": "markdown",
   "metadata": {},
   "source": [
    "#### Remove the first row and reset the index"
   ]
  },
  {
   "cell_type": "code",
   "execution_count": 62,
   "metadata": {},
   "outputs": [],
   "source": [
    "df_inp2 = df_inp2.drop([0]).reset_index(drop=True)"
   ]
  },
  {
   "cell_type": "code",
   "execution_count": 63,
   "metadata": {},
   "outputs": [
    {
     "data": {
      "text/plain": [
       "(11, 2)"
      ]
     },
     "execution_count": 63,
     "metadata": {},
     "output_type": "execute_result"
    }
   ],
   "source": [
    "df_inp2.shape"
   ]
  },
  {
   "cell_type": "code",
   "execution_count": 64,
   "metadata": {},
   "outputs": [
    {
     "data": {
      "text/html": [
       "<div>\n",
       "<style scoped>\n",
       "    .dataframe tbody tr th:only-of-type {\n",
       "        vertical-align: middle;\n",
       "    }\n",
       "\n",
       "    .dataframe tbody tr th {\n",
       "        vertical-align: top;\n",
       "    }\n",
       "\n",
       "    .dataframe thead th {\n",
       "        text-align: right;\n",
       "    }\n",
       "</style>\n",
       "<table border=\"1\" class=\"dataframe\">\n",
       "  <thead>\n",
       "    <tr style=\"text-align: right;\">\n",
       "      <th>Area Code</th>\n",
       "      <th>Year</th>\n",
       "      <th>No_of_Restaurants</th>\n",
       "    </tr>\n",
       "  </thead>\n",
       "  <tbody>\n",
       "    <tr>\n",
       "      <th>0</th>\n",
       "      <td>Year_2008</td>\n",
       "      <td>80</td>\n",
       "    </tr>\n",
       "    <tr>\n",
       "      <th>1</th>\n",
       "      <td>Year_2009</td>\n",
       "      <td>75</td>\n",
       "    </tr>\n",
       "    <tr>\n",
       "      <th>2</th>\n",
       "      <td>Year_2010</td>\n",
       "      <td>80</td>\n",
       "    </tr>\n",
       "    <tr>\n",
       "      <th>3</th>\n",
       "      <td>Year_2011</td>\n",
       "      <td>85</td>\n",
       "    </tr>\n",
       "    <tr>\n",
       "      <th>4</th>\n",
       "      <td>Year_2012</td>\n",
       "      <td>95</td>\n",
       "    </tr>\n",
       "  </tbody>\n",
       "</table>\n",
       "</div>"
      ],
      "text/plain": [
       "Area Code       Year No_of_Restaurants\n",
       "0          Year_2008                80\n",
       "1          Year_2009                75\n",
       "2          Year_2010                80\n",
       "3          Year_2011                85\n",
       "4          Year_2012                95"
      ]
     },
     "execution_count": 64,
     "metadata": {},
     "output_type": "execute_result"
    }
   ],
   "source": [
    "df_inp2.head()"
   ]
  },
  {
   "cell_type": "markdown",
   "metadata": {},
   "source": [
    "### Rated Value DataFrame - Data Cleaning and Preparation"
   ]
  },
  {
   "cell_type": "code",
   "execution_count": 65,
   "metadata": {},
   "outputs": [
    {
     "data": {
      "text/html": [
       "<div>\n",
       "<style scoped>\n",
       "    .dataframe tbody tr th:only-of-type {\n",
       "        vertical-align: middle;\n",
       "    }\n",
       "\n",
       "    .dataframe tbody tr th {\n",
       "        vertical-align: top;\n",
       "    }\n",
       "\n",
       "    .dataframe thead th {\n",
       "        text-align: right;\n",
       "    }\n",
       "</style>\n",
       "<table border=\"1\" class=\"dataframe\">\n",
       "  <thead>\n",
       "    <tr style=\"text-align: right;\">\n",
       "      <th></th>\n",
       "      <th>Borough</th>\n",
       "      <th>Year_2008</th>\n",
       "      <th>Year_2009</th>\n",
       "      <th>Year_2010</th>\n",
       "      <th>Year_2011</th>\n",
       "      <th>Year_2012</th>\n",
       "      <th>Year_2013</th>\n",
       "      <th>Year_2014</th>\n",
       "      <th>Year_2015</th>\n",
       "      <th>Year_2016</th>\n",
       "      <th>Year_2017</th>\n",
       "      <th>Year_2018</th>\n",
       "    </tr>\n",
       "    <tr>\n",
       "      <th>Area Code</th>\n",
       "      <th></th>\n",
       "      <th></th>\n",
       "      <th></th>\n",
       "      <th></th>\n",
       "      <th></th>\n",
       "      <th></th>\n",
       "      <th></th>\n",
       "      <th></th>\n",
       "      <th></th>\n",
       "      <th></th>\n",
       "      <th></th>\n",
       "      <th></th>\n",
       "    </tr>\n",
       "  </thead>\n",
       "  <tbody>\n",
       "    <tr>\n",
       "      <th>E09000025</th>\n",
       "      <td>Newham</td>\n",
       "      <td>100</td>\n",
       "      <td>95</td>\n",
       "      <td>100</td>\n",
       "      <td>126</td>\n",
       "      <td>125</td>\n",
       "      <td>122</td>\n",
       "      <td>121</td>\n",
       "      <td>122</td>\n",
       "      <td>162</td>\n",
       "      <td>161</td>\n",
       "      <td>NaN</td>\n",
       "    </tr>\n",
       "  </tbody>\n",
       "</table>\n",
       "</div>"
      ],
      "text/plain": [
       "          Borough  Year_2008  Year_2009  Year_2010  Year_2011  Year_2012  \\\n",
       "Area Code                                                                  \n",
       "E09000025  Newham        100         95        100        126        125   \n",
       "\n",
       "           Year_2013  Year_2014  Year_2015  Year_2016  Year_2017  Year_2018  \n",
       "Area Code                                                                    \n",
       "E09000025        122        121        122        162        161        NaN  "
      ]
     },
     "execution_count": 65,
     "metadata": {},
     "output_type": "execute_result"
    }
   ],
   "source": [
    "df_Newham_rv"
   ]
  },
  {
   "cell_type": "markdown",
   "metadata": {},
   "source": [
    "#### Transpose the dataframe"
   ]
  },
  {
   "cell_type": "code",
   "execution_count": 66,
   "metadata": {},
   "outputs": [],
   "source": [
    "df_inp3 = df_Newham_rv.T.reset_index()"
   ]
  },
  {
   "cell_type": "code",
   "execution_count": 67,
   "metadata": {},
   "outputs": [
    {
     "data": {
      "text/plain": [
       "(12, 2)"
      ]
     },
     "execution_count": 67,
     "metadata": {},
     "output_type": "execute_result"
    }
   ],
   "source": [
    "df_inp3.shape"
   ]
  },
  {
   "cell_type": "code",
   "execution_count": 68,
   "metadata": {},
   "outputs": [
    {
     "data": {
      "text/html": [
       "<div>\n",
       "<style scoped>\n",
       "    .dataframe tbody tr th:only-of-type {\n",
       "        vertical-align: middle;\n",
       "    }\n",
       "\n",
       "    .dataframe tbody tr th {\n",
       "        vertical-align: top;\n",
       "    }\n",
       "\n",
       "    .dataframe thead th {\n",
       "        text-align: right;\n",
       "    }\n",
       "</style>\n",
       "<table border=\"1\" class=\"dataframe\">\n",
       "  <thead>\n",
       "    <tr style=\"text-align: right;\">\n",
       "      <th>Area Code</th>\n",
       "      <th>index</th>\n",
       "      <th>E09000025</th>\n",
       "    </tr>\n",
       "  </thead>\n",
       "  <tbody>\n",
       "    <tr>\n",
       "      <th>0</th>\n",
       "      <td>Borough</td>\n",
       "      <td>Newham</td>\n",
       "    </tr>\n",
       "    <tr>\n",
       "      <th>1</th>\n",
       "      <td>Year_2008</td>\n",
       "      <td>100</td>\n",
       "    </tr>\n",
       "    <tr>\n",
       "      <th>2</th>\n",
       "      <td>Year_2009</td>\n",
       "      <td>95</td>\n",
       "    </tr>\n",
       "    <tr>\n",
       "      <th>3</th>\n",
       "      <td>Year_2010</td>\n",
       "      <td>100</td>\n",
       "    </tr>\n",
       "    <tr>\n",
       "      <th>4</th>\n",
       "      <td>Year_2011</td>\n",
       "      <td>126</td>\n",
       "    </tr>\n",
       "  </tbody>\n",
       "</table>\n",
       "</div>"
      ],
      "text/plain": [
       "Area Code      index E09000025\n",
       "0            Borough    Newham\n",
       "1          Year_2008       100\n",
       "2          Year_2009        95\n",
       "3          Year_2010       100\n",
       "4          Year_2011       126"
      ]
     },
     "execution_count": 68,
     "metadata": {},
     "output_type": "execute_result"
    }
   ],
   "source": [
    "df_inp3.head()"
   ]
  },
  {
   "cell_type": "markdown",
   "metadata": {},
   "source": [
    "#### Rename the Column Names to Year and Rated_Value"
   ]
  },
  {
   "cell_type": "code",
   "execution_count": 69,
   "metadata": {},
   "outputs": [],
   "source": [
    "df_inp3.rename(columns={'index':'Year', 'E09000025':'Rated_Value'},inplace=True)"
   ]
  },
  {
   "cell_type": "code",
   "execution_count": 70,
   "metadata": {},
   "outputs": [
    {
     "data": {
      "text/html": [
       "<div>\n",
       "<style scoped>\n",
       "    .dataframe tbody tr th:only-of-type {\n",
       "        vertical-align: middle;\n",
       "    }\n",
       "\n",
       "    .dataframe tbody tr th {\n",
       "        vertical-align: top;\n",
       "    }\n",
       "\n",
       "    .dataframe thead th {\n",
       "        text-align: right;\n",
       "    }\n",
       "</style>\n",
       "<table border=\"1\" class=\"dataframe\">\n",
       "  <thead>\n",
       "    <tr style=\"text-align: right;\">\n",
       "      <th>Area Code</th>\n",
       "      <th>Year</th>\n",
       "      <th>Rated_Value</th>\n",
       "    </tr>\n",
       "  </thead>\n",
       "  <tbody>\n",
       "    <tr>\n",
       "      <th>0</th>\n",
       "      <td>Borough</td>\n",
       "      <td>Newham</td>\n",
       "    </tr>\n",
       "    <tr>\n",
       "      <th>1</th>\n",
       "      <td>Year_2008</td>\n",
       "      <td>100</td>\n",
       "    </tr>\n",
       "    <tr>\n",
       "      <th>2</th>\n",
       "      <td>Year_2009</td>\n",
       "      <td>95</td>\n",
       "    </tr>\n",
       "    <tr>\n",
       "      <th>3</th>\n",
       "      <td>Year_2010</td>\n",
       "      <td>100</td>\n",
       "    </tr>\n",
       "    <tr>\n",
       "      <th>4</th>\n",
       "      <td>Year_2011</td>\n",
       "      <td>126</td>\n",
       "    </tr>\n",
       "  </tbody>\n",
       "</table>\n",
       "</div>"
      ],
      "text/plain": [
       "Area Code       Year Rated_Value\n",
       "0            Borough      Newham\n",
       "1          Year_2008         100\n",
       "2          Year_2009          95\n",
       "3          Year_2010         100\n",
       "4          Year_2011         126"
      ]
     },
     "execution_count": 70,
     "metadata": {},
     "output_type": "execute_result"
    }
   ],
   "source": [
    "df_inp3.head()"
   ]
  },
  {
   "cell_type": "markdown",
   "metadata": {},
   "source": [
    "#### Remove the first row and reset the index"
   ]
  },
  {
   "cell_type": "code",
   "execution_count": 71,
   "metadata": {},
   "outputs": [],
   "source": [
    "df_inp3 = df_inp3.drop([0]).reset_index(drop=True)"
   ]
  },
  {
   "cell_type": "code",
   "execution_count": 72,
   "metadata": {},
   "outputs": [
    {
     "data": {
      "text/plain": [
       "(11, 2)"
      ]
     },
     "execution_count": 72,
     "metadata": {},
     "output_type": "execute_result"
    }
   ],
   "source": [
    "df_inp3.shape"
   ]
  },
  {
   "cell_type": "code",
   "execution_count": 73,
   "metadata": {},
   "outputs": [
    {
     "data": {
      "text/html": [
       "<div>\n",
       "<style scoped>\n",
       "    .dataframe tbody tr th:only-of-type {\n",
       "        vertical-align: middle;\n",
       "    }\n",
       "\n",
       "    .dataframe tbody tr th {\n",
       "        vertical-align: top;\n",
       "    }\n",
       "\n",
       "    .dataframe thead th {\n",
       "        text-align: right;\n",
       "    }\n",
       "</style>\n",
       "<table border=\"1\" class=\"dataframe\">\n",
       "  <thead>\n",
       "    <tr style=\"text-align: right;\">\n",
       "      <th>Area Code</th>\n",
       "      <th>Year</th>\n",
       "      <th>Rated_Value</th>\n",
       "    </tr>\n",
       "  </thead>\n",
       "  <tbody>\n",
       "    <tr>\n",
       "      <th>0</th>\n",
       "      <td>Year_2008</td>\n",
       "      <td>100</td>\n",
       "    </tr>\n",
       "    <tr>\n",
       "      <th>1</th>\n",
       "      <td>Year_2009</td>\n",
       "      <td>95</td>\n",
       "    </tr>\n",
       "    <tr>\n",
       "      <th>2</th>\n",
       "      <td>Year_2010</td>\n",
       "      <td>100</td>\n",
       "    </tr>\n",
       "    <tr>\n",
       "      <th>3</th>\n",
       "      <td>Year_2011</td>\n",
       "      <td>126</td>\n",
       "    </tr>\n",
       "    <tr>\n",
       "      <th>4</th>\n",
       "      <td>Year_2012</td>\n",
       "      <td>125</td>\n",
       "    </tr>\n",
       "  </tbody>\n",
       "</table>\n",
       "</div>"
      ],
      "text/plain": [
       "Area Code       Year Rated_Value\n",
       "0          Year_2008         100\n",
       "1          Year_2009          95\n",
       "2          Year_2010         100\n",
       "3          Year_2011         126\n",
       "4          Year_2012         125"
      ]
     },
     "execution_count": 73,
     "metadata": {},
     "output_type": "execute_result"
    }
   ],
   "source": [
    "df_inp3.head()"
   ]
  },
  {
   "cell_type": "code",
   "execution_count": 74,
   "metadata": {},
   "outputs": [
    {
     "data": {
      "text/plain": [
       "Index(['Year', 'Earnings'], dtype='object', name='Area Code')"
      ]
     },
     "execution_count": 74,
     "metadata": {},
     "output_type": "execute_result"
    }
   ],
   "source": [
    "df_inp1.columns"
   ]
  },
  {
   "cell_type": "code",
   "execution_count": 75,
   "metadata": {},
   "outputs": [
    {
     "data": {
      "text/plain": [
       "Index(['Year', 'No_of_Restaurants'], dtype='object', name='Area Code')"
      ]
     },
     "execution_count": 75,
     "metadata": {},
     "output_type": "execute_result"
    }
   ],
   "source": [
    "df_inp2.columns"
   ]
  },
  {
   "cell_type": "code",
   "execution_count": 76,
   "metadata": {},
   "outputs": [
    {
     "data": {
      "text/plain": [
       "Index(['Year', 'Rated_Value'], dtype='object', name='Area Code')"
      ]
     },
     "execution_count": 76,
     "metadata": {},
     "output_type": "execute_result"
    }
   ],
   "source": [
    "df_inp3.columns"
   ]
  },
  {
   "cell_type": "markdown",
   "metadata": {},
   "source": [
    "#### Now Merge all the 3 DataFrames of Earnings, Licensed Restaurants and Rated Value into a new DataFrame"
   ]
  },
  {
   "cell_type": "code",
   "execution_count": 77,
   "metadata": {},
   "outputs": [],
   "source": [
    "df_one = pd.merge(df_inp1,df_inp2, on='Year')"
   ]
  },
  {
   "cell_type": "code",
   "execution_count": 78,
   "metadata": {},
   "outputs": [
    {
     "data": {
      "text/plain": [
       "(11, 3)"
      ]
     },
     "execution_count": 78,
     "metadata": {},
     "output_type": "execute_result"
    }
   ],
   "source": [
    "df_one.shape"
   ]
  },
  {
   "cell_type": "code",
   "execution_count": 79,
   "metadata": {},
   "outputs": [
    {
     "data": {
      "text/html": [
       "<div>\n",
       "<style scoped>\n",
       "    .dataframe tbody tr th:only-of-type {\n",
       "        vertical-align: middle;\n",
       "    }\n",
       "\n",
       "    .dataframe tbody tr th {\n",
       "        vertical-align: top;\n",
       "    }\n",
       "\n",
       "    .dataframe thead th {\n",
       "        text-align: right;\n",
       "    }\n",
       "</style>\n",
       "<table border=\"1\" class=\"dataframe\">\n",
       "  <thead>\n",
       "    <tr style=\"text-align: right;\">\n",
       "      <th>Area Code</th>\n",
       "      <th>Year</th>\n",
       "      <th>Earnings</th>\n",
       "      <th>No_of_Restaurants</th>\n",
       "    </tr>\n",
       "  </thead>\n",
       "  <tbody>\n",
       "    <tr>\n",
       "      <th>0</th>\n",
       "      <td>Year_2008</td>\n",
       "      <td>403</td>\n",
       "      <td>80</td>\n",
       "    </tr>\n",
       "    <tr>\n",
       "      <th>1</th>\n",
       "      <td>Year_2009</td>\n",
       "      <td>422</td>\n",
       "      <td>75</td>\n",
       "    </tr>\n",
       "    <tr>\n",
       "      <th>2</th>\n",
       "      <td>Year_2010</td>\n",
       "      <td>422</td>\n",
       "      <td>80</td>\n",
       "    </tr>\n",
       "    <tr>\n",
       "      <th>3</th>\n",
       "      <td>Year_2011</td>\n",
       "      <td>382</td>\n",
       "      <td>85</td>\n",
       "    </tr>\n",
       "    <tr>\n",
       "      <th>4</th>\n",
       "      <td>Year_2012</td>\n",
       "      <td>370</td>\n",
       "      <td>95</td>\n",
       "    </tr>\n",
       "  </tbody>\n",
       "</table>\n",
       "</div>"
      ],
      "text/plain": [
       "Area Code       Year Earnings No_of_Restaurants\n",
       "0          Year_2008      403                80\n",
       "1          Year_2009      422                75\n",
       "2          Year_2010      422                80\n",
       "3          Year_2011      382                85\n",
       "4          Year_2012      370                95"
      ]
     },
     "execution_count": 79,
     "metadata": {},
     "output_type": "execute_result"
    }
   ],
   "source": [
    "df_one.head()"
   ]
  },
  {
   "cell_type": "code",
   "execution_count": 80,
   "metadata": {},
   "outputs": [],
   "source": [
    "df_final = pd.merge(df_one, df_inp3, on='Year')"
   ]
  },
  {
   "cell_type": "code",
   "execution_count": 81,
   "metadata": {},
   "outputs": [
    {
     "data": {
      "text/plain": [
       "(11, 4)"
      ]
     },
     "execution_count": 81,
     "metadata": {},
     "output_type": "execute_result"
    }
   ],
   "source": [
    "df_final.shape"
   ]
  },
  {
   "cell_type": "code",
   "execution_count": 82,
   "metadata": {},
   "outputs": [
    {
     "data": {
      "text/html": [
       "<div>\n",
       "<style scoped>\n",
       "    .dataframe tbody tr th:only-of-type {\n",
       "        vertical-align: middle;\n",
       "    }\n",
       "\n",
       "    .dataframe tbody tr th {\n",
       "        vertical-align: top;\n",
       "    }\n",
       "\n",
       "    .dataframe thead th {\n",
       "        text-align: right;\n",
       "    }\n",
       "</style>\n",
       "<table border=\"1\" class=\"dataframe\">\n",
       "  <thead>\n",
       "    <tr style=\"text-align: right;\">\n",
       "      <th>Area Code</th>\n",
       "      <th>Year</th>\n",
       "      <th>Earnings</th>\n",
       "      <th>No_of_Restaurants</th>\n",
       "      <th>Rated_Value</th>\n",
       "    </tr>\n",
       "  </thead>\n",
       "  <tbody>\n",
       "    <tr>\n",
       "      <th>0</th>\n",
       "      <td>Year_2008</td>\n",
       "      <td>403</td>\n",
       "      <td>80</td>\n",
       "      <td>100</td>\n",
       "    </tr>\n",
       "    <tr>\n",
       "      <th>1</th>\n",
       "      <td>Year_2009</td>\n",
       "      <td>422</td>\n",
       "      <td>75</td>\n",
       "      <td>95</td>\n",
       "    </tr>\n",
       "    <tr>\n",
       "      <th>2</th>\n",
       "      <td>Year_2010</td>\n",
       "      <td>422</td>\n",
       "      <td>80</td>\n",
       "      <td>100</td>\n",
       "    </tr>\n",
       "    <tr>\n",
       "      <th>3</th>\n",
       "      <td>Year_2011</td>\n",
       "      <td>382</td>\n",
       "      <td>85</td>\n",
       "      <td>126</td>\n",
       "    </tr>\n",
       "    <tr>\n",
       "      <th>4</th>\n",
       "      <td>Year_2012</td>\n",
       "      <td>370</td>\n",
       "      <td>95</td>\n",
       "      <td>125</td>\n",
       "    </tr>\n",
       "    <tr>\n",
       "      <th>5</th>\n",
       "      <td>Year_2013</td>\n",
       "      <td>388</td>\n",
       "      <td>110</td>\n",
       "      <td>122</td>\n",
       "    </tr>\n",
       "    <tr>\n",
       "      <th>6</th>\n",
       "      <td>Year_2014</td>\n",
       "      <td>394</td>\n",
       "      <td>115</td>\n",
       "      <td>121</td>\n",
       "    </tr>\n",
       "    <tr>\n",
       "      <th>7</th>\n",
       "      <td>Year_2015</td>\n",
       "      <td>422</td>\n",
       "      <td>120</td>\n",
       "      <td>122</td>\n",
       "    </tr>\n",
       "    <tr>\n",
       "      <th>8</th>\n",
       "      <td>Year_2016</td>\n",
       "      <td>437</td>\n",
       "      <td>128</td>\n",
       "      <td>162</td>\n",
       "    </tr>\n",
       "    <tr>\n",
       "      <th>9</th>\n",
       "      <td>Year_2017</td>\n",
       "      <td>471</td>\n",
       "      <td>135</td>\n",
       "      <td>161</td>\n",
       "    </tr>\n",
       "    <tr>\n",
       "      <th>10</th>\n",
       "      <td>Year_2018</td>\n",
       "      <td>479</td>\n",
       "      <td>146</td>\n",
       "      <td>NaN</td>\n",
       "    </tr>\n",
       "  </tbody>\n",
       "</table>\n",
       "</div>"
      ],
      "text/plain": [
       "Area Code       Year Earnings No_of_Restaurants Rated_Value\n",
       "0          Year_2008      403                80         100\n",
       "1          Year_2009      422                75          95\n",
       "2          Year_2010      422                80         100\n",
       "3          Year_2011      382                85         126\n",
       "4          Year_2012      370                95         125\n",
       "5          Year_2013      388               110         122\n",
       "6          Year_2014      394               115         121\n",
       "7          Year_2015      422               120         122\n",
       "8          Year_2016      437               128         162\n",
       "9          Year_2017      471               135         161\n",
       "10         Year_2018      479               146         NaN"
      ]
     },
     "execution_count": 82,
     "metadata": {},
     "output_type": "execute_result"
    }
   ],
   "source": [
    "df_final"
   ]
  },
  {
   "cell_type": "code",
   "execution_count": 83,
   "metadata": {},
   "outputs": [],
   "source": [
    "df_final = df_final.set_index(['Year'])"
   ]
  },
  {
   "cell_type": "code",
   "execution_count": 84,
   "metadata": {},
   "outputs": [
    {
     "data": {
      "text/plain": [
       "(11, 3)"
      ]
     },
     "execution_count": 84,
     "metadata": {},
     "output_type": "execute_result"
    }
   ],
   "source": [
    "df_final.shape"
   ]
  },
  {
   "cell_type": "code",
   "execution_count": 85,
   "metadata": {},
   "outputs": [
    {
     "data": {
      "text/html": [
       "<div>\n",
       "<style scoped>\n",
       "    .dataframe tbody tr th:only-of-type {\n",
       "        vertical-align: middle;\n",
       "    }\n",
       "\n",
       "    .dataframe tbody tr th {\n",
       "        vertical-align: top;\n",
       "    }\n",
       "\n",
       "    .dataframe thead th {\n",
       "        text-align: right;\n",
       "    }\n",
       "</style>\n",
       "<table border=\"1\" class=\"dataframe\">\n",
       "  <thead>\n",
       "    <tr style=\"text-align: right;\">\n",
       "      <th>Area Code</th>\n",
       "      <th>Earnings</th>\n",
       "      <th>No_of_Restaurants</th>\n",
       "      <th>Rated_Value</th>\n",
       "    </tr>\n",
       "    <tr>\n",
       "      <th>Year</th>\n",
       "      <th></th>\n",
       "      <th></th>\n",
       "      <th></th>\n",
       "    </tr>\n",
       "  </thead>\n",
       "  <tbody>\n",
       "    <tr>\n",
       "      <th>Year_2008</th>\n",
       "      <td>403</td>\n",
       "      <td>80</td>\n",
       "      <td>100</td>\n",
       "    </tr>\n",
       "    <tr>\n",
       "      <th>Year_2009</th>\n",
       "      <td>422</td>\n",
       "      <td>75</td>\n",
       "      <td>95</td>\n",
       "    </tr>\n",
       "    <tr>\n",
       "      <th>Year_2010</th>\n",
       "      <td>422</td>\n",
       "      <td>80</td>\n",
       "      <td>100</td>\n",
       "    </tr>\n",
       "    <tr>\n",
       "      <th>Year_2011</th>\n",
       "      <td>382</td>\n",
       "      <td>85</td>\n",
       "      <td>126</td>\n",
       "    </tr>\n",
       "    <tr>\n",
       "      <th>Year_2012</th>\n",
       "      <td>370</td>\n",
       "      <td>95</td>\n",
       "      <td>125</td>\n",
       "    </tr>\n",
       "    <tr>\n",
       "      <th>Year_2013</th>\n",
       "      <td>388</td>\n",
       "      <td>110</td>\n",
       "      <td>122</td>\n",
       "    </tr>\n",
       "    <tr>\n",
       "      <th>Year_2014</th>\n",
       "      <td>394</td>\n",
       "      <td>115</td>\n",
       "      <td>121</td>\n",
       "    </tr>\n",
       "    <tr>\n",
       "      <th>Year_2015</th>\n",
       "      <td>422</td>\n",
       "      <td>120</td>\n",
       "      <td>122</td>\n",
       "    </tr>\n",
       "    <tr>\n",
       "      <th>Year_2016</th>\n",
       "      <td>437</td>\n",
       "      <td>128</td>\n",
       "      <td>162</td>\n",
       "    </tr>\n",
       "    <tr>\n",
       "      <th>Year_2017</th>\n",
       "      <td>471</td>\n",
       "      <td>135</td>\n",
       "      <td>161</td>\n",
       "    </tr>\n",
       "    <tr>\n",
       "      <th>Year_2018</th>\n",
       "      <td>479</td>\n",
       "      <td>146</td>\n",
       "      <td>NaN</td>\n",
       "    </tr>\n",
       "  </tbody>\n",
       "</table>\n",
       "</div>"
      ],
      "text/plain": [
       "Area Code Earnings No_of_Restaurants Rated_Value\n",
       "Year                                            \n",
       "Year_2008      403                80         100\n",
       "Year_2009      422                75          95\n",
       "Year_2010      422                80         100\n",
       "Year_2011      382                85         126\n",
       "Year_2012      370                95         125\n",
       "Year_2013      388               110         122\n",
       "Year_2014      394               115         121\n",
       "Year_2015      422               120         122\n",
       "Year_2016      437               128         162\n",
       "Year_2017      471               135         161\n",
       "Year_2018      479               146         NaN"
      ]
     },
     "execution_count": 85,
     "metadata": {},
     "output_type": "execute_result"
    }
   ],
   "source": [
    "df_final"
   ]
  },
  {
   "cell_type": "markdown",
   "metadata": {},
   "source": [
    "## Data Exploration"
   ]
  },
  {
   "cell_type": "code",
   "execution_count": 86,
   "metadata": {},
   "outputs": [
    {
     "data": {
      "text/plain": [
       "Area Code\n",
       "Earnings             object\n",
       "No_of_Restaurants    object\n",
       "Rated_Value          object\n",
       "dtype: object"
      ]
     },
     "execution_count": 86,
     "metadata": {},
     "output_type": "execute_result"
    }
   ],
   "source": [
    "df_final.dtypes"
   ]
  },
  {
   "cell_type": "code",
   "execution_count": 87,
   "metadata": {},
   "outputs": [],
   "source": [
    "df_final = df_final.apply(pd.to_numeric, errors='coerce')"
   ]
  },
  {
   "cell_type": "code",
   "execution_count": 88,
   "metadata": {},
   "outputs": [
    {
     "data": {
      "text/html": [
       "<div>\n",
       "<style scoped>\n",
       "    .dataframe tbody tr th:only-of-type {\n",
       "        vertical-align: middle;\n",
       "    }\n",
       "\n",
       "    .dataframe tbody tr th {\n",
       "        vertical-align: top;\n",
       "    }\n",
       "\n",
       "    .dataframe thead th {\n",
       "        text-align: right;\n",
       "    }\n",
       "</style>\n",
       "<table border=\"1\" class=\"dataframe\">\n",
       "  <thead>\n",
       "    <tr style=\"text-align: right;\">\n",
       "      <th>Area Code</th>\n",
       "      <th>Earnings</th>\n",
       "      <th>No_of_Restaurants</th>\n",
       "      <th>Rated_Value</th>\n",
       "    </tr>\n",
       "  </thead>\n",
       "  <tbody>\n",
       "    <tr>\n",
       "      <th>count</th>\n",
       "      <td>11.000000</td>\n",
       "      <td>11.000000</td>\n",
       "      <td>10.000000</td>\n",
       "    </tr>\n",
       "    <tr>\n",
       "      <th>mean</th>\n",
       "      <td>417.272727</td>\n",
       "      <td>106.272727</td>\n",
       "      <td>123.400000</td>\n",
       "    </tr>\n",
       "    <tr>\n",
       "      <th>std</th>\n",
       "      <td>34.977395</td>\n",
       "      <td>24.682346</td>\n",
       "      <td>23.152634</td>\n",
       "    </tr>\n",
       "    <tr>\n",
       "      <th>min</th>\n",
       "      <td>370.000000</td>\n",
       "      <td>75.000000</td>\n",
       "      <td>95.000000</td>\n",
       "    </tr>\n",
       "    <tr>\n",
       "      <th>25%</th>\n",
       "      <td>391.000000</td>\n",
       "      <td>82.500000</td>\n",
       "      <td>105.250000</td>\n",
       "    </tr>\n",
       "    <tr>\n",
       "      <th>50%</th>\n",
       "      <td>422.000000</td>\n",
       "      <td>110.000000</td>\n",
       "      <td>122.000000</td>\n",
       "    </tr>\n",
       "    <tr>\n",
       "      <th>75%</th>\n",
       "      <td>429.500000</td>\n",
       "      <td>124.000000</td>\n",
       "      <td>125.750000</td>\n",
       "    </tr>\n",
       "    <tr>\n",
       "      <th>max</th>\n",
       "      <td>479.000000</td>\n",
       "      <td>146.000000</td>\n",
       "      <td>162.000000</td>\n",
       "    </tr>\n",
       "  </tbody>\n",
       "</table>\n",
       "</div>"
      ],
      "text/plain": [
       "Area Code    Earnings  No_of_Restaurants  Rated_Value\n",
       "count       11.000000          11.000000    10.000000\n",
       "mean       417.272727         106.272727   123.400000\n",
       "std         34.977395          24.682346    23.152634\n",
       "min        370.000000          75.000000    95.000000\n",
       "25%        391.000000          82.500000   105.250000\n",
       "50%        422.000000         110.000000   122.000000\n",
       "75%        429.500000         124.000000   125.750000\n",
       "max        479.000000         146.000000   162.000000"
      ]
     },
     "execution_count": 88,
     "metadata": {},
     "output_type": "execute_result"
    }
   ],
   "source": [
    "df_final.describe()"
   ]
  },
  {
   "cell_type": "code",
   "execution_count": 89,
   "metadata": {},
   "outputs": [
    {
     "data": {
      "image/png": "[encoded data removed]",
      "text/plain": [
       "<matplotlib.figure.Figure at 0x7f7a0c3ec908>"
      ]
     },
     "metadata": {},
     "output_type": "display_data"
    }
   ],
   "source": [
    "viz = df_final[['Earnings','No_of_Restaurants', 'Rated_Value']]\n",
    "viz.hist()\n",
    "plt.show()"
   ]
  },
  {
   "cell_type": "markdown",
   "metadata": {},
   "source": [
    "# Simple Linear Regression Model\n",
    "#### Linear Regression fits a linear model with coefficients  θ=(θ1,...,θn)  to minimize the 'residual sum of squares' between the independent x in the dataset, and the dependent y by the linear approximation."
   ]
  },
  {
   "cell_type": "markdown",
   "metadata": {},
   "source": [
    "#### Let us plot a Scatter Plot between these 2 features with the Target variable \"Rated Value\" "
   ]
  },
  {
   "cell_type": "code",
   "execution_count": 90,
   "metadata": {},
   "outputs": [
    {
     "data": {
      "image/png": "[encoded data removed]",
      "text/plain": [
       "<matplotlib.figure.Figure at 0x7f7a0c139160>"
      ]
     },
     "metadata": {},
     "output_type": "display_data"
    }
   ],
   "source": [
    "plt.scatter(df_final.Earnings, df_final.Rated_Value, color='blue')\n",
    "plt.xlabel(\"Earnings\")\n",
    "plt.ylabel(\"Rated_Value\")\n",
    "plt.show()"
   ]
  },
  {
   "cell_type": "code",
   "execution_count": 91,
   "metadata": {},
   "outputs": [
    {
     "data": {
      "image/png": "[encoded data removed]",
      "text/plain": [
       "<matplotlib.figure.Figure at 0x7f7a0c0c7a58>"
      ]
     },
     "metadata": {},
     "output_type": "display_data"
    }
   ],
   "source": [
    "plt.scatter(df_final.No_of_Restaurants, df_final.Rated_Value, color='blue')\n",
    "plt.xlabel(\"No_of_Restaurants\")\n",
    "plt.ylabel(\"Rated_Value\")\n",
    "plt.show()"
   ]
  },
  {
   "cell_type": "raw",
   "metadata": {},
   "source": [
    "From the above 2 Scatter Plots, it is observed that the Linear relationship exists between the Restaurants and the Rated Value. A scatter plot clearly shows the relation between variables where changes in one variable explain or possibly cause changes in the other variable. Also, it indicates that these variables are linearly related."
   ]
  },
  {
   "cell_type": "raw",
   "metadata": {},
   "source": [
    "With linear regression you can fit a line through the data. For instance, as the number of restaurants increases, so do the Rated value. With linear regression you can model the relationship of these variables. A good model can be used to predict what the approximate rated value of the location."
   ]
  },
  {
   "cell_type": "markdown",
   "metadata": {},
   "source": [
    "### Creating train and test dataset"
   ]
  },
  {
   "cell_type": "markdown",
   "metadata": {},
   "source": [
    "#### As we do not have the Rated Value for the Year 2018 and we need to predict this value using the Simple Linear Regression model, hence we will remove this Year 2018 data from the final dataframe and prepare the Train and Test data from the remaining data"
   ]
  },
  {
   "cell_type": "code",
   "execution_count": 92,
   "metadata": {},
   "outputs": [],
   "source": [
    "df_final = df_final.drop(['Year_2018'])"
   ]
  },
  {
   "cell_type": "code",
   "execution_count": 93,
   "metadata": {},
   "outputs": [
    {
     "data": {
      "text/plain": [
       "(10, 3)"
      ]
     },
     "execution_count": 93,
     "metadata": {},
     "output_type": "execute_result"
    }
   ],
   "source": [
    "df_final.shape"
   ]
  },
  {
   "cell_type": "code",
   "execution_count": 94,
   "metadata": {},
   "outputs": [],
   "source": [
    "msk = np.random.rand(len(df_final)) < 0.75\n",
    "train = df_final[msk]\n",
    "test = df_final[~msk]"
   ]
  },
  {
   "cell_type": "code",
   "execution_count": 95,
   "metadata": {},
   "outputs": [
    {
     "name": "stdout",
     "output_type": "stream",
     "text": [
      "Area Code  Earnings  No_of_Restaurants  Rated_Value\n",
      "Year                                               \n",
      "Year_2008     403.0                 80        100.0\n",
      "Year_2009     422.0                 75         95.0\n",
      "Year_2011     382.0                 85        126.0\n",
      "Year_2012     370.0                 95        125.0\n",
      "Year_2013     388.0                110        122.0\n",
      "Year_2014     394.0                115        121.0\n",
      "Year_2015     422.0                120        122.0\n",
      "Year_2016     437.0                128        162.0\n",
      "Year_2017     471.0                135        161.0\n"
     ]
    }
   ],
   "source": [
    "print(train)"
   ]
  },
  {
   "cell_type": "code",
   "execution_count": 96,
   "metadata": {},
   "outputs": [
    {
     "name": "stdout",
     "output_type": "stream",
     "text": [
      "Area Code  Earnings  No_of_Restaurants  Rated_Value\n",
      "Year                                               \n",
      "Year_2010     422.0                 80        100.0\n"
     ]
    }
   ],
   "source": [
    "print(test)"
   ]
  },
  {
   "cell_type": "markdown",
   "metadata": {},
   "source": [
    "### Train Data Distribution"
   ]
  },
  {
   "cell_type": "code",
   "execution_count": 97,
   "metadata": {},
   "outputs": [
    {
     "data": {
      "image/png": "[encoded data removed]",
      "text/plain": [
       "<matplotlib.figure.Figure at 0x7f7a0c023358>"
      ]
     },
     "metadata": {},
     "output_type": "display_data"
    }
   ],
   "source": [
    "plt.scatter(train.No_of_Restaurants, train.Rated_Value,  color='blue')\n",
    "plt.xlabel(\"No_of_Restaurants\")\n",
    "plt.ylabel(\"Rated_Value\")\n",
    "plt.show()"
   ]
  },
  {
   "cell_type": "markdown",
   "metadata": {},
   "source": [
    "## Modelling "
   ]
  },
  {
   "cell_type": "code",
   "execution_count": 98,
   "metadata": {},
   "outputs": [
    {
     "name": "stdout",
     "output_type": "stream",
     "text": [
      "Coefficients:  [[ 0.87759991]]\n",
      "Intercept:  [ 34.04703202]\n"
     ]
    }
   ],
   "source": [
    "from sklearn import linear_model\n",
    "regr = linear_model.LinearRegression()\n",
    "train_x = np.asanyarray(train[[\"No_of_Restaurants\"]])\n",
    "train_y = np.asanyarray(train[[\"Rated_Value\"]])\n",
    "regr.fit (train_x, train_y)\n",
    "# The coefficients\n",
    "print ('Coefficients: ', regr.coef_)\n",
    "print ('Intercept: ',regr.intercept_)"
   ]
  },
  {
   "cell_type": "markdown",
   "metadata": {},
   "source": [
    "## Draw the best fit line (Intercept line) to our train data"
   ]
  },
  {
   "cell_type": "code",
   "execution_count": 99,
   "metadata": {},
   "outputs": [
    {
     "data": {
      "text/plain": [
       "Text(0,0.5,'Rated_Value')"
      ]
     },
     "execution_count": 99,
     "metadata": {},
     "output_type": "execute_result"
    },
    {
     "data": {
      "image/png": "[encoded data removed]",
      "text/plain": [
       "<matplotlib.figure.Figure at 0x7f7a0c0747b8>"
      ]
     },
     "metadata": {},
     "output_type": "display_data"
    }
   ],
   "source": [
    "plt.scatter(train.No_of_Restaurants, train.Rated_Value,  color='blue')\n",
    "plt.plot(train_x, regr.coef_[0][0]*train_x + regr.intercept_[0], '-r')\n",
    "plt.xlabel(\"No_of_Restaurants\")\n",
    "plt.ylabel(\"Rated_Value\")"
   ]
  },
  {
   "cell_type": "markdown",
   "metadata": {},
   "source": [
    "### Conclusion: By seeing the above Scatter Plot with a best possible fit line, the Rated Value in Newham borough for the year 2018 can be predicted somewhere between 160 to 165"
   ]
  },
  {
   "cell_type": "markdown",
   "metadata": {},
   "source": [
    "## Evaluation"
   ]
  },
  {
   "cell_type": "raw",
   "metadata": {},
   "source": [
    "There are different model evaluation metrics, lets use MSE here to calculate the accuracy of our model based on the test set:\n",
    "\n",
    "• Mean absolute error: It is the mean of the absolute value of the errors. This is the easiest of the metrics to     understand since it’s just average error.\n",
    "• Mean Squared Error (MSE): Mean Squared Error (MSE) is the mean of the squared error. It’s more popular than Mean   absolute error because the focus is geared more towards large errors. This is due to the squared term               exponentially increasing larger errors in comparison to smaller ones.\n",
    "• Root Mean Squared Error (RMSE): This is the square root of the Mean Square Error.\n",
    "• R-squared is not error, but is a popular metric for accuracy of your model. It represents how close the data are   to the fitted regression line. The higher the R-squared, the better the model fits your data. Best possible score   is 1.0 and it can be negative (because the model can be arbitrarily worse)."
   ]
  },
  {
   "cell_type": "code",
   "execution_count": 100,
   "metadata": {},
   "outputs": [
    {
     "name": "stdout",
     "output_type": "stream",
     "text": [
      "Mean absolute error: 4.26\n",
      "Residual sum of squares (MSE): 18.11\n",
      "R2-score: 0.00\n"
     ]
    }
   ],
   "source": [
    "from sklearn.metrics import r2_score\n",
    "test_x = np.asanyarray(test[['No_of_Restaurants']])\n",
    "test_y = np.asanyarray(test[['Rated_Value']])\n",
    "test_y_hat = regr.predict(test_x)\n",
    "\n",
    "print(\"Mean absolute error: %.2f\" % np.mean(np.absolute(test_y_hat - test_y)))\n",
    "print(\"Residual sum of squares (MSE): %.2f\" % np.mean((test_y_hat - test_y) ** 2))\n",
    "print(\"R2-score: %.2f\" % r2_score(test_y_hat , test_y) )"
   ]
  },
  {
   "cell_type": "markdown",
   "metadata": {},
   "source": [
    "# Machine Learning             <<<<<<< END "
   ]
  },
  {
   "cell_type": "markdown",
   "metadata": {},
   "source": [
    "# Segmenting and Clustering Neighborhoods in London City"
   ]
  },
  {
   "cell_type": "code",
   "execution_count": 101,
   "metadata": {},
   "outputs": [],
   "source": [
    "import requests \n",
    "import pandas as pd\n",
    "import numpy as np\n",
    "from bs4 import BeautifulSoup\n",
    "from urllib.request import urlopen\n",
    "import re\n",
    "from geopy.geocoders import Nominatim # convert an address into latitude and longitude values\n",
    "# import folium # map rendering library\n",
    "import json # library to handle JSON files\n",
    "from pandas.io.json import json_normalize # tranform JSON file into a pandas dataframe\n",
    "# import k-means from clustering stage\n",
    "from sklearn.cluster import KMeans\n",
    "\n",
    "# Matplotlib and associated plotting modules\n",
    "import matplotlib.cm as cm\n",
    "import matplotlib.colors as colors\n",
    "\n",
    "# import k-means from clustering stage\n",
    "from sklearn.cluster import KMeans"
   ]
  },
  {
   "cell_type": "code",
   "execution_count": 102,
   "metadata": {},
   "outputs": [],
   "source": [
    "# install and import folium library \n",
    "!pip -q install folium\n",
    "import folium "
   ]
  },
  {
   "cell_type": "markdown",
   "metadata": {},
   "source": [
    "### 1) Download and Explore the Dataset"
   ]
  },
  {
   "cell_type": "markdown",
   "metadata": {},
   "source": [
    "#### Read the latitude and longitude coordinates of all Boroughs in London from a Wikipedia link"
   ]
  },
  {
   "cell_type": "code",
   "execution_count": 103,
   "metadata": {},
   "outputs": [],
   "source": [
    "URL = \"https://en.wikipedia.org/wiki/List_of_London_boroughs\"\n",
    "res = requests.get(URL).text\n",
    "soup = BeautifulSoup(res,'lxml')\n",
    "\n",
    "df_list = []\n",
    "# print(soup)\n",
    "for items in soup.find('table', class_= 'wikitable sortable').find_all('tr')[1::]:\n",
    "    data = items.find_all(['td'])\n",
    "    data1 = data[0]\n",
    "    data8 = data[8]    \n",
    "    try:\n",
    "        borough_name = data1.get_text()\n",
    "        borough_name = borough_name.split('[')\n",
    "        borough_name = borough_name[0]\n",
    "        borough_name = borough_name.strip()\n",
    "        \n",
    "        ll = data8.get_text()\n",
    "        ll = ll.split('/')\n",
    "        lat_long = ll[2]\n",
    "        lat_long = lat_long.split('(')\n",
    "        lat_long = lat_long[0]\n",
    "        lat_long = lat_long.split(';')\n",
    "        latitude = lat_long[0]\n",
    "        latitude = latitude.strip()\n",
    "        longitude = lat_long[1]\n",
    "        longitude = longitude.strip()\n",
    "        longitude = longitude.replace(u'\\ufeff', '')\n",
    "        latitude = float(latitude)\n",
    "        longitude = float(longitude)\n",
    "\n",
    "#       Append the borough name, latitude and logitude in a list\n",
    "        df_list.append((borough_name, latitude, longitude))\n",
    "    except IndexError:pass"
   ]
  },
  {
   "cell_type": "code",
   "execution_count": 104,
   "metadata": {},
   "outputs": [],
   "source": [
    "df_boroughs = pd.DataFrame(df_list, columns=['Borough', 'Latitude' , 'Longitude'])"
   ]
  },
  {
   "cell_type": "code",
   "execution_count": 105,
   "metadata": {},
   "outputs": [
    {
     "data": {
      "text/plain": [
       "(32, 3)"
      ]
     },
     "execution_count": 105,
     "metadata": {},
     "output_type": "execute_result"
    }
   ],
   "source": [
    "df_boroughs.shape"
   ]
  },
  {
   "cell_type": "code",
   "execution_count": 106,
   "metadata": {},
   "outputs": [
    {
     "data": {
      "text/html": [
       "<div>\n",
       "<style scoped>\n",
       "    .dataframe tbody tr th:only-of-type {\n",
       "        vertical-align: middle;\n",
       "    }\n",
       "\n",
       "    .dataframe tbody tr th {\n",
       "        vertical-align: top;\n",
       "    }\n",
       "\n",
       "    .dataframe thead th {\n",
       "        text-align: right;\n",
       "    }\n",
       "</style>\n",
       "<table border=\"1\" class=\"dataframe\">\n",
       "  <thead>\n",
       "    <tr style=\"text-align: right;\">\n",
       "      <th></th>\n",
       "      <th>Borough</th>\n",
       "      <th>Latitude</th>\n",
       "      <th>Longitude</th>\n",
       "    </tr>\n",
       "  </thead>\n",
       "  <tbody>\n",
       "    <tr>\n",
       "      <th>0</th>\n",
       "      <td>Barking and Dagenham</td>\n",
       "      <td>51.5607</td>\n",
       "      <td>0.1557</td>\n",
       "    </tr>\n",
       "    <tr>\n",
       "      <th>1</th>\n",
       "      <td>Barnet</td>\n",
       "      <td>51.6252</td>\n",
       "      <td>-0.1517</td>\n",
       "    </tr>\n",
       "    <tr>\n",
       "      <th>2</th>\n",
       "      <td>Bexley</td>\n",
       "      <td>51.4549</td>\n",
       "      <td>0.1505</td>\n",
       "    </tr>\n",
       "    <tr>\n",
       "      <th>3</th>\n",
       "      <td>Brent</td>\n",
       "      <td>51.5588</td>\n",
       "      <td>-0.2817</td>\n",
       "    </tr>\n",
       "    <tr>\n",
       "      <th>4</th>\n",
       "      <td>Bromley</td>\n",
       "      <td>51.4039</td>\n",
       "      <td>0.0198</td>\n",
       "    </tr>\n",
       "  </tbody>\n",
       "</table>\n",
       "</div>"
      ],
      "text/plain": [
       "                Borough  Latitude  Longitude\n",
       "0  Barking and Dagenham   51.5607     0.1557\n",
       "1                Barnet   51.6252    -0.1517\n",
       "2                Bexley   51.4549     0.1505\n",
       "3                 Brent   51.5588    -0.2817\n",
       "4               Bromley   51.4039     0.0198"
      ]
     },
     "execution_count": 106,
     "metadata": {},
     "output_type": "execute_result"
    }
   ],
   "source": [
    "df_boroughs.head()"
   ]
  },
  {
   "cell_type": "code",
   "execution_count": 107,
   "metadata": {},
   "outputs": [
    {
     "data": {
      "text/plain": [
       "Borough       object\n",
       "Latitude     float64\n",
       "Longitude    float64\n",
       "dtype: object"
      ]
     },
     "execution_count": 107,
     "metadata": {},
     "output_type": "execute_result"
    }
   ],
   "source": [
    "df_boroughs.dtypes"
   ]
  },
  {
   "cell_type": "code",
   "execution_count": 108,
   "metadata": {},
   "outputs": [
    {
     "data": {
      "text/html": [
       "<div>\n",
       "<style scoped>\n",
       "    .dataframe tbody tr th:only-of-type {\n",
       "        vertical-align: middle;\n",
       "    }\n",
       "\n",
       "    .dataframe tbody tr th {\n",
       "        vertical-align: top;\n",
       "    }\n",
       "\n",
       "    .dataframe thead th {\n",
       "        text-align: right;\n",
       "    }\n",
       "</style>\n",
       "<table border=\"1\" class=\"dataframe\">\n",
       "  <thead>\n",
       "    <tr style=\"text-align: right;\">\n",
       "      <th></th>\n",
       "      <th>Borough</th>\n",
       "      <th>Latitude</th>\n",
       "      <th>Longitude</th>\n",
       "    </tr>\n",
       "  </thead>\n",
       "  <tbody>\n",
       "    <tr>\n",
       "      <th>23</th>\n",
       "      <td>Newham</td>\n",
       "      <td>51.5077</td>\n",
       "      <td>0.0469</td>\n",
       "    </tr>\n",
       "  </tbody>\n",
       "</table>\n",
       "</div>"
      ],
      "text/plain": [
       "   Borough  Latitude  Longitude\n",
       "23  Newham   51.5077     0.0469"
      ]
     },
     "execution_count": 108,
     "metadata": {},
     "output_type": "execute_result"
    }
   ],
   "source": [
    "df_boroughs.loc[df_boroughs['Borough'] == 'Newham']"
   ]
  },
  {
   "cell_type": "markdown",
   "metadata": {},
   "source": [
    "#### Get the Latitude and Longitude of London City using geopy library"
   ]
  },
  {
   "cell_type": "code",
   "execution_count": 109,
   "metadata": {},
   "outputs": [
    {
     "name": "stdout",
     "output_type": "stream",
     "text": [
      "The geograpical coordinate of London City are 51.5073219, -0.1276474.\n"
     ]
    }
   ],
   "source": [
    "address = 'London, UK'\n",
    "geolocator = Nominatim()\n",
    "location = geolocator.geocode(address)\n",
    "latitude = location.latitude\n",
    "longitude = location.longitude\n",
    "print('The geograpical coordinate of London City are {}, {}.'.format(latitude, longitude))"
   ]
  },
  {
   "cell_type": "markdown",
   "metadata": {},
   "source": [
    "#### Create a map of London with Boroughs superimposed on top."
   ]
  },
  {
   "cell_type": "code",
   "execution_count": 110,
   "metadata": {},
   "outputs": [],
   "source": [
    "# create map of London using latitude and longitude values\n",
    "map_london = folium.Map(location=[latitude, longitude], zoom_start=10)"
   ]
  },
  {
   "cell_type": "code",
   "execution_count": 111,
   "metadata": {
    "scrolled": false
   },
   "outputs": [
    {
     "data": {
      "text/html": [
       "<div style=\"width:100%;\"><div style=\"position:relative;width:100%;height:0;padding-bottom:60%;\"><iframe src=\"data:text/html;charset=utf-8;base64,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\" style=\"position:absolute;width:100%;height:100%;left:0;top:0;border:none !important;\" allowfullscreen webkitallowfullscreen mozallowfullscreen></iframe></div></div>"
      ],
      "text/plain": [
       "<folium.folium.Map at 0x7f79eb89f630>"
      ]
     },
     "execution_count": 111,
     "metadata": {},
     "output_type": "execute_result"
    }
   ],
   "source": [
    "# add markers to map\n",
    "for lat, lng, borough in zip(df_boroughs['Latitude'], df_boroughs['Longitude'], df_boroughs['Borough']):\n",
    "    label = '{}'.format(borough)\n",
    "    label = folium.Popup(label, parse_html=True)\n",
    "    folium.CircleMarker(\n",
    "        [lat, lng],\n",
    "        radius=5,\n",
    "        popup=label,\n",
    "        color='blue',\n",
    "        fill=True,\n",
    "        fill_color='#3186cc',\n",
    "        fill_opacity=0.7).add_to(map_london)  \n",
    "\n",
    "map_london\n",
    "    "
   ]
  },
  {
   "cell_type": "markdown",
   "metadata": {},
   "source": [
    "## Preferred location for Asian restuarant - Newham Borough"
   ]
  },
  {
   "cell_type": "markdown",
   "metadata": {},
   "source": [
    "#### As the borough Newham is having high asian population, we will consider to Segment and Cluster only the neighbourhoods of this borough. For that we have to get the latitude and longitude details of all the areas(neighbourhoods) of Newham borough."
   ]
  },
  {
   "cell_type": "markdown",
   "metadata": {},
   "source": [
    "#### Read the latitude and longitude coordinates of all the neighborhoods(areas) in Newham Borough"
   ]
  },
  {
   "cell_type": "code",
   "execution_count": 112,
   "metadata": {},
   "outputs": [],
   "source": [
    "from urllib.request import urlopen\n",
    "import re\n",
    "URL = \"https://en.wikipedia.org/wiki/List_of_areas_of_London\"\n",
    "res = requests.get(URL).text\n",
    "soup = BeautifulSoup(res,'lxml')\n",
    "\n",
    "codes = []\n",
    "areas_list = []\n",
    "href_links_list = []\n",
    "for items in soup.find('table', class_= 'wikitable sortable').find_all('tr')[1::]:\n",
    "    data = items.find_all(['td'])\n",
    "    data0 = data[0]\n",
    "    area_name = data0.text\n",
    "\n",
    "    data1 = data[1]\n",
    "    data1 = data1.text\n",
    "    borough = data1.split('[')\n",
    "    borough_name = borough[0]\n",
    "    data5 = data[5]\n",
    "    code = data5.text\n",
    "    code = code.strip()\n",
    "    \n",
    "    if borough_name == 'Newham':\n",
    "        codes.append(code)\n",
    "        areas_list.append((borough_name,area_name,code))\n",
    "\n",
    "                \n",
    "for link in soup.findAll('a', attrs={'href': re.compile(\"^https://tools.wmflabs.org\")}):\n",
    "            htext = link.text\n",
    "            if htext in codes:\n",
    "                hlink = link.get('href')\n",
    "                href_links_list.append((htext, hlink))"
   ]
  },
  {
   "cell_type": "markdown",
   "metadata": {},
   "source": [
    "#### Create a DataFrame from the Areas list "
   ]
  },
  {
   "cell_type": "code",
   "execution_count": 113,
   "metadata": {},
   "outputs": [],
   "source": [
    "df_areas = pd.DataFrame(areas_list, columns=['Borough', 'Area', 'Code'])"
   ]
  },
  {
   "cell_type": "code",
   "execution_count": 114,
   "metadata": {},
   "outputs": [
    {
     "data": {
      "text/html": [
       "<div>\n",
       "<style scoped>\n",
       "    .dataframe tbody tr th:only-of-type {\n",
       "        vertical-align: middle;\n",
       "    }\n",
       "\n",
       "    .dataframe tbody tr th {\n",
       "        vertical-align: top;\n",
       "    }\n",
       "\n",
       "    .dataframe thead th {\n",
       "        text-align: right;\n",
       "    }\n",
       "</style>\n",
       "<table border=\"1\" class=\"dataframe\">\n",
       "  <thead>\n",
       "    <tr style=\"text-align: right;\">\n",
       "      <th></th>\n",
       "      <th>Borough</th>\n",
       "      <th>Area</th>\n",
       "      <th>Code</th>\n",
       "    </tr>\n",
       "  </thead>\n",
       "  <tbody>\n",
       "    <tr>\n",
       "      <th>0</th>\n",
       "      <td>Newham</td>\n",
       "      <td>Beckton</td>\n",
       "      <td>TQ435815</td>\n",
       "    </tr>\n",
       "    <tr>\n",
       "      <th>1</th>\n",
       "      <td>Newham</td>\n",
       "      <td>Canning Town</td>\n",
       "      <td>TQ405815</td>\n",
       "    </tr>\n",
       "    <tr>\n",
       "      <th>2</th>\n",
       "      <td>Newham</td>\n",
       "      <td>Custom House</td>\n",
       "      <td>TQ408807</td>\n",
       "    </tr>\n",
       "    <tr>\n",
       "      <th>3</th>\n",
       "      <td>Newham</td>\n",
       "      <td>East Ham</td>\n",
       "      <td>TQ425835</td>\n",
       "    </tr>\n",
       "    <tr>\n",
       "      <th>4</th>\n",
       "      <td>Newham</td>\n",
       "      <td>Forest Gate</td>\n",
       "      <td>TQ405855</td>\n",
       "    </tr>\n",
       "    <tr>\n",
       "      <th>5</th>\n",
       "      <td>Newham</td>\n",
       "      <td>Little Ilford</td>\n",
       "      <td>TQ435855</td>\n",
       "    </tr>\n",
       "    <tr>\n",
       "      <th>6</th>\n",
       "      <td>Newham</td>\n",
       "      <td>Manor Park</td>\n",
       "      <td>TQ425855</td>\n",
       "    </tr>\n",
       "    <tr>\n",
       "      <th>7</th>\n",
       "      <td>Newham</td>\n",
       "      <td>Maryland</td>\n",
       "      <td>TQ391849</td>\n",
       "    </tr>\n",
       "    <tr>\n",
       "      <th>8</th>\n",
       "      <td>Newham</td>\n",
       "      <td>North Woolwich</td>\n",
       "      <td>TQ435795</td>\n",
       "    </tr>\n",
       "    <tr>\n",
       "      <th>9</th>\n",
       "      <td>Newham</td>\n",
       "      <td>Plaistow</td>\n",
       "      <td>TQ405825</td>\n",
       "    </tr>\n",
       "    <tr>\n",
       "      <th>10</th>\n",
       "      <td>Newham</td>\n",
       "      <td>Silvertown</td>\n",
       "      <td>TQ415795</td>\n",
       "    </tr>\n",
       "    <tr>\n",
       "      <th>11</th>\n",
       "      <td>Newham</td>\n",
       "      <td>Stratford</td>\n",
       "      <td>TQ385845</td>\n",
       "    </tr>\n",
       "    <tr>\n",
       "      <th>12</th>\n",
       "      <td>Newham</td>\n",
       "      <td>Upton Park</td>\n",
       "      <td>TQ405837</td>\n",
       "    </tr>\n",
       "    <tr>\n",
       "      <th>13</th>\n",
       "      <td>Newham</td>\n",
       "      <td>West Ham</td>\n",
       "      <td>TQ405837</td>\n",
       "    </tr>\n",
       "  </tbody>\n",
       "</table>\n",
       "</div>"
      ],
      "text/plain": [
       "   Borough            Area      Code\n",
       "0   Newham         Beckton  TQ435815\n",
       "1   Newham    Canning Town  TQ405815\n",
       "2   Newham    Custom House  TQ408807\n",
       "3   Newham        East Ham  TQ425835\n",
       "4   Newham     Forest Gate  TQ405855\n",
       "5   Newham   Little Ilford  TQ435855\n",
       "6   Newham      Manor Park  TQ425855\n",
       "7   Newham        Maryland  TQ391849\n",
       "8   Newham  North Woolwich  TQ435795\n",
       "9   Newham        Plaistow  TQ405825\n",
       "10  Newham      Silvertown  TQ415795\n",
       "11  Newham       Stratford  TQ385845\n",
       "12  Newham      Upton Park  TQ405837\n",
       "13  Newham        West Ham  TQ405837"
      ]
     },
     "execution_count": 114,
     "metadata": {},
     "output_type": "execute_result"
    }
   ],
   "source": [
    "df_areas"
   ]
  },
  {
   "cell_type": "code",
   "execution_count": 115,
   "metadata": {},
   "outputs": [
    {
     "data": {
      "text/plain": [
       "Index(['Borough', 'Area', 'Code'], dtype='object')"
      ]
     },
     "execution_count": 115,
     "metadata": {},
     "output_type": "execute_result"
    }
   ],
   "source": [
    "df_areas.columns"
   ]
  },
  {
   "cell_type": "code",
   "execution_count": 116,
   "metadata": {},
   "outputs": [
    {
     "data": {
      "text/plain": [
       "(14, 3)"
      ]
     },
     "execution_count": 116,
     "metadata": {},
     "output_type": "execute_result"
    }
   ],
   "source": [
    "df_areas.shape"
   ]
  },
  {
   "cell_type": "markdown",
   "metadata": {},
   "source": [
    "#### Create a DataFrame from the list of href links"
   ]
  },
  {
   "cell_type": "code",
   "execution_count": 117,
   "metadata": {},
   "outputs": [],
   "source": [
    "df_links = pd.DataFrame(href_links_list, columns=['Code','href'])"
   ]
  },
  {
   "cell_type": "code",
   "execution_count": 118,
   "metadata": {},
   "outputs": [
    {
     "data": {
      "text/plain": [
       "Index(['Code', 'href'], dtype='object')"
      ]
     },
     "execution_count": 118,
     "metadata": {},
     "output_type": "execute_result"
    }
   ],
   "source": [
    "df_links.columns"
   ]
  },
  {
   "cell_type": "code",
   "execution_count": 119,
   "metadata": {},
   "outputs": [
    {
     "data": {
      "text/plain": [
       "(15, 2)"
      ]
     },
     "execution_count": 119,
     "metadata": {},
     "output_type": "execute_result"
    }
   ],
   "source": [
    "df_links.shape"
   ]
  },
  {
   "cell_type": "code",
   "execution_count": 120,
   "metadata": {},
   "outputs": [
    {
     "data": {
      "text/html": [
       "<div>\n",
       "<style scoped>\n",
       "    .dataframe tbody tr th:only-of-type {\n",
       "        vertical-align: middle;\n",
       "    }\n",
       "\n",
       "    .dataframe tbody tr th {\n",
       "        vertical-align: top;\n",
       "    }\n",
       "\n",
       "    .dataframe thead th {\n",
       "        text-align: right;\n",
       "    }\n",
       "</style>\n",
       "<table border=\"1\" class=\"dataframe\">\n",
       "  <thead>\n",
       "    <tr style=\"text-align: right;\">\n",
       "      <th></th>\n",
       "      <th>Code</th>\n",
       "      <th>href</th>\n",
       "    </tr>\n",
       "  </thead>\n",
       "  <tbody>\n",
       "    <tr>\n",
       "      <th>0</th>\n",
       "      <td>TQ435815</td>\n",
       "      <td>https://tools.wmflabs.org/os/coor_g/?pagename=...</td>\n",
       "    </tr>\n",
       "    <tr>\n",
       "      <th>1</th>\n",
       "      <td>TQ405815</td>\n",
       "      <td>https://tools.wmflabs.org/os/coor_g/?pagename=...</td>\n",
       "    </tr>\n",
       "    <tr>\n",
       "      <th>2</th>\n",
       "      <td>TQ408807</td>\n",
       "      <td>https://tools.wmflabs.org/os/coor_g/?pagename=...</td>\n",
       "    </tr>\n",
       "    <tr>\n",
       "      <th>3</th>\n",
       "      <td>TQ425835</td>\n",
       "      <td>https://tools.wmflabs.org/os/coor_g/?pagename=...</td>\n",
       "    </tr>\n",
       "    <tr>\n",
       "      <th>4</th>\n",
       "      <td>TQ405855</td>\n",
       "      <td>https://tools.wmflabs.org/os/coor_g/?pagename=...</td>\n",
       "    </tr>\n",
       "    <tr>\n",
       "      <th>5</th>\n",
       "      <td>TQ435855</td>\n",
       "      <td>https://tools.wmflabs.org/os/coor_g/?pagename=...</td>\n",
       "    </tr>\n",
       "    <tr>\n",
       "      <th>6</th>\n",
       "      <td>TQ425855</td>\n",
       "      <td>https://tools.wmflabs.org/os/coor_g/?pagename=...</td>\n",
       "    </tr>\n",
       "    <tr>\n",
       "      <th>7</th>\n",
       "      <td>TQ391849</td>\n",
       "      <td>https://tools.wmflabs.org/os/coor_g/?pagename=...</td>\n",
       "    </tr>\n",
       "    <tr>\n",
       "      <th>8</th>\n",
       "      <td>TQ435795</td>\n",
       "      <td>https://tools.wmflabs.org/os/coor_g/?pagename=...</td>\n",
       "    </tr>\n",
       "    <tr>\n",
       "      <th>9</th>\n",
       "      <td>TQ405825</td>\n",
       "      <td>https://tools.wmflabs.org/os/coor_g/?pagename=...</td>\n",
       "    </tr>\n",
       "    <tr>\n",
       "      <th>10</th>\n",
       "      <td>TQ415795</td>\n",
       "      <td>https://tools.wmflabs.org/os/coor_g/?pagename=...</td>\n",
       "    </tr>\n",
       "    <tr>\n",
       "      <th>11</th>\n",
       "      <td>TQ385845</td>\n",
       "      <td>https://tools.wmflabs.org/os/coor_g/?pagename=...</td>\n",
       "    </tr>\n",
       "    <tr>\n",
       "      <th>12</th>\n",
       "      <td>TQ405837</td>\n",
       "      <td>https://tools.wmflabs.org/os/coor_g/?pagename=...</td>\n",
       "    </tr>\n",
       "    <tr>\n",
       "      <th>13</th>\n",
       "      <td>TQ405837</td>\n",
       "      <td>https://tools.wmflabs.org/os/coor_g/?pagename=...</td>\n",
       "    </tr>\n",
       "    <tr>\n",
       "      <th>14</th>\n",
       "      <td>TQ435795</td>\n",
       "      <td>https://tools.wmflabs.org/os/coor_g/?pagename=...</td>\n",
       "    </tr>\n",
       "  </tbody>\n",
       "</table>\n",
       "</div>"
      ],
      "text/plain": [
       "        Code                                               href\n",
       "0   TQ435815  https://tools.wmflabs.org/os/coor_g/?pagename=...\n",
       "1   TQ405815  https://tools.wmflabs.org/os/coor_g/?pagename=...\n",
       "2   TQ408807  https://tools.wmflabs.org/os/coor_g/?pagename=...\n",
       "3   TQ425835  https://tools.wmflabs.org/os/coor_g/?pagename=...\n",
       "4   TQ405855  https://tools.wmflabs.org/os/coor_g/?pagename=...\n",
       "5   TQ435855  https://tools.wmflabs.org/os/coor_g/?pagename=...\n",
       "6   TQ425855  https://tools.wmflabs.org/os/coor_g/?pagename=...\n",
       "7   TQ391849  https://tools.wmflabs.org/os/coor_g/?pagename=...\n",
       "8   TQ435795  https://tools.wmflabs.org/os/coor_g/?pagename=...\n",
       "9   TQ405825  https://tools.wmflabs.org/os/coor_g/?pagename=...\n",
       "10  TQ415795  https://tools.wmflabs.org/os/coor_g/?pagename=...\n",
       "11  TQ385845  https://tools.wmflabs.org/os/coor_g/?pagename=...\n",
       "12  TQ405837  https://tools.wmflabs.org/os/coor_g/?pagename=...\n",
       "13  TQ405837  https://tools.wmflabs.org/os/coor_g/?pagename=...\n",
       "14  TQ435795  https://tools.wmflabs.org/os/coor_g/?pagename=..."
      ]
     },
     "execution_count": 120,
     "metadata": {},
     "output_type": "execute_result"
    }
   ],
   "source": [
    "df_links"
   ]
  },
  {
   "cell_type": "markdown",
   "metadata": {},
   "source": [
    "#### Merge the Areas and href Links DataFrames"
   ]
  },
  {
   "cell_type": "code",
   "execution_count": 121,
   "metadata": {},
   "outputs": [],
   "source": [
    "cols = df_links.columns.difference(df_areas.columns)"
   ]
  },
  {
   "cell_type": "code",
   "execution_count": 122,
   "metadata": {},
   "outputs": [
    {
     "data": {
      "text/plain": [
       "Index(['href'], dtype='object')"
      ]
     },
     "execution_count": 122,
     "metadata": {},
     "output_type": "execute_result"
    }
   ],
   "source": [
    "cols"
   ]
  },
  {
   "cell_type": "code",
   "execution_count": 123,
   "metadata": {},
   "outputs": [],
   "source": [
    "df_areas_links = pd.concat([df_areas, df_links[cols]], axis=1)"
   ]
  },
  {
   "cell_type": "code",
   "execution_count": 124,
   "metadata": {},
   "outputs": [
    {
     "data": {
      "text/plain": [
       "(15, 4)"
      ]
     },
     "execution_count": 124,
     "metadata": {},
     "output_type": "execute_result"
    }
   ],
   "source": [
    "df_areas_links.shape"
   ]
  },
  {
   "cell_type": "code",
   "execution_count": 125,
   "metadata": {},
   "outputs": [
    {
     "data": {
      "text/html": [
       "<div>\n",
       "<style scoped>\n",
       "    .dataframe tbody tr th:only-of-type {\n",
       "        vertical-align: middle;\n",
       "    }\n",
       "\n",
       "    .dataframe tbody tr th {\n",
       "        vertical-align: top;\n",
       "    }\n",
       "\n",
       "    .dataframe thead th {\n",
       "        text-align: right;\n",
       "    }\n",
       "</style>\n",
       "<table border=\"1\" class=\"dataframe\">\n",
       "  <thead>\n",
       "    <tr style=\"text-align: right;\">\n",
       "      <th></th>\n",
       "      <th>Borough</th>\n",
       "      <th>Area</th>\n",
       "      <th>Code</th>\n",
       "      <th>href</th>\n",
       "    </tr>\n",
       "  </thead>\n",
       "  <tbody>\n",
       "    <tr>\n",
       "      <th>0</th>\n",
       "      <td>Newham</td>\n",
       "      <td>Beckton</td>\n",
       "      <td>TQ435815</td>\n",
       "      <td>https://tools.wmflabs.org/os/coor_g/?pagename=...</td>\n",
       "    </tr>\n",
       "    <tr>\n",
       "      <th>1</th>\n",
       "      <td>Newham</td>\n",
       "      <td>Canning Town</td>\n",
       "      <td>TQ405815</td>\n",
       "      <td>https://tools.wmflabs.org/os/coor_g/?pagename=...</td>\n",
       "    </tr>\n",
       "    <tr>\n",
       "      <th>2</th>\n",
       "      <td>Newham</td>\n",
       "      <td>Custom House</td>\n",
       "      <td>TQ408807</td>\n",
       "      <td>https://tools.wmflabs.org/os/coor_g/?pagename=...</td>\n",
       "    </tr>\n",
       "    <tr>\n",
       "      <th>3</th>\n",
       "      <td>Newham</td>\n",
       "      <td>East Ham</td>\n",
       "      <td>TQ425835</td>\n",
       "      <td>https://tools.wmflabs.org/os/coor_g/?pagename=...</td>\n",
       "    </tr>\n",
       "    <tr>\n",
       "      <th>4</th>\n",
       "      <td>Newham</td>\n",
       "      <td>Forest Gate</td>\n",
       "      <td>TQ405855</td>\n",
       "      <td>https://tools.wmflabs.org/os/coor_g/?pagename=...</td>\n",
       "    </tr>\n",
       "    <tr>\n",
       "      <th>5</th>\n",
       "      <td>Newham</td>\n",
       "      <td>Little Ilford</td>\n",
       "      <td>TQ435855</td>\n",
       "      <td>https://tools.wmflabs.org/os/coor_g/?pagename=...</td>\n",
       "    </tr>\n",
       "    <tr>\n",
       "      <th>6</th>\n",
       "      <td>Newham</td>\n",
       "      <td>Manor Park</td>\n",
       "      <td>TQ425855</td>\n",
       "      <td>https://tools.wmflabs.org/os/coor_g/?pagename=...</td>\n",
       "    </tr>\n",
       "    <tr>\n",
       "      <th>7</th>\n",
       "      <td>Newham</td>\n",
       "      <td>Maryland</td>\n",
       "      <td>TQ391849</td>\n",
       "      <td>https://tools.wmflabs.org/os/coor_g/?pagename=...</td>\n",
       "    </tr>\n",
       "    <tr>\n",
       "      <th>8</th>\n",
       "      <td>Newham</td>\n",
       "      <td>North Woolwich</td>\n",
       "      <td>TQ435795</td>\n",
       "      <td>https://tools.wmflabs.org/os/coor_g/?pagename=...</td>\n",
       "    </tr>\n",
       "    <tr>\n",
       "      <th>9</th>\n",
       "      <td>Newham</td>\n",
       "      <td>Plaistow</td>\n",
       "      <td>TQ405825</td>\n",
       "      <td>https://tools.wmflabs.org/os/coor_g/?pagename=...</td>\n",
       "    </tr>\n",
       "    <tr>\n",
       "      <th>10</th>\n",
       "      <td>Newham</td>\n",
       "      <td>Silvertown</td>\n",
       "      <td>TQ415795</td>\n",
       "      <td>https://tools.wmflabs.org/os/coor_g/?pagename=...</td>\n",
       "    </tr>\n",
       "    <tr>\n",
       "      <th>11</th>\n",
       "      <td>Newham</td>\n",
       "      <td>Stratford</td>\n",
       "      <td>TQ385845</td>\n",
       "      <td>https://tools.wmflabs.org/os/coor_g/?pagename=...</td>\n",
       "    </tr>\n",
       "    <tr>\n",
       "      <th>12</th>\n",
       "      <td>Newham</td>\n",
       "      <td>Upton Park</td>\n",
       "      <td>TQ405837</td>\n",
       "      <td>https://tools.wmflabs.org/os/coor_g/?pagename=...</td>\n",
       "    </tr>\n",
       "    <tr>\n",
       "      <th>13</th>\n",
       "      <td>Newham</td>\n",
       "      <td>West Ham</td>\n",
       "      <td>TQ405837</td>\n",
       "      <td>https://tools.wmflabs.org/os/coor_g/?pagename=...</td>\n",
       "    </tr>\n",
       "    <tr>\n",
       "      <th>14</th>\n",
       "      <td>NaN</td>\n",
       "      <td>NaN</td>\n",
       "      <td>NaN</td>\n",
       "      <td>https://tools.wmflabs.org/os/coor_g/?pagename=...</td>\n",
       "    </tr>\n",
       "  </tbody>\n",
       "</table>\n",
       "</div>"
      ],
      "text/plain": [
       "   Borough            Area      Code  \\\n",
       "0   Newham         Beckton  TQ435815   \n",
       "1   Newham    Canning Town  TQ405815   \n",
       "2   Newham    Custom House  TQ408807   \n",
       "3   Newham        East Ham  TQ425835   \n",
       "4   Newham     Forest Gate  TQ405855   \n",
       "5   Newham   Little Ilford  TQ435855   \n",
       "6   Newham      Manor Park  TQ425855   \n",
       "7   Newham        Maryland  TQ391849   \n",
       "8   Newham  North Woolwich  TQ435795   \n",
       "9   Newham        Plaistow  TQ405825   \n",
       "10  Newham      Silvertown  TQ415795   \n",
       "11  Newham       Stratford  TQ385845   \n",
       "12  Newham      Upton Park  TQ405837   \n",
       "13  Newham        West Ham  TQ405837   \n",
       "14     NaN             NaN       NaN   \n",
       "\n",
       "                                                 href  \n",
       "0   https://tools.wmflabs.org/os/coor_g/?pagename=...  \n",
       "1   https://tools.wmflabs.org/os/coor_g/?pagename=...  \n",
       "2   https://tools.wmflabs.org/os/coor_g/?pagename=...  \n",
       "3   https://tools.wmflabs.org/os/coor_g/?pagename=...  \n",
       "4   https://tools.wmflabs.org/os/coor_g/?pagename=...  \n",
       "5   https://tools.wmflabs.org/os/coor_g/?pagename=...  \n",
       "6   https://tools.wmflabs.org/os/coor_g/?pagename=...  \n",
       "7   https://tools.wmflabs.org/os/coor_g/?pagename=...  \n",
       "8   https://tools.wmflabs.org/os/coor_g/?pagename=...  \n",
       "9   https://tools.wmflabs.org/os/coor_g/?pagename=...  \n",
       "10  https://tools.wmflabs.org/os/coor_g/?pagename=...  \n",
       "11  https://tools.wmflabs.org/os/coor_g/?pagename=...  \n",
       "12  https://tools.wmflabs.org/os/coor_g/?pagename=...  \n",
       "13  https://tools.wmflabs.org/os/coor_g/?pagename=...  \n",
       "14  https://tools.wmflabs.org/os/coor_g/?pagename=...  "
      ]
     },
     "execution_count": 125,
     "metadata": {},
     "output_type": "execute_result"
    }
   ],
   "source": [
    "df_areas_links"
   ]
  },
  {
   "cell_type": "markdown",
   "metadata": {},
   "source": [
    "#### Remove the row where there is no data "
   ]
  },
  {
   "cell_type": "code",
   "execution_count": 126,
   "metadata": {},
   "outputs": [],
   "source": [
    "df_areas_links = df_areas_links.dropna(how='any')"
   ]
  },
  {
   "cell_type": "code",
   "execution_count": 127,
   "metadata": {},
   "outputs": [
    {
     "data": {
      "text/html": [
       "<div>\n",
       "<style scoped>\n",
       "    .dataframe tbody tr th:only-of-type {\n",
       "        vertical-align: middle;\n",
       "    }\n",
       "\n",
       "    .dataframe tbody tr th {\n",
       "        vertical-align: top;\n",
       "    }\n",
       "\n",
       "    .dataframe thead th {\n",
       "        text-align: right;\n",
       "    }\n",
       "</style>\n",
       "<table border=\"1\" class=\"dataframe\">\n",
       "  <thead>\n",
       "    <tr style=\"text-align: right;\">\n",
       "      <th></th>\n",
       "      <th>Borough</th>\n",
       "      <th>Area</th>\n",
       "      <th>Code</th>\n",
       "      <th>href</th>\n",
       "    </tr>\n",
       "  </thead>\n",
       "  <tbody>\n",
       "    <tr>\n",
       "      <th>0</th>\n",
       "      <td>Newham</td>\n",
       "      <td>Beckton</td>\n",
       "      <td>TQ435815</td>\n",
       "      <td>https://tools.wmflabs.org/os/coor_g/?pagename=...</td>\n",
       "    </tr>\n",
       "    <tr>\n",
       "      <th>1</th>\n",
       "      <td>Newham</td>\n",
       "      <td>Canning Town</td>\n",
       "      <td>TQ405815</td>\n",
       "      <td>https://tools.wmflabs.org/os/coor_g/?pagename=...</td>\n",
       "    </tr>\n",
       "    <tr>\n",
       "      <th>2</th>\n",
       "      <td>Newham</td>\n",
       "      <td>Custom House</td>\n",
       "      <td>TQ408807</td>\n",
       "      <td>https://tools.wmflabs.org/os/coor_g/?pagename=...</td>\n",
       "    </tr>\n",
       "    <tr>\n",
       "      <th>3</th>\n",
       "      <td>Newham</td>\n",
       "      <td>East Ham</td>\n",
       "      <td>TQ425835</td>\n",
       "      <td>https://tools.wmflabs.org/os/coor_g/?pagename=...</td>\n",
       "    </tr>\n",
       "    <tr>\n",
       "      <th>4</th>\n",
       "      <td>Newham</td>\n",
       "      <td>Forest Gate</td>\n",
       "      <td>TQ405855</td>\n",
       "      <td>https://tools.wmflabs.org/os/coor_g/?pagename=...</td>\n",
       "    </tr>\n",
       "    <tr>\n",
       "      <th>5</th>\n",
       "      <td>Newham</td>\n",
       "      <td>Little Ilford</td>\n",
       "      <td>TQ435855</td>\n",
       "      <td>https://tools.wmflabs.org/os/coor_g/?pagename=...</td>\n",
       "    </tr>\n",
       "    <tr>\n",
       "      <th>6</th>\n",
       "      <td>Newham</td>\n",
       "      <td>Manor Park</td>\n",
       "      <td>TQ425855</td>\n",
       "      <td>https://tools.wmflabs.org/os/coor_g/?pagename=...</td>\n",
       "    </tr>\n",
       "    <tr>\n",
       "      <th>7</th>\n",
       "      <td>Newham</td>\n",
       "      <td>Maryland</td>\n",
       "      <td>TQ391849</td>\n",
       "      <td>https://tools.wmflabs.org/os/coor_g/?pagename=...</td>\n",
       "    </tr>\n",
       "    <tr>\n",
       "      <th>8</th>\n",
       "      <td>Newham</td>\n",
       "      <td>North Woolwich</td>\n",
       "      <td>TQ435795</td>\n",
       "      <td>https://tools.wmflabs.org/os/coor_g/?pagename=...</td>\n",
       "    </tr>\n",
       "    <tr>\n",
       "      <th>9</th>\n",
       "      <td>Newham</td>\n",
       "      <td>Plaistow</td>\n",
       "      <td>TQ405825</td>\n",
       "      <td>https://tools.wmflabs.org/os/coor_g/?pagename=...</td>\n",
       "    </tr>\n",
       "    <tr>\n",
       "      <th>10</th>\n",
       "      <td>Newham</td>\n",
       "      <td>Silvertown</td>\n",
       "      <td>TQ415795</td>\n",
       "      <td>https://tools.wmflabs.org/os/coor_g/?pagename=...</td>\n",
       "    </tr>\n",
       "    <tr>\n",
       "      <th>11</th>\n",
       "      <td>Newham</td>\n",
       "      <td>Stratford</td>\n",
       "      <td>TQ385845</td>\n",
       "      <td>https://tools.wmflabs.org/os/coor_g/?pagename=...</td>\n",
       "    </tr>\n",
       "    <tr>\n",
       "      <th>12</th>\n",
       "      <td>Newham</td>\n",
       "      <td>Upton Park</td>\n",
       "      <td>TQ405837</td>\n",
       "      <td>https://tools.wmflabs.org/os/coor_g/?pagename=...</td>\n",
       "    </tr>\n",
       "    <tr>\n",
       "      <th>13</th>\n",
       "      <td>Newham</td>\n",
       "      <td>West Ham</td>\n",
       "      <td>TQ405837</td>\n",
       "      <td>https://tools.wmflabs.org/os/coor_g/?pagename=...</td>\n",
       "    </tr>\n",
       "  </tbody>\n",
       "</table>\n",
       "</div>"
      ],
      "text/plain": [
       "   Borough            Area      Code  \\\n",
       "0   Newham         Beckton  TQ435815   \n",
       "1   Newham    Canning Town  TQ405815   \n",
       "2   Newham    Custom House  TQ408807   \n",
       "3   Newham        East Ham  TQ425835   \n",
       "4   Newham     Forest Gate  TQ405855   \n",
       "5   Newham   Little Ilford  TQ435855   \n",
       "6   Newham      Manor Park  TQ425855   \n",
       "7   Newham        Maryland  TQ391849   \n",
       "8   Newham  North Woolwich  TQ435795   \n",
       "9   Newham        Plaistow  TQ405825   \n",
       "10  Newham      Silvertown  TQ415795   \n",
       "11  Newham       Stratford  TQ385845   \n",
       "12  Newham      Upton Park  TQ405837   \n",
       "13  Newham        West Ham  TQ405837   \n",
       "\n",
       "                                                 href  \n",
       "0   https://tools.wmflabs.org/os/coor_g/?pagename=...  \n",
       "1   https://tools.wmflabs.org/os/coor_g/?pagename=...  \n",
       "2   https://tools.wmflabs.org/os/coor_g/?pagename=...  \n",
       "3   https://tools.wmflabs.org/os/coor_g/?pagename=...  \n",
       "4   https://tools.wmflabs.org/os/coor_g/?pagename=...  \n",
       "5   https://tools.wmflabs.org/os/coor_g/?pagename=...  \n",
       "6   https://tools.wmflabs.org/os/coor_g/?pagename=...  \n",
       "7   https://tools.wmflabs.org/os/coor_g/?pagename=...  \n",
       "8   https://tools.wmflabs.org/os/coor_g/?pagename=...  \n",
       "9   https://tools.wmflabs.org/os/coor_g/?pagename=...  \n",
       "10  https://tools.wmflabs.org/os/coor_g/?pagename=...  \n",
       "11  https://tools.wmflabs.org/os/coor_g/?pagename=...  \n",
       "12  https://tools.wmflabs.org/os/coor_g/?pagename=...  \n",
       "13  https://tools.wmflabs.org/os/coor_g/?pagename=...  "
      ]
     },
     "execution_count": 127,
     "metadata": {},
     "output_type": "execute_result"
    }
   ],
   "source": [
    "df_areas_links"
   ]
  },
  {
   "cell_type": "markdown",
   "metadata": {},
   "source": [
    "#### Get the geo co-ordinates for all the areas in the Newham borough"
   ]
  },
  {
   "cell_type": "code",
   "execution_count": 128,
   "metadata": {},
   "outputs": [
    {
     "name": "stdout",
     "output_type": "stream",
     "text": [
      "[('TQ435815', 51.514642, 0.067375), ('TQ405815', 51.515396, 0.024169), ('TQ408807', 51.508133, 0.028171), ('TQ425835', 51.532867, 0.053782), ('TQ405855', 51.551339, 0.025765), ('TQ435855', 51.550584, 0.069004), ('TQ425855', 51.550838, 0.054591), ('TQ391849', 51.546294, 0.005349), ('TQ435795', 51.496671, 0.066561), ('TQ405825', 51.524382, 0.024568), ('TQ415795', 51.497175, 0.037769), ('TQ385845', 51.542847, -0.003456), ('TQ405837', 51.535165, 0.025046), ('TQ405837', 51.535165, 0.025046)]\n"
     ]
    }
   ],
   "source": [
    "geo_codes = []\n",
    "for row in df_areas_links.itertuples():\n",
    "    url = row.href\n",
    "    code = row.Code\n",
    "    res = requests.get(url).text\n",
    "    soup1 = BeautifulSoup(res,'lxml')\n",
    "    \n",
    "    for lat in soup1.find('span',{'class':'latitude'}):\n",
    "        latitude = lat\n",
    "        latitude = float(latitude)\n",
    "            \n",
    "    for long in soup1.find('span',{'class':'longitude'}):    \n",
    "        longitude = long\n",
    "        longitude = float(longitude)\n",
    "        \n",
    "    geo_codes.append((code, latitude, longitude))\n",
    "\n",
    "print(geo_codes)    "
   ]
  },
  {
   "cell_type": "markdown",
   "metadata": {},
   "source": [
    "#### Create a DataFrame from the above list"
   ]
  },
  {
   "cell_type": "code",
   "execution_count": 129,
   "metadata": {},
   "outputs": [],
   "source": [
    "df_geo_codes = pd.DataFrame(geo_codes, columns=['Code','Latitude','Longitude'])"
   ]
  },
  {
   "cell_type": "code",
   "execution_count": 130,
   "metadata": {},
   "outputs": [
    {
     "data": {
      "text/html": [
       "<div>\n",
       "<style scoped>\n",
       "    .dataframe tbody tr th:only-of-type {\n",
       "        vertical-align: middle;\n",
       "    }\n",
       "\n",
       "    .dataframe tbody tr th {\n",
       "        vertical-align: top;\n",
       "    }\n",
       "\n",
       "    .dataframe thead th {\n",
       "        text-align: right;\n",
       "    }\n",
       "</style>\n",
       "<table border=\"1\" class=\"dataframe\">\n",
       "  <thead>\n",
       "    <tr style=\"text-align: right;\">\n",
       "      <th></th>\n",
       "      <th>Code</th>\n",
       "      <th>Latitude</th>\n",
       "      <th>Longitude</th>\n",
       "    </tr>\n",
       "  </thead>\n",
       "  <tbody>\n",
       "    <tr>\n",
       "      <th>0</th>\n",
       "      <td>TQ435815</td>\n",
       "      <td>51.514642</td>\n",
       "      <td>0.067375</td>\n",
       "    </tr>\n",
       "    <tr>\n",
       "      <th>1</th>\n",
       "      <td>TQ405815</td>\n",
       "      <td>51.515396</td>\n",
       "      <td>0.024169</td>\n",
       "    </tr>\n",
       "    <tr>\n",
       "      <th>2</th>\n",
       "      <td>TQ408807</td>\n",
       "      <td>51.508133</td>\n",
       "      <td>0.028171</td>\n",
       "    </tr>\n",
       "    <tr>\n",
       "      <th>3</th>\n",
       "      <td>TQ425835</td>\n",
       "      <td>51.532867</td>\n",
       "      <td>0.053782</td>\n",
       "    </tr>\n",
       "    <tr>\n",
       "      <th>4</th>\n",
       "      <td>TQ405855</td>\n",
       "      <td>51.551339</td>\n",
       "      <td>0.025765</td>\n",
       "    </tr>\n",
       "    <tr>\n",
       "      <th>5</th>\n",
       "      <td>TQ435855</td>\n",
       "      <td>51.550584</td>\n",
       "      <td>0.069004</td>\n",
       "    </tr>\n",
       "    <tr>\n",
       "      <th>6</th>\n",
       "      <td>TQ425855</td>\n",
       "      <td>51.550838</td>\n",
       "      <td>0.054591</td>\n",
       "    </tr>\n",
       "    <tr>\n",
       "      <th>7</th>\n",
       "      <td>TQ391849</td>\n",
       "      <td>51.546294</td>\n",
       "      <td>0.005349</td>\n",
       "    </tr>\n",
       "    <tr>\n",
       "      <th>8</th>\n",
       "      <td>TQ435795</td>\n",
       "      <td>51.496671</td>\n",
       "      <td>0.066561</td>\n",
       "    </tr>\n",
       "    <tr>\n",
       "      <th>9</th>\n",
       "      <td>TQ405825</td>\n",
       "      <td>51.524382</td>\n",
       "      <td>0.024568</td>\n",
       "    </tr>\n",
       "    <tr>\n",
       "      <th>10</th>\n",
       "      <td>TQ415795</td>\n",
       "      <td>51.497175</td>\n",
       "      <td>0.037769</td>\n",
       "    </tr>\n",
       "    <tr>\n",
       "      <th>11</th>\n",
       "      <td>TQ385845</td>\n",
       "      <td>51.542847</td>\n",
       "      <td>-0.003456</td>\n",
       "    </tr>\n",
       "    <tr>\n",
       "      <th>12</th>\n",
       "      <td>TQ405837</td>\n",
       "      <td>51.535165</td>\n",
       "      <td>0.025046</td>\n",
       "    </tr>\n",
       "    <tr>\n",
       "      <th>13</th>\n",
       "      <td>TQ405837</td>\n",
       "      <td>51.535165</td>\n",
       "      <td>0.025046</td>\n",
       "    </tr>\n",
       "  </tbody>\n",
       "</table>\n",
       "</div>"
      ],
      "text/plain": [
       "        Code   Latitude  Longitude\n",
       "0   TQ435815  51.514642   0.067375\n",
       "1   TQ405815  51.515396   0.024169\n",
       "2   TQ408807  51.508133   0.028171\n",
       "3   TQ425835  51.532867   0.053782\n",
       "4   TQ405855  51.551339   0.025765\n",
       "5   TQ435855  51.550584   0.069004\n",
       "6   TQ425855  51.550838   0.054591\n",
       "7   TQ391849  51.546294   0.005349\n",
       "8   TQ435795  51.496671   0.066561\n",
       "9   TQ405825  51.524382   0.024568\n",
       "10  TQ415795  51.497175   0.037769\n",
       "11  TQ385845  51.542847  -0.003456\n",
       "12  TQ405837  51.535165   0.025046\n",
       "13  TQ405837  51.535165   0.025046"
      ]
     },
     "execution_count": 130,
     "metadata": {},
     "output_type": "execute_result"
    }
   ],
   "source": [
    "df_geo_codes"
   ]
  },
  {
   "cell_type": "markdown",
   "metadata": {},
   "source": [
    "#### Now merge the Areas(Neighborhoods) and Geocodes DataFrames"
   ]
  },
  {
   "cell_type": "code",
   "execution_count": 131,
   "metadata": {},
   "outputs": [
    {
     "data": {
      "text/plain": [
       "Index(['Borough', 'Area', 'Code'], dtype='object')"
      ]
     },
     "execution_count": 131,
     "metadata": {},
     "output_type": "execute_result"
    }
   ],
   "source": [
    "df_areas.columns"
   ]
  },
  {
   "cell_type": "code",
   "execution_count": 132,
   "metadata": {},
   "outputs": [
    {
     "data": {
      "text/plain": [
       "(14, 3)"
      ]
     },
     "execution_count": 132,
     "metadata": {},
     "output_type": "execute_result"
    }
   ],
   "source": [
    "df_areas.shape"
   ]
  },
  {
   "cell_type": "code",
   "execution_count": 133,
   "metadata": {},
   "outputs": [
    {
     "data": {
      "text/plain": [
       "Index(['Code', 'Latitude', 'Longitude'], dtype='object')"
      ]
     },
     "execution_count": 133,
     "metadata": {},
     "output_type": "execute_result"
    }
   ],
   "source": [
    "df_geo_codes.columns"
   ]
  },
  {
   "cell_type": "code",
   "execution_count": 134,
   "metadata": {},
   "outputs": [
    {
     "data": {
      "text/plain": [
       "(14, 3)"
      ]
     },
     "execution_count": 134,
     "metadata": {},
     "output_type": "execute_result"
    }
   ],
   "source": [
    "df_geo_codes.shape"
   ]
  },
  {
   "cell_type": "code",
   "execution_count": 135,
   "metadata": {},
   "outputs": [],
   "source": [
    "cols = df_geo_codes.columns.difference(df_areas.columns)"
   ]
  },
  {
   "cell_type": "code",
   "execution_count": 136,
   "metadata": {},
   "outputs": [
    {
     "data": {
      "text/plain": [
       "Index(['Latitude', 'Longitude'], dtype='object')"
      ]
     },
     "execution_count": 136,
     "metadata": {},
     "output_type": "execute_result"
    }
   ],
   "source": [
    "cols"
   ]
  },
  {
   "cell_type": "code",
   "execution_count": 137,
   "metadata": {},
   "outputs": [],
   "source": [
    "Newham_borough = pd.concat([df_areas, df_geo_codes[cols]], axis=1)"
   ]
  },
  {
   "cell_type": "code",
   "execution_count": 138,
   "metadata": {},
   "outputs": [
    {
     "data": {
      "text/html": [
       "<div>\n",
       "<style scoped>\n",
       "    .dataframe tbody tr th:only-of-type {\n",
       "        vertical-align: middle;\n",
       "    }\n",
       "\n",
       "    .dataframe tbody tr th {\n",
       "        vertical-align: top;\n",
       "    }\n",
       "\n",
       "    .dataframe thead th {\n",
       "        text-align: right;\n",
       "    }\n",
       "</style>\n",
       "<table border=\"1\" class=\"dataframe\">\n",
       "  <thead>\n",
       "    <tr style=\"text-align: right;\">\n",
       "      <th></th>\n",
       "      <th>Borough</th>\n",
       "      <th>Area</th>\n",
       "      <th>Code</th>\n",
       "      <th>Latitude</th>\n",
       "      <th>Longitude</th>\n",
       "    </tr>\n",
       "  </thead>\n",
       "  <tbody>\n",
       "    <tr>\n",
       "      <th>0</th>\n",
       "      <td>Newham</td>\n",
       "      <td>Beckton</td>\n",
       "      <td>TQ435815</td>\n",
       "      <td>51.514642</td>\n",
       "      <td>0.067375</td>\n",
       "    </tr>\n",
       "    <tr>\n",
       "      <th>1</th>\n",
       "      <td>Newham</td>\n",
       "      <td>Canning Town</td>\n",
       "      <td>TQ405815</td>\n",
       "      <td>51.515396</td>\n",
       "      <td>0.024169</td>\n",
       "    </tr>\n",
       "    <tr>\n",
       "      <th>2</th>\n",
       "      <td>Newham</td>\n",
       "      <td>Custom House</td>\n",
       "      <td>TQ408807</td>\n",
       "      <td>51.508133</td>\n",
       "      <td>0.028171</td>\n",
       "    </tr>\n",
       "    <tr>\n",
       "      <th>3</th>\n",
       "      <td>Newham</td>\n",
       "      <td>East Ham</td>\n",
       "      <td>TQ425835</td>\n",
       "      <td>51.532867</td>\n",
       "      <td>0.053782</td>\n",
       "    </tr>\n",
       "    <tr>\n",
       "      <th>4</th>\n",
       "      <td>Newham</td>\n",
       "      <td>Forest Gate</td>\n",
       "      <td>TQ405855</td>\n",
       "      <td>51.551339</td>\n",
       "      <td>0.025765</td>\n",
       "    </tr>\n",
       "    <tr>\n",
       "      <th>5</th>\n",
       "      <td>Newham</td>\n",
       "      <td>Little Ilford</td>\n",
       "      <td>TQ435855</td>\n",
       "      <td>51.550584</td>\n",
       "      <td>0.069004</td>\n",
       "    </tr>\n",
       "    <tr>\n",
       "      <th>6</th>\n",
       "      <td>Newham</td>\n",
       "      <td>Manor Park</td>\n",
       "      <td>TQ425855</td>\n",
       "      <td>51.550838</td>\n",
       "      <td>0.054591</td>\n",
       "    </tr>\n",
       "    <tr>\n",
       "      <th>7</th>\n",
       "      <td>Newham</td>\n",
       "      <td>Maryland</td>\n",
       "      <td>TQ391849</td>\n",
       "      <td>51.546294</td>\n",
       "      <td>0.005349</td>\n",
       "    </tr>\n",
       "    <tr>\n",
       "      <th>8</th>\n",
       "      <td>Newham</td>\n",
       "      <td>North Woolwich</td>\n",
       "      <td>TQ435795</td>\n",
       "      <td>51.496671</td>\n",
       "      <td>0.066561</td>\n",
       "    </tr>\n",
       "    <tr>\n",
       "      <th>9</th>\n",
       "      <td>Newham</td>\n",
       "      <td>Plaistow</td>\n",
       "      <td>TQ405825</td>\n",
       "      <td>51.524382</td>\n",
       "      <td>0.024568</td>\n",
       "    </tr>\n",
       "    <tr>\n",
       "      <th>10</th>\n",
       "      <td>Newham</td>\n",
       "      <td>Silvertown</td>\n",
       "      <td>TQ415795</td>\n",
       "      <td>51.497175</td>\n",
       "      <td>0.037769</td>\n",
       "    </tr>\n",
       "    <tr>\n",
       "      <th>11</th>\n",
       "      <td>Newham</td>\n",
       "      <td>Stratford</td>\n",
       "      <td>TQ385845</td>\n",
       "      <td>51.542847</td>\n",
       "      <td>-0.003456</td>\n",
       "    </tr>\n",
       "    <tr>\n",
       "      <th>12</th>\n",
       "      <td>Newham</td>\n",
       "      <td>Upton Park</td>\n",
       "      <td>TQ405837</td>\n",
       "      <td>51.535165</td>\n",
       "      <td>0.025046</td>\n",
       "    </tr>\n",
       "    <tr>\n",
       "      <th>13</th>\n",
       "      <td>Newham</td>\n",
       "      <td>West Ham</td>\n",
       "      <td>TQ405837</td>\n",
       "      <td>51.535165</td>\n",
       "      <td>0.025046</td>\n",
       "    </tr>\n",
       "  </tbody>\n",
       "</table>\n",
       "</div>"
      ],
      "text/plain": [
       "   Borough            Area      Code   Latitude  Longitude\n",
       "0   Newham         Beckton  TQ435815  51.514642   0.067375\n",
       "1   Newham    Canning Town  TQ405815  51.515396   0.024169\n",
       "2   Newham    Custom House  TQ408807  51.508133   0.028171\n",
       "3   Newham        East Ham  TQ425835  51.532867   0.053782\n",
       "4   Newham     Forest Gate  TQ405855  51.551339   0.025765\n",
       "5   Newham   Little Ilford  TQ435855  51.550584   0.069004\n",
       "6   Newham      Manor Park  TQ425855  51.550838   0.054591\n",
       "7   Newham        Maryland  TQ391849  51.546294   0.005349\n",
       "8   Newham  North Woolwich  TQ435795  51.496671   0.066561\n",
       "9   Newham        Plaistow  TQ405825  51.524382   0.024568\n",
       "10  Newham      Silvertown  TQ415795  51.497175   0.037769\n",
       "11  Newham       Stratford  TQ385845  51.542847  -0.003456\n",
       "12  Newham      Upton Park  TQ405837  51.535165   0.025046\n",
       "13  Newham        West Ham  TQ405837  51.535165   0.025046"
      ]
     },
     "execution_count": 138,
     "metadata": {},
     "output_type": "execute_result"
    }
   ],
   "source": [
    "Newham_borough"
   ]
  },
  {
   "cell_type": "markdown",
   "metadata": {},
   "source": [
    "#### Change the name of the column 'Area' to 'Neighborhood '"
   ]
  },
  {
   "cell_type": "code",
   "execution_count": 139,
   "metadata": {},
   "outputs": [],
   "source": [
    "Newham_borough = Newham_borough.rename(columns={'Area' :'Neighborhood'})"
   ]
  },
  {
   "cell_type": "markdown",
   "metadata": {},
   "source": [
    "#### We do not need the column Code for our further analysis, so we will drop it "
   ]
  },
  {
   "cell_type": "code",
   "execution_count": 140,
   "metadata": {},
   "outputs": [],
   "source": [
    "Newham_borough.drop(['Code'], axis=1, inplace=True)"
   ]
  },
  {
   "cell_type": "code",
   "execution_count": 141,
   "metadata": {},
   "outputs": [
    {
     "data": {
      "text/plain": [
       "Index(['Borough', 'Neighborhood', 'Latitude', 'Longitude'], dtype='object')"
      ]
     },
     "execution_count": 141,
     "metadata": {},
     "output_type": "execute_result"
    }
   ],
   "source": [
    "Newham_borough.columns"
   ]
  },
  {
   "cell_type": "code",
   "execution_count": 142,
   "metadata": {},
   "outputs": [
    {
     "data": {
      "text/html": [
       "<div>\n",
       "<style scoped>\n",
       "    .dataframe tbody tr th:only-of-type {\n",
       "        vertical-align: middle;\n",
       "    }\n",
       "\n",
       "    .dataframe tbody tr th {\n",
       "        vertical-align: top;\n",
       "    }\n",
       "\n",
       "    .dataframe thead th {\n",
       "        text-align: right;\n",
       "    }\n",
       "</style>\n",
       "<table border=\"1\" class=\"dataframe\">\n",
       "  <thead>\n",
       "    <tr style=\"text-align: right;\">\n",
       "      <th></th>\n",
       "      <th>Borough</th>\n",
       "      <th>Neighborhood</th>\n",
       "      <th>Latitude</th>\n",
       "      <th>Longitude</th>\n",
       "    </tr>\n",
       "  </thead>\n",
       "  <tbody>\n",
       "    <tr>\n",
       "      <th>0</th>\n",
       "      <td>Newham</td>\n",
       "      <td>Beckton</td>\n",
       "      <td>51.514642</td>\n",
       "      <td>0.067375</td>\n",
       "    </tr>\n",
       "    <tr>\n",
       "      <th>1</th>\n",
       "      <td>Newham</td>\n",
       "      <td>Canning Town</td>\n",
       "      <td>51.515396</td>\n",
       "      <td>0.024169</td>\n",
       "    </tr>\n",
       "    <tr>\n",
       "      <th>2</th>\n",
       "      <td>Newham</td>\n",
       "      <td>Custom House</td>\n",
       "      <td>51.508133</td>\n",
       "      <td>0.028171</td>\n",
       "    </tr>\n",
       "    <tr>\n",
       "      <th>3</th>\n",
       "      <td>Newham</td>\n",
       "      <td>East Ham</td>\n",
       "      <td>51.532867</td>\n",
       "      <td>0.053782</td>\n",
       "    </tr>\n",
       "    <tr>\n",
       "      <th>4</th>\n",
       "      <td>Newham</td>\n",
       "      <td>Forest Gate</td>\n",
       "      <td>51.551339</td>\n",
       "      <td>0.025765</td>\n",
       "    </tr>\n",
       "    <tr>\n",
       "      <th>5</th>\n",
       "      <td>Newham</td>\n",
       "      <td>Little Ilford</td>\n",
       "      <td>51.550584</td>\n",
       "      <td>0.069004</td>\n",
       "    </tr>\n",
       "    <tr>\n",
       "      <th>6</th>\n",
       "      <td>Newham</td>\n",
       "      <td>Manor Park</td>\n",
       "      <td>51.550838</td>\n",
       "      <td>0.054591</td>\n",
       "    </tr>\n",
       "    <tr>\n",
       "      <th>7</th>\n",
       "      <td>Newham</td>\n",
       "      <td>Maryland</td>\n",
       "      <td>51.546294</td>\n",
       "      <td>0.005349</td>\n",
       "    </tr>\n",
       "    <tr>\n",
       "      <th>8</th>\n",
       "      <td>Newham</td>\n",
       "      <td>North Woolwich</td>\n",
       "      <td>51.496671</td>\n",
       "      <td>0.066561</td>\n",
       "    </tr>\n",
       "    <tr>\n",
       "      <th>9</th>\n",
       "      <td>Newham</td>\n",
       "      <td>Plaistow</td>\n",
       "      <td>51.524382</td>\n",
       "      <td>0.024568</td>\n",
       "    </tr>\n",
       "    <tr>\n",
       "      <th>10</th>\n",
       "      <td>Newham</td>\n",
       "      <td>Silvertown</td>\n",
       "      <td>51.497175</td>\n",
       "      <td>0.037769</td>\n",
       "    </tr>\n",
       "    <tr>\n",
       "      <th>11</th>\n",
       "      <td>Newham</td>\n",
       "      <td>Stratford</td>\n",
       "      <td>51.542847</td>\n",
       "      <td>-0.003456</td>\n",
       "    </tr>\n",
       "    <tr>\n",
       "      <th>12</th>\n",
       "      <td>Newham</td>\n",
       "      <td>Upton Park</td>\n",
       "      <td>51.535165</td>\n",
       "      <td>0.025046</td>\n",
       "    </tr>\n",
       "    <tr>\n",
       "      <th>13</th>\n",
       "      <td>Newham</td>\n",
       "      <td>West Ham</td>\n",
       "      <td>51.535165</td>\n",
       "      <td>0.025046</td>\n",
       "    </tr>\n",
       "  </tbody>\n",
       "</table>\n",
       "</div>"
      ],
      "text/plain": [
       "   Borough    Neighborhood   Latitude  Longitude\n",
       "0   Newham         Beckton  51.514642   0.067375\n",
       "1   Newham    Canning Town  51.515396   0.024169\n",
       "2   Newham    Custom House  51.508133   0.028171\n",
       "3   Newham        East Ham  51.532867   0.053782\n",
       "4   Newham     Forest Gate  51.551339   0.025765\n",
       "5   Newham   Little Ilford  51.550584   0.069004\n",
       "6   Newham      Manor Park  51.550838   0.054591\n",
       "7   Newham        Maryland  51.546294   0.005349\n",
       "8   Newham  North Woolwich  51.496671   0.066561\n",
       "9   Newham        Plaistow  51.524382   0.024568\n",
       "10  Newham      Silvertown  51.497175   0.037769\n",
       "11  Newham       Stratford  51.542847  -0.003456\n",
       "12  Newham      Upton Park  51.535165   0.025046\n",
       "13  Newham        West Ham  51.535165   0.025046"
      ]
     },
     "execution_count": 142,
     "metadata": {},
     "output_type": "execute_result"
    }
   ],
   "source": [
    "Newham_borough"
   ]
  },
  {
   "cell_type": "code",
   "execution_count": 143,
   "metadata": {},
   "outputs": [
    {
     "data": {
      "text/plain": [
       "Borough          object\n",
       "Neighborhood     object\n",
       "Latitude        float64\n",
       "Longitude       float64\n",
       "dtype: object"
      ]
     },
     "execution_count": 143,
     "metadata": {},
     "output_type": "execute_result"
    }
   ],
   "source": [
    "Newham_borough.dtypes"
   ]
  },
  {
   "cell_type": "markdown",
   "metadata": {},
   "source": [
    "#### Now lets get the Coordinates of Newham Borough"
   ]
  },
  {
   "cell_type": "code",
   "execution_count": 144,
   "metadata": {},
   "outputs": [
    {
     "name": "stdout",
     "output_type": "stream",
     "text": [
      "The geograpical coordinate of Newham are 51.52999955, 0.0293179602938221.\n"
     ]
    }
   ],
   "source": [
    "address = 'Newham, London'\n",
    "\n",
    "geolocator = Nominatim()\n",
    "location = geolocator.geocode(address)\n",
    "latitude = location.latitude\n",
    "longitude = location.longitude\n",
    "print('The geograpical coordinate of Newham are {}, {}.'.format(latitude, longitude))"
   ]
  },
  {
   "cell_type": "markdown",
   "metadata": {},
   "source": [
    "### Let's Visualize the Areas(Neighborhoods) of Newham Borough"
   ]
  },
  {
   "cell_type": "code",
   "execution_count": 145,
   "metadata": {},
   "outputs": [
    {
     "data": {
      "text/html": [
       "<div style=\"width:100%;\"><div style=\"position:relative;width:100%;height:0;padding-bottom:60%;\"><iframe src=\"data:text/html;charset=utf-8;base64,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\" style=\"position:absolute;width:100%;height:100%;left:0;top:0;border:none !important;\" allowfullscreen webkitallowfullscreen mozallowfullscreen></iframe></div></div>"
      ],
      "text/plain": [
       "<folium.folium.Map at 0x7f79eadffdd8>"
      ]
     },
     "execution_count": 145,
     "metadata": {},
     "output_type": "execute_result"
    }
   ],
   "source": [
    "# create map of Newham using latitude and longitude values\n",
    "map_Newham = folium.Map(location=[latitude, longitude], zoom_start=11)\n",
    "\n",
    "# add markers to map\n",
    "for lat, lng, label in zip(Newham_borough['Latitude'], Newham_borough['Longitude'], Newham_borough['Neighborhood']):\n",
    "    label = folium.Popup(label, parse_html=True)\n",
    "    folium.CircleMarker(\n",
    "        [lat, lng],\n",
    "        radius=5,\n",
    "        popup=label,\n",
    "        color='blue',\n",
    "        fill=True,\n",
    "        fill_color='#3186cc',\n",
    "        fill_opacity=0.7).add_to(map_Newham)  \n",
    "    \n",
    "map_Newham"
   ]
  },
  {
   "cell_type": "markdown",
   "metadata": {},
   "source": [
    "#### Define FourSquare Credentials "
   ]
  },
  {
   "cell_type": "markdown",
   "metadata": {},
   "source": [
    "#### Let's explore the first Neighborhood(Area) in Newham Borough"
   ]
  },
  {
   "cell_type": "code",
   "execution_count": 147,
   "metadata": {},
   "outputs": [
    {
     "data": {
      "text/plain": [
       "(14, 4)"
      ]
     },
     "execution_count": 147,
     "metadata": {},
     "output_type": "execute_result"
    }
   ],
   "source": [
    "Newham_borough.shape"
   ]
  },
  {
   "cell_type": "code",
   "execution_count": 148,
   "metadata": {},
   "outputs": [
    {
     "data": {
      "text/plain": [
       "Index(['Borough', 'Neighborhood', 'Latitude', 'Longitude'], dtype='object')"
      ]
     },
     "execution_count": 148,
     "metadata": {},
     "output_type": "execute_result"
    }
   ],
   "source": [
    "Newham_borough.columns"
   ]
  },
  {
   "cell_type": "code",
   "execution_count": 149,
   "metadata": {},
   "outputs": [
    {
     "data": {
      "text/plain": [
       "'Beckton'"
      ]
     },
     "execution_count": 149,
     "metadata": {},
     "output_type": "execute_result"
    }
   ],
   "source": [
    "Newham_borough.loc[0, 'Neighborhood']"
   ]
  },
  {
   "cell_type": "code",
   "execution_count": 150,
   "metadata": {},
   "outputs": [
    {
     "data": {
      "text/plain": [
       "Borough           Newham\n",
       "Neighborhood     Beckton\n",
       "Latitude         51.5146\n",
       "Longitude       0.067375\n",
       "Name: 0, dtype: object"
      ]
     },
     "execution_count": 150,
     "metadata": {},
     "output_type": "execute_result"
    }
   ],
   "source": [
    "Newham_borough.loc[0]"
   ]
  },
  {
   "cell_type": "markdown",
   "metadata": {},
   "source": [
    "#### Get the Neighborhood's latitude and longitude value "
   ]
  },
  {
   "cell_type": "code",
   "execution_count": 151,
   "metadata": {},
   "outputs": [
    {
     "name": "stdout",
     "output_type": "stream",
     "text": [
      "Latitude and longitude values of Beckton are 51.514642, 0.067375.\n"
     ]
    }
   ],
   "source": [
    "neighborhood_latitude = Newham_borough.loc[0, 'Latitude'] # neighborhood latitude value\n",
    "neighborhood_longitude = Newham_borough.loc[0, 'Longitude'] # neighborhood longitude value\n",
    "\n",
    "neighborhood_name = Newham_borough.loc[0, 'Neighborhood'] # neighborhood name\n",
    "\n",
    "print('Latitude and longitude values of {} are {}, {}.'.format(neighborhood_name, \n",
    "                                                               neighborhood_latitude, \n",
    "                                                               neighborhood_longitude))"
   ]
  },
  {
   "cell_type": "markdown",
   "metadata": {},
   "source": [
    "#### Now get the top 100 places of Newham Neighborhood within 500KM radius \n",
    "#### Create the GET request URL. Name your URL url."
   ]
  },
  {
   "cell_type": "code",
   "execution_count": 152,
   "metadata": {},
   "outputs": [
    {
     "data": {
      "text/plain": [
       "'https://api.foursquare.com/v2/venues/explore?&client_id=2SOZTXSIXUULTVR1H5IXJJNRWOLETFJ3A1ZUMKN2T4Z30HFG&client_secret=       Z2H2BVM2JJH5KX5SWJ2UTFHOKZWBG4ELJ4UWJKAHIZID5MNJ&v=20180605&ll=51.514642,0.067375&radius=500&limit=100'"
      ]
     },
     "execution_count": 152,
     "metadata": {},
     "output_type": "execute_result"
    }
   ],
   "source": [
    "LIMIT = 100 # limit of number of venues returned by Foursquare API\n",
    "radius = 500 # define radius\n",
    "# create URL\n",
    "url = 'https://api.foursquare.com/v2/venues/explore?&client_id={}&client_secret=\\\n",
    "       {}&v={}&ll={},{}&radius={}&limit={}'.format(\n",
    "    CLIENT_ID, \n",
    "    CLIENT_SECRET, \n",
    "    VERSION, \n",
    "    neighborhood_latitude, \n",
    "    neighborhood_longitude, \n",
    "    radius, \n",
    "    LIMIT)\n",
    "url # display URL"
   ]
  },
  {
   "cell_type": "code",
   "execution_count": 153,
   "metadata": {},
   "outputs": [
    {
     "data": {
      "text/plain": [
       "{'meta': {'code': 200, 'requestId': '5c5317f51ed2193b49c41f2f'},\n",
       " 'response': {'groups': [{'items': [{'reasons': {'count': 0,\n",
       "       'items': [{'reasonName': 'globalInteractionReason',\n",
       "         'summary': 'This spot is popular',\n",
       "         'type': 'general'}]},\n",
       "      'referralId': 'e-0-4cd462e4886cb60c1bcb7d89-0',\n",
       "      'venue': {'categories': [{'icon': {'prefix': 'https://ss3.4sqi.net/img/categories_v2/shops/food_grocery_',\n",
       "          'suffix': '.png'},\n",
       "         'id': '4bf58dd8d48988d118951735',\n",
       "         'name': 'Grocery Store',\n",
       "         'pluralName': 'Grocery Stores',\n",
       "         'primary': True,\n",
       "         'shortName': 'Grocery Store'}],\n",
       "       'id': '4cd462e4886cb60c1bcb7d89',\n",
       "       'location': {'address': 'Alpine Way (Unit 4C, Beckton Retail Park)',\n",
       "        'cc': 'GB',\n",
       "        'city': 'London',\n",
       "        'country': 'United Kingdom',\n",
       "        'distance': 367,\n",
       "        'formattedAddress': ['Alpine Way (Unit 4C, Beckton Retail Park)',\n",
       "         'London',\n",
       "         'Greater London',\n",
       "         'E6 6LA',\n",
       "         'United Kingdom'],\n",
       "        'labeledLatLngs': [{'label': 'display',\n",
       "          'lat': 51.51644209755886,\n",
       "          'lng': 0.06292681188810904}],\n",
       "        'lat': 51.51644209755886,\n",
       "        'lng': 0.06292681188810904,\n",
       "        'postalCode': 'E6 6LA',\n",
       "        'state': 'Greater London'},\n",
       "       'name': 'Lituanica',\n",
       "       'photos': {'count': 0, 'groups': []}}},\n",
       "     {'reasons': {'count': 0,\n",
       "       'items': [{'reasonName': 'globalInteractionReason',\n",
       "         'summary': 'This spot is popular',\n",
       "         'type': 'general'}]},\n",
       "      'referralId': 'e-0-52cecf5711d25db28fc70b17-1',\n",
       "      'venue': {'categories': [{'icon': {'prefix': 'https://ss3.4sqi.net/img/categories_v2/shops/discountstore_',\n",
       "          'suffix': '.png'},\n",
       "         'id': '52dea92d3cf9994f4e043dbb',\n",
       "         'name': 'Discount Store',\n",
       "         'pluralName': 'Discount Stores',\n",
       "         'primary': True,\n",
       "         'shortName': 'Discount Store'}],\n",
       "       'id': '52cecf5711d25db28fc70b17',\n",
       "       'location': {'address': 'Alpine Way',\n",
       "        'cc': 'GB',\n",
       "        'country': 'United Kingdom',\n",
       "        'distance': 427,\n",
       "        'formattedAddress': ['Alpine Way', 'United Kingdom'],\n",
       "        'labeledLatLngs': [{'label': 'display',\n",
       "          'lat': 51.517190267073836,\n",
       "          'lng': 0.06275368423335088}],\n",
       "        'lat': 51.517190267073836,\n",
       "        'lng': 0.06275368423335088},\n",
       "       'name': 'Home Bargains',\n",
       "       'photos': {'count': 0, 'groups': []}}},\n",
       "     {'reasons': {'count': 0,\n",
       "       'items': [{'reasonName': 'globalInteractionReason',\n",
       "         'summary': 'This spot is popular',\n",
       "         'type': 'general'}]},\n",
       "      'referralId': 'e-0-4bbed90a98f4952177d8d163-2',\n",
       "      'venue': {'categories': [{'icon': {'prefix': 'https://ss3.4sqi.net/img/categories_v2/travel/hotel_',\n",
       "          'suffix': '.png'},\n",
       "         'id': '4bf58dd8d48988d1fa931735',\n",
       "         'name': 'Hotel',\n",
       "         'pluralName': 'Hotels',\n",
       "         'primary': True,\n",
       "         'shortName': 'Hotel'}],\n",
       "       'id': '4bbed90a98f4952177d8d163',\n",
       "       'location': {'address': '1 Woolwich Manor Way',\n",
       "        'cc': 'GB',\n",
       "        'city': 'London',\n",
       "        'country': 'United Kingdom',\n",
       "        'crossStreet': '1 Woolwich Manor Way',\n",
       "        'distance': 445,\n",
       "        'formattedAddress': ['1 Woolwich Manor Way (1 Woolwich Manor Way)',\n",
       "         'London',\n",
       "         'E6 5NT',\n",
       "         'United Kingdom'],\n",
       "        'labeledLatLngs': [{'label': 'display',\n",
       "          'lat': 51.5150175,\n",
       "          'lng': 0.0609785}],\n",
       "        'lat': 51.5150175,\n",
       "        'lng': 0.0609785,\n",
       "        'postalCode': 'E6 5NT'},\n",
       "       'name': 'Premier Inn London Beckton',\n",
       "       'photos': {'count': 0, 'groups': []}}},\n",
       "     {'reasons': {'count': 0,\n",
       "       'items': [{'reasonName': 'globalInteractionReason',\n",
       "         'summary': 'This spot is popular',\n",
       "         'type': 'general'}]},\n",
       "      'referralId': 'e-0-4f942748e4b04c0c9f9862d0-3',\n",
       "      'venue': {'categories': [{'icon': {'prefix': 'https://ss3.4sqi.net/img/categories_v2/shops/furniture_',\n",
       "          'suffix': '.png'},\n",
       "         'id': '4bf58dd8d48988d1f8941735',\n",
       "         'name': 'Furniture / Home Store',\n",
       "         'pluralName': 'Furniture / Home Stores',\n",
       "         'primary': True,\n",
       "         'shortName': 'Furniture / Home'}],\n",
       "       'id': '4f942748e4b04c0c9f9862d0',\n",
       "       'location': {'address': 'Beckton Retail Park, Alpine Way',\n",
       "        'cc': 'GB',\n",
       "        'city': 'Beckton',\n",
       "        'country': 'United Kingdom',\n",
       "        'distance': 342,\n",
       "        'formattedAddress': ['Beckton Retail Park, Alpine Way',\n",
       "         'Beckton',\n",
       "         'Greater London',\n",
       "         'E6 6LA',\n",
       "         'United Kingdom'],\n",
       "        'labeledLatLngs': [{'label': 'display',\n",
       "          'lat': 51.516101,\n",
       "          'lng': 0.063028}],\n",
       "        'lat': 51.516101,\n",
       "        'lng': 0.063028,\n",
       "        'postalCode': 'E6 6LA',\n",
       "        'state': 'Greater London'},\n",
       "       'name': 'Dreams Beckton',\n",
       "       'photos': {'count': 0, 'groups': []}}},\n",
       "     {'reasons': {'count': 0,\n",
       "       'items': [{'reasonName': 'globalInteractionReason',\n",
       "         'summary': 'This spot is popular',\n",
       "         'type': 'general'}]},\n",
       "      'referralId': 'e-0-4bf69e4cbfeac92898a19436-4',\n",
       "      'venue': {'categories': [{'icon': {'prefix': 'https://ss3.4sqi.net/img/categories_v2/travel/lightrail_',\n",
       "          'suffix': '.png'},\n",
       "         'id': '4bf58dd8d48988d1fc931735',\n",
       "         'name': 'Light Rail Station',\n",
       "         'pluralName': 'Light Rail Stations',\n",
       "         'primary': True,\n",
       "         'shortName': 'Light Rail'}],\n",
       "       'id': '4bf69e4cbfeac92898a19436',\n",
       "       'location': {'address': 'Woolwich Manor Way',\n",
       "        'cc': 'GB',\n",
       "        'city': 'Beckton',\n",
       "        'country': 'United Kingdom',\n",
       "        'distance': 410,\n",
       "        'formattedAddress': ['Woolwich Manor Way',\n",
       "         'Beckton',\n",
       "         'Greater London',\n",
       "         'E6 5NT',\n",
       "         'United Kingdom'],\n",
       "        'labeledLatLngs': [{'label': 'display',\n",
       "          'lat': 51.51436463106562,\n",
       "          'lng': 0.061460137367248535}],\n",
       "        'lat': 51.51436463106562,\n",
       "        'lng': 0.061460137367248535,\n",
       "        'postalCode': 'E6 5NT',\n",
       "        'state': 'Greater London'},\n",
       "       'name': 'Beckton DLR Station',\n",
       "       'photos': {'count': 0, 'groups': []}}},\n",
       "     {'reasons': {'count': 0,\n",
       "       'items': [{'reasonName': 'globalInteractionReason',\n",
       "         'summary': 'This spot is popular',\n",
       "         'type': 'general'}]},\n",
       "      'referralId': 'e-0-50228c58e4b057124f4b1b58-5',\n",
       "      'venue': {'categories': [{'icon': {'prefix': 'https://ss3.4sqi.net/img/categories_v2/shops/apparel_',\n",
       "          'suffix': '.png'},\n",
       "         'id': '4bf58dd8d48988d103951735',\n",
       "         'name': 'Clothing Store',\n",
       "         'pluralName': 'Clothing Stores',\n",
       "         'primary': True,\n",
       "         'shortName': 'Apparel'}],\n",
       "       'id': '50228c58e4b057124f4b1b58',\n",
       "       'location': {'address': '8, Beckton Retail Park, Alpine Way',\n",
       "        'cc': 'GB',\n",
       "        'city': 'Beckton',\n",
       "        'country': 'United Kingdom',\n",
       "        'distance': 416,\n",
       "        'formattedAddress': ['8, Beckton Retail Park, Alpine Way',\n",
       "         'Beckton',\n",
       "         'E6 6LA',\n",
       "         'United Kingdom'],\n",
       "        'labeledLatLngs': [{'label': 'display',\n",
       "          'lat': 51.51626701119118,\n",
       "          'lng': 0.06196051215582541}],\n",
       "        'lat': 51.51626701119118,\n",
       "        'lng': 0.06196051215582541,\n",
       "        'postalCode': 'E6 6LA'},\n",
       "       'name': 'Matalan',\n",
       "       'photos': {'count': 0, 'groups': []}}},\n",
       "     {'reasons': {'count': 0,\n",
       "       'items': [{'reasonName': 'globalInteractionReason',\n",
       "         'summary': 'This spot is popular',\n",
       "         'type': 'general'}]},\n",
       "      'referralId': 'e-0-4cee7f6d0acea35d33ebe9ae-6',\n",
       "      'venue': {'categories': [{'icon': {'prefix': 'https://ss3.4sqi.net/img/categories_v2/shops/mall_',\n",
       "          'suffix': '.png'},\n",
       "         'id': '5744ccdfe4b0c0459246b4dc',\n",
       "         'name': 'Shopping Plaza',\n",
       "         'pluralName': 'Shopping Plazas',\n",
       "         'primary': True,\n",
       "         'shortName': 'Shopping Plaza'}],\n",
       "       'id': '4cee7f6d0acea35d33ebe9ae',\n",
       "       'location': {'address': '9 Alpine Way',\n",
       "        'cc': 'GB',\n",
       "        'city': 'Beckton',\n",
       "        'country': 'United Kingdom',\n",
       "        'distance': 483,\n",
       "        'formattedAddress': ['9 Alpine Way',\n",
       "         'Beckton',\n",
       "         'Greater London',\n",
       "         'E6 6LA',\n",
       "         'United Kingdom'],\n",
       "        'labeledLatLngs': [{'label': 'display',\n",
       "          'lat': 51.51527720416674,\n",
       "          'lng': 0.06047142600895339}],\n",
       "        'lat': 51.51527720416674,\n",
       "        'lng': 0.06047142600895339,\n",
       "        'postalCode': 'E6 6LA',\n",
       "        'state': 'Greater London'},\n",
       "       'name': 'Beckton Retail Park',\n",
       "       'photos': {'count': 0, 'groups': []}}},\n",
       "     {'reasons': {'count': 0,\n",
       "       'items': [{'reasonName': 'globalInteractionReason',\n",
       "         'summary': 'This spot is popular',\n",
       "         'type': 'general'}]},\n",
       "      'referralId': 'e-0-4c07fc177e3fc928ea98ef82-7',\n",
       "      'venue': {'categories': [{'icon': {'prefix': 'https://ss3.4sqi.net/img/categories_v2/nightlife/pub_',\n",
       "          'suffix': '.png'},\n",
       "         'id': '4bf58dd8d48988d11b941735',\n",
       "         'name': 'Pub',\n",
       "         'pluralName': 'Pubs',\n",
       "         'primary': True,\n",
       "         'shortName': 'Pub'}],\n",
       "       'id': '4c07fc177e3fc928ea98ef82',\n",
       "       'location': {'address': '1 Woolwich Manor Way',\n",
       "        'cc': 'GB',\n",
       "        'city': 'Beckton',\n",
       "        'country': 'United Kingdom',\n",
       "        'distance': 451,\n",
       "        'formattedAddress': ['1 Woolwich Manor Way',\n",
       "         'Beckton',\n",
       "         'Greater London',\n",
       "         'E6 5NT',\n",
       "         'United Kingdom'],\n",
       "        'labeledLatLngs': [{'label': 'display',\n",
       "          'lat': 51.51481196163808,\n",
       "          'lng': 0.06086126705726321}],\n",
       "        'lat': 51.51481196163808,\n",
       "        'lng': 0.06086126705726321,\n",
       "        'postalCode': 'E6 5NT',\n",
       "        'state': 'Greater London'},\n",
       "       'name': 'Brewers Fayre',\n",
       "       'photos': {'count': 0, 'groups': []}}}],\n",
       "    'name': 'recommended',\n",
       "    'type': 'Recommended Places'}],\n",
       "  'headerFullLocation': 'Beckton, London',\n",
       "  'headerLocation': 'Beckton',\n",
       "  'headerLocationGranularity': 'neighborhood',\n",
       "  'suggestedBounds': {'ne': {'lat': 51.519142004500004,\n",
       "    'lng': 0.07459257505421912},\n",
       "   'sw': {'lat': 51.5101419955, 'lng': 0.060157424945780885}},\n",
       "  'suggestedFilters': {'filters': [{'key': 'openNow', 'name': 'Open now'}],\n",
       "   'header': 'Tap to show:'},\n",
       "  'totalResults': 8}}"
      ]
     },
     "execution_count": 153,
     "metadata": {},
     "output_type": "execute_result"
    }
   ],
   "source": [
    "results = requests.get(url).json()\n",
    "results"
   ]
  },
  {
   "cell_type": "markdown",
   "metadata": {},
   "source": [
    "#### Extract the Categories of the Venues"
   ]
  },
  {
   "cell_type": "code",
   "execution_count": 154,
   "metadata": {},
   "outputs": [],
   "source": [
    "# function that extracts the category of the venue\n",
    "def get_category_type(row):\n",
    "    try:\n",
    "        categories_list = row['categories']\n",
    "    except:\n",
    "        categories_list = row['venue.categories']\n",
    "        \n",
    "    if len(categories_list) == 0:\n",
    "        return None\n",
    "    else:\n",
    "        return categories_list[0]['name']"
   ]
  },
  {
   "cell_type": "markdown",
   "metadata": {},
   "source": [
    "#### We are ready to clean the json and structure it into a pandas dataframe."
   ]
  },
  {
   "cell_type": "code",
   "execution_count": 155,
   "metadata": {},
   "outputs": [
    {
     "data": {
      "text/html": [
       "<div>\n",
       "<style scoped>\n",
       "    .dataframe tbody tr th:only-of-type {\n",
       "        vertical-align: middle;\n",
       "    }\n",
       "\n",
       "    .dataframe tbody tr th {\n",
       "        vertical-align: top;\n",
       "    }\n",
       "\n",
       "    .dataframe thead th {\n",
       "        text-align: right;\n",
       "    }\n",
       "</style>\n",
       "<table border=\"1\" class=\"dataframe\">\n",
       "  <thead>\n",
       "    <tr style=\"text-align: right;\">\n",
       "      <th></th>\n",
       "      <th>name</th>\n",
       "      <th>categories</th>\n",
       "      <th>lat</th>\n",
       "      <th>lng</th>\n",
       "    </tr>\n",
       "  </thead>\n",
       "  <tbody>\n",
       "    <tr>\n",
       "      <th>0</th>\n",
       "      <td>Lituanica</td>\n",
       "      <td>Grocery Store</td>\n",
       "      <td>51.516442</td>\n",
       "      <td>0.062927</td>\n",
       "    </tr>\n",
       "    <tr>\n",
       "      <th>1</th>\n",
       "      <td>Home Bargains</td>\n",
       "      <td>Discount Store</td>\n",
       "      <td>51.517190</td>\n",
       "      <td>0.062754</td>\n",
       "    </tr>\n",
       "    <tr>\n",
       "      <th>2</th>\n",
       "      <td>Premier Inn London Beckton</td>\n",
       "      <td>Hotel</td>\n",
       "      <td>51.515017</td>\n",
       "      <td>0.060978</td>\n",
       "    </tr>\n",
       "    <tr>\n",
       "      <th>3</th>\n",
       "      <td>Dreams Beckton</td>\n",
       "      <td>Furniture / Home Store</td>\n",
       "      <td>51.516101</td>\n",
       "      <td>0.063028</td>\n",
       "    </tr>\n",
       "    <tr>\n",
       "      <th>4</th>\n",
       "      <td>Beckton DLR Station</td>\n",
       "      <td>Light Rail Station</td>\n",
       "      <td>51.514365</td>\n",
       "      <td>0.061460</td>\n",
       "    </tr>\n",
       "  </tbody>\n",
       "</table>\n",
       "</div>"
      ],
      "text/plain": [
       "                         name              categories        lat       lng\n",
       "0                   Lituanica           Grocery Store  51.516442  0.062927\n",
       "1               Home Bargains          Discount Store  51.517190  0.062754\n",
       "2  Premier Inn London Beckton                   Hotel  51.515017  0.060978\n",
       "3              Dreams Beckton  Furniture / Home Store  51.516101  0.063028\n",
       "4         Beckton DLR Station      Light Rail Station  51.514365  0.061460"
      ]
     },
     "execution_count": 155,
     "metadata": {},
     "output_type": "execute_result"
    }
   ],
   "source": [
    "venues = results['response']['groups'][0]['items']\n",
    "nearby_venues = json_normalize(venues) # flatten JSON\n",
    "\n",
    "# filter columns\n",
    "filtered_columns = ['venue.name', 'venue.categories', 'venue.location.lat', 'venue.location.lng']\n",
    "nearby_venues =nearby_venues.loc[:, filtered_columns]\n",
    "\n",
    "# filter the category for each row\n",
    "nearby_venues['venue.categories'] = nearby_venues.apply(get_category_type, axis=1)\n",
    "\n",
    "# clean columns\n",
    "nearby_venues.columns = [col.split(\".\")[-1] for col in nearby_venues.columns]\n",
    "nearby_venues.head()"
   ]
  },
  {
   "cell_type": "code",
   "execution_count": 156,
   "metadata": {},
   "outputs": [
    {
     "data": {
      "text/plain": [
       "(8, 4)"
      ]
     },
     "execution_count": 156,
     "metadata": {},
     "output_type": "execute_result"
    }
   ],
   "source": [
    "nearby_venues.shape"
   ]
  },
  {
   "cell_type": "code",
   "execution_count": 157,
   "metadata": {},
   "outputs": [
    {
     "data": {
      "text/plain": [
       "Premier Inn London Beckton    1\n",
       "Beckton Retail Park           1\n",
       "Matalan                       1\n",
       "Beckton DLR Station           1\n",
       "Dreams Beckton                1\n",
       "Brewers Fayre                 1\n",
       "Home Bargains                 1\n",
       "Lituanica                     1\n",
       "Name: name, dtype: int64"
      ]
     },
     "execution_count": 157,
     "metadata": {},
     "output_type": "execute_result"
    }
   ],
   "source": [
    "nearby_venues['name'].value_counts()"
   ]
  },
  {
   "cell_type": "markdown",
   "metadata": {},
   "source": [
    "#### And how many venues were returned by Foursquare?"
   ]
  },
  {
   "cell_type": "code",
   "execution_count": 158,
   "metadata": {},
   "outputs": [
    {
     "name": "stdout",
     "output_type": "stream",
     "text": [
      "8 venues were returned by Foursquare.\n"
     ]
    }
   ],
   "source": [
    "print('{} venues were returned by Foursquare.'.format(nearby_venues.shape[0]))"
   ]
  },
  {
   "cell_type": "markdown",
   "metadata": {},
   "source": [
    "### 2) Explore Neighborhoods in Newham Borough"
   ]
  },
  {
   "cell_type": "code",
   "execution_count": 159,
   "metadata": {},
   "outputs": [],
   "source": [
    "def getNearbyVenues(names, latitudes, longitudes, radius=500):\n",
    "    \n",
    "    venues_list=[]\n",
    "    for name, lat, lng in zip(names, latitudes, longitudes):\n",
    "        print(name)\n",
    "            \n",
    "        # create the API request URL\n",
    "        url = 'https://api.foursquare.com/v2/venues/explore?&client_id={}&client_secret={}&v={}&ll={},{}&radius={}&limit={}'.format(\n",
    "            CLIENT_ID, \n",
    "            CLIENT_SECRET, \n",
    "            VERSION, \n",
    "            lat, \n",
    "            lng, \n",
    "            radius, \n",
    "            LIMIT)\n",
    "            \n",
    "        # make the GET request\n",
    "        results = requests.get(url).json()[\"response\"]['groups'][0]['items']\n",
    "        \n",
    "        # return only relevant information for each nearby venue\n",
    "        venues_list.append([(\n",
    "            name, \n",
    "            lat, \n",
    "            lng, \n",
    "            v['venue']['name'], \n",
    "            v['venue']['location']['lat'], \n",
    "            v['venue']['location']['lng'],  \n",
    "            v['venue']['categories'][0]['name']) for v in results])\n",
    "\n",
    "    nearby_venues = pd.DataFrame([item for venue_list in venues_list for item in venue_list])\n",
    "    nearby_venues.columns = ['Neighborhood', \n",
    "                             'Neighborhood Latitude', \n",
    "                             'Neighborhood Longitude', \n",
    "                             'Venue', \n",
    "                             'Venue Latitude', \n",
    "                             'Venue Longitude', \n",
    "                             'Venue Category']\n",
    "    \n",
    "    return(nearby_venues)"
   ]
  },
  {
   "cell_type": "markdown",
   "metadata": {},
   "source": [
    "#### Now write the code to run the above function on each neighborhood and create a new dataframe called Newham venues"
   ]
  },
  {
   "cell_type": "code",
   "execution_count": 160,
   "metadata": {},
   "outputs": [
    {
     "name": "stdout",
     "output_type": "stream",
     "text": [
      "Beckton\n",
      "Canning Town\n",
      "Custom House\n",
      "East Ham\n",
      "Forest Gate\n",
      "Little Ilford\n",
      "Manor Park\n",
      "Maryland\n",
      "North Woolwich\n",
      "Plaistow\n",
      "Silvertown\n",
      "Stratford\n",
      "Upton Park\n",
      "West Ham\n"
     ]
    }
   ],
   "source": [
    "Newham_venues = getNearbyVenues(names=Newham_borough['Neighborhood'],\n",
    "                                   latitudes=Newham_borough['Latitude'],\n",
    "                                   longitudes=Newham_borough['Longitude']\n",
    "                                  )"
   ]
  },
  {
   "cell_type": "code",
   "execution_count": 161,
   "metadata": {},
   "outputs": [
    {
     "data": {
      "text/plain": [
       "(208, 7)"
      ]
     },
     "execution_count": 161,
     "metadata": {},
     "output_type": "execute_result"
    }
   ],
   "source": [
    "Newham_venues.shape"
   ]
  },
  {
   "cell_type": "code",
   "execution_count": 162,
   "metadata": {},
   "outputs": [
    {
     "data": {
      "text/html": [
       "<div>\n",
       "<style scoped>\n",
       "    .dataframe tbody tr th:only-of-type {\n",
       "        vertical-align: middle;\n",
       "    }\n",
       "\n",
       "    .dataframe tbody tr th {\n",
       "        vertical-align: top;\n",
       "    }\n",
       "\n",
       "    .dataframe thead th {\n",
       "        text-align: right;\n",
       "    }\n",
       "</style>\n",
       "<table border=\"1\" class=\"dataframe\">\n",
       "  <thead>\n",
       "    <tr style=\"text-align: right;\">\n",
       "      <th></th>\n",
       "      <th>Neighborhood</th>\n",
       "      <th>Neighborhood Latitude</th>\n",
       "      <th>Neighborhood Longitude</th>\n",
       "      <th>Venue</th>\n",
       "      <th>Venue Latitude</th>\n",
       "      <th>Venue Longitude</th>\n",
       "      <th>Venue Category</th>\n",
       "    </tr>\n",
       "  </thead>\n",
       "  <tbody>\n",
       "    <tr>\n",
       "      <th>0</th>\n",
       "      <td>Beckton</td>\n",
       "      <td>51.514642</td>\n",
       "      <td>0.067375</td>\n",
       "      <td>Lituanica</td>\n",
       "      <td>51.516442</td>\n",
       "      <td>0.062927</td>\n",
       "      <td>Grocery Store</td>\n",
       "    </tr>\n",
       "    <tr>\n",
       "      <th>1</th>\n",
       "      <td>Beckton</td>\n",
       "      <td>51.514642</td>\n",
       "      <td>0.067375</td>\n",
       "      <td>Home Bargains</td>\n",
       "      <td>51.517190</td>\n",
       "      <td>0.062754</td>\n",
       "      <td>Discount Store</td>\n",
       "    </tr>\n",
       "    <tr>\n",
       "      <th>2</th>\n",
       "      <td>Beckton</td>\n",
       "      <td>51.514642</td>\n",
       "      <td>0.067375</td>\n",
       "      <td>Premier Inn London Beckton</td>\n",
       "      <td>51.515017</td>\n",
       "      <td>0.060978</td>\n",
       "      <td>Hotel</td>\n",
       "    </tr>\n",
       "    <tr>\n",
       "      <th>3</th>\n",
       "      <td>Beckton</td>\n",
       "      <td>51.514642</td>\n",
       "      <td>0.067375</td>\n",
       "      <td>Dreams Beckton</td>\n",
       "      <td>51.516101</td>\n",
       "      <td>0.063028</td>\n",
       "      <td>Furniture / Home Store</td>\n",
       "    </tr>\n",
       "    <tr>\n",
       "      <th>4</th>\n",
       "      <td>Beckton</td>\n",
       "      <td>51.514642</td>\n",
       "      <td>0.067375</td>\n",
       "      <td>Beckton DLR Station</td>\n",
       "      <td>51.514365</td>\n",
       "      <td>0.061460</td>\n",
       "      <td>Light Rail Station</td>\n",
       "    </tr>\n",
       "  </tbody>\n",
       "</table>\n",
       "</div>"
      ],
      "text/plain": [
       "  Neighborhood  Neighborhood Latitude  Neighborhood Longitude  \\\n",
       "0      Beckton              51.514642                0.067375   \n",
       "1      Beckton              51.514642                0.067375   \n",
       "2      Beckton              51.514642                0.067375   \n",
       "3      Beckton              51.514642                0.067375   \n",
       "4      Beckton              51.514642                0.067375   \n",
       "\n",
       "                        Venue  Venue Latitude  Venue Longitude  \\\n",
       "0                   Lituanica       51.516442         0.062927   \n",
       "1               Home Bargains       51.517190         0.062754   \n",
       "2  Premier Inn London Beckton       51.515017         0.060978   \n",
       "3              Dreams Beckton       51.516101         0.063028   \n",
       "4         Beckton DLR Station       51.514365         0.061460   \n",
       "\n",
       "           Venue Category  \n",
       "0           Grocery Store  \n",
       "1          Discount Store  \n",
       "2                   Hotel  \n",
       "3  Furniture / Home Store  \n",
       "4      Light Rail Station  "
      ]
     },
     "execution_count": 162,
     "metadata": {},
     "output_type": "execute_result"
    }
   ],
   "source": [
    "Newham_venues.head()"
   ]
  },
  {
   "cell_type": "markdown",
   "metadata": {},
   "source": [
    "#### Let's check how many venues were returned for each neighborhood"
   ]
  },
  {
   "cell_type": "code",
   "execution_count": 163,
   "metadata": {},
   "outputs": [
    {
     "data": {
      "text/html": [
       "<div>\n",
       "<style scoped>\n",
       "    .dataframe tbody tr th:only-of-type {\n",
       "        vertical-align: middle;\n",
       "    }\n",
       "\n",
       "    .dataframe tbody tr th {\n",
       "        vertical-align: top;\n",
       "    }\n",
       "\n",
       "    .dataframe thead th {\n",
       "        text-align: right;\n",
       "    }\n",
       "</style>\n",
       "<table border=\"1\" class=\"dataframe\">\n",
       "  <thead>\n",
       "    <tr style=\"text-align: right;\">\n",
       "      <th></th>\n",
       "      <th>Neighborhood Latitude</th>\n",
       "      <th>Neighborhood Longitude</th>\n",
       "      <th>Venue</th>\n",
       "      <th>Venue Latitude</th>\n",
       "      <th>Venue Longitude</th>\n",
       "      <th>Venue Category</th>\n",
       "    </tr>\n",
       "    <tr>\n",
       "      <th>Neighborhood</th>\n",
       "      <th></th>\n",
       "      <th></th>\n",
       "      <th></th>\n",
       "      <th></th>\n",
       "      <th></th>\n",
       "      <th></th>\n",
       "    </tr>\n",
       "  </thead>\n",
       "  <tbody>\n",
       "    <tr>\n",
       "      <th>Beckton</th>\n",
       "      <td>8</td>\n",
       "      <td>8</td>\n",
       "      <td>8</td>\n",
       "      <td>8</td>\n",
       "      <td>8</td>\n",
       "      <td>8</td>\n",
       "    </tr>\n",
       "    <tr>\n",
       "      <th>Canning Town</th>\n",
       "      <td>4</td>\n",
       "      <td>4</td>\n",
       "      <td>4</td>\n",
       "      <td>4</td>\n",
       "      <td>4</td>\n",
       "      <td>4</td>\n",
       "    </tr>\n",
       "    <tr>\n",
       "      <th>Custom House</th>\n",
       "      <td>26</td>\n",
       "      <td>26</td>\n",
       "      <td>26</td>\n",
       "      <td>26</td>\n",
       "      <td>26</td>\n",
       "      <td>26</td>\n",
       "    </tr>\n",
       "    <tr>\n",
       "      <th>East Ham</th>\n",
       "      <td>20</td>\n",
       "      <td>20</td>\n",
       "      <td>20</td>\n",
       "      <td>20</td>\n",
       "      <td>20</td>\n",
       "      <td>20</td>\n",
       "    </tr>\n",
       "    <tr>\n",
       "      <th>Forest Gate</th>\n",
       "      <td>9</td>\n",
       "      <td>9</td>\n",
       "      <td>9</td>\n",
       "      <td>9</td>\n",
       "      <td>9</td>\n",
       "      <td>9</td>\n",
       "    </tr>\n",
       "    <tr>\n",
       "      <th>Little Ilford</th>\n",
       "      <td>4</td>\n",
       "      <td>4</td>\n",
       "      <td>4</td>\n",
       "      <td>4</td>\n",
       "      <td>4</td>\n",
       "      <td>4</td>\n",
       "    </tr>\n",
       "    <tr>\n",
       "      <th>Manor Park</th>\n",
       "      <td>4</td>\n",
       "      <td>4</td>\n",
       "      <td>4</td>\n",
       "      <td>4</td>\n",
       "      <td>4</td>\n",
       "      <td>4</td>\n",
       "    </tr>\n",
       "    <tr>\n",
       "      <th>Maryland</th>\n",
       "      <td>22</td>\n",
       "      <td>22</td>\n",
       "      <td>22</td>\n",
       "      <td>22</td>\n",
       "      <td>22</td>\n",
       "      <td>22</td>\n",
       "    </tr>\n",
       "    <tr>\n",
       "      <th>North Woolwich</th>\n",
       "      <td>18</td>\n",
       "      <td>18</td>\n",
       "      <td>18</td>\n",
       "      <td>18</td>\n",
       "      <td>18</td>\n",
       "      <td>18</td>\n",
       "    </tr>\n",
       "    <tr>\n",
       "      <th>Plaistow</th>\n",
       "      <td>8</td>\n",
       "      <td>8</td>\n",
       "      <td>8</td>\n",
       "      <td>8</td>\n",
       "      <td>8</td>\n",
       "      <td>8</td>\n",
       "    </tr>\n",
       "    <tr>\n",
       "      <th>Silvertown</th>\n",
       "      <td>8</td>\n",
       "      <td>8</td>\n",
       "      <td>8</td>\n",
       "      <td>8</td>\n",
       "      <td>8</td>\n",
       "      <td>8</td>\n",
       "    </tr>\n",
       "    <tr>\n",
       "      <th>Stratford</th>\n",
       "      <td>67</td>\n",
       "      <td>67</td>\n",
       "      <td>67</td>\n",
       "      <td>67</td>\n",
       "      <td>67</td>\n",
       "      <td>67</td>\n",
       "    </tr>\n",
       "    <tr>\n",
       "      <th>Upton Park</th>\n",
       "      <td>5</td>\n",
       "      <td>5</td>\n",
       "      <td>5</td>\n",
       "      <td>5</td>\n",
       "      <td>5</td>\n",
       "      <td>5</td>\n",
       "    </tr>\n",
       "    <tr>\n",
       "      <th>West Ham</th>\n",
       "      <td>5</td>\n",
       "      <td>5</td>\n",
       "      <td>5</td>\n",
       "      <td>5</td>\n",
       "      <td>5</td>\n",
       "      <td>5</td>\n",
       "    </tr>\n",
       "  </tbody>\n",
       "</table>\n",
       "</div>"
      ],
      "text/plain": [
       "                Neighborhood Latitude  Neighborhood Longitude  Venue  \\\n",
       "Neighborhood                                                           \n",
       "Beckton                             8                       8      8   \n",
       "Canning Town                        4                       4      4   \n",
       "Custom House                       26                      26     26   \n",
       "East Ham                           20                      20     20   \n",
       "Forest Gate                         9                       9      9   \n",
       "Little Ilford                       4                       4      4   \n",
       "Manor Park                          4                       4      4   \n",
       "Maryland                           22                      22     22   \n",
       "North Woolwich                     18                      18     18   \n",
       "Plaistow                            8                       8      8   \n",
       "Silvertown                          8                       8      8   \n",
       "Stratford                          67                      67     67   \n",
       "Upton Park                          5                       5      5   \n",
       "West Ham                            5                       5      5   \n",
       "\n",
       "                Venue Latitude  Venue Longitude  Venue Category  \n",
       "Neighborhood                                                     \n",
       "Beckton                      8                8               8  \n",
       "Canning Town                 4                4               4  \n",
       "Custom House                26               26              26  \n",
       "East Ham                    20               20              20  \n",
       "Forest Gate                  9                9               9  \n",
       "Little Ilford                4                4               4  \n",
       "Manor Park                   4                4               4  \n",
       "Maryland                    22               22              22  \n",
       "North Woolwich              18               18              18  \n",
       "Plaistow                     8                8               8  \n",
       "Silvertown                   8                8               8  \n",
       "Stratford                   67               67              67  \n",
       "Upton Park                   5                5               5  \n",
       "West Ham                     5                5               5  "
      ]
     },
     "execution_count": 163,
     "metadata": {},
     "output_type": "execute_result"
    }
   ],
   "source": [
    "Newham_venues.groupby('Neighborhood').count()"
   ]
  },
  {
   "cell_type": "markdown",
   "metadata": {},
   "source": [
    "#### Let's find out how many unique categories can be curated from all the returned venues  "
   ]
  },
  {
   "cell_type": "code",
   "execution_count": 164,
   "metadata": {},
   "outputs": [
    {
     "name": "stdout",
     "output_type": "stream",
     "text": [
      "There are 95 uniques categories.\n"
     ]
    }
   ],
   "source": [
    "print('There are {} uniques categories.'.format(len(Newham_venues['Venue Category'].unique())))"
   ]
  },
  {
   "cell_type": "markdown",
   "metadata": {},
   "source": [
    "## 3) Analyze Each Neighborhood in Newham borough"
   ]
  },
  {
   "cell_type": "code",
   "execution_count": 165,
   "metadata": {},
   "outputs": [
    {
     "data": {
      "text/html": [
       "<div>\n",
       "<style scoped>\n",
       "    .dataframe tbody tr th:only-of-type {\n",
       "        vertical-align: middle;\n",
       "    }\n",
       "\n",
       "    .dataframe tbody tr th {\n",
       "        vertical-align: top;\n",
       "    }\n",
       "\n",
       "    .dataframe thead th {\n",
       "        text-align: right;\n",
       "    }\n",
       "</style>\n",
       "<table border=\"1\" class=\"dataframe\">\n",
       "  <thead>\n",
       "    <tr style=\"text-align: right;\">\n",
       "      <th></th>\n",
       "      <th>Neighborhood</th>\n",
       "      <th>Accessories Store</th>\n",
       "      <th>American Restaurant</th>\n",
       "      <th>Art Gallery</th>\n",
       "      <th>Asian Restaurant</th>\n",
       "      <th>Bagel Shop</th>\n",
       "      <th>Bakery</th>\n",
       "      <th>Bar</th>\n",
       "      <th>Boat or Ferry</th>\n",
       "      <th>Bookstore</th>\n",
       "      <th>...</th>\n",
       "      <th>Tapas Restaurant</th>\n",
       "      <th>Tennis Court</th>\n",
       "      <th>Thai Restaurant</th>\n",
       "      <th>Theater</th>\n",
       "      <th>Toy / Game Store</th>\n",
       "      <th>Train Station</th>\n",
       "      <th>Tunnel</th>\n",
       "      <th>Turkish Restaurant</th>\n",
       "      <th>Warehouse Store</th>\n",
       "      <th>Wine Bar</th>\n",
       "    </tr>\n",
       "  </thead>\n",
       "  <tbody>\n",
       "    <tr>\n",
       "      <th>0</th>\n",
       "      <td>Beckton</td>\n",
       "      <td>0</td>\n",
       "      <td>0</td>\n",
       "      <td>0</td>\n",
       "      <td>0</td>\n",
       "      <td>0</td>\n",
       "      <td>0</td>\n",
       "      <td>0</td>\n",
       "      <td>0</td>\n",
       "      <td>0</td>\n",
       "      <td>...</td>\n",
       "      <td>0</td>\n",
       "      <td>0</td>\n",
       "      <td>0</td>\n",
       "      <td>0</td>\n",
       "      <td>0</td>\n",
       "      <td>0</td>\n",
       "      <td>0</td>\n",
       "      <td>0</td>\n",
       "      <td>0</td>\n",
       "      <td>0</td>\n",
       "    </tr>\n",
       "    <tr>\n",
       "      <th>1</th>\n",
       "      <td>Beckton</td>\n",
       "      <td>0</td>\n",
       "      <td>0</td>\n",
       "      <td>0</td>\n",
       "      <td>0</td>\n",
       "      <td>0</td>\n",
       "      <td>0</td>\n",
       "      <td>0</td>\n",
       "      <td>0</td>\n",
       "      <td>0</td>\n",
       "      <td>...</td>\n",
       "      <td>0</td>\n",
       "      <td>0</td>\n",
       "      <td>0</td>\n",
       "      <td>0</td>\n",
       "      <td>0</td>\n",
       "      <td>0</td>\n",
       "      <td>0</td>\n",
       "      <td>0</td>\n",
       "      <td>0</td>\n",
       "      <td>0</td>\n",
       "    </tr>\n",
       "    <tr>\n",
       "      <th>2</th>\n",
       "      <td>Beckton</td>\n",
       "      <td>0</td>\n",
       "      <td>0</td>\n",
       "      <td>0</td>\n",
       "      <td>0</td>\n",
       "      <td>0</td>\n",
       "      <td>0</td>\n",
       "      <td>0</td>\n",
       "      <td>0</td>\n",
       "      <td>0</td>\n",
       "      <td>...</td>\n",
       "      <td>0</td>\n",
       "      <td>0</td>\n",
       "      <td>0</td>\n",
       "      <td>0</td>\n",
       "      <td>0</td>\n",
       "      <td>0</td>\n",
       "      <td>0</td>\n",
       "      <td>0</td>\n",
       "      <td>0</td>\n",
       "      <td>0</td>\n",
       "    </tr>\n",
       "    <tr>\n",
       "      <th>3</th>\n",
       "      <td>Beckton</td>\n",
       "      <td>0</td>\n",
       "      <td>0</td>\n",
       "      <td>0</td>\n",
       "      <td>0</td>\n",
       "      <td>0</td>\n",
       "      <td>0</td>\n",
       "      <td>0</td>\n",
       "      <td>0</td>\n",
       "      <td>0</td>\n",
       "      <td>...</td>\n",
       "      <td>0</td>\n",
       "      <td>0</td>\n",
       "      <td>0</td>\n",
       "      <td>0</td>\n",
       "      <td>0</td>\n",
       "      <td>0</td>\n",
       "      <td>0</td>\n",
       "      <td>0</td>\n",
       "      <td>0</td>\n",
       "      <td>0</td>\n",
       "    </tr>\n",
       "    <tr>\n",
       "      <th>4</th>\n",
       "      <td>Beckton</td>\n",
       "      <td>0</td>\n",
       "      <td>0</td>\n",
       "      <td>0</td>\n",
       "      <td>0</td>\n",
       "      <td>0</td>\n",
       "      <td>0</td>\n",
       "      <td>0</td>\n",
       "      <td>0</td>\n",
       "      <td>0</td>\n",
       "      <td>...</td>\n",
       "      <td>0</td>\n",
       "      <td>0</td>\n",
       "      <td>0</td>\n",
       "      <td>0</td>\n",
       "      <td>0</td>\n",
       "      <td>0</td>\n",
       "      <td>0</td>\n",
       "      <td>0</td>\n",
       "      <td>0</td>\n",
       "      <td>0</td>\n",
       "    </tr>\n",
       "  </tbody>\n",
       "</table>\n",
       "<p>5 rows × 96 columns</p>\n",
       "</div>"
      ],
      "text/plain": [
       "  Neighborhood  Accessories Store  American Restaurant  Art Gallery  \\\n",
       "0      Beckton                  0                    0            0   \n",
       "1      Beckton                  0                    0            0   \n",
       "2      Beckton                  0                    0            0   \n",
       "3      Beckton                  0                    0            0   \n",
       "4      Beckton                  0                    0            0   \n",
       "\n",
       "   Asian Restaurant  Bagel Shop  Bakery  Bar  Boat or Ferry  Bookstore  \\\n",
       "0                 0           0       0    0              0          0   \n",
       "1                 0           0       0    0              0          0   \n",
       "2                 0           0       0    0              0          0   \n",
       "3                 0           0       0    0              0          0   \n",
       "4                 0           0       0    0              0          0   \n",
       "\n",
       "     ...     Tapas Restaurant  Tennis Court  Thai Restaurant  Theater  \\\n",
       "0    ...                    0             0                0        0   \n",
       "1    ...                    0             0                0        0   \n",
       "2    ...                    0             0                0        0   \n",
       "3    ...                    0             0                0        0   \n",
       "4    ...                    0             0                0        0   \n",
       "\n",
       "   Toy / Game Store  Train Station  Tunnel  Turkish Restaurant  \\\n",
       "0                 0              0       0                   0   \n",
       "1                 0              0       0                   0   \n",
       "2                 0              0       0                   0   \n",
       "3                 0              0       0                   0   \n",
       "4                 0              0       0                   0   \n",
       "\n",
       "   Warehouse Store  Wine Bar  \n",
       "0                0         0  \n",
       "1                0         0  \n",
       "2                0         0  \n",
       "3                0         0  \n",
       "4                0         0  \n",
       "\n",
       "[5 rows x 96 columns]"
      ]
     },
     "execution_count": 165,
     "metadata": {},
     "output_type": "execute_result"
    }
   ],
   "source": [
    "# one hot encoding\n",
    "Newham_onehot = pd.get_dummies(Newham_venues[['Venue Category']], prefix=\"\", prefix_sep=\"\")\n",
    "\n",
    "# add neighborhood column back to dataframe\n",
    "Newham_onehot['Neighborhood'] = Newham_venues['Neighborhood'] \n",
    "\n",
    "# move neighborhood column to the first column\n",
    "fixed_columns = [Newham_onehot.columns[-1]] + list(Newham_onehot.columns[:-1])\n",
    "Newham_onehot = Newham_onehot[fixed_columns]\n",
    "\n",
    "Newham_onehot.head()"
   ]
  },
  {
   "cell_type": "code",
   "execution_count": 166,
   "metadata": {},
   "outputs": [
    {
     "data": {
      "text/plain": [
       "(208, 96)"
      ]
     },
     "execution_count": 166,
     "metadata": {},
     "output_type": "execute_result"
    }
   ],
   "source": [
    "Newham_onehot.shape"
   ]
  },
  {
   "cell_type": "markdown",
   "metadata": {},
   "source": [
    "#### Let's group rows by neighborhood and by taking the mean of the frequency of occurrence of each category"
   ]
  },
  {
   "cell_type": "code",
   "execution_count": 167,
   "metadata": {},
   "outputs": [
    {
     "data": {
      "text/html": [
       "<div>\n",
       "<style scoped>\n",
       "    .dataframe tbody tr th:only-of-type {\n",
       "        vertical-align: middle;\n",
       "    }\n",
       "\n",
       "    .dataframe tbody tr th {\n",
       "        vertical-align: top;\n",
       "    }\n",
       "\n",
       "    .dataframe thead th {\n",
       "        text-align: right;\n",
       "    }\n",
       "</style>\n",
       "<table border=\"1\" class=\"dataframe\">\n",
       "  <thead>\n",
       "    <tr style=\"text-align: right;\">\n",
       "      <th></th>\n",
       "      <th>Neighborhood</th>\n",
       "      <th>Accessories Store</th>\n",
       "      <th>American Restaurant</th>\n",
       "      <th>Art Gallery</th>\n",
       "      <th>Asian Restaurant</th>\n",
       "      <th>Bagel Shop</th>\n",
       "      <th>Bakery</th>\n",
       "      <th>Bar</th>\n",
       "      <th>Boat or Ferry</th>\n",
       "      <th>Bookstore</th>\n",
       "      <th>...</th>\n",
       "      <th>Tapas Restaurant</th>\n",
       "      <th>Tennis Court</th>\n",
       "      <th>Thai Restaurant</th>\n",
       "      <th>Theater</th>\n",
       "      <th>Toy / Game Store</th>\n",
       "      <th>Train Station</th>\n",
       "      <th>Tunnel</th>\n",
       "      <th>Turkish Restaurant</th>\n",
       "      <th>Warehouse Store</th>\n",
       "      <th>Wine Bar</th>\n",
       "    </tr>\n",
       "  </thead>\n",
       "  <tbody>\n",
       "    <tr>\n",
       "      <th>0</th>\n",
       "      <td>Beckton</td>\n",
       "      <td>0.000000</td>\n",
       "      <td>0.000000</td>\n",
       "      <td>0.000000</td>\n",
       "      <td>0.000000</td>\n",
       "      <td>0.000000</td>\n",
       "      <td>0.000000</td>\n",
       "      <td>0.000000</td>\n",
       "      <td>0.000000</td>\n",
       "      <td>0.000000</td>\n",
       "      <td>...</td>\n",
       "      <td>0.000000</td>\n",
       "      <td>0.00</td>\n",
       "      <td>0.000000</td>\n",
       "      <td>0.000</td>\n",
       "      <td>0.000000</td>\n",
       "      <td>0.000000</td>\n",
       "      <td>0.000000</td>\n",
       "      <td>0.00</td>\n",
       "      <td>0.000000</td>\n",
       "      <td>0.000000</td>\n",
       "    </tr>\n",
       "    <tr>\n",
       "      <th>1</th>\n",
       "      <td>Canning Town</td>\n",
       "      <td>0.000000</td>\n",
       "      <td>0.000000</td>\n",
       "      <td>0.000000</td>\n",
       "      <td>0.000000</td>\n",
       "      <td>0.000000</td>\n",
       "      <td>0.000000</td>\n",
       "      <td>0.000000</td>\n",
       "      <td>0.000000</td>\n",
       "      <td>0.000000</td>\n",
       "      <td>...</td>\n",
       "      <td>0.000000</td>\n",
       "      <td>0.25</td>\n",
       "      <td>0.000000</td>\n",
       "      <td>0.000</td>\n",
       "      <td>0.000000</td>\n",
       "      <td>0.000000</td>\n",
       "      <td>0.000000</td>\n",
       "      <td>0.00</td>\n",
       "      <td>0.000000</td>\n",
       "      <td>0.000000</td>\n",
       "    </tr>\n",
       "    <tr>\n",
       "      <th>2</th>\n",
       "      <td>Custom House</td>\n",
       "      <td>0.000000</td>\n",
       "      <td>0.038462</td>\n",
       "      <td>0.000000</td>\n",
       "      <td>0.000000</td>\n",
       "      <td>0.038462</td>\n",
       "      <td>0.038462</td>\n",
       "      <td>0.000000</td>\n",
       "      <td>0.000000</td>\n",
       "      <td>0.000000</td>\n",
       "      <td>...</td>\n",
       "      <td>0.038462</td>\n",
       "      <td>0.00</td>\n",
       "      <td>0.000000</td>\n",
       "      <td>0.000</td>\n",
       "      <td>0.000000</td>\n",
       "      <td>0.000000</td>\n",
       "      <td>0.000000</td>\n",
       "      <td>0.00</td>\n",
       "      <td>0.000000</td>\n",
       "      <td>0.038462</td>\n",
       "    </tr>\n",
       "    <tr>\n",
       "      <th>3</th>\n",
       "      <td>East Ham</td>\n",
       "      <td>0.000000</td>\n",
       "      <td>0.000000</td>\n",
       "      <td>0.000000</td>\n",
       "      <td>0.000000</td>\n",
       "      <td>0.000000</td>\n",
       "      <td>0.050000</td>\n",
       "      <td>0.000000</td>\n",
       "      <td>0.000000</td>\n",
       "      <td>0.050000</td>\n",
       "      <td>...</td>\n",
       "      <td>0.000000</td>\n",
       "      <td>0.00</td>\n",
       "      <td>0.000000</td>\n",
       "      <td>0.000</td>\n",
       "      <td>0.000000</td>\n",
       "      <td>0.000000</td>\n",
       "      <td>0.000000</td>\n",
       "      <td>0.05</td>\n",
       "      <td>0.050000</td>\n",
       "      <td>0.000000</td>\n",
       "    </tr>\n",
       "    <tr>\n",
       "      <th>4</th>\n",
       "      <td>Forest Gate</td>\n",
       "      <td>0.000000</td>\n",
       "      <td>0.000000</td>\n",
       "      <td>0.000000</td>\n",
       "      <td>0.000000</td>\n",
       "      <td>0.000000</td>\n",
       "      <td>0.111111</td>\n",
       "      <td>0.000000</td>\n",
       "      <td>0.000000</td>\n",
       "      <td>0.000000</td>\n",
       "      <td>...</td>\n",
       "      <td>0.000000</td>\n",
       "      <td>0.00</td>\n",
       "      <td>0.000000</td>\n",
       "      <td>0.000</td>\n",
       "      <td>0.000000</td>\n",
       "      <td>0.111111</td>\n",
       "      <td>0.000000</td>\n",
       "      <td>0.00</td>\n",
       "      <td>0.000000</td>\n",
       "      <td>0.000000</td>\n",
       "    </tr>\n",
       "    <tr>\n",
       "      <th>5</th>\n",
       "      <td>Little Ilford</td>\n",
       "      <td>0.000000</td>\n",
       "      <td>0.000000</td>\n",
       "      <td>0.000000</td>\n",
       "      <td>0.000000</td>\n",
       "      <td>0.000000</td>\n",
       "      <td>0.000000</td>\n",
       "      <td>0.000000</td>\n",
       "      <td>0.000000</td>\n",
       "      <td>0.000000</td>\n",
       "      <td>...</td>\n",
       "      <td>0.000000</td>\n",
       "      <td>0.00</td>\n",
       "      <td>0.000000</td>\n",
       "      <td>0.000</td>\n",
       "      <td>0.000000</td>\n",
       "      <td>0.000000</td>\n",
       "      <td>0.000000</td>\n",
       "      <td>0.00</td>\n",
       "      <td>0.000000</td>\n",
       "      <td>0.000000</td>\n",
       "    </tr>\n",
       "    <tr>\n",
       "      <th>6</th>\n",
       "      <td>Manor Park</td>\n",
       "      <td>0.000000</td>\n",
       "      <td>0.000000</td>\n",
       "      <td>0.000000</td>\n",
       "      <td>0.000000</td>\n",
       "      <td>0.000000</td>\n",
       "      <td>0.000000</td>\n",
       "      <td>0.000000</td>\n",
       "      <td>0.000000</td>\n",
       "      <td>0.000000</td>\n",
       "      <td>...</td>\n",
       "      <td>0.000000</td>\n",
       "      <td>0.00</td>\n",
       "      <td>0.000000</td>\n",
       "      <td>0.000</td>\n",
       "      <td>0.000000</td>\n",
       "      <td>0.000000</td>\n",
       "      <td>0.000000</td>\n",
       "      <td>0.25</td>\n",
       "      <td>0.000000</td>\n",
       "      <td>0.000000</td>\n",
       "    </tr>\n",
       "    <tr>\n",
       "      <th>7</th>\n",
       "      <td>Maryland</td>\n",
       "      <td>0.000000</td>\n",
       "      <td>0.000000</td>\n",
       "      <td>0.000000</td>\n",
       "      <td>0.000000</td>\n",
       "      <td>0.000000</td>\n",
       "      <td>0.000000</td>\n",
       "      <td>0.045455</td>\n",
       "      <td>0.000000</td>\n",
       "      <td>0.000000</td>\n",
       "      <td>...</td>\n",
       "      <td>0.000000</td>\n",
       "      <td>0.00</td>\n",
       "      <td>0.000000</td>\n",
       "      <td>0.000</td>\n",
       "      <td>0.000000</td>\n",
       "      <td>0.000000</td>\n",
       "      <td>0.000000</td>\n",
       "      <td>0.00</td>\n",
       "      <td>0.000000</td>\n",
       "      <td>0.000000</td>\n",
       "    </tr>\n",
       "    <tr>\n",
       "      <th>8</th>\n",
       "      <td>North Woolwich</td>\n",
       "      <td>0.000000</td>\n",
       "      <td>0.000000</td>\n",
       "      <td>0.000000</td>\n",
       "      <td>0.000000</td>\n",
       "      <td>0.000000</td>\n",
       "      <td>0.000000</td>\n",
       "      <td>0.000000</td>\n",
       "      <td>0.055556</td>\n",
       "      <td>0.000000</td>\n",
       "      <td>...</td>\n",
       "      <td>0.000000</td>\n",
       "      <td>0.00</td>\n",
       "      <td>0.000000</td>\n",
       "      <td>0.000</td>\n",
       "      <td>0.000000</td>\n",
       "      <td>0.000000</td>\n",
       "      <td>0.055556</td>\n",
       "      <td>0.00</td>\n",
       "      <td>0.000000</td>\n",
       "      <td>0.000000</td>\n",
       "    </tr>\n",
       "    <tr>\n",
       "      <th>9</th>\n",
       "      <td>Plaistow</td>\n",
       "      <td>0.000000</td>\n",
       "      <td>0.000000</td>\n",
       "      <td>0.000000</td>\n",
       "      <td>0.000000</td>\n",
       "      <td>0.000000</td>\n",
       "      <td>0.000000</td>\n",
       "      <td>0.000000</td>\n",
       "      <td>0.000000</td>\n",
       "      <td>0.000000</td>\n",
       "      <td>...</td>\n",
       "      <td>0.000000</td>\n",
       "      <td>0.00</td>\n",
       "      <td>0.000000</td>\n",
       "      <td>0.000</td>\n",
       "      <td>0.000000</td>\n",
       "      <td>0.000000</td>\n",
       "      <td>0.000000</td>\n",
       "      <td>0.00</td>\n",
       "      <td>0.000000</td>\n",
       "      <td>0.000000</td>\n",
       "    </tr>\n",
       "    <tr>\n",
       "      <th>10</th>\n",
       "      <td>Silvertown</td>\n",
       "      <td>0.000000</td>\n",
       "      <td>0.000000</td>\n",
       "      <td>0.000000</td>\n",
       "      <td>0.000000</td>\n",
       "      <td>0.000000</td>\n",
       "      <td>0.000000</td>\n",
       "      <td>0.000000</td>\n",
       "      <td>0.000000</td>\n",
       "      <td>0.000000</td>\n",
       "      <td>...</td>\n",
       "      <td>0.000000</td>\n",
       "      <td>0.00</td>\n",
       "      <td>0.000000</td>\n",
       "      <td>0.125</td>\n",
       "      <td>0.000000</td>\n",
       "      <td>0.000000</td>\n",
       "      <td>0.000000</td>\n",
       "      <td>0.00</td>\n",
       "      <td>0.000000</td>\n",
       "      <td>0.000000</td>\n",
       "    </tr>\n",
       "    <tr>\n",
       "      <th>11</th>\n",
       "      <td>Stratford</td>\n",
       "      <td>0.014925</td>\n",
       "      <td>0.000000</td>\n",
       "      <td>0.014925</td>\n",
       "      <td>0.014925</td>\n",
       "      <td>0.000000</td>\n",
       "      <td>0.014925</td>\n",
       "      <td>0.029851</td>\n",
       "      <td>0.000000</td>\n",
       "      <td>0.029851</td>\n",
       "      <td>...</td>\n",
       "      <td>0.000000</td>\n",
       "      <td>0.00</td>\n",
       "      <td>0.014925</td>\n",
       "      <td>0.000</td>\n",
       "      <td>0.029851</td>\n",
       "      <td>0.000000</td>\n",
       "      <td>0.000000</td>\n",
       "      <td>0.00</td>\n",
       "      <td>0.014925</td>\n",
       "      <td>0.000000</td>\n",
       "    </tr>\n",
       "    <tr>\n",
       "      <th>12</th>\n",
       "      <td>Upton Park</td>\n",
       "      <td>0.000000</td>\n",
       "      <td>0.000000</td>\n",
       "      <td>0.000000</td>\n",
       "      <td>0.000000</td>\n",
       "      <td>0.000000</td>\n",
       "      <td>0.000000</td>\n",
       "      <td>0.000000</td>\n",
       "      <td>0.000000</td>\n",
       "      <td>0.000000</td>\n",
       "      <td>...</td>\n",
       "      <td>0.000000</td>\n",
       "      <td>0.00</td>\n",
       "      <td>0.000000</td>\n",
       "      <td>0.000</td>\n",
       "      <td>0.000000</td>\n",
       "      <td>0.000000</td>\n",
       "      <td>0.000000</td>\n",
       "      <td>0.00</td>\n",
       "      <td>0.000000</td>\n",
       "      <td>0.000000</td>\n",
       "    </tr>\n",
       "    <tr>\n",
       "      <th>13</th>\n",
       "      <td>West Ham</td>\n",
       "      <td>0.000000</td>\n",
       "      <td>0.000000</td>\n",
       "      <td>0.000000</td>\n",
       "      <td>0.000000</td>\n",
       "      <td>0.000000</td>\n",
       "      <td>0.000000</td>\n",
       "      <td>0.000000</td>\n",
       "      <td>0.000000</td>\n",
       "      <td>0.000000</td>\n",
       "      <td>...</td>\n",
       "      <td>0.000000</td>\n",
       "      <td>0.00</td>\n",
       "      <td>0.000000</td>\n",
       "      <td>0.000</td>\n",
       "      <td>0.000000</td>\n",
       "      <td>0.000000</td>\n",
       "      <td>0.000000</td>\n",
       "      <td>0.00</td>\n",
       "      <td>0.000000</td>\n",
       "      <td>0.000000</td>\n",
       "    </tr>\n",
       "  </tbody>\n",
       "</table>\n",
       "<p>14 rows × 96 columns</p>\n",
       "</div>"
      ],
      "text/plain": [
       "      Neighborhood  Accessories Store  American Restaurant  Art Gallery  \\\n",
       "0          Beckton           0.000000             0.000000     0.000000   \n",
       "1     Canning Town           0.000000             0.000000     0.000000   \n",
       "2     Custom House           0.000000             0.038462     0.000000   \n",
       "3         East Ham           0.000000             0.000000     0.000000   \n",
       "4      Forest Gate           0.000000             0.000000     0.000000   \n",
       "5    Little Ilford           0.000000             0.000000     0.000000   \n",
       "6       Manor Park           0.000000             0.000000     0.000000   \n",
       "7         Maryland           0.000000             0.000000     0.000000   \n",
       "8   North Woolwich           0.000000             0.000000     0.000000   \n",
       "9         Plaistow           0.000000             0.000000     0.000000   \n",
       "10      Silvertown           0.000000             0.000000     0.000000   \n",
       "11       Stratford           0.014925             0.000000     0.014925   \n",
       "12      Upton Park           0.000000             0.000000     0.000000   \n",
       "13        West Ham           0.000000             0.000000     0.000000   \n",
       "\n",
       "    Asian Restaurant  Bagel Shop    Bakery       Bar  Boat or Ferry  \\\n",
       "0           0.000000    0.000000  0.000000  0.000000       0.000000   \n",
       "1           0.000000    0.000000  0.000000  0.000000       0.000000   \n",
       "2           0.000000    0.038462  0.038462  0.000000       0.000000   \n",
       "3           0.000000    0.000000  0.050000  0.000000       0.000000   \n",
       "4           0.000000    0.000000  0.111111  0.000000       0.000000   \n",
       "5           0.000000    0.000000  0.000000  0.000000       0.000000   \n",
       "6           0.000000    0.000000  0.000000  0.000000       0.000000   \n",
       "7           0.000000    0.000000  0.000000  0.045455       0.000000   \n",
       "8           0.000000    0.000000  0.000000  0.000000       0.055556   \n",
       "9           0.000000    0.000000  0.000000  0.000000       0.000000   \n",
       "10          0.000000    0.000000  0.000000  0.000000       0.000000   \n",
       "11          0.014925    0.000000  0.014925  0.029851       0.000000   \n",
       "12          0.000000    0.000000  0.000000  0.000000       0.000000   \n",
       "13          0.000000    0.000000  0.000000  0.000000       0.000000   \n",
       "\n",
       "    Bookstore    ...     Tapas Restaurant  Tennis Court  Thai Restaurant  \\\n",
       "0    0.000000    ...             0.000000          0.00         0.000000   \n",
       "1    0.000000    ...             0.000000          0.25         0.000000   \n",
       "2    0.000000    ...             0.038462          0.00         0.000000   \n",
       "3    0.050000    ...             0.000000          0.00         0.000000   \n",
       "4    0.000000    ...             0.000000          0.00         0.000000   \n",
       "5    0.000000    ...             0.000000          0.00         0.000000   \n",
       "6    0.000000    ...             0.000000          0.00         0.000000   \n",
       "7    0.000000    ...             0.000000          0.00         0.000000   \n",
       "8    0.000000    ...             0.000000          0.00         0.000000   \n",
       "9    0.000000    ...             0.000000          0.00         0.000000   \n",
       "10   0.000000    ...             0.000000          0.00         0.000000   \n",
       "11   0.029851    ...             0.000000          0.00         0.014925   \n",
       "12   0.000000    ...             0.000000          0.00         0.000000   \n",
       "13   0.000000    ...             0.000000          0.00         0.000000   \n",
       "\n",
       "    Theater  Toy / Game Store  Train Station    Tunnel  Turkish Restaurant  \\\n",
       "0     0.000          0.000000       0.000000  0.000000                0.00   \n",
       "1     0.000          0.000000       0.000000  0.000000                0.00   \n",
       "2     0.000          0.000000       0.000000  0.000000                0.00   \n",
       "3     0.000          0.000000       0.000000  0.000000                0.05   \n",
       "4     0.000          0.000000       0.111111  0.000000                0.00   \n",
       "5     0.000          0.000000       0.000000  0.000000                0.00   \n",
       "6     0.000          0.000000       0.000000  0.000000                0.25   \n",
       "7     0.000          0.000000       0.000000  0.000000                0.00   \n",
       "8     0.000          0.000000       0.000000  0.055556                0.00   \n",
       "9     0.000          0.000000       0.000000  0.000000                0.00   \n",
       "10    0.125          0.000000       0.000000  0.000000                0.00   \n",
       "11    0.000          0.029851       0.000000  0.000000                0.00   \n",
       "12    0.000          0.000000       0.000000  0.000000                0.00   \n",
       "13    0.000          0.000000       0.000000  0.000000                0.00   \n",
       "\n",
       "    Warehouse Store  Wine Bar  \n",
       "0          0.000000  0.000000  \n",
       "1          0.000000  0.000000  \n",
       "2          0.000000  0.038462  \n",
       "3          0.050000  0.000000  \n",
       "4          0.000000  0.000000  \n",
       "5          0.000000  0.000000  \n",
       "6          0.000000  0.000000  \n",
       "7          0.000000  0.000000  \n",
       "8          0.000000  0.000000  \n",
       "9          0.000000  0.000000  \n",
       "10         0.000000  0.000000  \n",
       "11         0.014925  0.000000  \n",
       "12         0.000000  0.000000  \n",
       "13         0.000000  0.000000  \n",
       "\n",
       "[14 rows x 96 columns]"
      ]
     },
     "execution_count": 167,
     "metadata": {},
     "output_type": "execute_result"
    }
   ],
   "source": [
    "Newham_grouped = Newham_onehot.groupby('Neighborhood').mean().reset_index()\n",
    "Newham_grouped"
   ]
  },
  {
   "cell_type": "code",
   "execution_count": 168,
   "metadata": {},
   "outputs": [
    {
     "data": {
      "text/plain": [
       "Index(['Neighborhood', 'Accessories Store', 'American Restaurant',\n",
       "       'Art Gallery', 'Asian Restaurant', 'Bagel Shop', 'Bakery', 'Bar',\n",
       "       'Boat or Ferry', 'Bookstore', 'Boutique', 'Brewery', 'Bridal Shop',\n",
       "       'Bridge', 'Bubble Tea Shop', 'Burger Joint', 'Bus Line', 'Bus Stop',\n",
       "       'Café', 'Chinese Restaurant', 'Clothing Store', 'Coffee Shop',\n",
       "       'Construction & Landscaping', 'Convenience Store', 'Cosmetics Shop',\n",
       "       'Creperie', 'Dance Studio', 'Department Store', 'Dessert Shop',\n",
       "       'Discount Store', 'Doner Restaurant', 'Eastern European Restaurant',\n",
       "       'Electronics Store', 'English Restaurant', 'Fast Food Restaurant',\n",
       "       'Food Court', 'Fried Chicken Joint', 'Furniture / Home Store',\n",
       "       'Gas Station', 'General Entertainment', 'Gift Shop', 'Go Kart Track',\n",
       "       'Greek Restaurant', 'Grocery Store', 'Gym / Fitness Center', 'Gym Pool',\n",
       "       'History Museum', 'Hotel', 'Hotel Bar', 'Ice Cream Shop',\n",
       "       'Indian Restaurant', 'Indie Movie Theater', 'Indie Theater',\n",
       "       'Italian Restaurant', 'Japanese Restaurant', 'Juice Bar',\n",
       "       'Latin American Restaurant', 'Light Rail Station', 'Lingerie Store',\n",
       "       'Liquor Store', 'Market', 'Mediterranean Restaurant', 'Men's Store',\n",
       "       'Mexican Restaurant', 'Movie Theater', 'Moving Target', 'Museum',\n",
       "       'Outdoor Sculpture', 'Paintball Field', 'Park', 'Pharmacy', 'Pier',\n",
       "       'Pizza Place', 'Plaza', 'Portuguese Restaurant', 'Pub', 'Restaurant',\n",
       "       'Salad Place', 'Sandwich Place', 'Scenic Lookout', 'Sculpture Garden',\n",
       "       'Shopping Mall', 'Shopping Plaza', 'Sporting Goods Shop', 'Supermarket',\n",
       "       'Sushi Restaurant', 'Tapas Restaurant', 'Tennis Court',\n",
       "       'Thai Restaurant', 'Theater', 'Toy / Game Store', 'Train Station',\n",
       "       'Tunnel', 'Turkish Restaurant', 'Warehouse Store', 'Wine Bar'],\n",
       "      dtype='object')"
      ]
     },
     "execution_count": 168,
     "metadata": {},
     "output_type": "execute_result"
    }
   ],
   "source": [
    "Newham_grouped.columns"
   ]
  },
  {
   "cell_type": "code",
   "execution_count": 169,
   "metadata": {},
   "outputs": [
    {
     "data": {
      "text/plain": [
       "(14, 96)"
      ]
     },
     "execution_count": 169,
     "metadata": {},
     "output_type": "execute_result"
    }
   ],
   "source": [
    "Newham_grouped.shape"
   ]
  },
  {
   "cell_type": "markdown",
   "metadata": {},
   "source": [
    "#### Let's print each neighborhood along with the top 5 most common venues"
   ]
  },
  {
   "cell_type": "code",
   "execution_count": 170,
   "metadata": {},
   "outputs": [
    {
     "name": "stdout",
     "output_type": "stream",
     "text": [
      "----Beckton----\n",
      "                    venue  freq\n",
      "0          Discount Store  0.12\n",
      "1  Furniture / Home Store  0.12\n",
      "2                   Hotel  0.12\n",
      "3                     Pub  0.12\n",
      "4      Light Rail Station  0.12\n",
      "\n",
      "\n",
      "----Canning Town----\n",
      "                      venue  freq\n",
      "0               Gas Station  0.25\n",
      "1         Convenience Store  0.25\n",
      "2                      Park  0.25\n",
      "3              Tennis Court  0.25\n",
      "4  Mediterranean Restaurant  0.00\n",
      "\n",
      "\n",
      "----Custom House----\n",
      "                 venue  freq\n",
      "0                Hotel  0.19\n",
      "1                  Pub  0.08\n",
      "2            Hotel Bar  0.04\n",
      "3  Japanese Restaurant  0.04\n",
      "4    Convenience Store  0.04\n",
      "\n",
      "\n",
      "----East Ham----\n",
      "                  venue  freq\n",
      "0        Clothing Store  0.10\n",
      "1  Fast Food Restaurant  0.10\n",
      "2         Grocery Store  0.05\n",
      "3              Gym Pool  0.05\n",
      "4         Shopping Mall  0.05\n",
      "\n",
      "\n",
      "----Forest Gate----\n",
      "                venue  freq\n",
      "0       Grocery Store  0.22\n",
      "1  Italian Restaurant  0.11\n",
      "2                 Pub  0.11\n",
      "3              Bakery  0.11\n",
      "4       Train Station  0.11\n",
      "\n",
      "\n",
      "----Little Ilford----\n",
      "                 venue  freq\n",
      "0       Ice Cream Shop  0.25\n",
      "1        Grocery Store  0.25\n",
      "2  Fried Chicken Joint  0.25\n",
      "3    Indian Restaurant  0.25\n",
      "4   Italian Restaurant  0.00\n",
      "\n",
      "\n",
      "----Manor Park----\n",
      "                      venue  freq\n",
      "0         Indian Restaurant  0.25\n",
      "1        Turkish Restaurant  0.25\n",
      "2      Gym / Fitness Center  0.25\n",
      "3                Restaurant  0.25\n",
      "4  Mediterranean Restaurant  0.00\n",
      "\n",
      "\n",
      "----Maryland----\n",
      "                   venue  freq\n",
      "0                    Pub  0.14\n",
      "1                  Hotel  0.14\n",
      "2               Bus Stop  0.09\n",
      "3          Grocery Store  0.09\n",
      "4  Portuguese Restaurant  0.05\n",
      "\n",
      "\n",
      "----North Woolwich----\n",
      "                venue  freq\n",
      "0                Pier  0.17\n",
      "1      History Museum  0.11\n",
      "2  Italian Restaurant  0.06\n",
      "3       Grocery Store  0.06\n",
      "4               Plaza  0.06\n",
      "\n",
      "\n",
      "----Plaistow----\n",
      "                  venue  freq\n",
      "0                  Park  0.25\n",
      "1                  Café  0.25\n",
      "2     Indian Restaurant  0.12\n",
      "3  Gym / Fitness Center  0.12\n",
      "4         Grocery Store  0.12\n",
      "\n",
      "\n",
      "----Silvertown----\n",
      "                        venue  freq\n",
      "0                        Park  0.12\n",
      "1             Paintball Field  0.12\n",
      "2  Construction & Landscaping  0.12\n",
      "3        Gym / Fitness Center  0.12\n",
      "4                     Theater  0.12\n",
      "\n",
      "\n",
      "----Stratford----\n",
      "                  venue  freq\n",
      "0                   Pub  0.06\n",
      "1        Sandwich Place  0.04\n",
      "2  Fast Food Restaurant  0.03\n",
      "3           Pizza Place  0.03\n",
      "4                 Hotel  0.03\n",
      "\n",
      "\n",
      "----Upton Park----\n",
      "               venue  freq\n",
      "0                Pub   0.2\n",
      "1  Convenience Store   0.2\n",
      "2           Boutique   0.2\n",
      "3           Bus Stop   0.2\n",
      "4           Bus Line   0.2\n",
      "\n",
      "\n",
      "----West Ham----\n",
      "               venue  freq\n",
      "0                Pub   0.2\n",
      "1  Convenience Store   0.2\n",
      "2           Boutique   0.2\n",
      "3           Bus Stop   0.2\n",
      "4           Bus Line   0.2\n",
      "\n",
      "\n"
     ]
    }
   ],
   "source": [
    "num_top_venues = 5\n",
    "for hood in Newham_grouped['Neighborhood']:\n",
    "    print(\"----\"+hood+\"----\")\n",
    "    temp = Newham_grouped[Newham_grouped['Neighborhood'] == hood].T.reset_index()\n",
    "    temp.columns = ['venue','freq']\n",
    "    temp = temp.iloc[1:]\n",
    "    temp['freq'] = temp['freq'].astype(float)\n",
    "    temp = temp.round({'freq': 2})\n",
    "    print(temp.sort_values('freq', ascending=False).reset_index(drop=True).head(num_top_venues))\n",
    "    print('\\n')"
   ]
  },
  {
   "cell_type": "markdown",
   "metadata": {},
   "source": [
    "#### Let's put that into a pandas dataframe\n",
    "#### First, let's write a function to sort the venues in descending order."
   ]
  },
  {
   "cell_type": "code",
   "execution_count": 171,
   "metadata": {},
   "outputs": [],
   "source": [
    "def return_most_common_venues(row, num_top_venues):\n",
    "    row_categories = row.iloc[1:]\n",
    "    row_categories_sorted = row_categories.sort_values(ascending=False)\n",
    "    \n",
    "    return row_categories_sorted.index.values[0:num_top_venues]"
   ]
  },
  {
   "cell_type": "markdown",
   "metadata": {},
   "source": [
    "#### Now let's create the new dataframe and display the top 10 venues for each neighborhood."
   ]
  },
  {
   "cell_type": "code",
   "execution_count": 172,
   "metadata": {},
   "outputs": [
    {
     "data": {
      "text/html": [
       "<div>\n",
       "<style scoped>\n",
       "    .dataframe tbody tr th:only-of-type {\n",
       "        vertical-align: middle;\n",
       "    }\n",
       "\n",
       "    .dataframe tbody tr th {\n",
       "        vertical-align: top;\n",
       "    }\n",
       "\n",
       "    .dataframe thead th {\n",
       "        text-align: right;\n",
       "    }\n",
       "</style>\n",
       "<table border=\"1\" class=\"dataframe\">\n",
       "  <thead>\n",
       "    <tr style=\"text-align: right;\">\n",
       "      <th></th>\n",
       "      <th>Neighborhood</th>\n",
       "      <th>1st Most Common Venue</th>\n",
       "      <th>2nd Most Common Venue</th>\n",
       "      <th>3rd Most Common Venue</th>\n",
       "      <th>4th Most Common Venue</th>\n",
       "      <th>5th Most Common Venue</th>\n",
       "      <th>6th Most Common Venue</th>\n",
       "      <th>7th Most Common Venue</th>\n",
       "      <th>8th Most Common Venue</th>\n",
       "      <th>9th Most Common Venue</th>\n",
       "      <th>10th Most Common Venue</th>\n",
       "    </tr>\n",
       "  </thead>\n",
       "  <tbody>\n",
       "    <tr>\n",
       "      <th>0</th>\n",
       "      <td>Beckton</td>\n",
       "      <td>Hotel</td>\n",
       "      <td>Furniture / Home Store</td>\n",
       "      <td>Clothing Store</td>\n",
       "      <td>Pub</td>\n",
       "      <td>Discount Store</td>\n",
       "      <td>Light Rail Station</td>\n",
       "      <td>Shopping Plaza</td>\n",
       "      <td>Grocery Store</td>\n",
       "      <td>General Entertainment</td>\n",
       "      <td>Eastern European Restaurant</td>\n",
       "    </tr>\n",
       "    <tr>\n",
       "      <th>1</th>\n",
       "      <td>Canning Town</td>\n",
       "      <td>Convenience Store</td>\n",
       "      <td>Tennis Court</td>\n",
       "      <td>Gas Station</td>\n",
       "      <td>Park</td>\n",
       "      <td>Greek Restaurant</td>\n",
       "      <td>Go Kart Track</td>\n",
       "      <td>Creperie</td>\n",
       "      <td>Dance Studio</td>\n",
       "      <td>Department Store</td>\n",
       "      <td>Dessert Shop</td>\n",
       "    </tr>\n",
       "    <tr>\n",
       "      <th>2</th>\n",
       "      <td>Custom House</td>\n",
       "      <td>Hotel</td>\n",
       "      <td>Pub</td>\n",
       "      <td>Wine Bar</td>\n",
       "      <td>English Restaurant</td>\n",
       "      <td>Light Rail Station</td>\n",
       "      <td>Japanese Restaurant</td>\n",
       "      <td>Italian Restaurant</td>\n",
       "      <td>Gym / Fitness Center</td>\n",
       "      <td>Convenience Store</td>\n",
       "      <td>Salad Place</td>\n",
       "    </tr>\n",
       "    <tr>\n",
       "      <th>3</th>\n",
       "      <td>East Ham</td>\n",
       "      <td>Fast Food Restaurant</td>\n",
       "      <td>Clothing Store</td>\n",
       "      <td>Park</td>\n",
       "      <td>Sporting Goods Shop</td>\n",
       "      <td>Pub</td>\n",
       "      <td>Sandwich Place</td>\n",
       "      <td>Café</td>\n",
       "      <td>Chinese Restaurant</td>\n",
       "      <td>Shopping Mall</td>\n",
       "      <td>Grocery Store</td>\n",
       "    </tr>\n",
       "    <tr>\n",
       "      <th>4</th>\n",
       "      <td>Forest Gate</td>\n",
       "      <td>Grocery Store</td>\n",
       "      <td>Train Station</td>\n",
       "      <td>Moving Target</td>\n",
       "      <td>Bakery</td>\n",
       "      <td>Italian Restaurant</td>\n",
       "      <td>Pub</td>\n",
       "      <td>Café</td>\n",
       "      <td>Fast Food Restaurant</td>\n",
       "      <td>Wine Bar</td>\n",
       "      <td>Electronics Store</td>\n",
       "    </tr>\n",
       "    <tr>\n",
       "      <th>5</th>\n",
       "      <td>Little Ilford</td>\n",
       "      <td>Fried Chicken Joint</td>\n",
       "      <td>Ice Cream Shop</td>\n",
       "      <td>Indian Restaurant</td>\n",
       "      <td>Grocery Store</td>\n",
       "      <td>Fast Food Restaurant</td>\n",
       "      <td>Dance Studio</td>\n",
       "      <td>Department Store</td>\n",
       "      <td>Dessert Shop</td>\n",
       "      <td>Discount Store</td>\n",
       "      <td>Doner Restaurant</td>\n",
       "    </tr>\n",
       "    <tr>\n",
       "      <th>6</th>\n",
       "      <td>Manor Park</td>\n",
       "      <td>Turkish Restaurant</td>\n",
       "      <td>Gym / Fitness Center</td>\n",
       "      <td>Indian Restaurant</td>\n",
       "      <td>Restaurant</td>\n",
       "      <td>Wine Bar</td>\n",
       "      <td>Fast Food Restaurant</td>\n",
       "      <td>Dance Studio</td>\n",
       "      <td>Department Store</td>\n",
       "      <td>Dessert Shop</td>\n",
       "      <td>Discount Store</td>\n",
       "    </tr>\n",
       "    <tr>\n",
       "      <th>7</th>\n",
       "      <td>Maryland</td>\n",
       "      <td>Hotel</td>\n",
       "      <td>Pub</td>\n",
       "      <td>Bus Stop</td>\n",
       "      <td>Grocery Store</td>\n",
       "      <td>Supermarket</td>\n",
       "      <td>Liquor Store</td>\n",
       "      <td>Portuguese Restaurant</td>\n",
       "      <td>Café</td>\n",
       "      <td>Sculpture Garden</td>\n",
       "      <td>Dance Studio</td>\n",
       "    </tr>\n",
       "    <tr>\n",
       "      <th>8</th>\n",
       "      <td>North Woolwich</td>\n",
       "      <td>Pier</td>\n",
       "      <td>History Museum</td>\n",
       "      <td>Clothing Store</td>\n",
       "      <td>Scenic Lookout</td>\n",
       "      <td>Gym / Fitness Center</td>\n",
       "      <td>Hotel</td>\n",
       "      <td>Italian Restaurant</td>\n",
       "      <td>Outdoor Sculpture</td>\n",
       "      <td>Pharmacy</td>\n",
       "      <td>Chinese Restaurant</td>\n",
       "    </tr>\n",
       "    <tr>\n",
       "      <th>9</th>\n",
       "      <td>Plaistow</td>\n",
       "      <td>Park</td>\n",
       "      <td>Café</td>\n",
       "      <td>Gym / Fitness Center</td>\n",
       "      <td>Indian Restaurant</td>\n",
       "      <td>Grocery Store</td>\n",
       "      <td>Bus Stop</td>\n",
       "      <td>English Restaurant</td>\n",
       "      <td>Dance Studio</td>\n",
       "      <td>Department Store</td>\n",
       "      <td>Dessert Shop</td>\n",
       "    </tr>\n",
       "    <tr>\n",
       "      <th>10</th>\n",
       "      <td>Silvertown</td>\n",
       "      <td>Gym / Fitness Center</td>\n",
       "      <td>Theater</td>\n",
       "      <td>Construction &amp; Landscaping</td>\n",
       "      <td>Museum</td>\n",
       "      <td>Café</td>\n",
       "      <td>Park</td>\n",
       "      <td>Paintball Field</td>\n",
       "      <td>Go Kart Track</td>\n",
       "      <td>General Entertainment</td>\n",
       "      <td>Discount Store</td>\n",
       "    </tr>\n",
       "    <tr>\n",
       "      <th>11</th>\n",
       "      <td>Stratford</td>\n",
       "      <td>Pub</td>\n",
       "      <td>Sandwich Place</td>\n",
       "      <td>Café</td>\n",
       "      <td>Cosmetics Shop</td>\n",
       "      <td>Pizza Place</td>\n",
       "      <td>Bookstore</td>\n",
       "      <td>Burger Joint</td>\n",
       "      <td>Bar</td>\n",
       "      <td>Coffee Shop</td>\n",
       "      <td>Toy / Game Store</td>\n",
       "    </tr>\n",
       "    <tr>\n",
       "      <th>12</th>\n",
       "      <td>Upton Park</td>\n",
       "      <td>Convenience Store</td>\n",
       "      <td>Pub</td>\n",
       "      <td>Bus Stop</td>\n",
       "      <td>Boutique</td>\n",
       "      <td>Bus Line</td>\n",
       "      <td>Fast Food Restaurant</td>\n",
       "      <td>Department Store</td>\n",
       "      <td>Dessert Shop</td>\n",
       "      <td>Discount Store</td>\n",
       "      <td>Doner Restaurant</td>\n",
       "    </tr>\n",
       "    <tr>\n",
       "      <th>13</th>\n",
       "      <td>West Ham</td>\n",
       "      <td>Convenience Store</td>\n",
       "      <td>Pub</td>\n",
       "      <td>Bus Stop</td>\n",
       "      <td>Boutique</td>\n",
       "      <td>Bus Line</td>\n",
       "      <td>Fast Food Restaurant</td>\n",
       "      <td>Department Store</td>\n",
       "      <td>Dessert Shop</td>\n",
       "      <td>Discount Store</td>\n",
       "      <td>Doner Restaurant</td>\n",
       "    </tr>\n",
       "  </tbody>\n",
       "</table>\n",
       "</div>"
      ],
      "text/plain": [
       "      Neighborhood 1st Most Common Venue   2nd Most Common Venue  \\\n",
       "0          Beckton                 Hotel  Furniture / Home Store   \n",
       "1     Canning Town     Convenience Store            Tennis Court   \n",
       "2     Custom House                 Hotel                     Pub   \n",
       "3         East Ham  Fast Food Restaurant          Clothing Store   \n",
       "4      Forest Gate         Grocery Store           Train Station   \n",
       "5    Little Ilford   Fried Chicken Joint          Ice Cream Shop   \n",
       "6       Manor Park    Turkish Restaurant    Gym / Fitness Center   \n",
       "7         Maryland                 Hotel                     Pub   \n",
       "8   North Woolwich                  Pier          History Museum   \n",
       "9         Plaistow                  Park                    Café   \n",
       "10      Silvertown  Gym / Fitness Center                 Theater   \n",
       "11       Stratford                   Pub          Sandwich Place   \n",
       "12      Upton Park     Convenience Store                     Pub   \n",
       "13        West Ham     Convenience Store                     Pub   \n",
       "\n",
       "         3rd Most Common Venue 4th Most Common Venue 5th Most Common Venue  \\\n",
       "0               Clothing Store                   Pub        Discount Store   \n",
       "1                  Gas Station                  Park      Greek Restaurant   \n",
       "2                     Wine Bar    English Restaurant    Light Rail Station   \n",
       "3                         Park   Sporting Goods Shop                   Pub   \n",
       "4                Moving Target                Bakery    Italian Restaurant   \n",
       "5            Indian Restaurant         Grocery Store  Fast Food Restaurant   \n",
       "6            Indian Restaurant            Restaurant              Wine Bar   \n",
       "7                     Bus Stop         Grocery Store           Supermarket   \n",
       "8               Clothing Store        Scenic Lookout  Gym / Fitness Center   \n",
       "9         Gym / Fitness Center     Indian Restaurant         Grocery Store   \n",
       "10  Construction & Landscaping                Museum                  Café   \n",
       "11                        Café        Cosmetics Shop           Pizza Place   \n",
       "12                    Bus Stop              Boutique              Bus Line   \n",
       "13                    Bus Stop              Boutique              Bus Line   \n",
       "\n",
       "   6th Most Common Venue  7th Most Common Venue 8th Most Common Venue  \\\n",
       "0     Light Rail Station         Shopping Plaza         Grocery Store   \n",
       "1          Go Kart Track               Creperie          Dance Studio   \n",
       "2    Japanese Restaurant     Italian Restaurant  Gym / Fitness Center   \n",
       "3         Sandwich Place                   Café    Chinese Restaurant   \n",
       "4                    Pub                   Café  Fast Food Restaurant   \n",
       "5           Dance Studio       Department Store          Dessert Shop   \n",
       "6   Fast Food Restaurant           Dance Studio      Department Store   \n",
       "7           Liquor Store  Portuguese Restaurant                  Café   \n",
       "8                  Hotel     Italian Restaurant     Outdoor Sculpture   \n",
       "9               Bus Stop     English Restaurant          Dance Studio   \n",
       "10                  Park        Paintball Field         Go Kart Track   \n",
       "11             Bookstore           Burger Joint                   Bar   \n",
       "12  Fast Food Restaurant       Department Store          Dessert Shop   \n",
       "13  Fast Food Restaurant       Department Store          Dessert Shop   \n",
       "\n",
       "    9th Most Common Venue       10th Most Common Venue  \n",
       "0   General Entertainment  Eastern European Restaurant  \n",
       "1        Department Store                 Dessert Shop  \n",
       "2       Convenience Store                  Salad Place  \n",
       "3           Shopping Mall                Grocery Store  \n",
       "4                Wine Bar            Electronics Store  \n",
       "5          Discount Store             Doner Restaurant  \n",
       "6            Dessert Shop               Discount Store  \n",
       "7        Sculpture Garden                 Dance Studio  \n",
       "8                Pharmacy           Chinese Restaurant  \n",
       "9        Department Store                 Dessert Shop  \n",
       "10  General Entertainment               Discount Store  \n",
       "11            Coffee Shop             Toy / Game Store  \n",
       "12         Discount Store             Doner Restaurant  \n",
       "13         Discount Store             Doner Restaurant  "
      ]
     },
     "execution_count": 172,
     "metadata": {},
     "output_type": "execute_result"
    }
   ],
   "source": [
    "num_top_venues = 10\n",
    "\n",
    "indicators = ['st', 'nd', 'rd']\n",
    "\n",
    "# create columns according to number of top venues\n",
    "columns = ['Neighborhood']\n",
    "for ind in np.arange(num_top_venues):\n",
    "    try:\n",
    "        columns.append('{}{} Most Common Venue'.format(ind+1, indicators[ind]))\n",
    "    except:\n",
    "        columns.append('{}th Most Common Venue'.format(ind+1))\n",
    "\n",
    "# create a new dataframe\n",
    "neighborhoods_venues_sorted = pd.DataFrame(columns=columns)\n",
    "neighborhoods_venues_sorted['Neighborhood'] = Newham_grouped['Neighborhood']\n",
    "\n",
    "for ind in np.arange(Newham_grouped.shape[0]):\n",
    "    neighborhoods_venues_sorted.iloc[ind, 1:] = return_most_common_venues(Newham_grouped.iloc[ind, :], num_top_venues)\n",
    "\n",
    "neighborhoods_venues_sorted"
   ]
  },
  {
   "cell_type": "markdown",
   "metadata": {},
   "source": [
    "### 4) Cluster the Neighborhoods"
   ]
  },
  {
   "cell_type": "markdown",
   "metadata": {},
   "source": [
    "### Run K-means algorithm to cluster the neighborhood into 5 clusters."
   ]
  },
  {
   "cell_type": "code",
   "execution_count": 173,
   "metadata": {},
   "outputs": [
    {
     "data": {
      "text/plain": [
       "array([1, 0, 1, 1, 1, 3, 4, 1, 1, 0], dtype=int32)"
      ]
     },
     "execution_count": 173,
     "metadata": {},
     "output_type": "execute_result"
    }
   ],
   "source": [
    "# set number of clusters\n",
    "kclusters = 5\n",
    "\n",
    "Newham_grouped_clustering = Newham_grouped.drop('Neighborhood', 1)\n",
    "\n",
    "# run k-means clustering\n",
    "kmeans = KMeans(n_clusters=kclusters, random_state=0).fit(Newham_grouped_clustering)\n",
    "\n",
    "# check cluster labels generated for each row in the dataframe\n",
    "kmeans.labels_[0:10] "
   ]
  },
  {
   "cell_type": "markdown",
   "metadata": {},
   "source": [
    "#### Let's create a new dataframe that includes the cluster as well as the top 10 venues for each neighborhood."
   ]
  },
  {
   "cell_type": "code",
   "execution_count": 174,
   "metadata": {},
   "outputs": [
    {
     "data": {
      "text/html": [
       "<div>\n",
       "<style scoped>\n",
       "    .dataframe tbody tr th:only-of-type {\n",
       "        vertical-align: middle;\n",
       "    }\n",
       "\n",
       "    .dataframe tbody tr th {\n",
       "        vertical-align: top;\n",
       "    }\n",
       "\n",
       "    .dataframe thead th {\n",
       "        text-align: right;\n",
       "    }\n",
       "</style>\n",
       "<table border=\"1\" class=\"dataframe\">\n",
       "  <thead>\n",
       "    <tr style=\"text-align: right;\">\n",
       "      <th></th>\n",
       "      <th>Borough</th>\n",
       "      <th>Neighborhood</th>\n",
       "      <th>Latitude</th>\n",
       "      <th>Longitude</th>\n",
       "      <th>Cluster Labels</th>\n",
       "      <th>1st Most Common Venue</th>\n",
       "      <th>2nd Most Common Venue</th>\n",
       "      <th>3rd Most Common Venue</th>\n",
       "      <th>4th Most Common Venue</th>\n",
       "      <th>5th Most Common Venue</th>\n",
       "      <th>6th Most Common Venue</th>\n",
       "      <th>7th Most Common Venue</th>\n",
       "      <th>8th Most Common Venue</th>\n",
       "      <th>9th Most Common Venue</th>\n",
       "      <th>10th Most Common Venue</th>\n",
       "    </tr>\n",
       "  </thead>\n",
       "  <tbody>\n",
       "    <tr>\n",
       "      <th>0</th>\n",
       "      <td>Newham</td>\n",
       "      <td>Beckton</td>\n",
       "      <td>51.514642</td>\n",
       "      <td>0.067375</td>\n",
       "      <td>1</td>\n",
       "      <td>Hotel</td>\n",
       "      <td>Furniture / Home Store</td>\n",
       "      <td>Clothing Store</td>\n",
       "      <td>Pub</td>\n",
       "      <td>Discount Store</td>\n",
       "      <td>Light Rail Station</td>\n",
       "      <td>Shopping Plaza</td>\n",
       "      <td>Grocery Store</td>\n",
       "      <td>General Entertainment</td>\n",
       "      <td>Eastern European Restaurant</td>\n",
       "    </tr>\n",
       "    <tr>\n",
       "      <th>1</th>\n",
       "      <td>Newham</td>\n",
       "      <td>Canning Town</td>\n",
       "      <td>51.515396</td>\n",
       "      <td>0.024169</td>\n",
       "      <td>0</td>\n",
       "      <td>Convenience Store</td>\n",
       "      <td>Tennis Court</td>\n",
       "      <td>Gas Station</td>\n",
       "      <td>Park</td>\n",
       "      <td>Greek Restaurant</td>\n",
       "      <td>Go Kart Track</td>\n",
       "      <td>Creperie</td>\n",
       "      <td>Dance Studio</td>\n",
       "      <td>Department Store</td>\n",
       "      <td>Dessert Shop</td>\n",
       "    </tr>\n",
       "    <tr>\n",
       "      <th>2</th>\n",
       "      <td>Newham</td>\n",
       "      <td>Custom House</td>\n",
       "      <td>51.508133</td>\n",
       "      <td>0.028171</td>\n",
       "      <td>1</td>\n",
       "      <td>Hotel</td>\n",
       "      <td>Pub</td>\n",
       "      <td>Wine Bar</td>\n",
       "      <td>English Restaurant</td>\n",
       "      <td>Light Rail Station</td>\n",
       "      <td>Japanese Restaurant</td>\n",
       "      <td>Italian Restaurant</td>\n",
       "      <td>Gym / Fitness Center</td>\n",
       "      <td>Convenience Store</td>\n",
       "      <td>Salad Place</td>\n",
       "    </tr>\n",
       "    <tr>\n",
       "      <th>3</th>\n",
       "      <td>Newham</td>\n",
       "      <td>East Ham</td>\n",
       "      <td>51.532867</td>\n",
       "      <td>0.053782</td>\n",
       "      <td>1</td>\n",
       "      <td>Fast Food Restaurant</td>\n",
       "      <td>Clothing Store</td>\n",
       "      <td>Park</td>\n",
       "      <td>Sporting Goods Shop</td>\n",
       "      <td>Pub</td>\n",
       "      <td>Sandwich Place</td>\n",
       "      <td>Café</td>\n",
       "      <td>Chinese Restaurant</td>\n",
       "      <td>Shopping Mall</td>\n",
       "      <td>Grocery Store</td>\n",
       "    </tr>\n",
       "    <tr>\n",
       "      <th>4</th>\n",
       "      <td>Newham</td>\n",
       "      <td>Forest Gate</td>\n",
       "      <td>51.551339</td>\n",
       "      <td>0.025765</td>\n",
       "      <td>1</td>\n",
       "      <td>Grocery Store</td>\n",
       "      <td>Train Station</td>\n",
       "      <td>Moving Target</td>\n",
       "      <td>Bakery</td>\n",
       "      <td>Italian Restaurant</td>\n",
       "      <td>Pub</td>\n",
       "      <td>Café</td>\n",
       "      <td>Fast Food Restaurant</td>\n",
       "      <td>Wine Bar</td>\n",
       "      <td>Electronics Store</td>\n",
       "    </tr>\n",
       "  </tbody>\n",
       "</table>\n",
       "</div>"
      ],
      "text/plain": [
       "  Borough  Neighborhood   Latitude  Longitude  Cluster Labels  \\\n",
       "0  Newham       Beckton  51.514642   0.067375               1   \n",
       "1  Newham  Canning Town  51.515396   0.024169               0   \n",
       "2  Newham  Custom House  51.508133   0.028171               1   \n",
       "3  Newham      East Ham  51.532867   0.053782               1   \n",
       "4  Newham   Forest Gate  51.551339   0.025765               1   \n",
       "\n",
       "  1st Most Common Venue   2nd Most Common Venue 3rd Most Common Venue  \\\n",
       "0                 Hotel  Furniture / Home Store        Clothing Store   \n",
       "1     Convenience Store            Tennis Court           Gas Station   \n",
       "2                 Hotel                     Pub              Wine Bar   \n",
       "3  Fast Food Restaurant          Clothing Store                  Park   \n",
       "4         Grocery Store           Train Station         Moving Target   \n",
       "\n",
       "  4th Most Common Venue 5th Most Common Venue 6th Most Common Venue  \\\n",
       "0                   Pub        Discount Store    Light Rail Station   \n",
       "1                  Park      Greek Restaurant         Go Kart Track   \n",
       "2    English Restaurant    Light Rail Station   Japanese Restaurant   \n",
       "3   Sporting Goods Shop                   Pub        Sandwich Place   \n",
       "4                Bakery    Italian Restaurant                   Pub   \n",
       "\n",
       "  7th Most Common Venue 8th Most Common Venue  9th Most Common Venue  \\\n",
       "0        Shopping Plaza         Grocery Store  General Entertainment   \n",
       "1              Creperie          Dance Studio       Department Store   \n",
       "2    Italian Restaurant  Gym / Fitness Center      Convenience Store   \n",
       "3                  Café    Chinese Restaurant          Shopping Mall   \n",
       "4                  Café  Fast Food Restaurant               Wine Bar   \n",
       "\n",
       "        10th Most Common Venue  \n",
       "0  Eastern European Restaurant  \n",
       "1                 Dessert Shop  \n",
       "2                  Salad Place  \n",
       "3                Grocery Store  \n",
       "4            Electronics Store  "
      ]
     },
     "execution_count": 174,
     "metadata": {},
     "output_type": "execute_result"
    }
   ],
   "source": [
    "Newham_merged = Newham_borough\n",
    "\n",
    "# add clustering labels\n",
    "Newham_merged['Cluster Labels'] = kmeans.labels_\n",
    "\n",
    "# merge Neighborhoods dataframe with Newham borough dataframe to add latitude/longitude for each neighborhood\n",
    "Newham_merged = Newham_merged.join(neighborhoods_venues_sorted.set_index('Neighborhood'), on='Neighborhood')\n",
    "\n",
    "Newham_merged.head() # check the last columns!\n"
   ]
  },
  {
   "cell_type": "markdown",
   "metadata": {},
   "source": [
    "#### Let's Visualize the Cluster "
   ]
  },
  {
   "cell_type": "code",
   "execution_count": 175,
   "metadata": {
    "scrolled": true
   },
   "outputs": [
    {
     "data": {
      "text/html": [
       "<div style=\"width:100%;\"><div style=\"position:relative;width:100%;height:0;padding-bottom:60%;\"><iframe src=\"data:text/html;charset=utf-8;base64,PCFET0NUWVBFIGh0bWw+CjxoZWFkPiAgICAKICAgIDxtZXRhIGh0dHAtZXF1aXY9ImNvbnRlbnQtdHlwZSIgY29udGVudD0idGV4dC9odG1sOyBjaGFyc2V0PVVURi04IiAvPgogICAgPHNjcmlwdD5MX1BSRUZFUl9DQU5WQVM9ZmFsc2U7IExfTk9fVE9VQ0g9ZmFsc2U7IExfRElTQUJMRV8zRD1mYWxzZTs8L3NjcmlwdD4KICAgIDxzY3JpcHQgc3JjPSJodHRwczovL2Nkbi5qc2RlbGl2ci5uZXQvbnBtL2xlYWZsZXRAMS4zLjQvZGlzdC9sZWFmbGV0LmpzIj48L3NjcmlwdD4KICAgIDxzY3JpcHQgc3JjPSJodHRwczovL2FqYXguZ29vZ2xlYXBpcy5jb20vYWpheC9saWJzL2pxdWVyeS8xLjExLjEvanF1ZXJ5Lm1pbi5qcyI+PC9zY3JpcHQ+CiAgICA8c2NyaXB0IHNyYz0iaHR0cHM6Ly9tYXhjZG4uYm9vdHN0cmFwY2RuLmNvbS9ib290c3RyYXAvMy4yLjAvanMvYm9vdHN0cmFwLm1pbi5qcyI+PC9zY3JpcHQ+CiAgICA8c2NyaXB0IHNyYz0iaHR0cHM6Ly9jZG5qcy5jbG91ZGZsYXJlLmNvbS9hamF4L2xpYnMvTGVhZmxldC5hd2Vzb21lLW1hcmtlcnMvMi4wLjIvbGVhZmxldC5hd2Vzb21lLW1hcmtlcnMuanMiPjwvc2NyaXB0PgogICAgPGxpbmsgcmVsPSJzdHlsZXNoZWV0IiBocmVmPSJodHRwczovL2Nkbi5qc2RlbGl2ci5uZXQvbnBtL2xlYWZsZXRAMS4zLjQvZGlzdC9sZWFmbGV0LmNzcyIvPgogICAgPGxpbmsgcmVsPSJzdHlsZXNoZWV0IiBocmVmPSJodHRwczovL21heGNkbi5ib290c3RyYXBjZG4uY29tL2Jvb3RzdHJhcC8zLjIuMC9jc3MvYm9vdHN0cmFwLm1pbi5jc3MiLz4KICAgIDxsaW5rIHJlbD0ic3R5bGVzaGVldCIgaHJlZj0iaHR0cHM6Ly9tYXhjZG4uYm9vdHN0cmFwY2RuLmNvbS9ib290c3RyYXAvMy4yLjAvY3NzL2Jvb3RzdHJhcC10aGVtZS5taW4uY3NzIi8+CiAgICA8bGluayByZWw9InN0eWxlc2hlZXQiIGhyZWY9Imh0dHBzOi8vbWF4Y2RuLmJvb3RzdHJhcGNkbi5jb20vZm9udC1hd2Vzb21lLzQuNi4zL2Nzcy9mb250LWF3ZXNvbWUubWluLmNzcyIvPgogICAgPGxpbmsgcmVsPSJzdHlsZXNoZWV0IiBocmVmPSJodHRwczovL2NkbmpzLmNsb3VkZmxhcmUuY29tL2FqYXgvbGlicy9MZWFmbGV0LmF3ZXNvbWUtbWFya2Vycy8yLjAuMi9sZWFmbGV0LmF3ZXNvbWUtbWFya2Vycy5jc3MiLz4KICAgIDxsaW5rIHJlbD0ic3R5bGVzaGVldCIgaHJlZj0iaHR0cHM6Ly9yYXdjZG4uZ2l0aGFjay5jb20vcHl0aG9uLXZpc3VhbGl6YXRpb24vZm9saXVtL21hc3Rlci9mb2xpdW0vdGVtcGxhdGVzL2xlYWZsZXQuYXdlc29tZS5yb3RhdGUuY3NzIi8+CiAgICA8c3R5bGU+aHRtbCwgYm9keSB7d2lkdGg6IDEwMCU7aGVpZ2h0OiAxMDAlO21hcmdpbjogMDtwYWRkaW5nOiAwO308L3N0eWxlPgogICAgPHN0eWxlPiNtYXAge3Bvc2l0aW9uOmFic29sdXRlO3RvcDowO2JvdHRvbTowO3JpZ2h0OjA7bGVmdDowO308L3N0eWxlPgogICAgCiAgICA8bWV0YSBuYW1lPSJ2aWV3cG9ydCIgY29udGVudD0id2lkdGg9ZGV2aWNlLXdpZHRoLAogICAgICAgIGluaXRpYWwtc2NhbGU9MS4wLCBtYXhpbXVtLXNjYWxlPTEuMCwgdXNlci1zY2FsYWJsZT1ubyIgLz4KICAgIDxzdHlsZT4jbWFwXzZmOTZhOTlhMzE0ZTQ1MGRiODllYzU5ZjU0ZTI0ZTRjIHsKICAgICAgICBwb3NpdGlvbjogcmVsYXRpdmU7CiAgICAgICAgd2lkdGg6IDEwMC4wJTsKICAgICAgICBoZWlnaHQ6IDEwMC4wJTsKICAgICAgICBsZWZ0OiAwLjAlOwogICAgICAgIHRvcDogMC4wJTsKICAgICAgICB9CiAgICA8L3N0eWxlPgo8L2hlYWQ+Cjxib2R5PiAgICAKICAgIAogICAgPGRpdiBjbGFzcz0iZm9saXVtLW1hcCIgaWQ9Im1hcF82Zjk2YTk5YTMxNGU0NTBkYjg5ZWM1OWY1NGUyNGU0YyIgPjwvZGl2Pgo8L2JvZHk+CjxzY3JpcHQ+ICAgIAogICAgCiAgICAKICAgICAgICB2YXIgYm91bmRzID0gbnVsbDsKICAgIAoKICAgIHZhciBtYXBfNmY5NmE5OWEzMTRlNDUwZGI4OWVjNTlmNTRlMjRlNGMgPSBMLm1hcCgKICAgICAgICAnbWFwXzZmOTZhOTlhMzE0ZTQ1MGRiODllYzU5ZjU0ZTI0ZTRjJywgewogICAgICAgIGNlbnRlcjogWzUxLjUyOTk5OTU1LCAwLjAyOTMxNzk2MDI5MzgyMjFdLAogICAgICAgIHpvb206IDExLAogICAgICAgIG1heEJvdW5kczogYm91bmRzLAogICAgICAgIGxheWVyczogW10sCiAgICAgICAgd29ybGRDb3B5SnVtcDogZmFsc2UsCiAgICAgICAgY3JzOiBMLkNSUy5FUFNHMzg1NywKICAgICAgICB6b29tQ29udHJvbDogdHJ1ZSwKICAgICAgICB9KTsKCiAgICAKICAgIAogICAgdmFyIHRpbGVfbGF5ZXJfMWY0ZGJmYTdkYTAxNDkwOGFhNjk5MzFhYzhhYjg4MjEgPSBMLnRpbGVMYXllcigKICAgICAgICAnaHR0cHM6Ly97c30udGlsZS5vcGVuc3RyZWV0bWFwLm9yZy97en0ve3h9L3t5fS5wbmcnLAogICAgICAgIHsKICAgICAgICAiYXR0cmlidXRpb24iOiBudWxsLAogICAgICAgICJkZXRlY3RSZXRpbmEiOiBmYWxzZSwKICAgICAgICAibWF4TmF0aXZlWm9vbSI6IDE4LAogICAgICAgICJtYXhab29tIjogMTgsCiAgICAgICAgIm1pblpvb20iOiAwLAogICAgICAgICJub1dyYXAiOiBmYWxzZSwKICAgICAgICAib3BhY2l0eSI6IDEsCiAgICAgICAgInN1YmRvbWFpbnMiOiAiYWJjIiwKICAgICAgICAidG1zIjogZmFsc2UKfSkuYWRkVG8obWFwXzZmOTZhOTlhMzE0ZTQ1MGRiODllYzU5ZjU0ZTI0ZTRjKTsKICAgIAogICAgICAgICAgICB2YXIgY2lyY2xlX21hcmtlcl83YmM3ZmVhZTdiZWQ0ZWNhYTFkM2RmZDY0ZmJiNTZjNCA9IEwuY2lyY2xlTWFya2VyKAogICAgICAgICAgICAgICAgWzUxLjUxNDY0MiwgMC4wNjczNzVdLAogICAgICAgICAgICAgICAgewogICJidWJibGluZ01vdXNlRXZlbnRzIjogdHJ1ZSwKICAiY29sb3IiOiAiIzgwMDBmZiIsCiAgImRhc2hBcnJheSI6IG51bGwsCiAgImRhc2hPZmZzZXQiOiBudWxsLAogICJmaWxsIjogdHJ1ZSwKICAiZmlsbENvbG9yIjogIiM4MDAwZmYiLAogICJmaWxsT3BhY2l0eSI6IDAuNywKICAiZmlsbFJ1bGUiOiAiZXZlbm9kZCIsCiAgImxpbmVDYXAiOiAicm91bmQiLAogICJsaW5lSm9pbiI6ICJyb3VuZCIsCiAgIm9wYWNpdHkiOiAxLjAsCiAgInJhZGl1cyI6IDUsCiAgInN0cm9rZSI6IHRydWUsCiAgIndlaWdodCI6IDMKfQogICAgICAgICAgICAgICAgKQogICAgICAgICAgICAgICAgLmFkZFRvKG1hcF82Zjk2YTk5YTMxNGU0NTBkYjg5ZWM1OWY1NGUyNGU0Yyk7CiAgICAgICAgICAgIAogICAgCiAgICAgICAgICAgIHZhciBwb3B1cF81MTU5ZDEzMGM4NWQ0ZjhkOGM3NjAxZTdjZjUyZmE1OCA9IEwucG9wdXAoe21heFdpZHRoOiAnMzAwJwogICAgICAgICAgICAKICAgICAgICAgICAgfSk7CgogICAgICAgICAgICAKICAgICAgICAgICAgICAgIHZhciBodG1sX2NhMWIwOGVjYTVkMjQwZWU5YWMzMjVhYzg0MmNmYTFjID0gJChgPGRpdiBpZD0iaHRtbF9jYTFiMDhlY2E1ZDI0MGVlOWFjMzI1YWM4NDJjZmExYyIgc3R5bGU9IndpZHRoOiAxMDAuMCU7IGhlaWdodDogMTAwLjAlOyI+QmVja3RvbiBDbHVzdGVyIDE8L2Rpdj5gKVswXTsKICAgICAgICAgICAgICAgIHBvcHVwXzUxNTlkMTMwYzg1ZDRmOGQ4Yzc2MDFlN2NmNTJmYTU4LnNldENvbnRlbnQoaHRtbF9jYTFiMDhlY2E1ZDI0MGVlOWFjMzI1YWM4NDJjZmExYyk7CiAgICAgICAgICAgIAoKICAgICAgICAgICAgY2lyY2xlX21hcmtlcl83YmM3ZmVhZTdiZWQ0ZWNhYTFkM2RmZDY0ZmJiNTZjNC5iaW5kUG9wdXAocG9wdXBfNTE1OWQxMzBjODVkNGY4ZDhjNzYwMWU3Y2Y1MmZhNTgpCiAgICAgICAgICAgIDsKCiAgICAgICAgICAgIAogICAgICAgIAogICAgCiAgICAgICAgICAgIHZhciBjaXJjbGVfbWFya2VyXzE5YmZjNWNiNTBiZjRlYTZiMTI3OGFmOTIxNmEzMTNlID0gTC5jaXJjbGVNYXJrZXIoCiAgICAgICAgICAgICAgICBbNTEuNTE1Mzk2LCAwLjAyNDE2OV0sCiAgICAgICAgICAgICAgICB7CiAgImJ1YmJsaW5nTW91c2VFdmVudHMiOiB0cnVlLAogICJjb2xvciI6ICIjZmYwMDAwIiwKICAiZGFzaEFycmF5IjogbnVsbCwKICAiZGFzaE9mZnNldCI6IG51bGwsCiAgImZpbGwiOiB0cnVlLAogICJmaWxsQ29sb3IiOiAiI2ZmMDAwMCIsCiAgImZpbGxPcGFjaXR5IjogMC43LAogICJmaWxsUnVsZSI6ICJldmVub2RkIiwKICAibGluZUNhcCI6ICJyb3VuZCIsCiAgImxpbmVKb2luIjogInJvdW5kIiwKICAib3BhY2l0eSI6IDEuMCwKICAicmFkaXVzIjogNSwKICAic3Ryb2tlIjogdHJ1ZSwKICAid2VpZ2h0IjogMwp9CiAgICAgICAgICAgICAgICApCiAgICAgICAgICAgICAgICAuYWRkVG8obWFwXzZmOTZhOTlhMzE0ZTQ1MGRiODllYzU5ZjU0ZTI0ZTRjKTsKICAgICAgICAgICAgCiAgICAKICAgICAgICAgICAgdmFyIHBvcHVwX2I1YzU4NGM3NDc5ZDQwYzJhYzRiYTk2MDFkZWMzZGFlID0gTC5wb3B1cCh7bWF4V2lkdGg6ICczMDAnCiAgICAgICAgICAgIAogICAgICAgICAgICB9KTsKCiAgICAgICAgICAgIAogICAgICAgICAgICAgICAgdmFyIGh0bWxfMmY4NGJiOTQ5MjJhNDRlMmEyZTM1ZDA0YTYwYzk0NGEgPSAkKGA8ZGl2IGlkPSJodG1sXzJmODRiYjk0OTIyYTQ0ZTJhMmUzNWQwNGE2MGM5NDRhIiBzdHlsZT0id2lkdGg6IDEwMC4wJTsgaGVpZ2h0OiAxMDAuMCU7Ij5DYW5uaW5nIFRvd24gQ2x1c3RlciAwPC9kaXY+YClbMF07CiAgICAgICAgICAgICAgICBwb3B1cF9iNWM1ODRjNzQ3OWQ0MGMyYWM0YmE5NjAxZGVjM2RhZS5zZXRDb250ZW50KGh0bWxfMmY4NGJiOTQ5MjJhNDRlMmEyZTM1ZDA0YTYwYzk0NGEpOwogICAgICAgICAgICAKCiAgICAgICAgICAgIGNpcmNsZV9tYXJrZXJfMTliZmM1Y2I1MGJmNGVhNmIxMjc4YWY5MjE2YTMxM2UuYmluZFBvcHVwKHBvcHVwX2I1YzU4NGM3NDc5ZDQwYzJhYzRiYTk2MDFkZWMzZGFlKQogICAgICAgICAgICA7CgogICAgICAgICAgICAKICAgICAgICAKICAgIAogICAgICAgICAgICB2YXIgY2lyY2xlX21hcmtlcl83MjA5MDJmMmQ1NzY0NzVhOWE1ZGQxZTQzYjViNzNjOSA9IEwuY2lyY2xlTWFya2VyKAogICAgICAgICAgICAgICAgWzUxLjUwODEzMywgMC4wMjgxNzFdLAogICAgICAgICAgICAgICAgewogICJidWJibGluZ01vdXNlRXZlbnRzIjogdHJ1ZSwKICAiY29sb3IiOiAiIzgwMDBmZiIsCiAgImRhc2hBcnJheSI6IG51bGwsCiAgImRhc2hPZmZzZXQiOiBudWxsLAogICJmaWxsIjogdHJ1ZSwKICAiZmlsbENvbG9yIjogIiM4MDAwZmYiLAogICJmaWxsT3BhY2l0eSI6IDAuNywKICAiZmlsbFJ1bGUiOiAiZXZlbm9kZCIsCiAgImxpbmVDYXAiOiAicm91bmQiLAogICJsaW5lSm9pbiI6ICJyb3VuZCIsCiAgIm9wYWNpdHkiOiAxLjAsCiAgInJhZGl1cyI6IDUsCiAgInN0cm9rZSI6IHRydWUsCiAgIndlaWdodCI6IDMKfQogICAgICAgICAgICAgICAgKQogICAgICAgICAgICAgICAgLmFkZFRvKG1hcF82Zjk2YTk5YTMxNGU0NTBkYjg5ZWM1OWY1NGUyNGU0Yyk7CiAgICAgICAgICAgIAogICAgCiAgICAgICAgICAgIHZhciBwb3B1cF83ZmUzZmFhZjNmNmM0ZWJjODZkYTRiMTliMmU5ODQzNyA9IEwucG9wdXAoe21heFdpZHRoOiAnMzAwJwogICAgICAgICAgICAKICAgICAgICAgICAgfSk7CgogICAgICAgICAgICAKICAgICAgICAgICAgICAgIHZhciBodG1sXzM5ODI4ODljYzYyZTRjMGI5MjFiOWZmOWUxNmY3MDk2ID0gJChgPGRpdiBpZD0iaHRtbF8zOTgyODg5Y2M2MmU0YzBiOTIxYjlmZjllMTZmNzA5NiIgc3R5bGU9IndpZHRoOiAxMDAuMCU7IGhlaWdodDogMTAwLjAlOyI+Q3VzdG9tIEhvdXNlIENsdXN0ZXIgMTwvZGl2PmApWzBdOwogICAgICAgICAgICAgICAgcG9wdXBfN2ZlM2ZhYWYzZjZjNGViYzg2ZGE0YjE5YjJlOTg0Mzcuc2V0Q29udGVudChodG1sXzM5ODI4ODljYzYyZTRjMGI5MjFiOWZmOWUxNmY3MDk2KTsKICAgICAgICAgICAgCgogICAgICAgICAgICBjaXJjbGVfbWFya2VyXzcyMDkwMmYyZDU3NjQ3NWE5YTVkZDFlNDNiNWI3M2M5LmJpbmRQb3B1cChwb3B1cF83ZmUzZmFhZjNmNmM0ZWJjODZkYTRiMTliMmU5ODQzNykKICAgICAgICAgICAgOwoKICAgICAgICAgICAgCiAgICAgICAgCiAgICAKICAgICAgICAgICAgdmFyIGNpcmNsZV9tYXJrZXJfYjkxM2JhNjZjZjNiNDMyNGE0ZDA2YjQzNmE4OWZmYmMgPSBMLmNpcmNsZU1hcmtlcigKICAgICAgICAgICAgICAgIFs1MS41MzI4NjcsIDAuMDUzNzgyXSwKICAgICAgICAgICAgICAgIHsKICAiYnViYmxpbmdNb3VzZUV2ZW50cyI6IHRydWUsCiAgImNvbG9yIjogIiM4MDAwZmYiLAogICJkYXNoQXJyYXkiOiBudWxsLAogICJkYXNoT2Zmc2V0IjogbnVsbCwKICAiZmlsbCI6IHRydWUsCiAgImZpbGxDb2xvciI6ICIjODAwMGZmIiwKICAiZmlsbE9wYWNpdHkiOiAwLjcsCiAgImZpbGxSdWxlIjogImV2ZW5vZGQiLAogICJsaW5lQ2FwIjogInJvdW5kIiwKICAibGluZUpvaW4iOiAicm91bmQiLAogICJvcGFjaXR5IjogMS4wLAogICJyYWRpdXMiOiA1LAogICJzdHJva2UiOiB0cnVlLAogICJ3ZWlnaHQiOiAzCn0KICAgICAgICAgICAgICAgICkKICAgICAgICAgICAgICAgIC5hZGRUbyhtYXBfNmY5NmE5OWEzMTRlNDUwZGI4OWVjNTlmNTRlMjRlNGMpOwogICAgICAgICAgICAKICAgIAogICAgICAgICAgICB2YXIgcG9wdXBfMzk1ZGIxZWNlYTE4NDMwMWJhMjE5YzQ4NjFhNTc0ZGYgPSBMLnBvcHVwKHttYXhXaWR0aDogJzMwMCcKICAgICAgICAgICAgCiAgICAgICAgICAgIH0pOwoKICAgICAgICAgICAgCiAgICAgICAgICAgICAgICB2YXIgaHRtbF8xYWYzNWFkYzZlZGI0NGQwYmZmZDE2NzAwNTYxNWUyNSA9ICQoYDxkaXYgaWQ9Imh0bWxfMWFmMzVhZGM2ZWRiNDRkMGJmZmQxNjcwMDU2MTVlMjUiIHN0eWxlPSJ3aWR0aDogMTAwLjAlOyBoZWlnaHQ6IDEwMC4wJTsiPkVhc3QgSGFtIENsdXN0ZXIgMTwvZGl2PmApWzBdOwogICAgICAgICAgICAgICAgcG9wdXBfMzk1ZGIxZWNlYTE4NDMwMWJhMjE5YzQ4NjFhNTc0ZGYuc2V0Q29udGVudChodG1sXzFhZjM1YWRjNmVkYjQ0ZDBiZmZkMTY3MDA1NjE1ZTI1KTsKICAgICAgICAgICAgCgogICAgICAgICAgICBjaXJjbGVfbWFya2VyX2I5MTNiYTY2Y2YzYjQzMjRhNGQwNmI0MzZhODlmZmJjLmJpbmRQb3B1cChwb3B1cF8zOTVkYjFlY2VhMTg0MzAxYmEyMTljNDg2MWE1NzRkZikKICAgICAgICAgICAgOwoKICAgICAgICAgICAgCiAgICAgICAgCiAgICAKICAgICAgICAgICAgdmFyIGNpcmNsZV9tYXJrZXJfYWZhZGNlODhjY2RhNGRjMWE3NDU1MjhlMjAxM2ZiZjggPSBMLmNpcmNsZU1hcmtlcigKICAgICAgICAgICAgICAgIFs1MS41NTEzMzksIDAuMDI1NzY1XSwKICAgICAgICAgICAgICAgIHsKICAiYnViYmxpbmdNb3VzZUV2ZW50cyI6IHRydWUsCiAgImNvbG9yIjogIiM4MDAwZmYiLAogICJkYXNoQXJyYXkiOiBudWxsLAogICJkYXNoT2Zmc2V0IjogbnVsbCwKICAiZmlsbCI6IHRydWUsCiAgImZpbGxDb2xvciI6ICIjODAwMGZmIiwKICAiZmlsbE9wYWNpdHkiOiAwLjcsCiAgImZpbGxSdWxlIjogImV2ZW5vZGQiLAogICJsaW5lQ2FwIjogInJvdW5kIiwKICAibGluZUpvaW4iOiAicm91bmQiLAogICJvcGFjaXR5IjogMS4wLAogICJyYWRpdXMiOiA1LAogICJzdHJva2UiOiB0cnVlLAogICJ3ZWlnaHQiOiAzCn0KICAgICAgICAgICAgICAgICkKICAgICAgICAgICAgICAgIC5hZGRUbyhtYXBfNmY5NmE5OWEzMTRlNDUwZGI4OWVjNTlmNTRlMjRlNGMpOwogICAgICAgICAgICAKICAgIAogICAgICAgICAgICB2YXIgcG9wdXBfMjQzNTI3ZTBkMjFjNDQ2ZGJkZTJjNmVlOTk0ZDFiMTAgPSBMLnBvcHVwKHttYXhXaWR0aDogJzMwMCcKICAgICAgICAgICAgCiAgICAgICAgICAgIH0pOwoKICAgICAgICAgICAgCiAgICAgICAgICAgICAgICB2YXIgaHRtbF82MzgzNWMzM2IyZDk0Zjk3YmFiMDBjMmNlMzY3YTZkNiA9ICQoYDxkaXYgaWQ9Imh0bWxfNjM4MzVjMzNiMmQ5NGY5N2JhYjAwYzJjZTM2N2E2ZDYiIHN0eWxlPSJ3aWR0aDogMTAwLjAlOyBoZWlnaHQ6IDEwMC4wJTsiPkZvcmVzdCBHYXRlIENsdXN0ZXIgMTwvZGl2PmApWzBdOwogICAgICAgICAgICAgICAgcG9wdXBfMjQzNTI3ZTBkMjFjNDQ2ZGJkZTJjNmVlOTk0ZDFiMTAuc2V0Q29udGVudChodG1sXzYzODM1YzMzYjJkOTRmOTdiYWIwMGMyY2UzNjdhNmQ2KTsKICAgICAgICAgICAgCgogICAgICAgICAgICBjaXJjbGVfbWFya2VyX2FmYWRjZTg4Y2NkYTRkYzFhNzQ1NTI4ZTIwMTNmYmY4LmJpbmRQb3B1cChwb3B1cF8yNDM1MjdlMGQyMWM0NDZkYmRlMmM2ZWU5OTRkMWIxMCkKICAgICAgICAgICAgOwoKICAgICAgICAgICAgCiAgICAgICAgCiAgICAKICAgICAgICAgICAgdmFyIGNpcmNsZV9tYXJrZXJfMTBhMDc2Y2FlZDhmNGU4Mzk0YzUwZWI0MGUwNWY0MzggPSBMLmNpcmNsZU1hcmtlcigKICAgICAgICAgICAgICAgIFs1MS41NTA1ODQsIDAuMDY5MDA0XSwKICAgICAgICAgICAgICAgIHsKICAiYnViYmxpbmdNb3VzZUV2ZW50cyI6IHRydWUsCiAgImNvbG9yIjogIiM4MGZmYjQiLAogICJkYXNoQXJyYXkiOiBudWxsLAogICJkYXNoT2Zmc2V0IjogbnVsbCwKICAiZmlsbCI6IHRydWUsCiAgImZpbGxDb2xvciI6ICIjODBmZmI0IiwKICAiZmlsbE9wYWNpdHkiOiAwLjcsCiAgImZpbGxSdWxlIjogImV2ZW5vZGQiLAogICJsaW5lQ2FwIjogInJvdW5kIiwKICAibGluZUpvaW4iOiAicm91bmQiLAogICJvcGFjaXR5IjogMS4wLAogICJyYWRpdXMiOiA1LAogICJzdHJva2UiOiB0cnVlLAogICJ3ZWlnaHQiOiAzCn0KICAgICAgICAgICAgICAgICkKICAgICAgICAgICAgICAgIC5hZGRUbyhtYXBfNmY5NmE5OWEzMTRlNDUwZGI4OWVjNTlmNTRlMjRlNGMpOwogICAgICAgICAgICAKICAgIAogICAgICAgICAgICB2YXIgcG9wdXBfMWYyNTkxODJlOGRkNGNkNGI5ZGMyNTMxOGYyZjZlN2MgPSBMLnBvcHVwKHttYXhXaWR0aDogJzMwMCcKICAgICAgICAgICAgCiAgICAgICAgICAgIH0pOwoKICAgICAgICAgICAgCiAgICAgICAgICAgICAgICB2YXIgaHRtbF8zNWY3OTRiNWFkNzc0NDQ5YmM4ZjIwNTEzZTI0ZGI4OSA9ICQoYDxkaXYgaWQ9Imh0bWxfMzVmNzk0YjVhZDc3NDQ0OWJjOGYyMDUxM2UyNGRiODkiIHN0eWxlPSJ3aWR0aDogMTAwLjAlOyBoZWlnaHQ6IDEwMC4wJTsiPkxpdHRsZSBJbGZvcmQgQ2x1c3RlciAzPC9kaXY+YClbMF07CiAgICAgICAgICAgICAgICBwb3B1cF8xZjI1OTE4MmU4ZGQ0Y2Q0YjlkYzI1MzE4ZjJmNmU3Yy5zZXRDb250ZW50KGh0bWxfMzVmNzk0YjVhZDc3NDQ0OWJjOGYyMDUxM2UyNGRiODkpOwogICAgICAgICAgICAKCiAgICAgICAgICAgIGNpcmNsZV9tYXJrZXJfMTBhMDc2Y2FlZDhmNGU4Mzk0YzUwZWI0MGUwNWY0MzguYmluZFBvcHVwKHBvcHVwXzFmMjU5MTgyZThkZDRjZDRiOWRjMjUzMThmMmY2ZTdjKQogICAgICAgICAgICA7CgogICAgICAgICAgICAKICAgICAgICAKICAgIAogICAgICAgICAgICB2YXIgY2lyY2xlX21hcmtlcl85ZTEzOTE2NmEyZDk0OGNiYjMyYmM2NTMxOGEwZTVhYSA9IEwuY2lyY2xlTWFya2VyKAogICAgICAgICAgICAgICAgWzUxLjU1MDgzOCwgMC4wNTQ1OTFdLAogICAgICAgICAgICAgICAgewogICJidWJibGluZ01vdXNlRXZlbnRzIjogdHJ1ZSwKICAiY29sb3IiOiAiI2ZmYjM2MCIsCiAgImRhc2hBcnJheSI6IG51bGwsCiAgImRhc2hPZmZzZXQiOiBudWxsLAogICJmaWxsIjogdHJ1ZSwKICAiZmlsbENvbG9yIjogIiNmZmIzNjAiLAogICJmaWxsT3BhY2l0eSI6IDAuNywKICAiZmlsbFJ1bGUiOiAiZXZlbm9kZCIsCiAgImxpbmVDYXAiOiAicm91bmQiLAogICJsaW5lSm9pbiI6ICJyb3VuZCIsCiAgIm9wYWNpdHkiOiAxLjAsCiAgInJhZGl1cyI6IDUsCiAgInN0cm9rZSI6IHRydWUsCiAgIndlaWdodCI6IDMKfQogICAgICAgICAgICAgICAgKQogICAgICAgICAgICAgICAgLmFkZFRvKG1hcF82Zjk2YTk5YTMxNGU0NTBkYjg5ZWM1OWY1NGUyNGU0Yyk7CiAgICAgICAgICAgIAogICAgCiAgICAgICAgICAgIHZhciBwb3B1cF8yMmRmNWIxYWNiZDg0MmZkYTQyNDExZjExNDhhZmY5NyA9IEwucG9wdXAoe21heFdpZHRoOiAnMzAwJwogICAgICAgICAgICAKICAgICAgICAgICAgfSk7CgogICAgICAgICAgICAKICAgICAgICAgICAgICAgIHZhciBodG1sXzA2ZGQwNTEyOWViODQ3Nzc5MTI0MDhjMmM2NzJhNDk2ID0gJChgPGRpdiBpZD0iaHRtbF8wNmRkMDUxMjllYjg0Nzc3OTEyNDA4YzJjNjcyYTQ5NiIgc3R5bGU9IndpZHRoOiAxMDAuMCU7IGhlaWdodDogMTAwLjAlOyI+TWFub3IgUGFyayBDbHVzdGVyIDQ8L2Rpdj5gKVswXTsKICAgICAgICAgICAgICAgIHBvcHVwXzIyZGY1YjFhY2JkODQyZmRhNDI0MTFmMTE0OGFmZjk3LnNldENvbnRlbnQoaHRtbF8wNmRkMDUxMjllYjg0Nzc3OTEyNDA4YzJjNjcyYTQ5Nik7CiAgICAgICAgICAgIAoKICAgICAgICAgICAgY2lyY2xlX21hcmtlcl85ZTEzOTE2NmEyZDk0OGNiYjMyYmM2NTMxOGEwZTVhYS5iaW5kUG9wdXAocG9wdXBfMjJkZjViMWFjYmQ4NDJmZGE0MjQxMWYxMTQ4YWZmOTcpCiAgICAgICAgICAgIDsKCiAgICAgICAgICAgIAogICAgICAgIAogICAgCiAgICAgICAgICAgIHZhciBjaXJjbGVfbWFya2VyXzdlNDMzZmM0OGQ2MzRlMjlhYjk2ODk4MTBjMDkwODMxID0gTC5jaXJjbGVNYXJrZXIoCiAgICAgICAgICAgICAgICBbNTEuNTQ2Mjk0LCAwLjAwNTM0OV0sCiAgICAgICAgICAgICAgICB7CiAgImJ1YmJsaW5nTW91c2VFdmVudHMiOiB0cnVlLAogICJjb2xvciI6ICIjODAwMGZmIiwKICAiZGFzaEFycmF5IjogbnVsbCwKICAiZGFzaE9mZnNldCI6IG51bGwsCiAgImZpbGwiOiB0cnVlLAogICJmaWxsQ29sb3IiOiAiIzgwMDBmZiIsCiAgImZpbGxPcGFjaXR5IjogMC43LAogICJmaWxsUnVsZSI6ICJldmVub2RkIiwKICAibGluZUNhcCI6ICJyb3VuZCIsCiAgImxpbmVKb2luIjogInJvdW5kIiwKICAib3BhY2l0eSI6IDEuMCwKICAicmFkaXVzIjogNSwKICAic3Ryb2tlIjogdHJ1ZSwKICAid2VpZ2h0IjogMwp9CiAgICAgICAgICAgICAgICApCiAgICAgICAgICAgICAgICAuYWRkVG8obWFwXzZmOTZhOTlhMzE0ZTQ1MGRiODllYzU5ZjU0ZTI0ZTRjKTsKICAgICAgICAgICAgCiAgICAKICAgICAgICAgICAgdmFyIHBvcHVwXzEzMTUzNWRiODg2NDRlNzZhNjk2NGRmYmYxYjgwNTU3ID0gTC5wb3B1cCh7bWF4V2lkdGg6ICczMDAnCiAgICAgICAgICAgIAogICAgICAgICAgICB9KTsKCiAgICAgICAgICAgIAogICAgICAgICAgICAgICAgdmFyIGh0bWxfOWNmZDgxODE2Nzk2NGRiM2FhNTU1MTk2NWQ3MjhhMjcgPSAkKGA8ZGl2IGlkPSJodG1sXzljZmQ4MTgxNjc5NjRkYjNhYTU1NTE5NjVkNzI4YTI3IiBzdHlsZT0id2lkdGg6IDEwMC4wJTsgaGVpZ2h0OiAxMDAuMCU7Ij5NYXJ5bGFuZCBDbHVzdGVyIDE8L2Rpdj5gKVswXTsKICAgICAgICAgICAgICAgIHBvcHVwXzEzMTUzNWRiODg2NDRlNzZhNjk2NGRmYmYxYjgwNTU3LnNldENvbnRlbnQoaHRtbF85Y2ZkODE4MTY3OTY0ZGIzYWE1NTUxOTY1ZDcyOGEyNyk7CiAgICAgICAgICAgIAoKICAgICAgICAgICAgY2lyY2xlX21hcmtlcl83ZTQzM2ZjNDhkNjM0ZTI5YWI5Njg5ODEwYzA5MDgzMS5iaW5kUG9wdXAocG9wdXBfMTMxNTM1ZGI4ODY0NGU3NmE2OTY0ZGZiZjFiODA1NTcpCiAgICAgICAgICAgIDsKCiAgICAgICAgICAgIAogICAgICAgIAogICAgCiAgICAgICAgICAgIHZhciBjaXJjbGVfbWFya2VyX2NmYmMxY2Q4YjU0ZTRjNGQ4MzE3MGRiMDMzZmMxODQ1ID0gTC5jaXJjbGVNYXJrZXIoCiAgICAgICAgICAgICAgICBbNTEuNDk2NjcxLCAwLjA2NjU2MV0sCiAgICAgICAgICAgICAgICB7CiAgImJ1YmJsaW5nTW91c2VFdmVudHMiOiB0cnVlLAogICJjb2xvciI6ICIjODAwMGZmIiwKICAiZGFzaEFycmF5IjogbnVsbCwKICAiZGFzaE9mZnNldCI6IG51bGwsCiAgImZpbGwiOiB0cnVlLAogICJmaWxsQ29sb3IiOiAiIzgwMDBmZiIsCiAgImZpbGxPcGFjaXR5IjogMC43LAogICJmaWxsUnVsZSI6ICJldmVub2RkIiwKICAibGluZUNhcCI6ICJyb3VuZCIsCiAgImxpbmVKb2luIjogInJvdW5kIiwKICAib3BhY2l0eSI6IDEuMCwKICAicmFkaXVzIjogNSwKICAic3Ryb2tlIjogdHJ1ZSwKICAid2VpZ2h0IjogMwp9CiAgICAgICAgICAgICAgICApCiAgICAgICAgICAgICAgICAuYWRkVG8obWFwXzZmOTZhOTlhMzE0ZTQ1MGRiODllYzU5ZjU0ZTI0ZTRjKTsKICAgICAgICAgICAgCiAgICAKICAgICAgICAgICAgdmFyIHBvcHVwX2IxOGMxZWYxYzFlNjRlN2Q5NGM0NDc1NzdjZTVkNDI2ID0gTC5wb3B1cCh7bWF4V2lkdGg6ICczMDAnCiAgICAgICAgICAgIAogICAgICAgICAgICB9KTsKCiAgICAgICAgICAgIAogICAgICAgICAgICAgICAgdmFyIGh0bWxfZmVhNzM4MTRkZTJjNGQ2MWFiMGM5ZTgxNmQ4YWEyOWUgPSAkKGA8ZGl2IGlkPSJodG1sX2ZlYTczODE0ZGUyYzRkNjFhYjBjOWU4MTZkOGFhMjllIiBzdHlsZT0id2lkdGg6IDEwMC4wJTsgaGVpZ2h0OiAxMDAuMCU7Ij5Ob3J0aCBXb29sd2ljaCBDbHVzdGVyIDE8L2Rpdj5gKVswXTsKICAgICAgICAgICAgICAgIHBvcHVwX2IxOGMxZWYxYzFlNjRlN2Q5NGM0NDc1NzdjZTVkNDI2LnNldENvbnRlbnQoaHRtbF9mZWE3MzgxNGRlMmM0ZDYxYWIwYzllODE2ZDhhYTI5ZSk7CiAgICAgICAgICAgIAoKICAgICAgICAgICAgY2lyY2xlX21hcmtlcl9jZmJjMWNkOGI1NGU0YzRkODMxNzBkYjAzM2ZjMTg0NS5iaW5kUG9wdXAocG9wdXBfYjE4YzFlZjFjMWU2NGU3ZDk0YzQ0NzU3N2NlNWQ0MjYpCiAgICAgICAgICAgIDsKCiAgICAgICAgICAgIAogICAgICAgIAogICAgCiAgICAgICAgICAgIHZhciBjaXJjbGVfbWFya2VyXzVkYmZjZjE4OTdlZjQzN2VhNmEyNDVmOTFjOGFjZmE4ID0gTC5jaXJjbGVNYXJrZXIoCiAgICAgICAgICAgICAgICBbNTEuNTI0MzgyLCAwLjAyNDU2OF0sCiAgICAgICAgICAgICAgICB7CiAgImJ1YmJsaW5nTW91c2VFdmVudHMiOiB0cnVlLAogICJjb2xvciI6ICIjZmYwMDAwIiwKICAiZGFzaEFycmF5IjogbnVsbCwKICAiZGFzaE9mZnNldCI6IG51bGwsCiAgImZpbGwiOiB0cnVlLAogICJmaWxsQ29sb3IiOiAiI2ZmMDAwMCIsCiAgImZpbGxPcGFjaXR5IjogMC43LAogICJmaWxsUnVsZSI6ICJldmVub2RkIiwKICAibGluZUNhcCI6ICJyb3VuZCIsCiAgImxpbmVKb2luIjogInJvdW5kIiwKICAib3BhY2l0eSI6IDEuMCwKICAicmFkaXVzIjogNSwKICAic3Ryb2tlIjogdHJ1ZSwKICAid2VpZ2h0IjogMwp9CiAgICAgICAgICAgICAgICApCiAgICAgICAgICAgICAgICAuYWRkVG8obWFwXzZmOTZhOTlhMzE0ZTQ1MGRiODllYzU5ZjU0ZTI0ZTRjKTsKICAgICAgICAgICAgCiAgICAKICAgICAgICAgICAgdmFyIHBvcHVwXzVkMDhkZDJmY2RiMDQxNDQ4N2I3YWU3OGM2MTNjM2I1ID0gTC5wb3B1cCh7bWF4V2lkdGg6ICczMDAnCiAgICAgICAgICAgIAogICAgICAgICAgICB9KTsKCiAgICAgICAgICAgIAogICAgICAgICAgICAgICAgdmFyIGh0bWxfZTUxMTIyYTM3YjljNDBmMGFmZmEzMDI0ZmFjZThmNzcgPSAkKGA8ZGl2IGlkPSJodG1sX2U1MTEyMmEzN2I5YzQwZjBhZmZhMzAyNGZhY2U4Zjc3IiBzdHlsZT0id2lkdGg6IDEwMC4wJTsgaGVpZ2h0OiAxMDAuMCU7Ij5QbGFpc3RvdyBDbHVzdGVyIDA8L2Rpdj5gKVswXTsKICAgICAgICAgICAgICAgIHBvcHVwXzVkMDhkZDJmY2RiMDQxNDQ4N2I3YWU3OGM2MTNjM2I1LnNldENvbnRlbnQoaHRtbF9lNTExMjJhMzdiOWM0MGYwYWZmYTMwMjRmYWNlOGY3Nyk7CiAgICAgICAgICAgIAoKICAgICAgICAgICAgY2lyY2xlX21hcmtlcl81ZGJmY2YxODk3ZWY0MzdlYTZhMjQ1ZjkxYzhhY2ZhOC5iaW5kUG9wdXAocG9wdXBfNWQwOGRkMmZjZGIwNDE0NDg3YjdhZTc4YzYxM2MzYjUpCiAgICAgICAgICAgIDsKCiAgICAgICAgICAgIAogICAgICAgIAogICAgCiAgICAgICAgICAgIHZhciBjaXJjbGVfbWFya2VyXzE3NjNmNjE5Yjg5MzRkZTY4MzA5YTI0NDhkMGEyMjYyID0gTC5jaXJjbGVNYXJrZXIoCiAgICAgICAgICAgICAgICBbNTEuNDk3MTc1LCAwLjAzNzc2OV0sCiAgICAgICAgICAgICAgICB7CiAgImJ1YmJsaW5nTW91c2VFdmVudHMiOiB0cnVlLAogICJjb2xvciI6ICIjZmYwMDAwIiwKICAiZGFzaEFycmF5IjogbnVsbCwKICAiZGFzaE9mZnNldCI6IG51bGwsCiAgImZpbGwiOiB0cnVlLAogICJmaWxsQ29sb3IiOiAiI2ZmMDAwMCIsCiAgImZpbGxPcGFjaXR5IjogMC43LAogICJmaWxsUnVsZSI6ICJldmVub2RkIiwKICAibGluZUNhcCI6ICJyb3VuZCIsCiAgImxpbmVKb2luIjogInJvdW5kIiwKICAib3BhY2l0eSI6IDEuMCwKICAicmFkaXVzIjogNSwKICAic3Ryb2tlIjogdHJ1ZSwKICAid2VpZ2h0IjogMwp9CiAgICAgICAgICAgICAgICApCiAgICAgICAgICAgICAgICAuYWRkVG8obWFwXzZmOTZhOTlhMzE0ZTQ1MGRiODllYzU5ZjU0ZTI0ZTRjKTsKICAgICAgICAgICAgCiAgICAKICAgICAgICAgICAgdmFyIHBvcHVwXzQyZDhjNGM5YmM5YzQ4OTFhMTVmY2NkZTMyMGRkOTE2ID0gTC5wb3B1cCh7bWF4V2lkdGg6ICczMDAnCiAgICAgICAgICAgIAogICAgICAgICAgICB9KTsKCiAgICAgICAgICAgIAogICAgICAgICAgICAgICAgdmFyIGh0bWxfZDc2YTBkYjY2YjY1NGVhNjlmNzI5YTlkZTU0ODAzNTAgPSAkKGA8ZGl2IGlkPSJodG1sX2Q3NmEwZGI2NmI2NTRlYTY5ZjcyOWE5ZGU1NDgwMzUwIiBzdHlsZT0id2lkdGg6IDEwMC4wJTsgaGVpZ2h0OiAxMDAuMCU7Ij5TaWx2ZXJ0b3duIENsdXN0ZXIgMDwvZGl2PmApWzBdOwogICAgICAgICAgICAgICAgcG9wdXBfNDJkOGM0YzliYzljNDg5MWExNWZjY2RlMzIwZGQ5MTYuc2V0Q29udGVudChodG1sX2Q3NmEwZGI2NmI2NTRlYTY5ZjcyOWE5ZGU1NDgwMzUwKTsKICAgICAgICAgICAgCgogICAgICAgICAgICBjaXJjbGVfbWFya2VyXzE3NjNmNjE5Yjg5MzRkZTY4MzA5YTI0NDhkMGEyMjYyLmJpbmRQb3B1cChwb3B1cF80MmQ4YzRjOWJjOWM0ODkxYTE1ZmNjZGUzMjBkZDkxNikKICAgICAgICAgICAgOwoKICAgICAgICAgICAgCiAgICAgICAgCiAgICAKICAgICAgICAgICAgdmFyIGNpcmNsZV9tYXJrZXJfYmNiOWM2ZTVhNmMxNDMxMGJiNTY0MDhiOGE1OTgzMzMgPSBMLmNpcmNsZU1hcmtlcigKICAgICAgICAgICAgICAgIFs1MS41NDI4NDcsIC0wLjAwMzQ1Nl0sCiAgICAgICAgICAgICAgICB7CiAgImJ1YmJsaW5nTW91c2VFdmVudHMiOiB0cnVlLAogICJjb2xvciI6ICIjODAwMGZmIiwKICAiZGFzaEFycmF5IjogbnVsbCwKICAiZGFzaE9mZnNldCI6IG51bGwsCiAgImZpbGwiOiB0cnVlLAogICJmaWxsQ29sb3IiOiAiIzgwMDBmZiIsCiAgImZpbGxPcGFjaXR5IjogMC43LAogICJmaWxsUnVsZSI6ICJldmVub2RkIiwKICAibGluZUNhcCI6ICJyb3VuZCIsCiAgImxpbmVKb2luIjogInJvdW5kIiwKICAib3BhY2l0eSI6IDEuMCwKICAicmFkaXVzIjogNSwKICAic3Ryb2tlIjogdHJ1ZSwKICAid2VpZ2h0IjogMwp9CiAgICAgICAgICAgICAgICApCiAgICAgICAgICAgICAgICAuYWRkVG8obWFwXzZmOTZhOTlhMzE0ZTQ1MGRiODllYzU5ZjU0ZTI0ZTRjKTsKICAgICAgICAgICAgCiAgICAKICAgICAgICAgICAgdmFyIHBvcHVwXzEzZWIxMWU0YTNkZDQwN2M4MDMyNjhiZDljMjZlZTY3ID0gTC5wb3B1cCh7bWF4V2lkdGg6ICczMDAnCiAgICAgICAgICAgIAogICAgICAgICAgICB9KTsKCiAgICAgICAgICAgIAogICAgICAgICAgICAgICAgdmFyIGh0bWxfZjgwOTEwMGU5ODQ5NDU0MjgwODk1NmYwYmY0OGUzZTMgPSAkKGA8ZGl2IGlkPSJodG1sX2Y4MDkxMDBlOTg0OTQ1NDI4MDg5NTZmMGJmNDhlM2UzIiBzdHlsZT0id2lkdGg6IDEwMC4wJTsgaGVpZ2h0OiAxMDAuMCU7Ij5TdHJhdGZvcmQgQ2x1c3RlciAxPC9kaXY+YClbMF07CiAgICAgICAgICAgICAgICBwb3B1cF8xM2ViMTFlNGEzZGQ0MDdjODAzMjY4YmQ5YzI2ZWU2Ny5zZXRDb250ZW50KGh0bWxfZjgwOTEwMGU5ODQ5NDU0MjgwODk1NmYwYmY0OGUzZTMpOwogICAgICAgICAgICAKCiAgICAgICAgICAgIGNpcmNsZV9tYXJrZXJfYmNiOWM2ZTVhNmMxNDMxMGJiNTY0MDhiOGE1OTgzMzMuYmluZFBvcHVwKHBvcHVwXzEzZWIxMWU0YTNkZDQwN2M4MDMyNjhiZDljMjZlZTY3KQogICAgICAgICAgICA7CgogICAgICAgICAgICAKICAgICAgICAKICAgIAogICAgICAgICAgICB2YXIgY2lyY2xlX21hcmtlcl9jMzJlNzkwMmNmMjA0NjhiYjcxMjIyNDlkMTQ0MDQxNCA9IEwuY2lyY2xlTWFya2VyKAogICAgICAgICAgICAgICAgWzUxLjUzNTE2NSwgMC4wMjUwNDZdLAogICAgICAgICAgICAgICAgewogICJidWJibGluZ01vdXNlRXZlbnRzIjogdHJ1ZSwKICAiY29sb3IiOiAiIzAwYjVlYiIsCiAgImRhc2hBcnJheSI6IG51bGwsCiAgImRhc2hPZmZzZXQiOiBudWxsLAogICJmaWxsIjogdHJ1ZSwKICAiZmlsbENvbG9yIjogIiMwMGI1ZWIiLAogICJmaWxsT3BhY2l0eSI6IDAuNywKICAiZmlsbFJ1bGUiOiAiZXZlbm9kZCIsCiAgImxpbmVDYXAiOiAicm91bmQiLAogICJsaW5lSm9pbiI6ICJyb3VuZCIsCiAgIm9wYWNpdHkiOiAxLjAsCiAgInJhZGl1cyI6IDUsCiAgInN0cm9rZSI6IHRydWUsCiAgIndlaWdodCI6IDMKfQogICAgICAgICAgICAgICAgKQogICAgICAgICAgICAgICAgLmFkZFRvKG1hcF82Zjk2YTk5YTMxNGU0NTBkYjg5ZWM1OWY1NGUyNGU0Yyk7CiAgICAgICAgICAgIAogICAgCiAgICAgICAgICAgIHZhciBwb3B1cF85MjQ3OTZlYzNhMjI0MjViYmFlOGQ0YjYxMzYyMWQ2YiA9IEwucG9wdXAoe21heFdpZHRoOiAnMzAwJwogICAgICAgICAgICAKICAgICAgICAgICAgfSk7CgogICAgICAgICAgICAKICAgICAgICAgICAgICAgIHZhciBodG1sX2Y0M2VjMmEyN2I0NDQ5OTM4MDcwOGZhZDg3NDIzZTgyID0gJChgPGRpdiBpZD0iaHRtbF9mNDNlYzJhMjdiNDQ0OTkzODA3MDhmYWQ4NzQyM2U4MiIgc3R5bGU9IndpZHRoOiAxMDAuMCU7IGhlaWdodDogMTAwLjAlOyI+VXB0b24gUGFyayBDbHVzdGVyIDI8L2Rpdj5gKVswXTsKICAgICAgICAgICAgICAgIHBvcHVwXzkyNDc5NmVjM2EyMjQyNWJiYWU4ZDRiNjEzNjIxZDZiLnNldENvbnRlbnQoaHRtbF9mNDNlYzJhMjdiNDQ0OTkzODA3MDhmYWQ4NzQyM2U4Mik7CiAgICAgICAgICAgIAoKICAgICAgICAgICAgY2lyY2xlX21hcmtlcl9jMzJlNzkwMmNmMjA0NjhiYjcxMjIyNDlkMTQ0MDQxNC5iaW5kUG9wdXAocG9wdXBfOTI0Nzk2ZWMzYTIyNDI1YmJhZThkNGI2MTM2MjFkNmIpCiAgICAgICAgICAgIDsKCiAgICAgICAgICAgIAogICAgICAgIAogICAgCiAgICAgICAgICAgIHZhciBjaXJjbGVfbWFya2VyX2MwNDY4ZmE1MzE1ODRjYmI5NTE0ZTllNTAxMjI1ZjVmID0gTC5jaXJjbGVNYXJrZXIoCiAgICAgICAgICAgICAgICBbNTEuNTM1MTY1LCAwLjAyNTA0Nl0sCiAgICAgICAgICAgICAgICB7CiAgImJ1YmJsaW5nTW91c2VFdmVudHMiOiB0cnVlLAogICJjb2xvciI6ICIjMDBiNWViIiwKICAiZGFzaEFycmF5IjogbnVsbCwKICAiZGFzaE9mZnNldCI6IG51bGwsCiAgImZpbGwiOiB0cnVlLAogICJmaWxsQ29sb3IiOiAiIzAwYjVlYiIsCiAgImZpbGxPcGFjaXR5IjogMC43LAogICJmaWxsUnVsZSI6ICJldmVub2RkIiwKICAibGluZUNhcCI6ICJyb3VuZCIsCiAgImxpbmVKb2luIjogInJvdW5kIiwKICAib3BhY2l0eSI6IDEuMCwKICAicmFkaXVzIjogNSwKICAic3Ryb2tlIjogdHJ1ZSwKICAid2VpZ2h0IjogMwp9CiAgICAgICAgICAgICAgICApCiAgICAgICAgICAgICAgICAuYWRkVG8obWFwXzZmOTZhOTlhMzE0ZTQ1MGRiODllYzU5ZjU0ZTI0ZTRjKTsKICAgICAgICAgICAgCiAgICAKICAgICAgICAgICAgdmFyIHBvcHVwX2NiOTkzNmMwZGY5ZDQyZmZiNDk1ZGEwZDg3ZmMxNTgzID0gTC5wb3B1cCh7bWF4V2lkdGg6ICczMDAnCiAgICAgICAgICAgIAogICAgICAgICAgICB9KTsKCiAgICAgICAgICAgIAogICAgICAgICAgICAgICAgdmFyIGh0bWxfZWJkM2E1OTc3NjAyNDNlZGIzN2JjMTk5YzRmMTlhZjUgPSAkKGA8ZGl2IGlkPSJodG1sX2ViZDNhNTk3NzYwMjQzZWRiMzdiYzE5OWM0ZjE5YWY1IiBzdHlsZT0id2lkdGg6IDEwMC4wJTsgaGVpZ2h0OiAxMDAuMCU7Ij5XZXN0IEhhbSBDbHVzdGVyIDI8L2Rpdj5gKVswXTsKICAgICAgICAgICAgICAgIHBvcHVwX2NiOTkzNmMwZGY5ZDQyZmZiNDk1ZGEwZDg3ZmMxNTgzLnNldENvbnRlbnQoaHRtbF9lYmQzYTU5Nzc2MDI0M2VkYjM3YmMxOTljNGYxOWFmNSk7CiAgICAgICAgICAgIAoKICAgICAgICAgICAgY2lyY2xlX21hcmtlcl9jMDQ2OGZhNTMxNTg0Y2JiOTUxNGU5ZTUwMTIyNWY1Zi5iaW5kUG9wdXAocG9wdXBfY2I5OTM2YzBkZjlkNDJmZmI0OTVkYTBkODdmYzE1ODMpCiAgICAgICAgICAgIDsKCiAgICAgICAgICAgIAogICAgICAgIAo8L3NjcmlwdD4=\" style=\"position:absolute;width:100%;height:100%;left:0;top:0;border:none !important;\" allowfullscreen webkitallowfullscreen mozallowfullscreen></iframe></div></div>"
      ],
      "text/plain": [
       "<folium.folium.Map at 0x7f79eb6e6cf8>"
      ]
     },
     "execution_count": 175,
     "metadata": {},
     "output_type": "execute_result"
    }
   ],
   "source": [
    "# create map\n",
    "map_clusters = folium.Map(location=[latitude, longitude], zoom_start=11)\n",
    "\n",
    "# set color scheme for the clusters\n",
    "x = np.arange(kclusters)\n",
    "ys = [i+x+(i*x)**2 for i in range(kclusters)]\n",
    "colors_array = cm.rainbow(np.linspace(0, 1, len(ys)))\n",
    "rainbow = [colors.rgb2hex(i) for i in colors_array]\n",
    "\n",
    "# add markers to the map\n",
    "markers_colors = []\n",
    "for lat, lon, poi, cluster in zip(Newham_merged['Latitude'], Newham_merged['Longitude'], Newham_merged['Neighborhood'], Newham_merged['Cluster Labels']):\n",
    "    label = folium.Popup(str(poi) + ' Cluster ' + str(cluster), parse_html=True)\n",
    "    folium.CircleMarker(\n",
    "        [lat, lon],\n",
    "        radius=5,\n",
    "        popup=label,\n",
    "        color=rainbow[cluster-1],\n",
    "        fill=True,\n",
    "        fill_color=rainbow[cluster-1],\n",
    "        fill_opacity=0.7).add_to(map_clusters)\n",
    "       \n",
    "map_clusters"
   ]
  },
  {
   "cell_type": "markdown",
   "metadata": {},
   "source": [
    "### 5) Examine the Clusters"
   ]
  },
  {
   "cell_type": "code",
   "execution_count": 176,
   "metadata": {},
   "outputs": [
    {
     "data": {
      "text/html": [
       "<div>\n",
       "<style scoped>\n",
       "    .dataframe tbody tr th:only-of-type {\n",
       "        vertical-align: middle;\n",
       "    }\n",
       "\n",
       "    .dataframe tbody tr th {\n",
       "        vertical-align: top;\n",
       "    }\n",
       "\n",
       "    .dataframe thead th {\n",
       "        text-align: right;\n",
       "    }\n",
       "</style>\n",
       "<table border=\"1\" class=\"dataframe\">\n",
       "  <thead>\n",
       "    <tr style=\"text-align: right;\">\n",
       "      <th></th>\n",
       "      <th>Neighborhood</th>\n",
       "      <th>1st Most Common Venue</th>\n",
       "      <th>2nd Most Common Venue</th>\n",
       "      <th>3rd Most Common Venue</th>\n",
       "      <th>4th Most Common Venue</th>\n",
       "      <th>5th Most Common Venue</th>\n",
       "      <th>6th Most Common Venue</th>\n",
       "      <th>7th Most Common Venue</th>\n",
       "      <th>8th Most Common Venue</th>\n",
       "      <th>9th Most Common Venue</th>\n",
       "      <th>10th Most Common Venue</th>\n",
       "    </tr>\n",
       "  </thead>\n",
       "  <tbody>\n",
       "    <tr>\n",
       "      <th>1</th>\n",
       "      <td>Canning Town</td>\n",
       "      <td>Convenience Store</td>\n",
       "      <td>Tennis Court</td>\n",
       "      <td>Gas Station</td>\n",
       "      <td>Park</td>\n",
       "      <td>Greek Restaurant</td>\n",
       "      <td>Go Kart Track</td>\n",
       "      <td>Creperie</td>\n",
       "      <td>Dance Studio</td>\n",
       "      <td>Department Store</td>\n",
       "      <td>Dessert Shop</td>\n",
       "    </tr>\n",
       "    <tr>\n",
       "      <th>9</th>\n",
       "      <td>Plaistow</td>\n",
       "      <td>Park</td>\n",
       "      <td>Café</td>\n",
       "      <td>Gym / Fitness Center</td>\n",
       "      <td>Indian Restaurant</td>\n",
       "      <td>Grocery Store</td>\n",
       "      <td>Bus Stop</td>\n",
       "      <td>English Restaurant</td>\n",
       "      <td>Dance Studio</td>\n",
       "      <td>Department Store</td>\n",
       "      <td>Dessert Shop</td>\n",
       "    </tr>\n",
       "    <tr>\n",
       "      <th>10</th>\n",
       "      <td>Silvertown</td>\n",
       "      <td>Gym / Fitness Center</td>\n",
       "      <td>Theater</td>\n",
       "      <td>Construction &amp; Landscaping</td>\n",
       "      <td>Museum</td>\n",
       "      <td>Café</td>\n",
       "      <td>Park</td>\n",
       "      <td>Paintball Field</td>\n",
       "      <td>Go Kart Track</td>\n",
       "      <td>General Entertainment</td>\n",
       "      <td>Discount Store</td>\n",
       "    </tr>\n",
       "  </tbody>\n",
       "</table>\n",
       "</div>"
      ],
      "text/plain": [
       "    Neighborhood 1st Most Common Venue 2nd Most Common Venue  \\\n",
       "1   Canning Town     Convenience Store          Tennis Court   \n",
       "9       Plaistow                  Park                  Café   \n",
       "10    Silvertown  Gym / Fitness Center               Theater   \n",
       "\n",
       "         3rd Most Common Venue 4th Most Common Venue 5th Most Common Venue  \\\n",
       "1                  Gas Station                  Park      Greek Restaurant   \n",
       "9         Gym / Fitness Center     Indian Restaurant         Grocery Store   \n",
       "10  Construction & Landscaping                Museum                  Café   \n",
       "\n",
       "   6th Most Common Venue 7th Most Common Venue 8th Most Common Venue  \\\n",
       "1          Go Kart Track              Creperie          Dance Studio   \n",
       "9               Bus Stop    English Restaurant          Dance Studio   \n",
       "10                  Park       Paintball Field         Go Kart Track   \n",
       "\n",
       "    9th Most Common Venue 10th Most Common Venue  \n",
       "1        Department Store           Dessert Shop  \n",
       "9        Department Store           Dessert Shop  \n",
       "10  General Entertainment         Discount Store  "
      ]
     },
     "execution_count": 176,
     "metadata": {},
     "output_type": "execute_result"
    }
   ],
   "source": [
    "Newham_merged.loc[Newham_merged['Cluster Labels'] == 0, Newham_merged.columns[[1] + list(range(5, Newham_merged.shape[1]))]]"
   ]
  },
  {
   "cell_type": "code",
   "execution_count": 177,
   "metadata": {},
   "outputs": [
    {
     "data": {
      "text/html": [
       "<div>\n",
       "<style scoped>\n",
       "    .dataframe tbody tr th:only-of-type {\n",
       "        vertical-align: middle;\n",
       "    }\n",
       "\n",
       "    .dataframe tbody tr th {\n",
       "        vertical-align: top;\n",
       "    }\n",
       "\n",
       "    .dataframe thead th {\n",
       "        text-align: right;\n",
       "    }\n",
       "</style>\n",
       "<table border=\"1\" class=\"dataframe\">\n",
       "  <thead>\n",
       "    <tr style=\"text-align: right;\">\n",
       "      <th></th>\n",
       "      <th>Neighborhood</th>\n",
       "      <th>1st Most Common Venue</th>\n",
       "      <th>2nd Most Common Venue</th>\n",
       "      <th>3rd Most Common Venue</th>\n",
       "      <th>4th Most Common Venue</th>\n",
       "      <th>5th Most Common Venue</th>\n",
       "      <th>6th Most Common Venue</th>\n",
       "      <th>7th Most Common Venue</th>\n",
       "      <th>8th Most Common Venue</th>\n",
       "      <th>9th Most Common Venue</th>\n",
       "      <th>10th Most Common Venue</th>\n",
       "    </tr>\n",
       "  </thead>\n",
       "  <tbody>\n",
       "    <tr>\n",
       "      <th>0</th>\n",
       "      <td>Beckton</td>\n",
       "      <td>Hotel</td>\n",
       "      <td>Furniture / Home Store</td>\n",
       "      <td>Clothing Store</td>\n",
       "      <td>Pub</td>\n",
       "      <td>Discount Store</td>\n",
       "      <td>Light Rail Station</td>\n",
       "      <td>Shopping Plaza</td>\n",
       "      <td>Grocery Store</td>\n",
       "      <td>General Entertainment</td>\n",
       "      <td>Eastern European Restaurant</td>\n",
       "    </tr>\n",
       "    <tr>\n",
       "      <th>2</th>\n",
       "      <td>Custom House</td>\n",
       "      <td>Hotel</td>\n",
       "      <td>Pub</td>\n",
       "      <td>Wine Bar</td>\n",
       "      <td>English Restaurant</td>\n",
       "      <td>Light Rail Station</td>\n",
       "      <td>Japanese Restaurant</td>\n",
       "      <td>Italian Restaurant</td>\n",
       "      <td>Gym / Fitness Center</td>\n",
       "      <td>Convenience Store</td>\n",
       "      <td>Salad Place</td>\n",
       "    </tr>\n",
       "    <tr>\n",
       "      <th>3</th>\n",
       "      <td>East Ham</td>\n",
       "      <td>Fast Food Restaurant</td>\n",
       "      <td>Clothing Store</td>\n",
       "      <td>Park</td>\n",
       "      <td>Sporting Goods Shop</td>\n",
       "      <td>Pub</td>\n",
       "      <td>Sandwich Place</td>\n",
       "      <td>Café</td>\n",
       "      <td>Chinese Restaurant</td>\n",
       "      <td>Shopping Mall</td>\n",
       "      <td>Grocery Store</td>\n",
       "    </tr>\n",
       "    <tr>\n",
       "      <th>4</th>\n",
       "      <td>Forest Gate</td>\n",
       "      <td>Grocery Store</td>\n",
       "      <td>Train Station</td>\n",
       "      <td>Moving Target</td>\n",
       "      <td>Bakery</td>\n",
       "      <td>Italian Restaurant</td>\n",
       "      <td>Pub</td>\n",
       "      <td>Café</td>\n",
       "      <td>Fast Food Restaurant</td>\n",
       "      <td>Wine Bar</td>\n",
       "      <td>Electronics Store</td>\n",
       "    </tr>\n",
       "    <tr>\n",
       "      <th>7</th>\n",
       "      <td>Maryland</td>\n",
       "      <td>Hotel</td>\n",
       "      <td>Pub</td>\n",
       "      <td>Bus Stop</td>\n",
       "      <td>Grocery Store</td>\n",
       "      <td>Supermarket</td>\n",
       "      <td>Liquor Store</td>\n",
       "      <td>Portuguese Restaurant</td>\n",
       "      <td>Café</td>\n",
       "      <td>Sculpture Garden</td>\n",
       "      <td>Dance Studio</td>\n",
       "    </tr>\n",
       "    <tr>\n",
       "      <th>8</th>\n",
       "      <td>North Woolwich</td>\n",
       "      <td>Pier</td>\n",
       "      <td>History Museum</td>\n",
       "      <td>Clothing Store</td>\n",
       "      <td>Scenic Lookout</td>\n",
       "      <td>Gym / Fitness Center</td>\n",
       "      <td>Hotel</td>\n",
       "      <td>Italian Restaurant</td>\n",
       "      <td>Outdoor Sculpture</td>\n",
       "      <td>Pharmacy</td>\n",
       "      <td>Chinese Restaurant</td>\n",
       "    </tr>\n",
       "    <tr>\n",
       "      <th>11</th>\n",
       "      <td>Stratford</td>\n",
       "      <td>Pub</td>\n",
       "      <td>Sandwich Place</td>\n",
       "      <td>Café</td>\n",
       "      <td>Cosmetics Shop</td>\n",
       "      <td>Pizza Place</td>\n",
       "      <td>Bookstore</td>\n",
       "      <td>Burger Joint</td>\n",
       "      <td>Bar</td>\n",
       "      <td>Coffee Shop</td>\n",
       "      <td>Toy / Game Store</td>\n",
       "    </tr>\n",
       "  </tbody>\n",
       "</table>\n",
       "</div>"
      ],
      "text/plain": [
       "      Neighborhood 1st Most Common Venue   2nd Most Common Venue  \\\n",
       "0          Beckton                 Hotel  Furniture / Home Store   \n",
       "2     Custom House                 Hotel                     Pub   \n",
       "3         East Ham  Fast Food Restaurant          Clothing Store   \n",
       "4      Forest Gate         Grocery Store           Train Station   \n",
       "7         Maryland                 Hotel                     Pub   \n",
       "8   North Woolwich                  Pier          History Museum   \n",
       "11       Stratford                   Pub          Sandwich Place   \n",
       "\n",
       "   3rd Most Common Venue 4th Most Common Venue 5th Most Common Venue  \\\n",
       "0         Clothing Store                   Pub        Discount Store   \n",
       "2               Wine Bar    English Restaurant    Light Rail Station   \n",
       "3                   Park   Sporting Goods Shop                   Pub   \n",
       "4          Moving Target                Bakery    Italian Restaurant   \n",
       "7               Bus Stop         Grocery Store           Supermarket   \n",
       "8         Clothing Store        Scenic Lookout  Gym / Fitness Center   \n",
       "11                  Café        Cosmetics Shop           Pizza Place   \n",
       "\n",
       "   6th Most Common Venue  7th Most Common Venue 8th Most Common Venue  \\\n",
       "0     Light Rail Station         Shopping Plaza         Grocery Store   \n",
       "2    Japanese Restaurant     Italian Restaurant  Gym / Fitness Center   \n",
       "3         Sandwich Place                   Café    Chinese Restaurant   \n",
       "4                    Pub                   Café  Fast Food Restaurant   \n",
       "7           Liquor Store  Portuguese Restaurant                  Café   \n",
       "8                  Hotel     Italian Restaurant     Outdoor Sculpture   \n",
       "11             Bookstore           Burger Joint                   Bar   \n",
       "\n",
       "    9th Most Common Venue       10th Most Common Venue  \n",
       "0   General Entertainment  Eastern European Restaurant  \n",
       "2       Convenience Store                  Salad Place  \n",
       "3           Shopping Mall                Grocery Store  \n",
       "4                Wine Bar            Electronics Store  \n",
       "7        Sculpture Garden                 Dance Studio  \n",
       "8                Pharmacy           Chinese Restaurant  \n",
       "11            Coffee Shop             Toy / Game Store  "
      ]
     },
     "execution_count": 177,
     "metadata": {},
     "output_type": "execute_result"
    }
   ],
   "source": [
    "Newham_merged.loc[Newham_merged['Cluster Labels'] == 1, Newham_merged.columns[[1] + list(range(5, Newham_merged.shape[1]))]]"
   ]
  },
  {
   "cell_type": "code",
   "execution_count": 178,
   "metadata": {},
   "outputs": [
    {
     "data": {
      "text/html": [
       "<div>\n",
       "<style scoped>\n",
       "    .dataframe tbody tr th:only-of-type {\n",
       "        vertical-align: middle;\n",
       "    }\n",
       "\n",
       "    .dataframe tbody tr th {\n",
       "        vertical-align: top;\n",
       "    }\n",
       "\n",
       "    .dataframe thead th {\n",
       "        text-align: right;\n",
       "    }\n",
       "</style>\n",
       "<table border=\"1\" class=\"dataframe\">\n",
       "  <thead>\n",
       "    <tr style=\"text-align: right;\">\n",
       "      <th></th>\n",
       "      <th>Neighborhood</th>\n",
       "      <th>1st Most Common Venue</th>\n",
       "      <th>2nd Most Common Venue</th>\n",
       "      <th>3rd Most Common Venue</th>\n",
       "      <th>4th Most Common Venue</th>\n",
       "      <th>5th Most Common Venue</th>\n",
       "      <th>6th Most Common Venue</th>\n",
       "      <th>7th Most Common Venue</th>\n",
       "      <th>8th Most Common Venue</th>\n",
       "      <th>9th Most Common Venue</th>\n",
       "      <th>10th Most Common Venue</th>\n",
       "    </tr>\n",
       "  </thead>\n",
       "  <tbody>\n",
       "    <tr>\n",
       "      <th>12</th>\n",
       "      <td>Upton Park</td>\n",
       "      <td>Convenience Store</td>\n",
       "      <td>Pub</td>\n",
       "      <td>Bus Stop</td>\n",
       "      <td>Boutique</td>\n",
       "      <td>Bus Line</td>\n",
       "      <td>Fast Food Restaurant</td>\n",
       "      <td>Department Store</td>\n",
       "      <td>Dessert Shop</td>\n",
       "      <td>Discount Store</td>\n",
       "      <td>Doner Restaurant</td>\n",
       "    </tr>\n",
       "    <tr>\n",
       "      <th>13</th>\n",
       "      <td>West Ham</td>\n",
       "      <td>Convenience Store</td>\n",
       "      <td>Pub</td>\n",
       "      <td>Bus Stop</td>\n",
       "      <td>Boutique</td>\n",
       "      <td>Bus Line</td>\n",
       "      <td>Fast Food Restaurant</td>\n",
       "      <td>Department Store</td>\n",
       "      <td>Dessert Shop</td>\n",
       "      <td>Discount Store</td>\n",
       "      <td>Doner Restaurant</td>\n",
       "    </tr>\n",
       "  </tbody>\n",
       "</table>\n",
       "</div>"
      ],
      "text/plain": [
       "   Neighborhood 1st Most Common Venue 2nd Most Common Venue  \\\n",
       "12   Upton Park     Convenience Store                   Pub   \n",
       "13     West Ham     Convenience Store                   Pub   \n",
       "\n",
       "   3rd Most Common Venue 4th Most Common Venue 5th Most Common Venue  \\\n",
       "12              Bus Stop              Boutique              Bus Line   \n",
       "13              Bus Stop              Boutique              Bus Line   \n",
       "\n",
       "   6th Most Common Venue 7th Most Common Venue 8th Most Common Venue  \\\n",
       "12  Fast Food Restaurant      Department Store          Dessert Shop   \n",
       "13  Fast Food Restaurant      Department Store          Dessert Shop   \n",
       "\n",
       "   9th Most Common Venue 10th Most Common Venue  \n",
       "12        Discount Store       Doner Restaurant  \n",
       "13        Discount Store       Doner Restaurant  "
      ]
     },
     "execution_count": 178,
     "metadata": {},
     "output_type": "execute_result"
    }
   ],
   "source": [
    "Newham_merged.loc[Newham_merged['Cluster Labels'] == 2, Newham_merged.columns[[1] + list(range(5, Newham_merged.shape[1]))]]"
   ]
  },
  {
   "cell_type": "code",
   "execution_count": 179,
   "metadata": {},
   "outputs": [
    {
     "data": {
      "text/html": [
       "<div>\n",
       "<style scoped>\n",
       "    .dataframe tbody tr th:only-of-type {\n",
       "        vertical-align: middle;\n",
       "    }\n",
       "\n",
       "    .dataframe tbody tr th {\n",
       "        vertical-align: top;\n",
       "    }\n",
       "\n",
       "    .dataframe thead th {\n",
       "        text-align: right;\n",
       "    }\n",
       "</style>\n",
       "<table border=\"1\" class=\"dataframe\">\n",
       "  <thead>\n",
       "    <tr style=\"text-align: right;\">\n",
       "      <th></th>\n",
       "      <th>Neighborhood</th>\n",
       "      <th>1st Most Common Venue</th>\n",
       "      <th>2nd Most Common Venue</th>\n",
       "      <th>3rd Most Common Venue</th>\n",
       "      <th>4th Most Common Venue</th>\n",
       "      <th>5th Most Common Venue</th>\n",
       "      <th>6th Most Common Venue</th>\n",
       "      <th>7th Most Common Venue</th>\n",
       "      <th>8th Most Common Venue</th>\n",
       "      <th>9th Most Common Venue</th>\n",
       "      <th>10th Most Common Venue</th>\n",
       "    </tr>\n",
       "  </thead>\n",
       "  <tbody>\n",
       "    <tr>\n",
       "      <th>5</th>\n",
       "      <td>Little Ilford</td>\n",
       "      <td>Fried Chicken Joint</td>\n",
       "      <td>Ice Cream Shop</td>\n",
       "      <td>Indian Restaurant</td>\n",
       "      <td>Grocery Store</td>\n",
       "      <td>Fast Food Restaurant</td>\n",
       "      <td>Dance Studio</td>\n",
       "      <td>Department Store</td>\n",
       "      <td>Dessert Shop</td>\n",
       "      <td>Discount Store</td>\n",
       "      <td>Doner Restaurant</td>\n",
       "    </tr>\n",
       "  </tbody>\n",
       "</table>\n",
       "</div>"
      ],
      "text/plain": [
       "    Neighborhood 1st Most Common Venue 2nd Most Common Venue  \\\n",
       "5  Little Ilford   Fried Chicken Joint        Ice Cream Shop   \n",
       "\n",
       "  3rd Most Common Venue 4th Most Common Venue 5th Most Common Venue  \\\n",
       "5     Indian Restaurant         Grocery Store  Fast Food Restaurant   \n",
       "\n",
       "  6th Most Common Venue 7th Most Common Venue 8th Most Common Venue  \\\n",
       "5          Dance Studio      Department Store          Dessert Shop   \n",
       "\n",
       "  9th Most Common Venue 10th Most Common Venue  \n",
       "5        Discount Store       Doner Restaurant  "
      ]
     },
     "execution_count": 179,
     "metadata": {},
     "output_type": "execute_result"
    }
   ],
   "source": [
    "Newham_merged.loc[Newham_merged['Cluster Labels'] == 3, Newham_merged.columns[[1] + list(range(5, Newham_merged.shape[1]))]]"
   ]
  },
  {
   "cell_type": "code",
   "execution_count": 180,
   "metadata": {},
   "outputs": [
    {
     "data": {
      "text/html": [
       "<div>\n",
       "<style scoped>\n",
       "    .dataframe tbody tr th:only-of-type {\n",
       "        vertical-align: middle;\n",
       "    }\n",
       "\n",
       "    .dataframe tbody tr th {\n",
       "        vertical-align: top;\n",
       "    }\n",
       "\n",
       "    .dataframe thead th {\n",
       "        text-align: right;\n",
       "    }\n",
       "</style>\n",
       "<table border=\"1\" class=\"dataframe\">\n",
       "  <thead>\n",
       "    <tr style=\"text-align: right;\">\n",
       "      <th></th>\n",
       "      <th>Neighborhood</th>\n",
       "      <th>1st Most Common Venue</th>\n",
       "      <th>2nd Most Common Venue</th>\n",
       "      <th>3rd Most Common Venue</th>\n",
       "      <th>4th Most Common Venue</th>\n",
       "      <th>5th Most Common Venue</th>\n",
       "      <th>6th Most Common Venue</th>\n",
       "      <th>7th Most Common Venue</th>\n",
       "      <th>8th Most Common Venue</th>\n",
       "      <th>9th Most Common Venue</th>\n",
       "      <th>10th Most Common Venue</th>\n",
       "    </tr>\n",
       "  </thead>\n",
       "  <tbody>\n",
       "    <tr>\n",
       "      <th>6</th>\n",
       "      <td>Manor Park</td>\n",
       "      <td>Turkish Restaurant</td>\n",
       "      <td>Gym / Fitness Center</td>\n",
       "      <td>Indian Restaurant</td>\n",
       "      <td>Restaurant</td>\n",
       "      <td>Wine Bar</td>\n",
       "      <td>Fast Food Restaurant</td>\n",
       "      <td>Dance Studio</td>\n",
       "      <td>Department Store</td>\n",
       "      <td>Dessert Shop</td>\n",
       "      <td>Discount Store</td>\n",
       "    </tr>\n",
       "  </tbody>\n",
       "</table>\n",
       "</div>"
      ],
      "text/plain": [
       "  Neighborhood 1st Most Common Venue 2nd Most Common Venue  \\\n",
       "6   Manor Park    Turkish Restaurant  Gym / Fitness Center   \n",
       "\n",
       "  3rd Most Common Venue 4th Most Common Venue 5th Most Common Venue  \\\n",
       "6     Indian Restaurant            Restaurant              Wine Bar   \n",
       "\n",
       "  6th Most Common Venue 7th Most Common Venue 8th Most Common Venue  \\\n",
       "6  Fast Food Restaurant          Dance Studio      Department Store   \n",
       "\n",
       "  9th Most Common Venue 10th Most Common Venue  \n",
       "6          Dessert Shop         Discount Store  "
      ]
     },
     "execution_count": 180,
     "metadata": {},
     "output_type": "execute_result"
    }
   ],
   "source": [
    "Newham_merged.loc[Newham_merged['Cluster Labels'] == 4, Newham_merged.columns[[1] + list(range(5, Newham_merged.shape[1]))]]"
   ]
  },
  {
   "cell_type": "markdown",
   "metadata": {},
   "source": [
    "### Conclusion: After examining the above 5 clusters, we can recommend our stakeholders that Beckton,Custom House, Maryland, Eastham and Manor Park are the best neighborhoods in Newham borough, to open their asian restuarant. This is because in these areas, the most common venue visited by the public is the hotel and as these areas are highly populated with asians, opening an asian restuarant would definitley be a good idea."
   ]
  }
 ],
 "metadata": {
  "kernelspec": {
   "display_name": "Python 3.6",
   "language": "python",
   "name": "python3"
  },
  "language_info": {
   "codemirror_mode": {
    "name": "ipython",
    "version": 3
   },
   "file_extension": ".py",
   "mimetype": "text/x-python",
   "name": "python",
   "nbconvert_exporter": "python",
   "pygments_lexer": "ipython3",
   "version": "3.6.9"
  }
 },
 "nbformat": 4,
 "nbformat_minor": 2
}
